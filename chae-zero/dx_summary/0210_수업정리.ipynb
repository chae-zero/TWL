{
 "cells": [
  {
   "cell_type": "code",
   "execution_count": 1,
   "metadata": {},
   "outputs": [],
   "source": [
    "import numpy as np\n",
    "import pandas as pd"
   ]
  },
  {
   "attachments": {},
   "cell_type": "markdown",
   "metadata": {},
   "source": [
    "# 시각화\n",
    "\n",
    "- **.plot(kind='bar')**"
   ]
  },
  {
   "attachments": {},
   "cell_type": "markdown",
   "metadata": {},
   "source": [
    "# 다중 조회\n",
    "- df명[['열 이름1', '열 이름2',...]].메소드()\n",
    "\n",
    "```py\n",
    "# total_bill, tip 열 평균값 확인\n",
    "tip[['total_bill', 'tip']].mean()\n",
    "```"
   ]
  },
  {
   "attachments": {},
   "cell_type": "markdown",
   "metadata": {},
   "source": [
    "# loc, iloc\n",
    "- **df.loc[ : , ['열 이름1', '열 이름2',...]]** \n",
    "- 조회할 열이 하나면 리스트 형태가 아니어도 됨\n",
    "- 열 부분은 생략할 수 있었지만, **행 부분을 생략할 수는 없음**\n",
    "- **df[['열 이름1', '열 이름2',...]]** 형태로 인덱서를 생략함이 일반적\n",
    "\n",
    "```py\n",
    "# tip 데이터프레임의 total_bill 열 조회\n",
    "# 기존 형태 : tip.loc[ :, 'total_bill'] -> 시리즈, 앞에 콜론을 생략할 수 없음\n",
    "tip['total_bill'] # 간소화 버전\n",
    "\n",
    "# tip.loc[ :, ['total_bill']] # 데이터프레임 형태\n",
    "```"
   ]
  },
  {
   "attachments": {},
   "cell_type": "markdown",
   "metadata": {},
   "source": [
    "##### 참고: loc는 컬럼 조회할 때만 생략하고, 그 외의 경우엔 무조건 써주기"
   ]
  },
  {
   "attachments": {},
   "cell_type": "markdown",
   "metadata": {},
   "source": [
    "# 열 범위 조회\n",
    "\n",
    "- 범위 조회는 **df.loc[:, 열 이름1:열 이름2]** 형태로 조회\n",
    "- 범위는 하나만 지정할 수 있어 리스트가 될 수 없으니 대괄호를 사용하면 안 됨\n",
    "- 범위 마지막 열도 조회 대상에 포함"
   ]
  },
  {
   "attachments": {},
   "cell_type": "markdown",
   "metadata": {},
   "source": [
    "```py\n",
    "# sex ~ time 열 조회\n",
    "# 범위는 절대 리스트로 묶지 말 것!!!!!\n",
    "tip.loc[:, 'sex':'time']  # 범위 조회, 슬라이싱 시에는 반드시 loc를 사용해야 함\n",
    "```"
   ]
  },
  {
   "attachments": {},
   "cell_type": "markdown",
   "metadata": {},
   "source": [
    "#  여러 조건 조회\n",
    "\n",
    "**df.loc[ () & () , :]**\n",
    "- [ ]안에 조건을 여러개 연결할 때 **and와 or 대신에 &와 |**를 사용해야 합니다.\n",
    "- 그리고 각 조건들은 **(조건1) & (조건2)** 형태로 **괄호**로 묶어야 합니다."
   ]
  },
  {
   "attachments": {},
   "cell_type": "markdown",
   "metadata": {},
   "source": [
    "## 편리한 isin(), between() 메소드\n",
    "\n",
    "- **isin([값1, 값2,..., 값n])**: 값1 또는 값2 또는...값n인 데이터만 조회합니다.\n",
    "- **between(값1, 값2)**: 값1 ~ 값2까지 범위안의 데이터만 조회합니다."
   ]
  },
  {
   "attachments": {},
   "cell_type": "markdown",
   "metadata": {},
   "source": [
    "```py\n",
    "# isin 예시 :   값 나열 (day가 sat 또는 sun)\n",
    "tip.loc[tip['day'].isin(['Sat','Sun']), :]\n",
    "```\n",
    "\n",
    "```py\n",
    "# 범위 지정 ( 1 <= size <= 3)\n",
    "# size가  1~3 사이인 값들만 조회\n",
    "tip.loc[tip['size'].between(1,3), :]\n",
    "```"
   ]
  },
  {
   "attachments": {},
   "cell_type": "markdown",
   "metadata": {},
   "source": [
    "# 데이터 집계\n",
    "\n",
    "- 집계 기준 열(범주값)과 집계 대상 열(연속값)탐색\n",
    "- info()로 데이터타입 확인 후, object는 범주형 데이터로 구분\n",
    "- **as_index=False**를 설정하면 행 번호를 기반으로 한 정수 값이 인덱스로 설정\n",
    "- 집계 결과를 새로운 데이터프레임으로 선언하여 사용하는 경우가 많음\n",
    "- 집계된 결과를 반복 사용하거나, 분석 대상이 되는 경우 새로운 데이터프레임으로 선언하는 것을 권장"
   ]
  },
  {
   "attachments": {},
   "cell_type": "markdown",
   "metadata": {},
   "source": [
    "```py\n",
    "# day별 tip 합계 --> 데이터프레임\n",
    "tip.groupby('day', as_index=False)['tip'].sum()\n",
    "\n",
    "# as_index = True 여도 여러 열을 다중 조회하면 자동으로 df 형태로 출력\n",
    "tip.groupby('day', as_index=True)[['tip', 'total_bill']].sum()\n",
    "```"
   ]
  }
 ],
 "metadata": {
  "kernelspec": {
   "display_name": "base",
   "language": "python",
   "name": "python3"
  },
  "language_info": {
   "name": "python",
   "version": "3.9.13"
  },
  "orig_nbformat": 4,
  "vscode": {
   "interpreter": {
    "hash": "f08154012ddadd8e950e6e9e035c7a7b32c136e7647e9b7c77e02eb723a8bedb"
   }
  }
 },
 "nbformat": 4,
 "nbformat_minor": 2
}
