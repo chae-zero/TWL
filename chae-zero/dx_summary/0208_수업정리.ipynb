{
 "cells": [
  {
   "cell_type": "markdown",
   "metadata": {},
   "source": [
    "# 파이썬 내장 함수"
   ]
  },
  {
   "attachments": {},
   "cell_type": "markdown",
   "metadata": {},
   "source": [
    "**1) abs(x) 함수**\n",
    "- x의 절댓값 반환\n",
    "- 절댓값: 음이 아닌 실수. 수직선 위에서 원점으로부터 어떤 수를 나타내는 점까지의 거리"
   ]
  },
  {
   "cell_type": "code",
   "execution_count": 3,
   "metadata": {},
   "outputs": [
    {
     "data": {
      "text/plain": [
       "123.546"
      ]
     },
     "execution_count": 3,
     "metadata": {},
     "output_type": "execute_result"
    }
   ],
   "source": [
    "a = -123.546\n",
    "abs(a)"
   ]
  },
  {
   "attachments": {},
   "cell_type": "markdown",
   "metadata": {},
   "source": [
    "**2) all(x) 함수**\n",
    "\n",
    "- x의 요소 모두가 참이면 True를 반환"
   ]
  },
  {
   "cell_type": "code",
   "execution_count": 4,
   "metadata": {},
   "outputs": [
    {
     "data": {
      "text/plain": [
       "True"
      ]
     },
     "execution_count": 4,
     "metadata": {},
     "output_type": "execute_result"
    }
   ],
   "source": [
    "a = [1, 2, 3, 4, 5]\n",
    "all(a)"
   ]
  },
  {
   "cell_type": "code",
   "execution_count": 5,
   "metadata": {},
   "outputs": [
    {
     "data": {
      "text/plain": [
       "False"
      ]
     },
     "execution_count": 5,
     "metadata": {},
     "output_type": "execute_result"
    }
   ],
   "source": [
    "# 0 은 False\n",
    "a = [0, 1, 2, 3, 4]\n",
    "all(a)"
   ]
  },
  {
   "attachments": {},
   "cell_type": "markdown",
   "metadata": {},
   "source": [
    "**3) any(x) 함수**\n",
    "\n",
    "- x의 요소 중 하나라도 참이면 True를 반환"
   ]
  },
  {
   "cell_type": "code",
   "execution_count": 6,
   "metadata": {},
   "outputs": [
    {
     "data": {
      "text/plain": [
       "True"
      ]
     },
     "execution_count": 6,
     "metadata": {},
     "output_type": "execute_result"
    }
   ],
   "source": [
    "a = [0, 1, 2, 3, 4]\n",
    "any(a)"
   ]
  },
  {
   "attachments": {},
   "cell_type": "markdown",
   "metadata": {},
   "source": [
    "**4) chr(x) 함수**\n",
    "\n",
    "- 아스키 코드값 x에 대응하는 문자를 반환"
   ]
  },
  {
   "cell_type": "code",
   "execution_count": 7,
   "metadata": {},
   "outputs": [
    {
     "data": {
      "text/plain": [
       "'A'"
      ]
     },
     "execution_count": 7,
     "metadata": {},
     "output_type": "execute_result"
    }
   ],
   "source": [
    "# 대문자부터 시작\n",
    "chr(65)"
   ]
  },
  {
   "cell_type": "code",
   "execution_count": 9,
   "metadata": {},
   "outputs": [
    {
     "data": {
      "text/plain": [
       "'a'"
      ]
     },
     "execution_count": 9,
     "metadata": {},
     "output_type": "execute_result"
    }
   ],
   "source": [
    "# 소문자의 아스키 코드 번호는 대문자보다 뒤에 있음\n",
    "chr(97)"
   ]
  },
  {
   "attachments": {},
   "cell_type": "markdown",
   "metadata": {},
   "source": [
    "**5) dir(x) 함수**\n",
    "\n",
    "- 객체 x가 가지고 있는 변수나 메소드 목록을 반환"
   ]
  },
  {
   "cell_type": "code",
   "execution_count": 10,
   "metadata": {},
   "outputs": [
    {
     "data": {
      "text/plain": [
       "['__add__',\n",
       " '__class__',\n",
       " '__class_getitem__',\n",
       " '__contains__',\n",
       " '__delattr__',\n",
       " '__delitem__',\n",
       " '__dir__',\n",
       " '__doc__',\n",
       " '__eq__',\n",
       " '__format__',\n",
       " '__ge__',\n",
       " '__getattribute__',\n",
       " '__getitem__',\n",
       " '__gt__',\n",
       " '__hash__',\n",
       " '__iadd__',\n",
       " '__imul__',\n",
       " '__init__',\n",
       " '__init_subclass__',\n",
       " '__iter__',\n",
       " '__le__',\n",
       " '__len__',\n",
       " '__lt__',\n",
       " '__mul__',\n",
       " '__ne__',\n",
       " '__new__',\n",
       " '__reduce__',\n",
       " '__reduce_ex__',\n",
       " '__repr__',\n",
       " '__reversed__',\n",
       " '__rmul__',\n",
       " '__setattr__',\n",
       " '__setitem__',\n",
       " '__sizeof__',\n",
       " '__str__',\n",
       " '__subclasshook__',\n",
       " 'append',\n",
       " 'clear',\n",
       " 'copy',\n",
       " 'count',\n",
       " 'extend',\n",
       " 'index',\n",
       " 'insert',\n",
       " 'pop',\n",
       " 'remove',\n",
       " 'reverse',\n",
       " 'sort']"
      ]
     },
     "execution_count": 10,
     "metadata": {},
     "output_type": "execute_result"
    }
   ],
   "source": [
    "a = [1, 2, 3]\n",
    "dir(a)"
   ]
  },
  {
   "cell_type": "code",
   "execution_count": 11,
   "metadata": {},
   "outputs": [
    {
     "name": "stdout",
     "output_type": "stream",
     "text": [
      "['append', 'clear', 'copy', 'count', 'extend', 'index', 'insert', 'pop', 'remove', 'reverse', 'sort']\n"
     ]
    }
   ],
   "source": [
    "a = [1, 2, 3]\n",
    "b = [x for x in dir(a) if x[0] != '_']\n",
    "print(b)"
   ]
  },
  {
   "attachments": {},
   "cell_type": "markdown",
   "metadata": {},
   "source": [
    "**6) divmod(x, y) 함수**\n",
    "\n",
    "- x를 y로 나눈 몫과 나머지를 튜플 형태로 반환"
   ]
  },
  {
   "cell_type": "code",
   "execution_count": 12,
   "metadata": {},
   "outputs": [
    {
     "data": {
      "text/plain": [
       "(6, 2)"
      ]
     },
     "execution_count": 12,
     "metadata": {},
     "output_type": "execute_result"
    }
   ],
   "source": [
    "a = 32\n",
    "b = 5\n",
    "divmod(a, b)"
   ]
  },
  {
   "cell_type": "code",
   "execution_count": 13,
   "metadata": {},
   "outputs": [
    {
     "name": "stdout",
     "output_type": "stream",
     "text": [
      "몫: 6 나머지: 2\n"
     ]
    }
   ],
   "source": [
    "a = 32\n",
    "b = 5\n",
    "c, d = divmod(a, b)\n",
    "print('몫:', c, '나머지:', d)"
   ]
  },
  {
   "attachments": {},
   "cell_type": "markdown",
   "metadata": {},
   "source": [
    "**7) enumerate(x) 함수**\n",
    "\n",
    "- 리스트, 튜플, 문자열을 받아 인덱스와 값을 반환"
   ]
  },
  {
   "cell_type": "code",
   "execution_count": 14,
   "metadata": {},
   "outputs": [
    {
     "name": "stdout",
     "output_type": "stream",
     "text": [
      "0 1\n",
      "1 2\n",
      "2 3\n"
     ]
    }
   ],
   "source": [
    "a = [1, 2, 3]\n",
    "for idx, name in enumerate(a):\n",
    "    print(idx, name)"
   ]
  },
  {
   "cell_type": "markdown",
   "metadata": {},
   "source": [
    "**8) eval(x) 함수**\n",
    "\n",
    "- 실행 가능한 문자열 x를 받아 그 문자열을 실행한 결과를 반환"
   ]
  },
  {
   "cell_type": "code",
   "execution_count": 15,
   "metadata": {},
   "outputs": [
    {
     "data": {
      "text/plain": [
       "30"
      ]
     },
     "execution_count": 15,
     "metadata": {},
     "output_type": "execute_result"
    }
   ],
   "source": [
    "eval('10 + 20')"
   ]
  },
  {
   "cell_type": "code",
   "execution_count": 16,
   "metadata": {},
   "outputs": [
    {
     "name": "stdout",
     "output_type": "stream",
     "text": [
      "ABC\n"
     ]
    }
   ],
   "source": [
    "eval('print(\"ABC\")')"
   ]
  },
  {
   "attachments": {},
   "cell_type": "markdown",
   "metadata": {},
   "source": [
    "**9) filter(f, x) 함수**\n",
    "\n",
    "- 함수 f에 x를 매개변수로 전달해 True 인 경우만 반환"
   ]
  },
  {
   "cell_type": "code",
   "execution_count": 19,
   "metadata": {},
   "outputs": [
    {
     "data": {
      "text/plain": [
       "['I', 'H', 'D']"
      ]
     },
     "execution_count": 19,
     "metadata": {},
     "output_type": "execute_result"
    }
   ],
   "source": [
    "def ucase(s):\n",
    "    return s == s.upper() and s != ' '\n",
    "\n",
    "a = 'I Have a Dream'\n",
    "list(filter(ucase, a))"
   ]
  },
  {
   "cell_type": "code",
   "execution_count": 20,
   "metadata": {},
   "outputs": [
    {
     "data": {
      "text/plain": [
       "['I', 'H', 'D']"
      ]
     },
     "execution_count": 20,
     "metadata": {},
     "output_type": "execute_result"
    }
   ],
   "source": [
    "# 람다식\n",
    "a = 'I Have a Dream'\n",
    "list(filter(lambda x: x == x.upper() and x != ' ', a))"
   ]
  },
  {
   "attachments": {},
   "cell_type": "markdown",
   "metadata": {},
   "source": [
    "**10) id(x) 함수**\n",
    "\n",
    "- 객체 x의 고유 주소값을 반환합니다."
   ]
  },
  {
   "cell_type": "code",
   "execution_count": 21,
   "metadata": {},
   "outputs": [
    {
     "data": {
      "text/plain": [
       "1455842874832"
      ]
     },
     "execution_count": 21,
     "metadata": {},
     "output_type": "execute_result"
    }
   ],
   "source": [
    "a = 100\n",
    "id(a)"
   ]
  },
  {
   "cell_type": "code",
   "execution_count": 22,
   "metadata": {},
   "outputs": [
    {
     "data": {
      "text/plain": [
       "1455842874832"
      ]
     },
     "execution_count": 22,
     "metadata": {},
     "output_type": "execute_result"
    }
   ],
   "source": [
    "# b에 a와 같은  id 값 할당\n",
    "b = a\n",
    "id(b)"
   ]
  },
  {
   "attachments": {},
   "cell_type": "markdown",
   "metadata": {},
   "source": [
    "**11) input() 함수**\n",
    "\n",
    "- 사용자로부터 입력 받음(입력 받은 값은 언제나 **문자열**)"
   ]
  },
  {
   "cell_type": "code",
   "execution_count": 23,
   "metadata": {},
   "outputs": [],
   "source": [
    "a = input()\n",
    "print('입력 값', a)"
   ]
  },
  {
   "attachments": {},
   "cell_type": "markdown",
   "metadata": {},
   "source": [
    "**12) int(x) 함수**\n",
    "\n",
    "- x를 정수로 변환"
   ]
  },
  {
   "cell_type": "code",
   "execution_count": 1,
   "metadata": {},
   "outputs": [
    {
     "data": {
      "text/plain": [
       "124"
      ]
     },
     "execution_count": 1,
     "metadata": {},
     "output_type": "execute_result"
    }
   ],
   "source": [
    "a = int(124.6)\n",
    "a"
   ]
  },
  {
   "attachments": {},
   "cell_type": "markdown",
   "metadata": {},
   "source": [
    "**13) isinstance(x, y) 함수**\n",
    "\n",
    "- x가 y의 인스턴스인지 여부를 True, False로 반환"
   ]
  },
  {
   "cell_type": "code",
   "execution_count": 3,
   "metadata": {},
   "outputs": [
    {
     "name": "stdout",
     "output_type": "stream",
     "text": [
      "['P', 'Y', 'T', 'H', 'O', 'N']\n",
      "False\n",
      "True\n"
     ]
    }
   ],
   "source": [
    "a = list('PYTHON')\n",
    "print(a)\n",
    "print(isinstance(a, tuple))  # 튜플이 아니므로 False\n",
    "print(isinstance(a, list))  # list 이므로 True"
   ]
  },
  {
   "attachments": {},
   "cell_type": "markdown",
   "metadata": {},
   "source": [
    "**14) map(f, x) 함수**\n",
    "\n",
    "- 함수 f에 x 요소를 하나씩 전달해 얻은 결과를 반환"
   ]
  },
  {
   "cell_type": "code",
   "execution_count": 4,
   "metadata": {},
   "outputs": [
    {
     "data": {
      "text/plain": [
       "[2, 4, 6, 8, 10]"
      ]
     },
     "execution_count": 4,
     "metadata": {},
     "output_type": "execute_result"
    }
   ],
   "source": [
    "a = [1, 2, 3, 4, 5]\n",
    "b = list(map(lambda x: x * 2, a))\n",
    "b"
   ]
  },
  {
   "attachments": {},
   "cell_type": "markdown",
   "metadata": {},
   "source": [
    "**1) ord(x) 함수**\n",
    "\n",
    "- 문자 x의 아스키 코드값 반환"
   ]
  },
  {
   "cell_type": "code",
   "execution_count": 5,
   "metadata": {},
   "outputs": [
    {
     "data": {
      "text/plain": [
       "65"
      ]
     },
     "execution_count": 5,
     "metadata": {},
     "output_type": "execute_result"
    }
   ],
   "source": [
    "ord('A')"
   ]
  },
  {
   "attachments": {},
   "cell_type": "markdown",
   "metadata": {},
   "source": [
    "**16) pow(x, y) 함수**\n",
    "\n",
    "- x를 y번 제곱한 결과 반환"
   ]
  },
  {
   "cell_type": "code",
   "execution_count": 6,
   "metadata": {},
   "outputs": [
    {
     "data": {
      "text/plain": [
       "125"
      ]
     },
     "execution_count": 6,
     "metadata": {},
     "output_type": "execute_result"
    }
   ],
   "source": [
    "pow(5, 3)"
   ]
  },
  {
   "attachments": {},
   "cell_type": "markdown",
   "metadata": {},
   "source": [
    "**22) sorted(x) 함수**\n",
    "\n",
    "- x 요소를 정렬하여 반환"
   ]
  },
  {
   "cell_type": "code",
   "execution_count": 7,
   "metadata": {},
   "outputs": [
    {
     "data": {
      "text/plain": [
       "[1, 2, 3, 4, 5]"
      ]
     },
     "execution_count": 7,
     "metadata": {},
     "output_type": "execute_result"
    }
   ],
   "source": [
    "a = [3, 2, 4, 5, 1]\n",
    "a = sorted(a)\n",
    "a"
   ]
  },
  {
   "attachments": {},
   "cell_type": "markdown",
   "metadata": {},
   "source": [
    "**26) zip(x, y) 함수**\n",
    "\n",
    "- x와 y 요소를 쌍으로 묶어서 반환"
   ]
  },
  {
   "cell_type": "code",
   "execution_count": 8,
   "metadata": {},
   "outputs": [
    {
     "data": {
      "text/plain": [
       "[(1, 10), (2, 20), (3, 30), (4, 40)]"
      ]
     },
     "execution_count": 8,
     "metadata": {},
     "output_type": "execute_result"
    }
   ],
   "source": [
    "a = [1, 2, 3, 4, 5]\n",
    "b = [10, 20, 30, 40]\n",
    "list(zip(a, b))"
   ]
  },
  {
   "attachments": {},
   "cell_type": "markdown",
   "metadata": {},
   "source": [
    "# 정규표현식\n",
    "\n",
    "- 반복문으로 처리하던 것을 정규 표현식으로 처리하면 코드가 단순해짐\n",
    "- import re\n",
    "- 변수 선언\n",
    "- re.sub()\n",
    "- sub() 함수의 첫 번째 매개변수는 바꿀 문자열, 두번째는 대상 문자열, 세번째는 실행횟수이며 횟수만큼 변경"
   ]
  },
  {
   "attachments": {},
   "cell_type": "markdown",
   "metadata": {},
   "source": [
    "##### \\d: 숫자와 매칭, \\d{3}: 숫자 세자리\n",
    "##### 살릴 대상을 괄호로 묶어줌\n",
    "##### \\g<0> : 전체 문자열을 나타냄\n",
    "##### \\g<1> : 첫번째 괄호 묶음을 나타냄\n",
    "##### \\g<2> : 두개의 괄호 묵음 중 2번째 괄호 묶음을 나타냄\n",
    "##### [-] 문자 하나를 가리킴"
   ]
  },
  {
   "cell_type": "code",
   "execution_count": 1,
   "metadata": {},
   "outputs": [],
   "source": [
    "# 이름과 전화번호가 섞여 있는 문자열\n",
    "peoples = '홍길동: 010-1234-5678 한사랑: 010-4321-8765 일지매: 010-2143-6587'"
   ]
  },
  {
   "cell_type": "code",
   "execution_count": 2,
   "metadata": {},
   "outputs": [
    {
     "data": {
      "text/plain": [
       "'홍길동: 010-1234-XXXX 한사랑: 010-4321-XXXX 일지매: 010-2143-XXXX'"
      ]
     },
     "execution_count": 2,
     "metadata": {},
     "output_type": "execute_result"
    }
   ],
   "source": [
    "# sub() 함수 사용\n",
    "import re\n",
    "\n",
    "re.sub('(\\d{3}[-]\\d{4})[-]\\d{4}', '\\g<1>-XXXX', peoples)"
   ]
  },
  {
   "cell_type": "code",
   "execution_count": 4,
   "metadata": {},
   "outputs": [
    {
     "data": {
      "text/plain": [
       "'홍길동: 010-1234-XXXX 한사랑: 010-4321-XXXX 일지매: 010-2143-XXXX'"
      ]
     },
     "execution_count": 4,
     "metadata": {},
     "output_type": "execute_result"
    }
   ],
   "source": [
    "# compile(\"\") : 정규식 객체를 리턴해줌\n",
    "import re\n",
    "pat = re.compile('(\\d{3}[-]\\d{4})[-]\\d{4}')\n",
    "pat.sub('\\g<1>-XXXX', peoples)"
   ]
  },
  {
   "attachments": {},
   "cell_type": "markdown",
   "metadata": {},
   "source": [
    "##### 정규표현식 사용\n",
    "**대괄호: []**\n",
    "- 정규식에서 대괄호([]) 사이에 문자 여러 개를 넣으면, 대괄호 안에 있는 문자 중 하나만 일치해도 매칭이 된다. (or 개념)\n",
    "\n",
    "**캐릿: ^**\n",
    "- 캐릿(^)이 들어가면 대괄호 속 내용과 반대되는 것을 반환한다.\n",
    "  > ^[0-9] : 숫자가 아닌 것을 반환\n",
    "\n",
    "**닷: .**\n",
    "- 닷(.)은 모든 문자와 일치하는 것을 찾는 정규표현식 (개행 제외)\n",
    "- **단, [] 안에 들어가 있다면 하나의 문자 '.'로 취급**"
   ]
  },
  {
   "attachments": {},
   "cell_type": "markdown",
   "metadata": {},
   "source": [
    "##### 정규식 그룹\n",
    "-  () 괄호로 그룹 묶기가 가능\n",
    "- (\\d)-(\\d-\\d)로 묶었다면 \\g<1>은 \\d, \\g<2>는 \\d-\\d 가 됨\n",
    "\n",
    "##### 그외 정규식\n",
    "- re.match('패턴','검사하려는 문자열'): 문자열 처음부터 패턴 일치 여부 확인\n",
    "- re.search(): 문자열의 처음부터 일치하는 게 아니어도 상관 없음\n",
    "- re.findall(): 문자열 중 패턴과 일치되는 모든 부분 찾기"
   ]
  },
  {
   "attachments": {},
   "cell_type": "markdown",
   "metadata": {},
   "source": [
    "# 경로 확인\n",
    "- 홈 디렉토리\n",
    "- cwd\n",
    "- pathlib 패키지 사용"
   ]
  },
  {
   "cell_type": "code",
   "execution_count": null,
   "metadata": {},
   "outputs": [],
   "source": []
  },
  {
   "cell_type": "code",
   "execution_count": 2,
   "metadata": {},
   "outputs": [
    {
     "name": "stdout",
     "output_type": "stream",
     "text": [
      "C:\\Users\\User\n"
     ]
    }
   ],
   "source": [
    "# 홈 디렉토리 확인\n",
    "from pathlib import Path\n",
    "\n",
    "print(Path.home()) # 사용자마다 파일을 저장하고 읽는 기본 경로"
   ]
  },
  {
   "cell_type": "code",
   "execution_count": 3,
   "metadata": {},
   "outputs": [
    {
     "name": "stdout",
     "output_type": "stream",
     "text": [
      "c:\\Users\\User\\Documents\\GitHub\\TWL\\chae-zero\\dx_summary\n"
     ]
    }
   ],
   "source": [
    "# 작업 디렉토리 확인\n",
    "from pathlib import Path\n",
    "\n",
    "print(Path.cwd()) # current working directory, 현재 이 파일이 저장되어 있는 곳"
   ]
  },
  {
   "cell_type": "code",
   "execution_count": 4,
   "metadata": {},
   "outputs": [
    {
     "name": "stdout",
     "output_type": "stream",
     "text": [
      "c:\\Users\\User\\Documents\\GitHub\\TWL\\chae-zero\\dx_summary\\0208_수업정리.ipynb\n"
     ]
    }
   ],
   "source": [
    "# 디렉토리 내용 확인\n",
    "from pathlib import Path\n",
    "\n",
    "files = Path.cwd().glob('*')  # '*' = *.* = (모든 파일 이름.모든 확장자)\n",
    "for f in files:\n",
    "    print(f)"
   ]
  },
  {
   "cell_type": "code",
   "execution_count": 6,
   "metadata": {},
   "outputs": [
    {
     "name": "stdout",
     "output_type": "stream",
     "text": [
      "c:\\Users\\User\\Documents\\GitHub\\TWL\\chae-zero\\dx_summary\\0208_수업정리.ipynb\n"
     ]
    }
   ],
   "source": [
    "# 디렉토리 내용 확인\n",
    "a = Path.cwd().glob('*.ipynb')\n",
    "for i in a:\n",
    "    print(i)"
   ]
  },
  {
   "attachments": {},
   "cell_type": "markdown",
   "metadata": {},
   "source": [
    "# 파일 읽고, 쓰고, 더하기 (w, r, a)\n",
    "\n",
    "- w -> write()\n",
    "- r -> read()\n",
    "- a -> append()"
   ]
  },
  {
   "attachments": {},
   "cell_type": "markdown",
   "metadata": {},
   "source": [
    "**1) 파일 쓰기**\n",
    "\n",
    "- **W** 모드로 파일을 열어 **write()** 메소드로 파일에 기록합니다.\n",
    "- **이미 같은 이름의 파일이 있다면 제거되고 새 파일이 만들어집니다.**\n",
    "- 경로를 지정하지 않으면 현재 작업 디렉토리에 기록됩니다.\n",
    "- mkdir()를 사용해 현재 작업 디렉토리에 새로운 디렉토리를 만듭니다."
   ]
  },
  {
   "cell_type": "code",
   "execution_count": 9,
   "metadata": {},
   "outputs": [],
   "source": [
    "f = open('mtfile.txt', 'w')\n",
    "\n",
    "f.write('안녕하세요 여러분')\n",
    "\n",
    "f.close()"
   ]
  },
  {
   "cell_type": "code",
   "execution_count": 8,
   "metadata": {},
   "outputs": [],
   "source": [
    "Path('Files').mkdir(exist_ok=True) # 이미 존재하면 그냥 넘겨라"
   ]
  },
  {
   "attachments": {},
   "cell_type": "markdown",
   "metadata": {},
   "source": [
    "**2) 파일 읽기**\n",
    "\n",
    "- **r** 모드로 파일을 열어 **read()** 메소드로 파일을 읽을 수 있습니다.\n",
    "- 지정한 파일이 없으면 오류가 발생합니다."
   ]
  },
  {
   "cell_type": "code",
   "execution_count": 11,
   "metadata": {},
   "outputs": [
    {
     "name": "stdout",
     "output_type": "stream",
     "text": [
      "안녕하세요 여러분\n"
     ]
    }
   ],
   "source": [
    "f = open('mtfile.txt', 'r') # cwd에 있는 myfile.txt\n",
    "\n",
    "txt = f.read() # 읽어온 내용을 close하기 전에 변수에 저장\n",
    "print(txt)\n",
    "\n",
    "f.close()"
   ]
  },
  {
   "cell_type": "code",
   "execution_count": 12,
   "metadata": {},
   "outputs": [],
   "source": [
    "# 파일 열기\n",
    "f = open('mtfile.txt', 'a')\n",
    "\n",
    "# 내용 추가\n",
    "f.write('만나서 반갑습니다!\\n')\n",
    "\n",
    "# 파일 닫기\n",
    "f.close()"
   ]
  },
  {
   "cell_type": "code",
   "execution_count": 13,
   "metadata": {},
   "outputs": [
    {
     "ename": "ValueError",
     "evalue": "I/O operation on closed file.",
     "output_type": "error",
     "traceback": [
      "\u001b[1;31m---------------------------------------------------------------------------\u001b[0m",
      "\u001b[1;31mValueError\u001b[0m                                Traceback (most recent call last)",
      "Cell \u001b[1;32mIn[13], line 1\u001b[0m\n\u001b[1;32m----> 1\u001b[0m f\u001b[39m.\u001b[39;49mread()\n",
      "\u001b[1;31mValueError\u001b[0m: I/O operation on closed file."
     ]
    }
   ],
   "source": []
  },
  {
   "attachments": {},
   "cell_type": "markdown",
   "metadata": {},
   "source": [
    "**4) 파일 있으면 오류 발생**\n",
    "\n",
    "- **x** 모드로 파일을 열면 같은 파일이 있는 경우 오류를 발생시킵니다.\n",
    "- 파일이 없으면 w 모드로 파일을 만들고, 새로 연 결과가 됩니다."
   ]
  },
  {
   "cell_type": "code",
   "execution_count": 14,
   "metadata": {},
   "outputs": [],
   "source": [
    "# 파일 열기 \n",
    "f = open('MyFile.txt', 'x')\n",
    "\n",
    "# 내용 쓰기\n",
    "f.write('만나서 반갑습니다!')\n",
    "\n",
    "# 파일 닫기\n",
    "f.close()"
   ]
  },
  {
   "cell_type": "code",
   "execution_count": 15,
   "metadata": {},
   "outputs": [
    {
     "name": "stdout",
     "output_type": "stream",
     "text": [
      "같은 이름의 파일이 있습니다.\n",
      "수고하셨습니다.\n"
     ]
    }
   ],
   "source": [
    "# 오류 핸들링\n",
    "try: \n",
    "    f = open('MyFile.txt', 'x')\n",
    "    f.write('만나서 반갑습니다!')\n",
    "    f.close()\n",
    "except FileExistsError:     #  이미 파일이 있으면\n",
    "    print('같은 이름의 파일이 있습니다.')\n",
    "else:                       # 그렇지 않으면\n",
    "    print('파일 쓰기 성공했습니다.')\n",
    "finally:                    # 마무리\n",
    "    print('수고하셨습니다.')"
   ]
  },
  {
   "attachments": {},
   "cell_type": "markdown",
   "metadata": {},
   "source": [
    "## 10.3.파일을 다루는 편리한 메소드\n",
    "\n",
    "**1) writelines() 메소드**\n",
    "\n",
    "- writelines() 메소드를 사용해 행 리스트, 튜플, 딕셔너리 등을 파일에 기록할 수 있습니다."
   ]
  },
  {
   "cell_type": "code",
   "execution_count": 16,
   "metadata": {},
   "outputs": [],
   "source": [
    "# 파일 여러 줄 쓰기\n",
    "hello = {'안녕하세요?\\n', '만나서 반갑습니다!\\n', '우리 사이좋게 잘 지내요.\\n'}\n",
    "f = open('MyFile.txt', 'w')\n",
    "f.writelines(hello)\n",
    "f.close()"
   ]
  },
  {
   "cell_type": "code",
   "execution_count": 17,
   "metadata": {},
   "outputs": [
    {
     "name": "stdout",
     "output_type": "stream",
     "text": [
      "안녕하세요?\n",
      "만나서 반갑습니다!\n",
      "우리 사이좋게 잘 지내요.\n",
      "\n"
     ]
    }
   ],
   "source": [
    "# 파일 읽기\n",
    "f =  open('MyFile.txt', 'r') \n",
    "print(f.read())\n",
    "f.close()"
   ]
  },
  {
   "attachments": {},
   "cell_type": "markdown",
   "metadata": {},
   "source": [
    "**2) readlines() 메소드**\n",
    "\n",
    "- readlines() 메소드를 사용해 모든 행을 한 번에 읽을 수 있습니다.\n",
    "- 결과는 리스트가 되므로, 반복문으로 한 행 씩 읽을 수 있습니다."
   ]
  },
  {
   "cell_type": "code",
   "execution_count": 18,
   "metadata": {},
   "outputs": [
    {
     "name": "stdout",
     "output_type": "stream",
     "text": [
      "['안녕하세요?\\n', '만나서 반갑습니다!\\n', '우리 사이좋게 잘 지내요.\\n']\n"
     ]
    }
   ],
   "source": [
    "# 파일 한 번에 읽기: 텍스트를 읽어서 리스트로 가져옴\n",
    "f = open('MyFile.txt', 'r')\n",
    "result = f.readlines()\n",
    "f.close()\n",
    "\n",
    "# 내용 확인\n",
    "print(result)"
   ]
  },
  {
   "cell_type": "code",
   "execution_count": 19,
   "metadata": {},
   "outputs": [
    {
     "name": "stdout",
     "output_type": "stream",
     "text": [
      "안녕하세요?\n",
      "만나서 반갑습니다!\n",
      "우리 사이좋게 잘 지내요.\n"
     ]
    }
   ],
   "source": [
    "# 반복문으로 한 행씩 표시\n",
    "for txt in result:\n",
    "    print(txt, end='')"
   ]
  },
  {
   "cell_type": "code",
   "execution_count": 20,
   "metadata": {},
   "outputs": [
    {
     "name": "stdout",
     "output_type": "stream",
     "text": [
      "안녕하세요?\n",
      "\n",
      "만나서 반갑습니다!\n",
      "\n",
      "우리 사이좋게 잘 지내요.\n",
      "\n"
     ]
    }
   ],
   "source": [
    "# 파일 읽기\n",
    "f = open('MyFile.txt', 'r')\n",
    "\n",
    "# 내용 읽기\n",
    "print(f.readline())\n",
    "print(f.readline())\n",
    "print(f.readline())\n",
    "\n",
    "# 파일 닫기\n",
    "f.close()"
   ]
  },
  {
   "attachments": {},
   "cell_type": "markdown",
   "metadata": {},
   "source": [
    "# 엑셀 파일 다루기"
   ]
  },
  {
   "cell_type": "code",
   "execution_count": 21,
   "metadata": {},
   "outputs": [],
   "source": [
    "# 라이브러리 불러오기\n",
    "import openpyxl as xl"
   ]
  },
  {
   "cell_type": "code",
   "execution_count": 27,
   "metadata": {},
   "outputs": [],
   "source": [
    "# 워크북 오브젝트 선언\n",
    "wb = xl.load_workbook('data\\Fruit.xlsx')"
   ]
  },
  {
   "cell_type": "code",
   "execution_count": 29,
   "metadata": {},
   "outputs": [
    {
     "data": {
      "text/plain": [
       "['Sheet1', 'Sheet2']"
      ]
     },
     "execution_count": 29,
     "metadata": {},
     "output_type": "execute_result"
    }
   ],
   "source": [
    "wb.sheetnames"
   ]
  },
  {
   "cell_type": "code",
   "execution_count": 30,
   "metadata": {},
   "outputs": [],
   "source": [
    "# 시트 선택\n",
    "sheet1 = wb['Sheet1']"
   ]
  },
  {
   "cell_type": "code",
   "execution_count": 31,
   "metadata": {},
   "outputs": [
    {
     "data": {
      "text/plain": [
       "'Pineapple'"
      ]
     },
     "execution_count": 31,
     "metadata": {},
     "output_type": "execute_result"
    }
   ],
   "source": [
    "# 셀 이름으로 셀 값 확인\n",
    "sheet1['A1'].value"
   ]
  },
  {
   "cell_type": "code",
   "execution_count": 32,
   "metadata": {},
   "outputs": [
    {
     "data": {
      "text/plain": [
       "'green'"
      ]
     },
     "execution_count": 32,
     "metadata": {},
     "output_type": "execute_result"
    }
   ],
   "source": [
    "# 셀 이름으로 셀 값 확인\n",
    "sheet1['B3'].value"
   ]
  },
  {
   "cell_type": "code",
   "execution_count": 33,
   "metadata": {},
   "outputs": [
    {
     "name": "stdout",
     "output_type": "stream",
     "text": [
      "1 4\n",
      "1 2\n"
     ]
    }
   ],
   "source": [
    "# 데이터 영역 확인\n",
    "print(sheet1.min_row, sheet1.max_row)        # 시작 행, 끝 행\n",
    "print(sheet1.min_column, sheet1.max_column)  # 시작 열, 끝 열"
   ]
  },
  {
   "cell_type": "code",
   "execution_count": 35,
   "metadata": {},
   "outputs": [],
   "source": [
    "# 엑셀 파일 저장: 원본 이름으로 저장\n",
    "wb.save('data\\Fruit.xlsx')"
   ]
  },
  {
   "attachments": {},
   "cell_type": "markdown",
   "metadata": {},
   "source": [
    "# SMPT (이메일 보내기 프로토콜)\n",
    "- smptlib 라이브러리 사용"
   ]
  },
  {
   "cell_type": "code",
   "execution_count": 36,
   "metadata": {},
   "outputs": [],
   "source": [
    "# 라이브러리를 불러오기: smptlib\n",
    "import smtplib\n",
    "from email.mime.text import MIMEText"
   ]
  },
  {
   "cell_type": "code",
   "execution_count": 37,
   "metadata": {},
   "outputs": [
    {
     "data": {
      "text/plain": [
       "(220, b'2.0.0 Ready to start TLS')"
      ]
     },
     "execution_count": 37,
     "metadata": {},
     "output_type": "execute_result"
    }
   ],
   "source": [
    "s = smtplib.SMTP('smtp.gmail.com', 587)\n",
    "\n",
    "s.starttls()"
   ]
  },
  {
   "cell_type": "code",
   "execution_count": null,
   "metadata": {},
   "outputs": [],
   "source": [
    "# 로그인 인증\n",
    "s.login('메일 주소', '앱 비밀번호') "
   ]
  },
  {
   "cell_type": "code",
   "execution_count": 39,
   "metadata": {},
   "outputs": [],
   "source": [
    "# 본문\n",
    "msg = MIMEText('''\n",
    "내용\n",
    "''')\n",
    "\n",
    "# 제목\n",
    "msg['Subject'] = '제목'"
   ]
  },
  {
   "cell_type": "code",
   "execution_count": null,
   "metadata": {},
   "outputs": [],
   "source": [
    "# 메일 보내기\n",
    "s.sendmail('발신 주소', '수신 주소', msg.as_string())\n",
    "s.quit()"
   ]
  }
 ],
 "metadata": {
  "kernelspec": {
   "display_name": "base",
   "language": "python",
   "name": "python3"
  },
  "language_info": {
   "codemirror_mode": {
    "name": "ipython",
    "version": 3
   },
   "file_extension": ".py",
   "mimetype": "text/x-python",
   "name": "python",
   "nbconvert_exporter": "python",
   "pygments_lexer": "ipython3",
   "version": "3.9.13"
  },
  "orig_nbformat": 4,
  "vscode": {
   "interpreter": {
    "hash": "f08154012ddadd8e950e6e9e035c7a7b32c136e7647e9b7c77e02eb723a8bedb"
   }
  }
 },
 "nbformat": 4,
 "nbformat_minor": 2
}
