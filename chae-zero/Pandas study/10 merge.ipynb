{
 "cells": [
  {
   "cell_type": "markdown",
   "metadata": {},
   "source": [
    "## Merge\n",
    "\n",
    "##### df1.merge(df2, how = 병합 방식)\n",
    "\n",
    "- 엑셀에서의 VLOOKUP과 같은 기능\n",
    "- 열 이름만 같다면, 기준이 되는 열이 한 개든 100개든 자동으로 처리해주기 때문에 똑같은 코드 사용\n",
    "\n",
    "> 열 이름이 다른 경우\n",
    ">> rename, left_on, right_on 등을 활용해 열 이름을 통일시킨 후 merge\n",
    "##### 예시: df1.merge(df2.rename(columns = {\"열1\":\"열2\"}), how = \"left\")"
   ]
  },
  {
   "cell_type": "markdown",
   "metadata": {},
   "source": [
    "### merge 해야 하는 데이터프레임에 중복값이 있는 경우\n",
    "\n",
    "drop_duplicates()를 활용해 중복값 하나 제거 후에 merge"
   ]
  },
  {
   "cell_type": "markdown",
   "metadata": {},
   "source": [
    "### merge 와 concat의 차이\n",
    "\n",
    "##### merge: 일개 열의 이름을 기준으로 병합\n",
    "##### concat: 열의 이름이 아닌 index, columns를 기준으로 병합"
   ]
  },
  {
   "cell_type": "code",
   "execution_count": null,
   "metadata": {},
   "outputs": [],
   "source": [
    "import pandas as pd\n",
    "\n",
    "name1 = ['송중기', '권보아', '김나현', '박효신', '진달래']\n",
    "a1, a2, a3, a4, a5 = '송중기', '권보아', '김나현', '박효신', '진달래'\n",
    "b1, b2, b3 = '카페라떼', '아이스티', '모카라떼'\n",
    "c1, c2 = '콩다방', '별다방'\n",
    "df1 = pd.DataFrame([name1, [b2, b1, b1, b2, b3]], index=[\"이름\", \"제품\"]).T\n",
    "df2 = pd.DataFrame([[b1, 4500], [b2, 4600], [b3, 4800]], columns=[\"제품\", \"가격\"])\n",
    "df3 = pd.DataFrame([name1,[c1, c1, c2, c1, c2], [b2, b1, b1, b2, b2]], \n",
    "                   index=[\"이름\", \"업체\", \"제품\"]).T\n",
    "df4 = pd.DataFrame([[c1, b2, 4600], [c1, b1, 4700], [c2, b2, 4200], [c2, b1, 4300]], \n",
    "                   columns=[\"업체\", \"제품\", \"가격\"])\n",
    "df5 = pd.DataFrame([[b1, 4500], [b2, 4600], [b3, 4800]], columns=[\"상품\", \"가격\"])\n",
    "df6 = pd.DataFrame([[b1, 4500], [b2, 4600], [b3, 4800], [b3, 4800]], \n",
    "                   columns=[\"제품\", \"가격\"])\n",
    "df7 = pd.DataFrame([[a2, a3, a1, a5], [b2, b1, b1, b3]], index=[\"이름\", \"1일차\"]).T\n",
    "df8 = pd.DataFrame([[a2, a3, a4, a1], [b1, b3, b2, b2]], index=[\"이름\", \"2일차\"]).T\n",
    "df9 = pd.DataFrame([b1, b3, b2, b2], index=[a2, a3, a4, a1], columns=[\"2일차\"])\n"
   ]
  },
  {
   "cell_type": "code",
   "execution_count": null,
   "metadata": {},
   "outputs": [],
   "source": [
    "df1"
   ]
  },
  {
   "cell_type": "code",
   "execution_count": null,
   "metadata": {},
   "outputs": [],
   "source": [
    "df2"
   ]
  },
  {
   "cell_type": "code",
   "execution_count": null,
   "metadata": {},
   "outputs": [],
   "source": [
    "df1.merge(df2, how='right') # 오른쪽 데이터프레임을 기준으로"
   ]
  },
  {
   "cell_type": "code",
   "execution_count": null,
   "metadata": {},
   "outputs": [],
   "source": [
    "df1.merge(df2, how='left') # 왼쪽 데이터프레임을 중심으로"
   ]
  },
  {
   "cell_type": "code",
   "execution_count": null,
   "metadata": {},
   "outputs": [],
   "source": [
    "df3"
   ]
  },
  {
   "cell_type": "code",
   "execution_count": null,
   "metadata": {},
   "outputs": [],
   "source": [
    "df4"
   ]
  },
  {
   "cell_type": "code",
   "execution_count": null,
   "metadata": {},
   "outputs": [],
   "source": [
    "# 다중요건 merge\n",
    "\n",
    "df3.merge(df4, how='left')"
   ]
  },
  {
   "cell_type": "markdown",
   "metadata": {},
   "source": [
    "### 두 데이터프레임의 열 이름이 다를 때"
   ]
  },
  {
   "cell_type": "code",
   "execution_count": null,
   "metadata": {},
   "outputs": [],
   "source": [
    "df5 # \"상품\""
   ]
  },
  {
   "cell_type": "code",
   "execution_count": null,
   "metadata": {},
   "outputs": [],
   "source": [
    "df1 # \"제품\""
   ]
  },
  {
   "cell_type": "code",
   "execution_count": null,
   "metadata": {},
   "outputs": [],
   "source": [
    "df5.rename(columns={\"상품\":\"제품\"})"
   ]
  },
  {
   "cell_type": "code",
   "execution_count": null,
   "metadata": {},
   "outputs": [],
   "source": [
    "df1.merge(df5.rename(columns={\"상품\":\"제품\"}), how = \"left\")"
   ]
  },
  {
   "cell_type": "markdown",
   "metadata": {},
   "source": [
    "### 중복값이 있는 데이터프레임을 병합할 때"
   ]
  },
  {
   "cell_type": "code",
   "execution_count": null,
   "metadata": {},
   "outputs": [],
   "source": [
    "df1.merge(df6.drop_duplicates(), how = \"left\")"
   ]
  },
  {
   "cell_type": "markdown",
   "metadata": {},
   "source": [
    "### Merge 의 join\n",
    "\n",
    "- inner join이 디폴트"
   ]
  },
  {
   "cell_type": "code",
   "execution_count": null,
   "metadata": {},
   "outputs": [],
   "source": [
    "df7"
   ]
  },
  {
   "cell_type": "code",
   "execution_count": null,
   "metadata": {},
   "outputs": [],
   "source": [
    "df8"
   ]
  },
  {
   "cell_type": "code",
   "execution_count": null,
   "metadata": {},
   "outputs": [],
   "source": [
    "df7.merge(df8) # 교집합만 추출"
   ]
  },
  {
   "cell_type": "code",
   "execution_count": null,
   "metadata": {},
   "outputs": [],
   "source": [
    "df7.merge(df8, how = 'outer') # df8을 기준으로 병합"
   ]
  },
  {
   "cell_type": "markdown",
   "metadata": {},
   "source": [
    "### 기준이 되는 데이터가 한쪽에는 column으로, 다른 쪽엔 index로 들어가있다면?\n",
    "\n",
    "-reset_index로 merge"
   ]
  },
  {
   "cell_type": "code",
   "execution_count": null,
   "metadata": {},
   "outputs": [],
   "source": [
    "df7"
   ]
  },
  {
   "cell_type": "code",
   "execution_count": null,
   "metadata": {},
   "outputs": [],
   "source": [
    "df9"
   ]
  },
  {
   "cell_type": "code",
   "execution_count": null,
   "metadata": {},
   "outputs": [],
   "source": [
    "df9.reset_index().rename(columns = {\"index\":\"이름\"})\n",
    "# reset_index()로 숫자열 인덱스 추가, 기존의 인덱스는 \"index\"라는 라벨의 column이 됨.\n",
    "# 해당 column의 이름을 병합하려는 데이터프레임과 동일하게 지정해준 후 merge"
   ]
  }
 ],
 "metadata": {
  "kernelspec": {
   "display_name": "dx_env",
   "language": "python",
   "name": "dx_env"
  },
  "language_info": {
   "codemirror_mode": {
    "name": "ipython",
    "version": 3
   },
   "file_extension": ".py",
   "mimetype": "text/x-python",
   "name": "python",
   "nbconvert_exporter": "python",
   "pygments_lexer": "ipython3",
   "version": "3.7.15"
  }
 },
 "nbformat": 4,
 "nbformat_minor": 2
}
