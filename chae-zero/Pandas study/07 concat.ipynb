{
 "cells": [
  {
   "cell_type": "markdown",
   "metadata": {},
   "source": [
    "## Concat 함수\n",
    "\n",
    "1. axis만 지정해주면 쉽게 할 수 있음\n",
    "\n",
    "2. columns의 순서가 달라도, 라벨 이름이 같다면 따로 순서를 바꿔주지 않아도 정상적으로 병합됨\n",
    "\n",
    "3. index 혹은 columns의 값이 다른 경우\n",
    "  - join='inner' : 교집합만 병합하고 나머진 날려버림\n",
    "  - join='outer' : 합집합으로 병합하고, 값이 없는 곳은 결측치 Nan 반환"
   ]
  },
  {
   "cell_type": "code",
   "execution_count": null,
   "metadata": {},
   "outputs": [],
   "source": [
    "import pandas as pd\n",
    "\n",
    "val1 = [[80,69,83,98],[71,90,69,66], [74,72,72,95]]\n",
    "val2 =[[68,70,84,70], [65,91,90,66], [78,94,96,64]]\n",
    "val3 = [[79,99,95,90], [99,76,81,97], [95,80,62,84]]\n",
    "\n",
    "idx1 = [\"송중기\", \"박보검\", \"김나연\"]\n",
    "idx2 = [\"권보아\", \"김범수\", \"박효신\"]\n",
    "idx3 = [\"김유정\", \"홍은희\", \"이세영\"]\n",
    "\n",
    "col1 = [\"국어\", \"수학\", \"영어\", \"과학\"]\n",
    "col2 = [\"국어\", \"수학\", \"영어\", \"사회\"]\n",
    "\n",
    "df1 = pd.DataFrame(val1, index=idx1, columns=col1)\n",
    "df2 = pd.DataFrame(val2, index=idx2, columns=col1)\n",
    "df3 = pd.DataFrame([[65,82], [85,60], [75,78]], index=idx1, columns=[\"사회\", \"일어\"])\n",
    "df4 = df2.reindex(columns=[\"영어\", \"과학\", \"수학\", \"국어\"])\n",
    "df5 = pd.DataFrame(val3, index=idx3, columns=col2)\n"
   ]
  },
  {
   "cell_type": "markdown",
   "metadata": {},
   "source": [
    "### pd.concat([df1, df2,...], join=방식, axis=축)\n",
    "\n",
    "- 병합할 데이터프레임들을 리스트화해서 넣어줄 것\n",
    "- join의 경우 디폴트 값은 outer join\n",
    "- axis의 경우 디폴트 값은 0 (행 방향)"
   ]
  },
  {
   "cell_type": "code",
   "execution_count": null,
   "metadata": {},
   "outputs": [],
   "source": [
    "df1"
   ]
  },
  {
   "cell_type": "code",
   "execution_count": null,
   "metadata": {},
   "outputs": [],
   "source": [
    "pd.concat([df1, df2]) # 인덱스도 columns도 같기 때문에 바로 행 방향으로 붙여주면 됨"
   ]
  },
  {
   "cell_type": "code",
   "execution_count": null,
   "metadata": {},
   "outputs": [],
   "source": [
    "pd.concat([df1, df3], axis=1) # index는 같고 columns는 다르므로 열 방향으로 붙여주기"
   ]
  },
  {
   "cell_type": "code",
   "execution_count": null,
   "metadata": {},
   "outputs": [],
   "source": [
    "df4 # columns 라벨 순서는 다르지만 라벨 이름은 모두 같음"
   ]
  },
  {
   "cell_type": "code",
   "execution_count": null,
   "metadata": {},
   "outputs": [],
   "source": [
    "pd.concat([df1, df4]) # 순서가 달라도, columns와 index의 라벨링이 강력하기 때문에 문제가 되지 않음"
   ]
  },
  {
   "cell_type": "code",
   "execution_count": null,
   "metadata": {},
   "outputs": [],
   "source": [
    "df1"
   ]
  },
  {
   "cell_type": "code",
   "execution_count": null,
   "metadata": {},
   "outputs": [],
   "source": [
    "df5 # df1과 column 하나가 다름"
   ]
  },
  {
   "cell_type": "code",
   "execution_count": null,
   "metadata": {},
   "outputs": [],
   "source": [
    "pd.concat([df1, df5], join='inner')"
   ]
  },
  {
   "cell_type": "code",
   "execution_count": null,
   "metadata": {},
   "outputs": [],
   "source": [
    "pd.concat([df1, df5]) # join은 outer가 디폴프이므로 안 써줘도 됨"
   ]
  },
  {
   "cell_type": "code",
   "execution_count": null,
   "metadata": {},
   "outputs": [],
   "source": [
    "# df1에 있는 colums에 대한 값만 뽑고 싶다면?\n",
    "# df.reindex(index=배열,  columns=배열, fill_value=값) 함수 활용\n",
    "\n",
    "df5.reindex(columns=df1.columns)"
   ]
  },
  {
   "cell_type": "code",
   "execution_count": null,
   "metadata": {},
   "outputs": [],
   "source": [
    "pd.concat([df1, df5.reindex(columns=df1.columns, fill_value=\"불참\")])"
   ]
  }
 ],
 "metadata": {
  "kernelspec": {
   "display_name": "dx_env",
   "language": "python",
   "name": "dx_env"
  },
  "language_info": {
   "codemirror_mode": {
    "name": "ipython",
    "version": 3
   },
   "file_extension": ".py",
   "mimetype": "text/x-python",
   "name": "python",
   "nbconvert_exporter": "python",
   "pygments_lexer": "ipython3",
   "version": "3.7.15"
  }
 },
 "nbformat": 4,
 "nbformat_minor": 2
}
