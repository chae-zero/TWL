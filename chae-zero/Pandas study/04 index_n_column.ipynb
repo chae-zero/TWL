{
 "cells": [
  {
   "cell_type": "markdown",
   "metadata": {},
   "source": [
    "## Indexing\n",
    "\n",
    "1. df뿐만 아니라 리스트, np.array, 튜플에도 있음\n",
    "2. 사실은 colums도 index\n",
    "3. 판다스에서는 주로 행의 index 는 'index', 열의 index는 'columns'라고 부르지만, 간혹 넓은 의미로 둘 다 index라 불리는 경우가 있음\n"
   ]
  },
  {
   "cell_type": "markdown",
   "metadata": {},
   "source": [
    "- 행의 인덱스 확인: df.index (함수 x)\n",
    "- 열의 인덱스 확인: df.columns (함수 x)\n",
    "- 인덱스 설정: set_index\n",
    "- 인덱스 리셋: reset_index\n",
    "\n",
    "- 인덱스 순서 변환: reindex\n",
    "- 인덱스 이름 변환: rename 혹은 직접 입력\n",
    "- 인덱스 정렬 sort_index"
   ]
  },
  {
   "cell_type": "code",
   "execution_count": null,
   "metadata": {},
   "outputs": [],
   "source": [
    "import pandas as pd\n",
    "\n",
    "df1 = pd.DataFrame([[\"파이전자\", 20, 30, 30, 40, \"반도체\"], \n",
    "                   [\"썬닉스\", 100, 90, 80, 100, \"반도체\"], \n",
    "                   [\"판다센\", 300, 320, 340, 0, \"게임\"], \n",
    "                   [\"스마블\", 0, 450, 300, 300, \"게임\"]], \n",
    "                  columns=[\"종목\", \"A팀\", \"B팀\", \"C팀\", \"D팀\", \"분류\"])\n",
    "s1 = pd.Series([35000, 10000, 2000, 5000], index=list(df1[\"종목\"]))\n",
    "df2 = df1.set_index(\"종목\").iloc[:,:4].mul(s1, axis=0)\n",
    "df2 = df2.reindex([\"D팀\", \"C팀\", \"B팀\", \"A팀\", \"분류\"], axis=1).reset_index()\n",
    "df2[\"분류\"] = df1[\"분류\"]\n",
    "\n",
    "df1"
   ]
  },
  {
   "cell_type": "code",
   "execution_count": null,
   "metadata": {},
   "outputs": [],
   "source": [
    "df1.index\n",
    "# RangeIndex(start=0, stop=4, step=1) : 0,1,2,3"
   ]
  },
  {
   "cell_type": "markdown",
   "metadata": {},
   "source": [
    "### df.set_index (값, drop = bool, append = bool, inplace = bool)\n",
    "\n",
    "- 기존 df의 인덱스를 삭제하고 싶다 = drop\n",
    "- 기존 df의 인덱스를 유지하고 싶다 = append\n",
    "- 새롭게 세팅한 결과를 기존 df의 인덱스에 덮어씌우ㅠ고 싶다 = inplace "
   ]
  },
  {
   "cell_type": "code",
   "execution_count": null,
   "metadata": {},
   "outputs": [],
   "source": [
    "df1"
   ]
  },
  {
   "cell_type": "code",
   "execution_count": null,
   "metadata": {},
   "outputs": [],
   "source": [
    "df1.set_index(\"종목\") # 기존의 숫자 인덱스는 사라지고, 종목 컬럼이 인덱스가 됨"
   ]
  },
  {
   "cell_type": "code",
   "execution_count": null,
   "metadata": {},
   "outputs": [],
   "source": [
    "df1.set_index([\"분류\", \"종목\"])\n",
    "# df1.set_index([\"분류\", \"종목\"]): 분류 컬럼, 종목 컬럼을  행의 인덱스로 설정하고 열에서는 삭제\n",
    "# df1.set_index([\"분류\", \"종목\"], drop=False): 분류 컬럼, 종목 컬럼을 열에도 그대로 남겨놓은 상태\n",
    "# df1.set_index([\"분류\", \"종목\"], append=True): 기존의 숫자 인덱스를 그대로 유지"
   ]
  },
  {
   "cell_type": "code",
   "execution_count": null,
   "metadata": {},
   "outputs": [],
   "source": [
    "df1"
   ]
  },
  {
   "cell_type": "code",
   "execution_count": null,
   "metadata": {},
   "outputs": [],
   "source": [
    "df3 = df1.loc[df1[\"종목\"] != \"판다센\"] # df1에서 종목이 판다센이 아닌 경우만 추출\n",
    "df3 # 인덱스가 0,1,3,만 남으므로 리셋을 해줘야함"
   ]
  },
  {
   "cell_type": "markdown",
   "metadata": {},
   "source": [
    "### df.reset_index (level = None, drop = bool, inplace = bool)\n",
    "\n",
    "- 기존 인덱스가 두 개 이상이다 = level_0, lever_1 등 인덱스에 레벨이 생김\n",
    "- 기존 df의 인덱스를 유지하고 싶다 = drop=False\n",
    "- 기존 df의 인덱스를 버리고 싶다 = drop=True\n",
    "\n",
    "- 새롭게 세팅한 결과를 기존 df의 인덱스에 덮어씌우고 싶다 = inplace "
   ]
  },
  {
   "cell_type": "code",
   "execution_count": null,
   "metadata": {},
   "outputs": [],
   "source": [
    "df3.reset_index(drop=True)"
   ]
  },
  {
   "cell_type": "code",
   "execution_count": null,
   "metadata": {},
   "outputs": [],
   "source": [
    "df3.T.reset_index().T # .T: 전치 행렬을 뽑아내는 넘파이 기법\n",
    "# 한 번 더 전치 해주면 index를 다루는 함수들로 colums도 다룰 수 있게 됨"
   ]
  },
  {
   "cell_type": "markdown",
   "metadata": {},
   "source": [
    "### df.reindex (index = 배열, columns = 배열, fill_value = 값)\n",
    "\n",
    "- 기존 인덱스를 갈아엎는 함수\n",
    "\n",
    "- 기존 df의 인덱스를 유지하고 싶다 = drop=False\n",
    "- 기존 df의 인덱스를 버리고 싶다 = drop=True\n",
    "\n",
    "- 새롭게 세팅한 결과를 기존 df의 인덱스에 덮어씌우고 싶다 = inplace "
   ]
  },
  {
   "cell_type": "code",
   "execution_count": null,
   "metadata": {},
   "outputs": [],
   "source": [
    "df1"
   ]
  },
  {
   "cell_type": "code",
   "execution_count": null,
   "metadata": {},
   "outputs": [],
   "source": [
    "df1.reindex(columns=[\"종목\", \"C팀\", \"A팀\", \"B팀\", \"D팀\", \"분류\"])"
   ]
  },
  {
   "cell_type": "code",
   "execution_count": null,
   "metadata": {},
   "outputs": [],
   "source": [
    "df2"
   ]
  },
  {
   "cell_type": "code",
   "execution_count": null,
   "metadata": {},
   "outputs": [],
   "source": [
    "df1.reindex(columns=df2.columns) # 다른 데이터프레임의 columns와 똑같이 일치시키고 싶다면, 이렇게 바꿔주면 됨"
   ]
  },
  {
   "cell_type": "code",
   "execution_count": null,
   "metadata": {},
   "outputs": [],
   "source": [
    "df1.reindex(columns=[\"A팀\",\"B팀\"]) # 슬라이싱한 것처럼 a,b팀만 남음"
   ]
  },
  {
   "cell_type": "code",
   "execution_count": null,
   "metadata": {},
   "outputs": [],
   "source": [
    "df1.reindex(columns=[\"A팀\",\"B팀\",\"A팀\",\"E팀\"]) # 있는 값을 또 넣고, 없는 값을 넣어도 됨. 단, 없는 값은 결측치 반환"
   ]
  },
  {
   "cell_type": "code",
   "execution_count": null,
   "metadata": {},
   "outputs": [],
   "source": [
    "df1.reindex(columns=[\"A팀\",\"B팀\",\"A팀\",\"E팀\"], fill_value=0)\n",
    "# 기존에 없던 컬럼을 추가할 경우, fill_value를 통해 값을 채워줄 수 있음"
   ]
  },
  {
   "cell_type": "markdown",
   "metadata": {},
   "source": [
    "### df1.rename(index={old1:new1, old2:new2, ...}, columns={old1:new1, old2:new2, ...})\n",
    "- 딕셔너리 구조로 기존 이름은 key, 새로운 이름은 value로 넣어주면 됨"
   ]
  },
  {
   "cell_type": "code",
   "execution_count": null,
   "metadata": {},
   "outputs": [],
   "source": [
    "df1.rename(columns={\"A팀\":\"AI팀\", \"B팀\":\"주식 1팀\"}) # 딕셔너리 구조는 일일이 바꿔주기엔 번거로움"
   ]
  },
  {
   "cell_type": "code",
   "execution_count": null,
   "metadata": {},
   "outputs": [],
   "source": [
    "df1.index = [1,2,3,4] # 직접 입력으로 바꾸면 훨씬 간편\n",
    "df1 # 0,1,2,3이었던 인덱스가 1,2,3,4로 바뀜"
   ]
  },
  {
   "cell_type": "markdown",
   "metadata": {},
   "source": [
    "### sort_index(axis=축, inplace=bool, ascending=bool)\n"
   ]
  },
  {
   "cell_type": "code",
   "execution_count": null,
   "metadata": {},
   "outputs": [],
   "source": [
    "df2"
   ]
  },
  {
   "cell_type": "code",
   "execution_count": null,
   "metadata": {},
   "outputs": [],
   "source": [
    "df2.sort_index(axis=1, ascending=False) # 컬럼을 내림차순으로 바꿔줌, true는 디폴트라서 굳이 안 써줘도 됨"
   ]
  }
 ],
 "metadata": {
  "kernelspec": {
   "display_name": "dx_env",
   "language": "python",
   "name": "dx_env"
  },
  "language_info": {
   "codemirror_mode": {
    "name": "ipython",
    "version": 3
   },
   "file_extension": ".py",
   "mimetype": "text/x-python",
   "name": "python",
   "nbconvert_exporter": "python",
   "pygments_lexer": "ipython3",
   "version": "3.7.15"
  }
 },
 "nbformat": 4,
 "nbformat_minor": 2
}
