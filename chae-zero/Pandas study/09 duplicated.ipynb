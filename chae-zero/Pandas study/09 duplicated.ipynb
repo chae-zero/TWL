{
 "cells": [
  {
   "cell_type": "markdown",
   "metadata": {},
   "source": [
    "## duplicated: 중복값 처리\n",
    "\n",
    "##### df1.duplicated([열1, 열2, 열3...], keep=\"first\" or \"last\" or False\n",
    "- 중복되는 값은 True, 나머지는 False로 처리\n",
    "- drop_duplicates(): 중복되는 값 중 하나만 남기고 나머지는 제거\n",
    "- 중복을 탐색할 일부 column을 지정해줄 수도 있음\n",
    "- keep 인자\n",
    "1. \"first\": 디폴트, 첫값만 남김\n",
    "2. \"last\": 중복값 중 마지막값만 남김\n",
    "3. False: 중복값이 존재하면 하나도 남기지 않고 모두 drop\n"
   ]
  },
  {
   "cell_type": "code",
   "execution_count": null,
   "metadata": {
    "vscode": {
     "languageId": "python"
    }
   },
   "outputs": [],
   "source": [
    "import pandas as pd\n",
    "\n",
    "a1 = [1, \"송준기\", 680]\n",
    "b1 = [1, \"권보아\", 880]\n",
    "c1 = [2, \"김나현\", 620]\n",
    "d1 = [2, \"송준기\", 750]\n",
    "e1 = [3, \"김나현\", 750]\n",
    "f1 = [3, \"박효신\", 920]\n",
    "g1 = [3, \"진달래\", 850]\n",
    "df1 = pd.DataFrame([a1, a1, b1, c1, d1, e1, f1, g1], columns=[\"회차\", \"이름\", \"점수\"])\n"
   ]
  },
  {
   "cell_type": "markdown",
   "metadata": {},
   "source": [
    "### duplicated() 활용법\n",
    "\n",
    "1. 중복값 존재여부 체크\n",
    "\n",
    "2. 중복값을 처음값만 두고 삭제\n",
    "\n",
    "3. 중복값을 마지막 값만 두고 삭제\n",
    "\n",
    "4. 중복값 모두 삭제"
   ]
  },
  {
   "cell_type": "code",
   "execution_count": null,
   "metadata": {
    "vscode": {
     "languageId": "python"
    }
   },
   "outputs": [],
   "source": [
    "df1"
   ]
  },
  {
   "cell_type": "code",
   "execution_count": null,
   "metadata": {
    "vscode": {
     "languageId": "python"
    }
   },
   "outputs": [],
   "source": [
    "df1.duplicated() # [1, 송준기, 680] 처럼 모든 값이 일치하는 행만 중복으로 판단"
   ]
  },
  {
   "cell_type": "code",
   "execution_count": null,
   "metadata": {
    "vscode": {
     "languageId": "python"
    }
   },
   "outputs": [],
   "source": [
    "df1.drop_duplicates() # 모든 값이 일치하는 행 중 첫 번째 행 출력"
   ]
  },
  {
   "cell_type": "code",
   "execution_count": null,
   "metadata": {
    "vscode": {
     "languageId": "python"
    }
   },
   "outputs": [],
   "source": [
    "df1.drop_duplicates(\"이름\") # 이름만 중복 체크 후 중복값 중 첫번째 값 출력"
   ]
  },
  {
   "cell_type": "code",
   "execution_count": null,
   "metadata": {
    "vscode": {
     "languageId": "python"
    }
   },
   "outputs": [],
   "source": [
    "df1.drop_duplicates(\"이름\", keep=\"last\") # 이름을 기준으로 판단한 중복값 중 가장 마지막 값 출력"
   ]
  },
  {
   "cell_type": "code",
   "execution_count": null,
   "metadata": {
    "vscode": {
     "languageId": "python"
    }
   },
   "outputs": [],
   "source": [
    "df1.drop_duplicates(\"이름\", keep=False) # 중복값이 있는 경우는 하나도 남김없이 제거"
   ]
  }
 ],
 "metadata": {
  "kernelspec": {
   "display_name": "dx_env",
   "language": "python",
   "name": "dx_env"
  }
 },
 "nbformat": 4,
 "nbformat_minor": 2
}
