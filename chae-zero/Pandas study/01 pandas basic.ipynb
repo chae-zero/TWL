{
 "cells": [
  {
   "cell_type": "markdown",
   "id": "67d9ddeb",
   "metadata": {},
   "source": [
    "# Pandas 총정리"
   ]
  },
  {
   "cell_type": "code",
   "execution_count": null,
   "id": "66d83fef",
   "metadata": {},
   "outputs": [],
   "source": [
    "# 라이브러리 로딩\n",
    "import numpy as np\n",
    "import pandas as pd "
   ]
  },
  {
   "cell_type": "code",
   "execution_count": null,
   "id": "30091a91",
   "metadata": {},
   "outputs": [],
   "source": [
    "df1 = pd.DataFrame([[3,2,5], [10,0,2],[6,5,3]],\n",
    "                    columns=[\"사과\", \"자두\", \"포도\"],\n",
    "                    index=[\"이성계\", \"김유신\", \"이순신\"])\n",
    "s1 = df1[\"사과\"]"
   ]
  },
  {
   "cell_type": "code",
   "execution_count": null,
   "id": "1dd833d5",
   "metadata": {},
   "outputs": [],
   "source": [
    "df1"
   ]
  },
  {
   "cell_type": "code",
   "execution_count": null,
   "id": "e3e6401f",
   "metadata": {},
   "outputs": [],
   "source": [
    "print(s1)\n",
    "print(df1.sum()) # sum 함수 활용\n",
    "print(df1.mean())"
   ]
  },
  {
   "cell_type": "markdown",
   "id": "2cf26816",
   "metadata": {},
   "source": [
    "### 데이터프레임은 np.array 배열의 삼단 합체 구조\n",
    "1. values\n",
    "2. columns\n",
    "3. index"
   ]
  },
  {
   "cell_type": "code",
   "execution_count": null,
   "id": "d3c8e300",
   "metadata": {},
   "outputs": [],
   "source": [
    "df1.values  # 인덱스와 컬럼을 제외한 내용물만 np.array로 빠져나옴"
   ]
  },
  {
   "cell_type": "code",
   "execution_count": null,
   "id": "ee64670e",
   "metadata": {},
   "outputs": [],
   "source": [
    "df1.columns # 컬럼의 내용물만 np.array로 빠져나옴"
   ]
  },
  {
   "cell_type": "code",
   "execution_count": null,
   "id": "043b4ec3",
   "metadata": {},
   "outputs": [],
   "source": [
    "df1.index # 인덱스의 내용물만 np.array로 빠져나옴"
   ]
  },
  {
   "cell_type": "markdown",
   "id": "1e679780",
   "metadata": {},
   "source": [
    "### Bool 자료형으로 반환하기"
   ]
  },
  {
   "cell_type": "code",
   "execution_count": null,
   "id": "b12c9cbf",
   "metadata": {},
   "outputs": [],
   "source": [
    "# np array 형식\n",
    "df1.values > 3"
   ]
  },
  {
   "cell_type": "code",
   "execution_count": null,
   "id": "1462f5fa",
   "metadata": {},
   "outputs": [],
   "source": [
    "# 데이터프레임 형식 : 위와 똑같은 배열이 라벨을 가지고 bool 형태로 반환\n",
    "df1 > 3"
   ]
  },
  {
   "cell_type": "code",
   "execution_count": null,
   "id": "5b35413f",
   "metadata": {},
   "outputs": [],
   "source": [
    "s1 > 3"
   ]
  },
  {
   "cell_type": "markdown",
   "id": "5bc9b8f9",
   "metadata": {},
   "source": [
    "### 엑셀 불러오기"
   ]
  },
  {
   "cell_type": "code",
   "execution_count": null,
   "id": "1f208aaa",
   "metadata": {},
   "outputs": [],
   "source": [
    "pd.read_excel(\"./chae-zero/Pandas study/data/E00EXAMPLE.xlsx\").set_index(\"이름\")"
   ]
  },
  {
   "cell_type": "markdown",
   "id": "15046b77",
   "metadata": {},
   "source": [
    "### 직접 데이터프레임 만들기\n",
    "\n",
    "1. **pd.DataFrame()** 불러오기 (대문자 주의)\n",
    "2. values부터 지정\n",
    "3. index 지정\n",
    "  : index = ['a', 'b', 'c', ... ;'g']\n",
    "4. colunms 지정\n",
    "  : colums = ['a', 'b', 'c']\n"
   ]
  },
  {
   "cell_type": "code",
   "execution_count": null,
   "id": "f8dc395d",
   "metadata": {},
   "outputs": [],
   "source": [
    "pd.DataFrame([[3,2,5], [10,0,2], [6,5,3]],\n",
    "            index = [\"이성계\",\"김유신\",\"이순신\"],\n",
    "            columns = [\"사과\",\"자두\",\"포도\"])"
   ]
  },
  {
   "cell_type": "markdown",
   "id": "daaf2bb3",
   "metadata": {},
   "source": [
    "### 직접 시리즈 만들기\n",
    "\n",
    "1. **pd.Series()** 불러오기\n",
    "2. values 지정\n",
    "3. 인덱스를 따로 지정하지 않으면 임의의 인덱스가 붙은 시리즈 생성"
   ]
  },
  {
   "cell_type": "code",
   "execution_count": null,
   "id": "5c934b54",
   "metadata": {},
   "outputs": [],
   "source": [
    "pd.Series([3,10,6])"
   ]
  },
  {
   "cell_type": "markdown",
   "id": "dc85f3fc",
   "metadata": {},
   "source": [
    "## 인덱싱 & 슬라이싱\n",
    "\n",
    "엑셀에선 쉽지만, 파이썬에서는 함수를 활용해야 함\n",
    "\n",
    "1. 2차원 배열을 인덱싱할 경우\n",
    "  : 행 > 열 순으로 슬라이싱\n",
    "    ex. ( :2, :3) \n",
    "    -> 두 번째 행까지, 세 번째 열까지 슬라이싱\n",
    "\n",
    "  2. df[\"열 이름\"]: 열만 가능\n",
    "  3. df.loc[\"행 이름\", \"열 이름\"]: 행, 열 모두 가능, 슬라이싱 가능\n",
    "  4. df.iloc[행 번호, 열 번호]: 행, 열 모두 가능, 슬라이싱 가능\n",
    "  5. Drop 함수"
   ]
  },
  {
   "cell_type": "code",
   "execution_count": null,
   "id": "ee0431fb",
   "metadata": {},
   "outputs": [],
   "source": [
    "import numpy as np\n",
    "import pandas as pd\n",
    "\n",
    "a = np.random.randint(0,10,24).reshape(4,6) # 정수를 랜덤으로 불러오기\n",
    "df = pd.DataFrame(a, index=list(\"가나다라\"), columns=list(\"ABCDEF\"))\n",
    "df"
   ]
  },
  {
   "cell_type": "code",
   "execution_count": null,
   "id": "bfb51f92",
   "metadata": {},
   "outputs": [],
   "source": [
    "# df['A']\n",
    "df[['B','C','D']]"
   ]
  },
  {
   "cell_type": "markdown",
   "id": "c0dd1dfe",
   "metadata": {},
   "source": [
    "### loc 함수\n",
    "\n",
    "행, 열의 이름을 문자열로 넣어줘야 함"
   ]
  },
  {
   "cell_type": "code",
   "execution_count": null,
   "id": "d1c79585",
   "metadata": {},
   "outputs": [],
   "source": [
    "df.loc[\"가\",\"A\"] # 가 행 A 열에 위치한 값을 가져옴"
   ]
  },
  {
   "cell_type": "code",
   "execution_count": null,
   "id": "2b410cc6",
   "metadata": {},
   "outputs": [],
   "source": [
    "df.loc[\"가\":\"다\",\"A\":\"E\"] # 가~다 행, A~E열에 위치한 값을 가져옴"
   ]
  },
  {
   "cell_type": "code",
   "execution_count": null,
   "id": "3ff66745",
   "metadata": {},
   "outputs": [],
   "source": [
    "df.loc[\"가\":\"다\", [\"A\", \"E\"]] # 가~다 행이면서 A와 E열에 위치한 값을 가져옴"
   ]
  },
  {
   "cell_type": "code",
   "execution_count": null,
   "id": "798adde6",
   "metadata": {},
   "outputs": [],
   "source": [
    "df.loc[\"가\":\"다\"] # 행 조건만 넣으면 열은 알아서 디폴트 값이 불려옴"
   ]
  },
  {
   "cell_type": "markdown",
   "id": "7a840e3d",
   "metadata": {},
   "source": [
    "### iloc 함수\n",
    "\n",
    "행, 열의 인덱스 번호(숫자)를 넣어줘야 함"
   ]
  },
  {
   "cell_type": "code",
   "execution_count": null,
   "id": "a8f30018",
   "metadata": {},
   "outputs": [],
   "source": [
    "df"
   ]
  },
  {
   "cell_type": "code",
   "execution_count": null,
   "id": "e9bef11b",
   "metadata": {},
   "outputs": [],
   "source": [
    "df.iloc[0] # 인덱스 0 행 = 가 행 "
   ]
  },
  {
   "cell_type": "code",
   "execution_count": null,
   "id": "1a9a338c",
   "metadata": {},
   "outputs": [],
   "source": [
    "df.iloc[0:3, 0:5] # 1~3행, 1~5열"
   ]
  },
  {
   "cell_type": "code",
   "execution_count": null,
   "id": "4a877d5e",
   "metadata": {},
   "outputs": [],
   "source": [
    "df.iloc[[0,3], [1, 3, 3]] # 리스트로 불러오면 해당하는 행과 열만 끌고 옴"
   ]
  },
  {
   "cell_type": "markdown",
   "id": "3e1bc6fc",
   "metadata": {},
   "source": [
    "### Drop 함수\n",
    "\n",
    "drop은 행도 삭제할 수 있고, 열도 삭제할 수 있기에 반드시 축 지정 필요"
   ]
  },
  {
   "cell_type": "code",
   "execution_count": null,
   "id": "3fdfc199",
   "metadata": {},
   "outputs": [],
   "source": [
    "df.drop(\"D\", axis=1)"
   ]
  },
  {
   "cell_type": "code",
   "execution_count": null,
   "id": "5ec88852",
   "metadata": {},
   "outputs": [],
   "source": [
    "df.drop(\"가\") # axis = 0은 디폴트 값이므로 안 넣어줘도 됨"
   ]
  },
  {
   "cell_type": "code",
   "execution_count": null,
   "id": "95b1605f",
   "metadata": {},
   "outputs": [],
   "source": [
    "df.iloc[:3, 1:].drop(\"C\", axis=1) # 먼저 불러온 값에서 C열만 그대로 drop"
   ]
  }
 ],
 "metadata": {
  "kernelspec": {
   "display_name": "dx_env",
   "language": "python",
   "name": "dx_env"
  },
  "language_info": {
   "codemirror_mode": {
    "name": "ipython",
    "version": 3
   },
   "file_extension": ".py",
   "mimetype": "text/x-python",
   "name": "python",
   "nbconvert_exporter": "python",
   "pygments_lexer": "ipython3",
   "version": "3.7.15"
  },
  "vscode": {
   "interpreter": {
    "hash": "cf7f3396f3f646b3e316414f42e26d1fecb4b955d212b32c81b8f7f7dc68c4ee"
   }
  }
 },
 "nbformat": 4,
 "nbformat_minor": 5
}
