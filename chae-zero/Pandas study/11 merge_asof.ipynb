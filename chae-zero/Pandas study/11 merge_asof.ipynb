{
 "cells": [
  {
   "cell_type": "markdown",
   "id": "4b7425d5",
   "metadata": {},
   "source": [
    "## merge_asof\n",
    "\n",
    "- 근삿값 판단이 필요할 때 유용한 함수\n",
    "> pd.merge_asof(df1,df2, on=열, allow_exact_matches=bool, direction=방향, tolerance=범위, by=열)\n",
    "1. 숫자나 날짜(시간)형 데이터만 가능\n",
    "\n",
    "2. 병합하려는 데이터 모두 오름차순(sort_values)으로 정렬이 되어있어야만 쓸 수 있음"
   ]
  },
  {
   "cell_type": "code",
   "execution_count": null,
   "id": "04f884b2",
   "metadata": {},
   "outputs": [],
   "source": [
    "import pandas as pd\n",
    "\n",
    "df1 = pd.DataFrame([[\"송중기\", 92], [\"권보아\", 89], [\"김나현\", 71], [\"박효신\", 90]],\n",
    "                    columns=[\"이름\", \"점수\"])\n",
    "df2 = pd.DataFrame([[\"A\", 90], [\"B\", 80], [\"C\", 0]], columns=[\"학점\", \"점수\"])\n",
    "df3 = pd.DataFrame([[\"A\", 100], [\"B\", 90], [\"C\", 80]], columns=[\"학점\", \"점수\"])\n",
    "df4 = pd.DataFrame([[\"A\", 95], [\"B\", 85], [\"C\", 75]], columns=[\"학점\", \"점수\"])\n",
    "df5 = pd.DataFrame([[90, \"lucky\"], [80, \"lucky\"]], columns=[\"점수\", \"구분\"])\n",
    "t1 = [\"2021-02-11\", \"2021-02-12\", \"2021-09-21\", \"2021-09-22\", \"2021-09-23\"]\n",
    "df6 = pd.DataFrame([t1], index=[\"날짜\"]).T\n",
    "df7 = pd.DataFrame([[\"2021-02-12\", \"설날\"], [\"2021-09-21\", \"추석\"]], \n",
    "                   columns=[\"날짜\", \"내용\"])\n",
    "df6[\"날짜\"] = pd.to_datetime(df6[\"날짜\"])\n",
    "df7[\"날짜\"] = pd.to_datetime(df7[\"날짜\"])\n",
    "df8 = pd.DataFrame([[\"송중기\", \"국어\", 99], [\"송중기\", \"영어\", 72], \n",
    "                    [\"권보아\", \"국어\", 92], [\"권보아\", \"영어\", 92]], \n",
    "                   columns=[\"이름\", \"과목\", \"점수\"])\n",
    "df9 = pd.DataFrame([[90, \"A\", \"국어\"], [0, \"B\", \"국어\"], [95, \"A\", \"영어\"], \n",
    "                    [0, \"B\", \"영어\"]], columns=[\"점수\", \"학점\", \"과목\"])\n"
   ]
  },
  {
   "cell_type": "code",
   "execution_count": null,
   "id": "fc642180",
   "metadata": {},
   "outputs": [],
   "source": [
    "df1"
   ]
  },
  {
   "cell_type": "code",
   "execution_count": null,
   "id": "e0472b8f",
   "metadata": {},
   "outputs": [],
   "source": [
    "df2"
   ]
  },
  {
   "cell_type": "code",
   "execution_count": null,
   "id": "cc75b633",
   "metadata": {},
   "outputs": [],
   "source": [
    "df1 = df1.sort_values(\"점수\")\n",
    "df2 = df2.sort_values(\"점수\") # ascending은 오름차순이 디폴트라서 안 넣어줘도 됨"
   ]
  },
  {
   "cell_type": "code",
   "execution_count": null,
   "id": "ee4bbf28",
   "metadata": {},
   "outputs": [],
   "source": [
    "pd.merge_asof(df1,df2)"
   ]
  },
  {
   "cell_type": "markdown",
   "id": "da3b3819",
   "metadata": {},
   "source": [
    "### 경계값 처리: allow_exact_matches 인자\n",
    "- 디폴트는 True (경계값 포함)\n",
    "- False를 넣어줄 경우 경계값은 포함되지 않음"
   ]
  },
  {
   "cell_type": "code",
   "execution_count": null,
   "id": "f959391c",
   "metadata": {},
   "outputs": [],
   "source": [
    "pd.merge_asof(df1,df2, allow_exact_matches=False)"
   ]
  },
  {
   "cell_type": "markdown",
   "id": "d440897a",
   "metadata": {},
   "source": [
    "### 상한선과 하한선: direction 인자\n",
    "\n",
    "- \"backward\": 하한\n",
    "- \"forward\": 상한\n",
    "- \"nearest\": 중간"
   ]
  },
  {
   "cell_type": "code",
   "execution_count": null,
   "id": "34ba477d",
   "metadata": {},
   "outputs": [],
   "source": [
    "df1 = df1.sort_values(\"점수\")\n",
    "df3 = df3.sort_values(\"점수\")\n",
    "pd.merge_asof(df1, df3)  # 기본으로 df3의 값을 하한선으로 판단"
   ]
  },
  {
   "cell_type": "code",
   "execution_count": null,
   "id": "8b35c9ba",
   "metadata": {},
   "outputs": [],
   "source": [
    "print(df3)"
   ]
  },
  {
   "cell_type": "code",
   "execution_count": null,
   "id": "98b3edf4",
   "metadata": {},
   "outputs": [],
   "source": [
    "pd.merge_asof(df1, df3, allow_exact_matches=False, direction=\"forward\") # 하한선이 아닌 상한선으로 설정, 경계 불포함"
   ]
  },
  {
   "cell_type": "code",
   "execution_count": null,
   "id": "78727fd2",
   "metadata": {},
   "outputs": [],
   "source": [
    "df1 = df1.sort_values(\"점수\")\n",
    "df4 = df4.sort_values(\"점수\")"
   ]
  },
  {
   "cell_type": "code",
   "execution_count": null,
   "id": "1bcd82dd",
   "metadata": {},
   "outputs": [],
   "source": [
    "df4"
   ]
  },
  {
   "cell_type": "code",
   "execution_count": null,
   "id": "f7394a29",
   "metadata": {},
   "outputs": [],
   "source": [
    "pd.merge_asof(df1, df4, direction=\"nearest\")  # 기본으로 df4의 값을 하한선으로 판단"
   ]
  },
  {
   "cell_type": "markdown",
   "id": "c4218915",
   "metadata": {},
   "source": [
    "### 근사값의 처리 범위: tolerance 인자"
   ]
  },
  {
   "cell_type": "code",
   "execution_count": null,
   "id": "c738ee26",
   "metadata": {},
   "outputs": [],
   "source": [
    "df1 = df1.sort_values(\"점수\")\n",
    "df2 = df2.sort_values(\"점수\")\n",
    "pd.merge_asof(df1, df2)"
   ]
  },
  {
   "cell_type": "code",
   "execution_count": null,
   "id": "6e191ad3",
   "metadata": {},
   "outputs": [],
   "source": [
    "df5"
   ]
  },
  {
   "cell_type": "code",
   "execution_count": null,
   "id": "b5fdc4b1",
   "metadata": {},
   "outputs": [],
   "source": [
    "df1 = df1.sort_values(\"점수\")\n",
    "df5 = df5.sort_values(\"점수\")\n",
    "pd.merge_asof(pd.merge_asof(df1, df2), df5, tolerance=1)"
   ]
  },
  {
   "cell_type": "markdown",
   "id": "ed4f3eff",
   "metadata": {},
   "source": [
    "### tolerance로 시계열 데이터 처리하기"
   ]
  },
  {
   "cell_type": "code",
   "execution_count": null,
   "id": "e489ce84",
   "metadata": {},
   "outputs": [],
   "source": [
    "df6"
   ]
  },
  {
   "cell_type": "code",
   "execution_count": null,
   "id": "abbc14c7",
   "metadata": {},
   "outputs": [],
   "source": [
    "df7"
   ]
  },
  {
   "cell_type": "code",
   "execution_count": null,
   "id": "83c262d8",
   "metadata": {},
   "outputs": [],
   "source": [
    "df6 = df6.sort_values(\"날짜\")\n",
    "df7 = df7.sort_values(\"날짜\")\n",
    "pd.merge_asof(df6, df7, direction=\"nearest\", tolerance = pd.Timedelta('2d'))\n",
    "\n",
    "# 설날 근처로 앞뒤로 이틀은 설날로 마킹\n",
    "# 추석 근처로 앞뒤로 이틀은 추석으로 마킹"
   ]
  },
  {
   "cell_type": "markdown",
   "id": "f2c4cda9",
   "metadata": {},
   "source": [
    "### 다중요건 merge_asof"
   ]
  },
  {
   "cell_type": "code",
   "execution_count": null,
   "id": "5c5ba9d6",
   "metadata": {},
   "outputs": [],
   "source": [
    "df8"
   ]
  },
  {
   "cell_type": "code",
   "execution_count": null,
   "id": "0add193c",
   "metadata": {},
   "outputs": [],
   "source": [
    "df9"
   ]
  },
  {
   "cell_type": "code",
   "execution_count": null,
   "id": "43e49f8a",
   "metadata": {},
   "outputs": [],
   "source": [
    "df8 = df8.sort_values(\"점수\")\n",
    "df9 = df9.sort_values(\"점수\")\n",
    "pd.merge_asof(df8, df9, on=\"점수\", by=\"과목\")\n",
    "# 근사시킬 열은 on, 정확하게 일치시킬 열은 by"
   ]
  },
  {
   "cell_type": "code",
   "execution_count": null,
   "id": "6985ca53",
   "metadata": {},
   "outputs": [],
   "source": []
  }
 ],
 "metadata": {
  "kernelspec": {
   "display_name": "dx_env",
   "language": "python",
   "name": "dx_env"
  },
  "language_info": {
   "codemirror_mode": {
    "name": "ipython",
    "version": 3
   },
   "file_extension": ".py",
   "mimetype": "text/x-python",
   "name": "python",
   "nbconvert_exporter": "python",
   "pygments_lexer": "ipython3",
   "version": "3.7.15"
  }
 },
 "nbformat": 4,
 "nbformat_minor": 5
}
