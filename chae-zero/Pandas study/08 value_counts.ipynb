{
 "cells": [
  {
   "cell_type": "markdown",
   "metadata": {},
   "source": [
    "## Value_count\n",
    "\n",
    "- 열에 있는 값들의 개수를 세어주는 함수\n",
    "- df.value_counts([열1, 열2, ....열n], ascending=bool, normalize=bool)\n",
    "\n",
    "1. 1개의 열의 값들을 count 하기\n",
    ">> df.value_counts(\"열 이름\")\n",
    "\n",
    "2. 복수의 열의 값들을  count하기\n",
    "\n",
    "3. 오름차순으로 \n",
    ">> ascending 기본값은 내림차순(False), 오름차순은 True\n",
    "\n",
    "4. 빈도가 아닌 비율로 count하기\n",
    "\n",
    ">>번외. count 결과를 필터링에 활용하기"
   ]
  },
  {
   "cell_type": "code",
   "execution_count": null,
   "metadata": {},
   "outputs": [],
   "source": []
  },
  {
   "cell_type": "code",
   "execution_count": null,
   "metadata": {},
   "outputs": [],
   "source": [
    "import pandas as pd\n",
    "\n",
    "a1 = [\"송중기\", \"김나연\", \"박보검\", \"권보아\", \"이효리\", \"김범수\"]\n",
    "b1 = [\"별다방\", \"콩다방\", \"별다방\", \"별다방\", \"별다방\", \"콩다방\"]\n",
    "c1 = [\"카페라떼\", \"아이스티\", \"카페라떼\", \"카페라떼\", \"아이스티\", \"카페라떼\"]\n",
    "df1 = pd.DataFrame([a1, b1,c1], index=[\"이름\", \"업체\", \"제품\"]).T\n",
    "df2 = pd.read_csv(\"https://raw.githubusercontent.com/\"\n",
    "                  \"panda-kim/pandas/main/value_counts_01.csv\")\n",
    "\n",
    "df1\n"
   ]
  },
  {
   "cell_type": "code",
   "execution_count": null,
   "metadata": {},
   "outputs": [],
   "source": [
    "df1.value_counts(\"제품\") # 각 제품의 수량을 출력해줌\n",
    "# dtype: int64 (정수)"
   ]
  },
  {
   "cell_type": "code",
   "execution_count": null,
   "metadata": {},
   "outputs": [],
   "source": [
    "df1.value_counts([\"업체\", \"제품\"]) # 업체별 제품 수량을 출력해줌"
   ]
  },
  {
   "cell_type": "code",
   "execution_count": null,
   "metadata": {},
   "outputs": [],
   "source": [
    "df1.value_counts([\"업체\", \"제품\"], ascending=True) # 수량을 오름차순으로 정리"
   ]
  },
  {
   "cell_type": "code",
   "execution_count": null,
   "metadata": {},
   "outputs": [],
   "source": [
    "df1.value_counts([\"업체\", \"제품\"], normalize=True) # 업체별 각 제품의 비율 출력"
   ]
  },
  {
   "cell_type": "code",
   "execution_count": null,
   "metadata": {},
   "outputs": [],
   "source": [
    "df2"
   ]
  },
  {
   "cell_type": "code",
   "execution_count": null,
   "metadata": {},
   "outputs": [],
   "source": [
    "df2.value_counts(\"선택\").iloc[:3] # 선택과목 중 비중이 높은 것부터 내림차순으로 출력하는데, 슬라이싱으로 top3까지만 출력"
   ]
  },
  {
   "cell_type": "code",
   "execution_count": null,
   "metadata": {},
   "outputs": [],
   "source": [
    "df2.value_counts(\"선택\").iloc[:3].index # 해당 선택과목들을 리스트화해서 보여줌\n",
    "\n",
    "# 실행 결과: Index(['생물', '화학', '지학'], dtype='object', name='선택')"
   ]
  },
  {
   "cell_type": "markdown",
   "metadata": {},
   "source": [
    "### 위의 리스트 결과를 isin 함수에 활용해 불리언 인덱싱해보기\n",
    "\n",
    "['생물', '화학', '지학']"
   ]
  },
  {
   "cell_type": "code",
   "execution_count": null,
   "metadata": {},
   "outputs": [],
   "source": [
    "df2[\"선택\"].isin(df2.value_counts(\"선택\").iloc[:3].index)\n",
    "# 생물, 화학, 지학 중에 선택과목이 있는 학생들은 True, 아니면 False"
   ]
  },
  {
   "cell_type": "markdown",
   "metadata": {},
   "source": [
    "### 불리언 인덱싱 활용"
   ]
  },
  {
   "cell_type": "code",
   "execution_count": null,
   "metadata": {},
   "outputs": [],
   "source": [
    "df2.loc[df2[\"선택\"].isin(df2.value_counts(\"선택\").iloc[:3].index)]"
   ]
  }
 ],
 "metadata": {
  "kernelspec": {
   "display_name": "dx_env",
   "language": "python",
   "name": "dx_env"
  },
  "language_info": {
   "codemirror_mode": {
    "name": "ipython",
    "version": 3
   },
   "file_extension": ".py",
   "mimetype": "text/x-python",
   "name": "python",
   "nbconvert_exporter": "python",
   "pygments_lexer": "ipython3",
   "version": "3.7.15"
  }
 },
 "nbformat": 4,
 "nbformat_minor": 2
}
