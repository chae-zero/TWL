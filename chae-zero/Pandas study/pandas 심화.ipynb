{
 "cells": [
  {
   "cell_type": "markdown",
   "metadata": {},
   "source": [
    "# column 다루기"
   ]
  },
  {
   "cell_type": "code",
   "execution_count": null,
   "metadata": {},
   "outputs": [],
   "source": [
    "import pandas as pd\n",
    "import numpy as np\n",
    "\n",
    "df1 = pd.DataFrame([[\"송중기\", 92, 82], [\"권보아\", 89, 91], [\"김나현\", 71, 89], \n",
    "                    [\"박효신\", 90, 78]], columns=[\"이름\", \"영어\", \"국어\"])\n",
    "df2 = df1.copy()\n",
    "df3 = df1.copy()\n",
    "df4 = df1.copy()"
   ]
  },
  {
   "cell_type": "code",
   "execution_count": null,
   "metadata": {},
   "outputs": [],
   "source": [
    "df1"
   ]
  },
  {
   "cell_type": "markdown",
   "metadata": {},
   "source": [
    "-  df[\"열 이름\"] = 열에 넣어줄 값\n",
    "1. 해당 열이 df에 없을 경우: 열 생성\n",
    "2. 해당 열이 df에 있을 경우: 열 수정"
   ]
  },
  {
   "cell_type": "code",
   "execution_count": null,
   "metadata": {},
   "outputs": [],
   "source": [
    "df1[\"반\"] = 1 # \"반\"이라는 컬럼이 추가되고, 각 자리에 1이라는 값이 들어옴\n",
    "df1[\"참여\"] = 1 # \"참여\"라는 컬럼이 추가되고, 각 자리에 \"참석\"이라는 값이 들어옴\n",
    "df1[\"학점\"] = [\"A\", \"B\", \"C\", \"A\"] # \"반\" 이라는 컬럼이 추가되고, 각 자리에 지정된 값이 들어옴\n",
    "df1[\"영어점수\"] = df1[\"영어\"] # \"영어점수\"라는 컬럼이 추가되고, \"영어\" 시리즈와 같은 값이 들어옴\n",
    "df1[\"평균\"] = (df1[\"영어\"] + df1[\"국어\"]) / 2  # 시리즈는 연산이 가능. 같은 index에 속한 영어, 국어 성적의 평균이 \"평균\"이라는 새로운 컬럼에 들어옴\n",
    "\n",
    "df1[\"반\"] = 2  # 기존 \"반\" 컬럼에 있던 값들이 모두 2로 바뀜\n",
    "df1[\"반\"] = [1,2,3,4]  # 기존 \"반\" 컬럼에 있던 값들이 1,2,3,4로 바뀜\n"
   ]
  },
  {
   "cell_type": "markdown",
   "metadata": {},
   "source": [
    "- df.loc[행의 레이블 인덱싱, 열의 레이블 인덱싱]\n",
    "- df.loc[\"행 이름\"] = 값\n",
    "1. 해당 행이 df에 없을 경우: 행 생성\n",
    "2. 해당 행이 df에 있을 경우: 행 수정"
   ]
  },
  {
   "cell_type": "code",
   "execution_count": null,
   "metadata": {},
   "outputs": [],
   "source": [
    "df1.loc[3] = 1 # 3번 인덱스(네 번째 행)의 값이 모두 1로 바뀜\n",
    "df1.loc[3] = 1 # 모든 값이 2인 4번 인덱스가 새로 생성됨. 04   2 2 2 2 2 ..."
   ]
  },
  {
   "cell_type": "code",
   "execution_count": null,
   "metadata": {},
   "outputs": [],
   "source": [
    "df2"
   ]
  },
  {
   "cell_type": "markdown",
   "metadata": {},
   "source": [
    "### concat 활용\n",
    "- df.concat([df1, df2,.//,dfn], join='outer' or 'inner', axis = 0 or 1)\n",
    "- df.loc[행의 위치 인덱싱, 열의 위치 인덱싱]"
   ]
  },
  {
   "cell_type": "code",
   "execution_count": null,
   "metadata": {},
   "outputs": [],
   "source": [
    "df2[\"반\"] = 1 # \"반\" 컬럼 추가\n",
    "df2.iloc[:, -1] # 마지막 컬럼만 인덱스와 함께 출력\n",
    "df2.iloc[:, :-1] # 뒤에서 두번째 컬럼까지만 df 출력 \n",
    "pd.concat([df2.iloc[:, -1], df2.iloc[:, :-1]], axis = 1) # 두 df를 열 방향으로 병합"
   ]
  },
  {
   "cell_type": "markdown",
   "metadata": {},
   "source": [
    "###  insert 활용\n",
    "- df.insert(loc=넣을 위치, column=열 이름, value=data)\n",
    "- loc에 특정 column의 인덱스를 입력하면, 그 column 바로 앞에 새로운 column이 insert됨"
   ]
  },
  {
   "cell_type": "code",
   "execution_count": null,
   "metadata": {},
   "outputs": [],
   "source": [
    "df3"
   ]
  },
  {
   "cell_type": "code",
   "execution_count": null,
   "metadata": {},
   "outputs": [],
   "source": [
    "df3.insert(loc=0, column = \"반\", value=1) # 0번 column 앞에, 모든 값이 1인 \"반\"이라는 새로운 dolumn 추가"
   ]
  },
  {
   "cell_type": "markdown",
   "metadata": {},
   "source": [
    "## Rank\n",
    "\n",
    "- df.rank(ascending = bool, method= 동점처리방식(average/min/max/first/dense))\n",
    "- 말 그대로 순위를 매기는 함수\n",
    "- 전체 df에 쓰기보다, 개별 series에 사용\n",
    "1. rank 함수는 점수 매기는 방식이 오름차순, 따라서 최저점이 1등으로 랭킹됨\n",
    "2. ascending=False: 최고점이 1등이 되도록 출력하려면 내림차순으로 출력해야 함\n",
    "3. 동점자는 평균순위 부여"
   ]
  },
  {
   "cell_type": "code",
   "execution_count": null,
   "metadata": {},
   "outputs": [],
   "source": [
    "a1 = ['송중기', 1, 92, 82, 17]\n",
    "a2 = ['권보아', 1, 89, 91, 17]\n",
    "a3 = ['김나현', 1, 71, 91, 18]\n",
    "a4 = ['박효신', 1, 90, 78, 18]\n",
    "a5 = ['김선미', 1, 83, 78, 19]\n",
    "a6 = ['강민경', 1, 81, 91, 19]\n",
    "col = ['이름', '반', '영어', '국어', '나이']\n",
    "df1 = pd.DataFrame([a1, a2, a3, a4, a5, a6], columns=col)\n",
    "df2 = df1.copy()\n",
    "df3 = df1.copy()\n",
    "df4 = df1.copy()"
   ]
  },
  {
   "cell_type": "code",
   "execution_count": null,
   "metadata": {},
   "outputs": [],
   "source": [
    "df1.rank() # 모든 시리즈 랭킹\n",
    "df1[\"영어\"].rank() # \"영어\" 시리즈의 값만 랭킹\n",
    "df1[\"영어등수\"] = df1[\"영어\"].rank(ascending=False) # 내림차순으로 바꾼 후, \"영어등수\"라는 열에 넣어주기\n",
    "df2[\"average\"] = df2[\"국어\"].rank(ascending=False) # 동점자에게는 평균 등수 부여\n",
    "df2[\"min\"] = df2[\"국어\"].rank(ascending=False, method=\"min\") # 동점자에게 줄 수 있는 가장 작은 수(가장 높음 등수)를 동일하게 부여\n",
    "df2[\"max\"] = df2[\"국어\"].rank(ascending=False, method=\"max\") # 동점자에게 줄 수 있는 가장 큰 수(가장 낮은 등수)를 동일하게 부여\n",
    "df2[\"first\"] = df2[\"국어\"].rank(ascending=False, method=\"first\") # 동점자에게 index 순으로 등수 부여\n",
    "df2[\"dense\"] = df2[\"국어\"].rank(ascending=False, method=\"dense\") # 최저의 최저, 줄 수 있는 최저의 숫자(앞에 최고점자인 1등이 3명이면, 그 다음 점수는 4등이 아니라 2등. 최대한 높은 등수) 부여\n"
   ]
  },
  {
   "cell_type": "markdown",
   "metadata": {},
   "source": [
    "### rank 심화: method = 'max' or 'first' 활용\n",
    "- 값이 모두 같은 한 시리즈의 랭킹을 \"max\"로 매기면, 모든 값에 가장 낮은 등수를 부여\n",
    "- 이때, 가장 낮은 등수는 행의 개수와 동일\n",
    "- 값이 모두 같은 한 시리즈의 랭킹을 \"first\"로 매기면, 위에서부터 순서대로 1,2,3,...,n의 숫자를 부여"
   ]
  },
  {
   "cell_type": "code",
   "execution_count": null,
   "metadata": {},
   "outputs": [],
   "source": [
    "df3['반인원'] = df3[\"반\"].rank(method=\"max\")\n",
    "df3['반인원'] = df3[\"반\"].rank(method=\"first\")"
   ]
  },
  {
   "cell_type": "markdown",
   "metadata": {},
   "source": [
    "# Boolean masking\n",
    "\n",
    "> df 전체 마스킹: df.mask(조건문, 참일 때의 값)\n",
    "> df 특정 열 마스킹: df[열 이름].mask(조건문, 값)\n",
    "\n",
    "- 참, 거짓에 따라 값을 씌운다는 의미\n",
    "- df[열 이름].mask(조건문, 값) 안에 조건문과 값을 넣으면, 해당 열을 조건에 따라 마스킹한 시리즈를 출력\n",
    "- 마스킹은 말 그대로 마스킹일 뿐, 기존 df 자체의 값을 바꿔주려면 마스킹 식을 다시 df에 넣어주어야 함\n",
    "- df[열 이름] = df[열 이름].mask(조건문, 값) : 해당 열 값이 수정된 전체 df 출력\n",
    "- 조건문이 여러 개일 때는 각 조건문을 변수로 지정해준 후 변수끼리 연산 (ex. 조건문1 & 조건문2)\n",
    "- 연속 불리언 마스킹\n",
    "> df[열 이름].mask(조건문 1, 참일 때의 값).mask(~조건문, 거짓일 때의 값)\n"
   ]
  },
  {
   "cell_type": "code",
   "execution_count": null,
   "metadata": {},
   "outputs": [],
   "source": [
    "import pandas as pd\n",
    "\n",
    "col1=[\"이름\", \"국어\", \"영어\"]\n",
    "df1 = pd.DataFrame([['송중기', 77, 80], ['김나현', 92, 72], ['권보아', 62, 88], \n",
    "                    ['박효신', 91, 95]], columns=col1)\n",
    "df2 = df1.copy()\n",
    "df3 = df1.copy()\n",
    "df4 = df1.copy()\n",
    "df5 = df1.copy()"
   ]
  },
  {
   "cell_type": "code",
   "execution_count": null,
   "metadata": {},
   "outputs": [],
   "source": [
    "df1"
   ]
  },
  {
   "cell_type": "code",
   "execution_count": null,
   "metadata": {},
   "outputs": [],
   "source": [
    "df1.loc[df1[\"국어\"] > 90, \"국어\"] = \"A\"\n",
    "# 불리언 인덱싱에서는 조건에 해당하는 인덱스만 집어서 바꾸어줌\n",
    "df1[\"국어\"] = df1[\"국어\"].mask(df1[\"국어\"] > 90, \"A\")\n",
    "# 왼쪽의 df1[\"국어\"]는 열 만들기의 대상\n",
    "# 가운데의 df1[\"국어\"]는 mask 적용 대상\n",
    "# 오른쪽의 df1[\"국어\"]는 조건문의 대상"
   ]
  },
  {
   "cell_type": "code",
   "execution_count": null,
   "metadata": {},
   "outputs": [],
   "source": [
    "df1"
   ]
  },
  {
   "cell_type": "markdown",
   "metadata": {},
   "source": [
    "영어 점수가 80점 이상일 경우 국어에서 \"면제\"의 값을 가지고,\n",
    "아니면 기존 국어 점수를 그대로 가져가는\n",
    "\"국어최종\"열을 만드려면?"
   ]
  },
  {
   "cell_type": "code",
   "execution_count": null,
   "metadata": {},
   "outputs": [],
   "source": [
    "df1[\"국어최종\"] = df1[\"국어\"].mask(df1[\"영어\"] > 80, \"면제\") # 뒤에서부터 해석"
   ]
  },
  {
   "cell_type": "markdown",
   "metadata": {},
   "source": [
    "연속 불리언마스킹"
   ]
  },
  {
   "cell_type": "code",
   "execution_count": null,
   "metadata": {},
   "outputs": [],
   "source": [
    "cond1= df5[\"국어\"] > 90\n",
    "df5[\"국어\"] = df5[\"국어\"].mask(cond1, \"A\").mask(~cond1, \"B\")\n",
    "df5"
   ]
  },
  {
   "cell_type": "markdown",
   "metadata": {},
   "source": [
    "# apply\n",
    "\n",
    "> df.apply(외장함수, axis = 0 or 1)\n",
    "- 내장함수가 아닌, 외장함수를 적용하기 위해 쓰는 함수\n"
   ]
  },
  {
   "cell_type": "code",
   "execution_count": null,
   "metadata": {},
   "outputs": [],
   "source": [
    "import pandas as pd\n",
    "\n",
    "a1 = ['송중기', 92, 99, 69, 75]\n",
    "a2 = ['김나현', 88, 91, 87, 83]\n",
    "a3 = ['권보아', 72, 86, 71, 84]\n",
    "a4 = ['박효신', 81, 78, 77, 91]\n",
    "a5 = ['김범수', 88, 80, 94, 91]\n",
    "a6 = [\"noon\", \"mom\", \"dad\", \"level\", \"river\"]\n",
    "a7 = [\"서울\", \"서울\", \"대구\", \"부산\", \"부산\"]\n",
    "a8 = [\"대구\", \"서울\", \"부산\", \"서울\", \"부산\"]\n",
    "col1 = [\"이름\", \"국어\", \"영어\", \"수학\", \"과학\"]\n",
    "col2 = [\"서울\", \"대구\", \"부산\"]\n",
    "df1 = pd.DataFrame([a1, a2, a3, a4, a5], columns=col1)\n",
    "df2 = df1.copy()\n",
    "df3 = df1.copy()\n",
    "df3[\"과학\"] = df3[\"과학\"].astype(str)\n",
    "df4 = pd.DataFrame(df1[\"이름\"])\n",
    "df4[\"단어\"] = a6\n",
    "df5 = pd.DataFrame([[1,5,10], [5,1,5], [10,5,1]], index=col2, columns=col2)*1000\n",
    "df6 = pd.DataFrame([a7,a8], index=[\"보내는곳\", \"받는곳\"]).T\n",
    "df6 = pd.concat([df1[\"이름\"], df6], axis=1)\n"
   ]
  },
  {
   "cell_type": "code",
   "execution_count": null,
   "metadata": {},
   "outputs": [],
   "source": [
    "df3.info() # 국,영,수는 숫자형인데, 과학점수만 문자열인 경우\n",
    "list(df3[\"과학\"]) # list로도 확인 가능\n",
    "\n",
    "df3[\"과학\"].astype(\"int\") # 만일 astype 함수를 모른다면?\n",
    "df3[\"과학\"].apply(int) # int 함수를 apply\n",
    "df3[\"과학\"] = df3[\"과학\"].apply(int) # 기존 df3 값을 바꿔주려면 이 식을 df3[\"과학\"]에 적용"
   ]
  },
  {
   "cell_type": "code",
   "execution_count": null,
   "metadata": {},
   "outputs": [],
   "source": [
    "df3"
   ]
  },
  {
   "cell_type": "code",
   "execution_count": null,
   "metadata": {},
   "outputs": [],
   "source": [
    "# 글자수를 알아보려면?\n",
    "df4[\"글자수\"] = df4[\"단어\"].apply(len)\n",
    "df4"
   ]
  },
  {
   "cell_type": "code",
   "execution_count": null,
   "metadata": {},
   "outputs": [],
   "source": [
    "df2"
   ]
  },
  {
   "cell_type": "code",
   "execution_count": null,
   "metadata": {},
   "outputs": [],
   "source": [
    "df2.mean() # 각 시리즈의 평균값 도출\n",
    "df2.apply('mean') # 위와 같은 값\n",
    "df2.apply('mean', axis = 1) # 열 방향으로 적용되므로, 각 사람의 평균값이 나옴\n",
    "\n",
    "\n",
    "# 사용자 지정 함수\n",
    "def pius_one(x):\n",
    "    return x+1\n",
    "df2[\"국어\"].apply(plus_one)\n",
    "\n",
    "# 여러 번 쓸 함수가 아닌, 한 번 쓰고 말 함수라면?\n",
    "df2[\"국어보정\"] = df2[\"국어\"].apply(lambda x: x+1)\n",
    "\n",
    "# lambda는 좀 더 복잡한 식에 쓰기 좋음\n",
    "df2[\"국어보정\"] = df2[\"국어\"].apply(lambda x: \"A\" if x > 90 else \"B\")\n"
   ]
  },
  {
   "cell_type": "markdown",
   "metadata": {},
   "source": [
    "lambda식 전체 df에 적용"
   ]
  },
  {
   "cell_type": "code",
   "execution_count": null,
   "metadata": {},
   "outputs": [],
   "source": [
    "df5 # 보내는 곳, 받는 곳의 운임"
   ]
  },
  {
   "cell_type": "code",
   "execution_count": null,
   "metadata": {},
   "outputs": [],
   "source": [
    "df6 # 이름, 보내는 곳, 받는 곳"
   ]
  },
  {
   "cell_type": "code",
   "execution_count": null,
   "metadata": {},
   "outputs": [],
   "source": [
    "df6[\"운임\"] = df6.apply(lambda x: df5.loc[x[\"보내는곳\"], x[\"받는곳\"]] , axis=1)"
   ]
  },
  {
   "cell_type": "code",
   "execution_count": null,
   "metadata": {},
   "outputs": [],
   "source": [
    "df6"
   ]
  },
  {
   "cell_type": "markdown",
   "metadata": {},
   "source": [
    "### apply + lambda\n",
    "\n",
    "##### 과학 점수와 수학 점수를 더한 \"총점\"이라는 새로운 컬럼을 만들고 싶다면?\n",
    "> df[\"총점\"] = df.apply(lambda x: x[\"수학\"] + x[\"과학\"], axis = 1)\n",
    "\n",
    ">>df에서 lambda와 apply를 접목할 경우,\n",
    "\n",
    ">> 컬럼들을 자유자재로 조합해 원하는 새로운 컬럼을 만들 수 있게 됨"
   ]
  },
  {
   "cell_type": "markdown",
   "metadata": {},
   "source": [
    "# apply, map ,applymap 의 차이"
   ]
  },
  {
   "cell_type": "markdown",
   "metadata": {},
   "source": [
    "1. map과 apply의 차이\n",
    "> series.map(함수 혹은 lambda or series 혹은 dict)\n",
    "\n",
    "- map은 시리즈를 대상으로만 사용 가능한 함수\n",
    "- map은  딕셔너리나 시리즈의 key값으로 바로 맵핑 가능\n",
    "- apply는 key값으로 바로 맵핑은 안 되나, 동일한 결과를 함수의 맵핑으로 얻을 수 있음"
   ]
  },
  {
   "cell_type": "code",
   "execution_count": null,
   "metadata": {},
   "outputs": [],
   "source": [
    "import pandas as pd\n",
    "\n",
    "a1 = [\"4등\",\"3등\",\"1등\",\"2등\"]\n",
    "a2 = [\"마시기\", \"커피사오기\", \"만원\", \"2만원\"]\n",
    "idx1 = [\"송중기\", \"김나현\", \"권보아\", \"박효신\"]\n",
    "col1 = [\"국어\", \"영어\", \"수학\"]\n",
    "val1 = [[82,81,77], [91,95,83], [78,72,88], [82,87,72]]\n",
    "s1 = pd.Series([\"80점\", \"75점\", \"77점\", \"60점\"], index=idx1)\n",
    "s2 = pd.Series(a1, index=idx1)\n",
    "s3 = pd.Series(a2, index=[\"1등\", \"2등\", \"3등\", \"4등\"])\n",
    "df1 = pd.DataFrame(val1, index=idx1, columns=col1)\n",
    "df2 = df1.applymap(lambda x: str(x) + \"점\").copy()\n"
   ]
  },
  {
   "cell_type": "code",
   "execution_count": null,
   "metadata": {},
   "outputs": [],
   "source": [
    "s1"
   ]
  },
  {
   "cell_type": "code",
   "execution_count": null,
   "metadata": {},
   "outputs": [],
   "source": [
    "s1.map(lambda x: int(x[0:2])) # dtype: int64\n",
    "s1.apply(lambda x: int(x[0:2])) # 같은 값"
   ]
  },
  {
   "cell_type": "code",
   "execution_count": null,
   "metadata": {},
   "outputs": [],
   "source": [
    "s2"
   ]
  },
  {
   "cell_type": "code",
   "execution_count": null,
   "metadata": {},
   "outputs": [],
   "source": [
    "s3"
   ]
  },
  {
   "cell_type": "code",
   "execution_count": null,
   "metadata": {},
   "outputs": [],
   "source": [
    "s2.map(s3)\n",
    "s2.apply(lambda x: s3.loc[x]) # apply로도 가능"
   ]
  },
  {
   "cell_type": "markdown",
   "metadata": {},
   "source": [
    "2. applymap과 apply의 차이\n",
    "> df.applymap(함수 혹은 lambda x: 사용자 정의함수(x))\n",
    "\n",
    "- applymap은 df를 대상으로만 사용 가능한 함수\n",
    "- applymap은 한 칸 한 칸이, apply는 한 줄(=행)에 함수를 적용해 맵핑\n",
    "- apply도 시리즈 대상으로는 한 칸씩 적용되므로, for문을 돌려 모든 열의 시리즈를 처리해주면 동일한 결과를 얻을 수 있음. but 번거로움"
   ]
  },
  {
   "cell_type": "code",
   "execution_count": null,
   "metadata": {},
   "outputs": [],
   "source": [
    "df1"
   ]
  },
  {
   "cell_type": "code",
   "execution_count": null,
   "metadata": {},
   "outputs": [],
   "source": [
    "df1.applymap(lambda x: x+1) # 한 칸 한 칸이  x에 적용되므로 축이 없음\n",
    "df1.apply(lambda x: x+1, axis = 1) # 축이 열 방향으로 되어있어, 한 줄(=행)이 x에 적용"
   ]
  },
  {
   "cell_type": "code",
   "execution_count": null,
   "metadata": {},
   "outputs": [],
   "source": [
    "df2 # 문자열 슬라이싱으로 '점' 빼기"
   ]
  },
  {
   "cell_type": "code",
   "execution_count": null,
   "metadata": {},
   "outputs": [],
   "source": [
    "df2.applymap(lambda x: x[:2]) # 정상적으로 각 value에서 '점'만 빠짐\n",
    "df2.apply(lambda x: x[:2]) # 한 행을 x에 적용하기 때문에, '점'이 아니라 마지막 컬럼인 '수학' 컬럼이 빠지게 됨\n",
    "\n",
    "\n",
    "# apply로 하려면, for문 돌려서 시리즈마다 하나씩 처리해줘야 함\n",
    "for i in df2.columns:\n",
    "    df2[i] = df2[i].apply(lambda x: x[:2])\n",
    "df2"
   ]
  },
  {
   "cell_type": "markdown",
   "metadata": {},
   "source": [
    "# agg(aggregate): 집계함수와 유사\n",
    "\n",
    "> df.pivot_table(values용 열, index=[열1,...열n]), colums=[열1,...열n], aggfunc=집계함수)\n",
    "\n",
    "- 집계함수: 그룹의 값을 하나로 리턴 (sum/mean/max/count/...)\n",
    "- agg는 여러 집계함수를 한 번에 적용 가능\n",
    "- 특정 열마다 각기 다른 집계함수 적용 가능 (딕셔너리 활용)\n",
    "> df1.agg({\"국어\": [\"mean\",\"std\"], \"영어\":[\"mean\", \"max\"]})\n",
    "- 사용자정의 집계함수 적용 가능\n",
    "> df1.agg(lambda x: x.max() - x.min(), axis=1)"
   ]
  },
  {
   "cell_type": "code",
   "execution_count": null,
   "metadata": {},
   "outputs": [],
   "source": [
    "import pandas as pd\n",
    "\n",
    "idx1 = [\"송중기\", \"김나현\", \"권보아\", \"박효신\"]\n",
    "col1 = [\"국어\", \"영어\", \"수학\"]\n",
    "val1 = [[82,81,77], [91,95,83], [78,72,88], [82,87,72]]\n",
    "val2 = [[\"H\", \"T\", \"T\"], [\"T\", \"H\", \"H\"], [\"H\", \"H\", \"H\"], [\"T\", \"T\", \"T\"]]\n",
    "val3 = [list(\"HTTHHTHHT\"), list(\"HTTHHTHTH\"), list(\"HTTHTHTTT\")]\n",
    "df1 = pd.DataFrame(val1, index=idx1, columns=col1)\n",
    "df2 = df1.copy()\n",
    "df3 = pd.DataFrame(val2, index=idx1, columns=[\"1회\", \"2회\", \"3회\"])\n",
    "df4 = pd.DataFrame(val3, index=idx1[:3])\n",
    "df4.columns = df4.columns + 1\n",
    "a1 = list(\"ABCDEFG\")\n",
    "df = df1.copy()\n",
    "df.loc[\"이지은\"] = [81, 83, 91]\n",
    "df[\"성별\"] = list(\"남여여남여\")\n",
    "df[\"학년\"] = list(\"21112\")"
   ]
  },
  {
   "cell_type": "code",
   "execution_count": null,
   "metadata": {},
   "outputs": [],
   "source": [
    "df"
   ]
  },
  {
   "cell_type": "code",
   "execution_count": null,
   "metadata": {},
   "outputs": [],
   "source": [
    "df.pivot_table(\"국어\", index=\"성별\", columns=\"학년\", aggfunc=\"mean\")"
   ]
  },
  {
   "cell_type": "code",
   "execution_count": null,
   "metadata": {},
   "outputs": [],
   "source": [
    "df1"
   ]
  },
  {
   "cell_type": "code",
   "execution_count": null,
   "metadata": {},
   "outputs": [],
   "source": [
    "df1.agg([\"mean\", \"std\"], axis=1) # 열 방향으로, 학생별 전체점수 평균과 표준편차 도출"
   ]
  },
  {
   "cell_type": "code",
   "execution_count": null,
   "metadata": {},
   "outputs": [],
   "source": [
    "pd.concat([df1, df1.agg([\"mean\", \"std\"], axis=1)], axis=1) # df1과, 집계함수를 적용한 새로운 df를 열 방향으로 병함"
   ]
  },
  {
   "cell_type": "code",
   "execution_count": null,
   "metadata": {},
   "outputs": [],
   "source": [
    "df1.agg({\"국어\": [\"mean\",\"std\"], \"영어\":[\"mean\", \"max\"]})"
   ]
  },
  {
   "cell_type": "code",
   "execution_count": null,
   "metadata": {},
   "outputs": [],
   "source": [
    "df1.agg(lambda x: x.max() - x.min(), axis=1) # x에 적용된 한 행 안의 최댓값에서 최솟값을 빼준 결과\n",
    "df1.agg(lambda x: x.max() - x.min(), axis=1) # apply로도 가능"
   ]
  },
  {
   "cell_type": "code",
   "execution_count": null,
   "metadata": {},
   "outputs": [],
   "source": [
    "df1.agg([\"max\", \"min\", lambda x: x.max() - x.min()], axis=1) # max열, min열, 그리고 랆다식이 적용된 새로운 열을 열 방향으로 나란히 도출\n"
   ]
  },
  {
   "cell_type": "code",
   "execution_count": null,
   "metadata": {},
   "outputs": [],
   "source": [
    "a1 # ['A', 'B', 'C', 'D', 'E', 'F', 'G']\n",
    "\"\".join(a1) # 'ABCDEFG'"
   ]
  },
  {
   "cell_type": "code",
   "execution_count": null,
   "metadata": {},
   "outputs": [],
   "source": [
    "df3"
   ]
  },
  {
   "cell_type": "code",
   "execution_count": null,
   "metadata": {},
   "outputs": [],
   "source": [
    "df3[\"결과\"] = df3.agg(lambda x: \"\".join(x), axis=1)\n",
    "df3\n",
    "# df3[\"결과\"].str.contains(\"HH\") # \"결과\" 컬럼에서 \"HH\"라는 문자열을 지닌 값은  True, 없으면 False"
   ]
  },
  {
   "cell_type": "markdown",
   "metadata": {},
   "source": [
    "# groupby\n",
    "\n",
    "> df.groupby(by)[data].agg(집계함수)\n",
    "1. 소괄호(): by에 해당, by = 그룹을 나누는 기준이 되는 열\n",
    "2. 대괄호 안의 리스트 [[]]: data에 해당, data = 그룹을 나눈 후 살펴볼 데이터\n",
    "3. 집계함수 agg(): 그룹화한 결괏값들을 집계해 하나의 값으로 리턴\n",
    "\n",
    "> df.groupby([열1,열2,...열n])[[열1,...,열n]].agg(집계함수)\n",
    "> df.pivot_table(data, index=[by1,by2], aggfunc=집계함수)\n",
    "\n",
    "- 피봇테이블과의 차이점\n",
    "1. 피벗 구조에서 by에 해당하는 열을 모두 index에 몰빵해주거나, unstack해서 columns를 모두 index로 빼주면 groupby와 동일\n",
    "2. data에 해당하는 column들은 groupby 적용 후 생성된 새로운 df에선 columns가 아닌 values\n",
    "3. 기존 df와 같은 이름의 열이 들어가있다면, 위치상 columns처럼 보이더라도 values라고 이해하면 됨\n"
   ]
  },
  {
   "cell_type": "code",
   "execution_count": null,
   "metadata": {},
   "outputs": [],
   "source": [
    "import pandas as pd\n",
    "\n",
    "a1 = ['송중기', '남', 1, 79, 93]\n",
    "a2 = ['김나현', '여', 1, 85, 85]\n",
    "a3 = ['권보아', '여', 1, 91, 78]\n",
    "a4 = ['김범수', '남', 1, 97, 98]\n",
    "a5 = ['이효리', '여', 2, 93, 79]\n",
    "a6 = ['박효신', '남', 2, 78, 90]\n",
    "a7 = ['한예슬', '여', 2, 87, 74]\n",
    "a8 = ['민경훈', '남', 2, 99, 89]\n",
    "col1 = [\"\", \"성별\", \"반\", \"국어\", \"영어\"]\n",
    "df1 = pd.DataFrame([a1, a2, a3, a4, a5, a6, a7, a8], columns=col1).set_index(\"\")"
   ]
  },
  {
   "cell_type": "code",
   "execution_count": null,
   "metadata": {},
   "outputs": [],
   "source": [
    "df1"
   ]
  },
  {
   "cell_type": "code",
   "execution_count": null,
   "metadata": {},
   "outputs": [],
   "source": [
    "df1.groupby(\"성별\")[\"영어\"].agg(\"mean\")\n",
    "df1.groupby(\"성별\")[\"영어\"].agg(\"mean\").reset_index # 성별을 인덱스가 아닌 컬럼으로 삼는 df를 출력하고 싶을 때, reset_index로 숫자형 인덱스 부여\n",
    "\n",
    "df1.groupby([\"성별\", \"반\"])[[\"영어\", \"국어\"]].agg(\"mean\") # 여러 열 적용 가능. data 영역이 by 영역에 의해 자동으로 지정되는 경우엔 꼭 넣어주지 않아도 됨.\n",
    "\n",
    "df1.groupby([\"성별\", \"반\"]).agg(\"mean\")[\"영어\"] # groupby 적용 후 생성되는 것도 df 형식이므로, data 인덱싱을 뒤에서 해줘도 됨"
   ]
  },
  {
   "cell_type": "code",
   "execution_count": null,
   "metadata": {},
   "outputs": [],
   "source": [
    "df1.groupby([\"성별\", \"반\"])[[\"영어\", \"국어\"]].agg([\"mean\",\"max\", \"std\"]) # 집계함수는 멀티로 사용 가능"
   ]
  },
  {
   "cell_type": "markdown",
   "metadata": {},
   "source": [
    "# groupby = transform\n",
    "\n",
    "> df.groupby(by)[data].transform(집계함수)"
   ]
  },
  {
   "cell_type": "code",
   "execution_count": null,
   "metadata": {},
   "outputs": [],
   "source": [
    "\n",
    "import pandas as pd\n",
    "\n",
    "pd.options.display.float_format = '{:.2f}'.format\n",
    "a1 = ['송중기', '국어', 89]\n",
    "a2 = ['김나현', '영어', 42]\n",
    "a3 = ['박효신', '국어', 78]\n",
    "a4 = ['김범수', '영어', 61]\n",
    "a5 = ['권보아', '국어', 91]\n",
    "a6 = ['한동근', '영어', 38]\n",
    "df1 = pd.DataFrame([a1, a2, a3, a4, a5, a6], columns=[\"이름\", \"과목\", \"점수\"])\n",
    "df2 = df1.copy()\n",
    "df3 = df1.copy()\n",
    "s1 = pd.DataFrame([1, 2, 3, 4, 5, 6], columns=[\"s1\"])"
   ]
  },
  {
   "cell_type": "code",
   "execution_count": null,
   "metadata": {},
   "outputs": [],
   "source": [
    "df1"
   ]
  },
  {
   "cell_type": "code",
   "execution_count": null,
   "metadata": {},
   "outputs": [],
   "source": [
    "df1['과목평균'] = df1.groupby(\"과목\")[\"점수\"].transform(\"mean\")\n",
    "df1 # 각 행의 옆에 해당 과목별 평균 점수를 추가해줌"
   ]
  },
  {
   "cell_type": "code",
   "execution_count": null,
   "metadata": {},
   "outputs": [],
   "source": [
    "df1['점수'] > df1['과목평균']"
   ]
  },
  {
   "cell_type": "code",
   "execution_count": null,
   "metadata": {},
   "outputs": [],
   "source": [
    "df1.loc[df1['점수'] > df1['과목평균']] # 점수가 과목평균보다 높은, 성적이 좋은 학생들의 데이터만 뽑아올 수 있음"
   ]
  },
  {
   "cell_type": "code",
   "execution_count": null,
   "metadata": {},
   "outputs": [],
   "source": [
    "df1"
   ]
  },
  {
   "cell_type": "markdown",
   "metadata": {},
   "source": [
    "transform을 쓰지 않는 경우"
   ]
  },
  {
   "cell_type": "code",
   "execution_count": null,
   "metadata": {},
   "outputs": [],
   "source": [
    "df2"
   ]
  },
  {
   "cell_type": "code",
   "execution_count": null,
   "metadata": {},
   "outputs": [],
   "source": [
    "df4 = df2.groupby(\"과목\")[\"점수\"].agg(\"mean\").reset_index() # 이 df를 기존의 df2와 emrge해도 같은 결과는 얻을 수 있으나 번거로움\n",
    "\n",
    "df2.merge(df4, on=\"과목\", how=\"left\")"
   ]
  },
  {
   "cell_type": "markdown",
   "metadata": {},
   "source": [
    "### transform과 lambda"
   ]
  },
  {
   "cell_type": "code",
   "execution_count": null,
   "metadata": {},
   "outputs": [],
   "source": [
    "df3"
   ]
  },
  {
   "cell_type": "code",
   "execution_count": null,
   "metadata": {},
   "outputs": [],
   "source": [
    "df3.groupby(\"과목\")[\"점수\"].transform(lambda x: x.mean() + x.std())"
   ]
  },
  {
   "cell_type": "code",
   "execution_count": null,
   "metadata": {},
   "outputs": [],
   "source": [
    "df3[\"m+s\"] = df3.groupby(\"과목\")[\"점수\"].transform(lambda x: x.mean() + x.std()) # 새로운 열 생성 후 기존 df3에 적용\n",
    "\n",
    "df3"
   ]
  }
 ],
 "metadata": {
  "kernelspec": {
   "display_name": "dx_env",
   "language": "python",
   "name": "dx_env"
  },
  "language_info": {
   "codemirror_mode": {
    "name": "ipython",
    "version": 3
   },
   "file_extension": ".py",
   "mimetype": "text/x-python",
   "name": "python",
   "nbconvert_exporter": "python",
   "pygments_lexer": "ipython3",
   "version": "3.7.15"
  }
 },
 "nbformat": 4,
 "nbformat_minor": 2
}
