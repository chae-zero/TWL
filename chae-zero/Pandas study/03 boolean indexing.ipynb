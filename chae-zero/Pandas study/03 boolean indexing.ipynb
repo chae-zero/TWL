{
 "cells": [
  {
   "cell_type": "markdown",
   "id": "4db6b0ed",
   "metadata": {},
   "source": [
    "## Boolean indexing\n",
    "\n",
    "1. 시리즈를 직접 불리언 시리즈로 바꾸는 방법\n",
    "2. 조건문을 활용하는 방법\n",
    "3. isnull, isin 함수"
   ]
  },
  {
   "cell_type": "code",
   "execution_count": null,
   "id": "ca345a4f",
   "metadata": {},
   "outputs": [],
   "source": [
    "import numpy as np\n",
    "import pandas as pd\n",
    "\n",
    "a1 = [60, 84, 80, 70, \"문예부\"]\n",
    "a2 = [77, 62, 95, 85, \"과학부\"]\n",
    "a3 = [61, 97, 72, np.nan, \"농구부\"]\n",
    "a4 = [75, 65, 95, np.nan, \"다도부\"]\n",
    "cols = [\"국어\", \"영어\", \"수학\", \"과학\", \"소속\"]\n",
    "b1 = [\"문예부\", \"과학부\", \"다도부\"]\n",
    "df = pd.DataFrame([a1, a2, a3, a4], index=list(\"ABCD\"), columns=cols)"
   ]
  },
  {
   "cell_type": "code",
   "execution_count": null,
   "id": "ba2cfd39",
   "metadata": {},
   "outputs": [],
   "source": [
    "s1 = ['B','D']\n",
    "df.loc[s1]"
   ]
  },
  {
   "cell_type": "code",
   "execution_count": null,
   "id": "0832c170",
   "metadata": {},
   "outputs": [],
   "source": [
    "s1 = [False, True, False, True] # 불리언 인덱싱\n",
    "# s1 = ['B','D']와 같음\n",
    "\n",
    "df.loc[s1]"
   ]
  },
  {
   "cell_type": "code",
   "execution_count": null,
   "id": "3aef9edf",
   "metadata": {},
   "outputs": [],
   "source": [
    "df"
   ]
  },
  {
   "cell_type": "code",
   "execution_count": null,
   "id": "1c215aaf",
   "metadata": {},
   "outputs": [],
   "source": [
    "s1 = [False, True, False, True, False]\n",
    "\n",
    "df.loc[:, s1] # 컬럼을 불리언 인덱싱하기"
   ]
  },
  {
   "cell_type": "code",
   "execution_count": null,
   "id": "45e358d1",
   "metadata": {},
   "outputs": [],
   "source": [
    "s1 = df['수학'] > 90\n",
    "df.loc[s1]"
   ]
  },
  {
   "cell_type": "code",
   "execution_count": null,
   "id": "ce5aaf5a",
   "metadata": {},
   "outputs": [],
   "source": [
    "df['영어'] > 80"
   ]
  },
  {
   "cell_type": "code",
   "execution_count": null,
   "id": "7a71af7e",
   "metadata": {},
   "outputs": [],
   "source": [
    "cond1 = df['영어'] > 80\n",
    "df.loc[cond1, \"국어\":\"과학\"]"
   ]
  },
  {
   "cell_type": "markdown",
   "id": "340e9b2d",
   "metadata": {},
   "source": [
    "국어 성적이 60점보다 높으면서 수학성적도 75점보다 높은 학생"
   ]
  },
  {
   "cell_type": "code",
   "execution_count": null,
   "id": "5307ffbf",
   "metadata": {},
   "outputs": [],
   "source": [
    "cond2 = df['국어'] > 60\n",
    "cond3 = df['수학'] > 75\n",
    "df.loc[cond2 & cond3]  # 논리연산자 활용. &(and), |(or), ~(not)"
   ]
  },
  {
   "cell_type": "markdown",
   "id": "628a0c3a",
   "metadata": {},
   "source": [
    "### .isnull() 과 .isin()"
   ]
  },
  {
   "cell_type": "code",
   "execution_count": null,
   "id": "4e4c773c",
   "metadata": {},
   "outputs": [],
   "source": [
    "df"
   ]
  },
  {
   "cell_type": "code",
   "execution_count": null,
   "id": "6a7f4edb",
   "metadata": {},
   "outputs": [],
   "source": [
    "df['과학'].isnull() # Nan이면 True, 값이 있으면 False"
   ]
  },
  {
   "cell_type": "markdown",
   "id": "7fb4fc67",
   "metadata": {},
   "source": [
    "### 과학점수가 Nan이 아닌 데이터만 출력하려면?"
   ]
  },
  {
   "cell_type": "code",
   "execution_count": null,
   "id": "7192b468",
   "metadata": {},
   "outputs": [],
   "source": [
    "df.loc[~df[\"과학\"].isnull()] # 과학점수가 Nan값이 아닌(~) 행만 가져옴"
   ]
  },
  {
   "cell_type": "code",
   "execution_count": null,
   "id": "9d0468fd",
   "metadata": {},
   "outputs": [],
   "source": [
    "df.loc[ (~df[\"과학\"].isnull()) | (df['수학'] > 90) ] # or 연산자도 활용"
   ]
  },
  {
   "cell_type": "markdown",
   "id": "29b95f92",
   "metadata": {},
   "source": [
    "### isin() 함수 활용해 문예부, 과학부, 다도부의 데이터만 추출"
   ]
  },
  {
   "cell_type": "code",
   "execution_count": null,
   "id": "69046996",
   "metadata": {},
   "outputs": [],
   "source": [
    "b1 = [\"문예부\", \"과학부\", \"다도부\"]\n",
    "df[\"소속\"].isin(b1)  # 이 값을 불리언 인덱싱해주면 됨"
   ]
  },
  {
   "cell_type": "code",
   "execution_count": null,
   "id": "e611998d",
   "metadata": {},
   "outputs": [],
   "source": [
    "df.loc[df[\"소속\"].isin(b1)]"
   ]
  }
 ],
 "metadata": {
  "kernelspec": {
   "display_name": "dx_env",
   "language": "python",
   "name": "dx_env"
  },
  "language_info": {
   "name": "python",
   "version": "3.7.15"
  }
 },
 "nbformat": 4,
 "nbformat_minor": 5
}
