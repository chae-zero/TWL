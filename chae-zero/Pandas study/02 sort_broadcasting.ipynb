{
 "cells": [
  {
   "cell_type": "markdown",
   "id": "11697b9b",
   "metadata": {},
   "source": [
    "### sort_values 정렬\n",
    "\n",
    "1. 1개의 열을 기준으로 오름차순/내림차순 정렬(ascending = False)\n",
    "2. 2개 이상의 열을 기준으로 정렬\n",
    "3. 2개 이상의 열 기준 오름/내림 섞어 정렬\n",
    "  : *ascending = 리스트 형식*"
   ]
  },
  {
   "cell_type": "code",
   "execution_count": null,
   "id": "b428303b",
   "metadata": {},
   "outputs": [],
   "source": [
    "import pandas as pd\n",
    "\n",
    "a1 = [60, 84, 80, 70, 19]\n",
    "a2 = [77, 62, 95, 85, 17]\n",
    "a3 = [61, 97, 72, 67, 15]\n",
    "a4 = [75, 65, 95, 51, 18]\n",
    "cols = [\"국어\", \"영어\", \"수학\", \"과학\", \"나이\"]\n",
    "df = pd.DataFrame([a1, a2, a3, a4], index=list(\"ABCD\"), columns=cols)\n",
    "\n",
    "df"
   ]
  },
  {
   "cell_type": "code",
   "execution_count": null,
   "id": "2b65b597",
   "metadata": {},
   "outputs": [],
   "source": [
    "# 디폴트는 오름차순: \"국어\" 컬럼을 기준으로 전채 행 정렬\n",
    "df.sort_values(\"국어\")"
   ]
  },
  {
   "cell_type": "code",
   "execution_count": null,
   "id": "e74f0063",
   "metadata": {},
   "outputs": [],
   "source": [
    "# 내림차순: \"국어\" 컬럼을 기준으로 전채 행 정렬\n",
    "df.sort_values(\"국어\", ascending=False)"
   ]
  },
  {
   "cell_type": "code",
   "execution_count": null,
   "id": "91000fa5",
   "metadata": {},
   "outputs": [],
   "source": [
    "# 동점자가 있을 땐 행 순서대로 정렬\n",
    "df.sort_values(\"수학\", ascending=False)"
   ]
  },
  {
   "cell_type": "code",
   "execution_count": null,
   "id": "065742c7",
   "metadata": {},
   "outputs": [],
   "source": [
    "# 정렬할 열들을 리스트 형식으로 넣어주면 앞 순서부터 차레로 적용해 정렬\n",
    "df.sort_values([\"수학\", \"영어\"], ascending=False)"
   ]
  },
  {
   "cell_type": "code",
   "execution_count": null,
   "id": "6c66a476",
   "metadata": {},
   "outputs": [],
   "source": [
    "# 수학을 내림차순 정렬 후, 나이는 오름차순으로 하려면 bool도 리스트화\n",
    "df.sort_values([\"수학\", \"나이\"], ascending=[False, True])"
   ]
  },
  {
   "cell_type": "markdown",
   "id": "c36b59d8",
   "metadata": {},
   "source": [
    "### broadcasting 연산\n",
    "\n",
    "1. numpy: 배열 크기가 다르면, 크기가 적은 쪽의 배열을 브로드캐스팅해서 \"**같은 자리에서** 연산\"\n",
    "\n",
    "2. pandas: \"**같은 인덱스와 컬럼을 기준으로** 연산\"\n",
    "\n",
    "3. 즉, pandas에서는 자리가 아닌 라벨이 중요\n",
    "\n",
    "4. 배열의 크기는 같더라도 두 배열의 라벨이 서로 다르다면 전부 Nan값이 나옴\n",
    "\n",
    "5. 판다스의 브로드캐스팅: 데이터 프레임과 시리즈의 연산\n",
    "   > 단, 이때도 라벨이 같은 부분끼리만 정상적으로 연산됨 (라벨이 다른 부분은 Nan)\n",
    "\n"
   ]
  },
  {
   "cell_type": "code",
   "execution_count": null,
   "id": "2f414861",
   "metadata": {},
   "outputs": [],
   "source": [
    "\n",
    "import pandas as pd\n",
    "\n",
    "a1 = [[1,2,3], [4,5,6,], [7,8,9]]\n",
    "df1 = pd.DataFrame(a1, columns=list(\"ABC\"), index=list(\"가나다\"))\n",
    "df2 = df1.reindex(columns=list(\"BCA\"), index=list(\"나다가\")).copy()\n",
    "sr1 = df1.loc[\"가\"]\n",
    "df3 = df1.iloc[:2,:2]\n",
    "\n",
    "df1"
   ]
  },
  {
   "cell_type": "code",
   "execution_count": null,
   "id": "6b78a1e4",
   "metadata": {},
   "outputs": [],
   "source": [
    "df1 * df1 # 같은 라벨끼리 곱해짐"
   ]
  },
  {
   "cell_type": "code",
   "execution_count": null,
   "id": "1b88c082",
   "metadata": {},
   "outputs": [],
   "source": [
    "df1 + sr1 # \"가\" 행을 브로드캐스팅"
   ]
  },
  {
   "cell_type": "code",
   "execution_count": null,
   "id": "49c5b982",
   "metadata": {},
   "outputs": [],
   "source": [
    "df2"
   ]
  },
  {
   "cell_type": "code",
   "execution_count": null,
   "id": "a4073013",
   "metadata": {},
   "outputs": [],
   "source": [
    "df1*df2 # 자리는 달라도 모든 값의 라벨이 서로 같기 때문에 연산 가능"
   ]
  },
  {
   "cell_type": "code",
   "execution_count": null,
   "id": "897e4ef0",
   "metadata": {},
   "outputs": [],
   "source": [
    "df1 + df2"
   ]
  },
  {
   "cell_type": "code",
   "execution_count": null,
   "id": "fc01a013",
   "metadata": {},
   "outputs": [],
   "source": [
    "df3 # 크기가 다른 배열"
   ]
  },
  {
   "cell_type": "code",
   "execution_count": null,
   "id": "feba0a12",
   "metadata": {},
   "outputs": [],
   "source": [
    "df1 + df3 # 연산 불가한 항목은 결측치 반환"
   ]
  },
  {
   "cell_type": "markdown",
   "id": "6a4b8db9",
   "metadata": {},
   "source": [
    "### 인자를 넣는 df 연산의 경우: 함수 활용\n",
    "\n",
    "덧셈: + 대신 add 함수 활용\n",
    "> 기존 데이터프레임.add(더할 데이터프레임, fill_value = 0)"
   ]
  },
  {
   "cell_type": "code",
   "execution_count": null,
   "id": "7fa6b797",
   "metadata": {},
   "outputs": [],
   "source": [
    "df1.add(df3, fill_value = 0) # axis에 유의해 사용 (디폴트는 1)"
   ]
  },
  {
   "cell_type": "code",
   "execution_count": null,
   "id": "5b71c712",
   "metadata": {},
   "outputs": [],
   "source": [
    "sr1 = df1.loc[\"가\"] \n",
    "\n",
    "df1.add(sr1, axis = 0) # 축을 바꾸는 순간 라벨이 맞지 않게 되므로  모두 Nan"
   ]
  }
 ],
 "metadata": {
  "kernelspec": {
   "display_name": "dx_env",
   "language": "python",
   "name": "dx_env"
  },
  "language_info": {
   "codemirror_mode": {
    "name": "ipython",
    "version": 3
   },
   "file_extension": ".py",
   "mimetype": "text/x-python",
   "name": "python",
   "nbconvert_exporter": "python",
   "pygments_lexer": "ipython3",
   "version": "3.7.15"
  },
  "vscode": {
   "interpreter": {
    "hash": "cf7f3396f3f646b3e316414f42e26d1fecb4b955d212b32c81b8f7f7dc68c4ee"
   }
  }
 },
 "nbformat": 4,
 "nbformat_minor": 5
}
