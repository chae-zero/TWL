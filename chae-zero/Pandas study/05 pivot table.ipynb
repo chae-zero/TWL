{
 "cells": [
  {
   "cell_type": "markdown",
   "id": "b6919236",
   "metadata": {},
   "source": [
    "## Pivot table\n",
    "\n",
    "1. 중요한 부분은 두고, 방향을 전환해 새로운 컨텐츠를 만들어내는 것\n",
    "\n",
    "2. 한 컬럼의 values를 가지고 새로운 데이터프레임을 만들어내는 것\n",
    "\n",
    "3. 이때, 새로운 데이터프레임을 위한 새로운 인덱스와 컬럼이 필요\n",
    "\n",
    "4. 새로운 인덱스와 컬럼 또한 기존 데이터프레임에서 가져다 씀\n",
    "\n",
    "5. 멀티 인덱스 가능"
   ]
  },
  {
   "cell_type": "markdown",
   "id": "228cb1c1",
   "metadata": {},
   "source": [
    "\n",
    "\n",
    "> \n",
    "\n",
    "> "
   ]
  },
  {
   "cell_type": "code",
   "execution_count": null,
   "id": "a3d9537c",
   "metadata": {},
   "outputs": [],
   "source": [
    "import pandas as pd\n",
    "\n",
    "a1 = ['송중기', '이유빈', '권보아', '차유람', '박보검', '김범수',  '이효리', '유승호', '김유정']\n",
    "a2 = list(\"남여여여남남여남여\")\n",
    "a3 = list(\"AAABBBCCC\")\n",
    "a4 = [97, 88, 78, 64, 84, 89, 87, 92, 99]\n",
    "a5 = [i + \"등\" for i in list(\"123321321\")]\n",
    "a6 = [i + \"시\" for i in list(\"수정정수수수정정수\")]\n",
    "a7 = ['이름', '성별', '반', '점수', '반등수', '비고']\n",
    "\n",
    "df"
   ]
  },
  {
   "cell_type": "markdown",
   "id": "5037e64f",
   "metadata": {},
   "source": [
    "**df에서 성별 컬럼의 values를 새로운 데이터 프레임의 colums로,**\n",
    "\n",
    "**반 컬럼의 values를 새로운 데이터 프레임의 index로 삼아서**\n",
    "\n",
    "**점수 컬럼의 values룰 채워주는 경우**\n",
    "\n",
    "> 한 칸에 여러 개의 value가 들어가야 하는 상황이 생김\n",
    "\n",
    "> ex. A반이면서 여자인 사람이 두 명\n",
    "\n",
    "> 이처럼 **둘 이상의 자료를 한 칸에** 넣게 되는 것이 피벗 테이블의 특징\n",
    "\n",
    "> 따라서 피벗 테이블은 항상 \"집계함수\"를 지정해주어야 함"
   ]
  },
  {
   "cell_type": "markdown",
   "id": "af350767",
   "metadata": {},
   "source": [
    "### pivot table 만드는 순서\n",
    "\n",
    "1. values 지정\n",
    "\n",
    "2. index 지정\n",
    "\n",
    "3. columns 지정\n",
    "\n",
    "4. aggfunc 지정"
   ]
  },
  {
   "cell_type": "markdown",
   "id": "545e18d5",
   "metadata": {},
   "source": [
    "### pivot_table 함수 대신 pivot 함수를 쓰는 경우는?\n",
    "\n",
    "1. value 값이 한 칸당 한 개씩만 들어가는 경우\n",
    "\n",
    "2. 집계함수가 필요 없어지므로 value값이 꼭 숫자형이 아니어도 됨"
   ]
  },
  {
   "cell_type": "markdown",
   "id": "b1e86606",
   "metadata": {},
   "source": [
    "### Values 값이 숫자형인 경우\n",
    "df.pivot_table(values용 열, index=[열1,...열n]), colums=[열1,...열n], aggfunc=집계함수)"
   ]
  },
  {
   "cell_type": "code",
   "execution_count": null,
   "id": "f8a56225",
   "metadata": {},
   "outputs": [],
   "source": [
    "df = pd.DataFrame([a1, a2, a3, a4, a5, a6], index=a7, columns=list(range(1, 10))).T\n",
    "df[\"점수\"] = df[\"점수\"].astype(int)\n",
    "df"
   ]
  },
  {
   "cell_type": "code",
   "execution_count": null,
   "id": "6857e1bd",
   "metadata": {},
   "outputs": [],
   "source": [
    "df.pivot_table(\"점수\", index=\"반\", columns=\"성별\", aggfunc=\"mean\")\n",
    "# 같은 칸에 들어가는 점수들의 평균치가 values가 됨"
   ]
  },
  {
   "cell_type": "code",
   "execution_count": null,
   "id": "39c66e8c",
   "metadata": {},
   "outputs": [],
   "source": [
    "df.pivot_table(\"점수\", index=[\"반\", \"성별\"], columns=\"비고\")"
   ]
  },
  {
   "cell_type": "markdown",
   "id": "a67f4752",
   "metadata": {},
   "source": [
    "### Values 값이 문자열인 경우: pivot_table은 쓸 수 없으므로 pivot 활용\n",
    "df.pivot_table(values=열, index=[열1,...열n]), colums=[열1,...열n])\n"
   ]
  },
  {
   "cell_type": "code",
   "execution_count": null,
   "id": "cbfc08f4",
   "metadata": {},
   "outputs": [],
   "source": [
    "df.pivot(values=\"이름\", index=\"반\", columns=\"반등수\")"
   ]
  }
 ],
 "metadata": {
  "kernelspec": {
   "display_name": "dx_env",
   "language": "python",
   "name": "dx_env"
  },
  "language_info": {
   "codemirror_mode": {
    "name": "ipython",
    "version": 3
   },
   "file_extension": ".py",
   "mimetype": "text/x-python",
   "name": "python",
   "nbconvert_exporter": "python",
   "pygments_lexer": "ipython3",
   "version": "3.7.15"
  }
 },
 "nbformat": 4,
 "nbformat_minor": 5
}
