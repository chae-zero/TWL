{
 "cells": [
  {
   "cell_type": "markdown",
   "id": "c84dc899",
   "metadata": {},
   "source": [
    "## Unpivot = stack + reset_index\n"
   ]
  },
  {
   "cell_type": "markdown",
   "id": "b8df4e25",
   "metadata": {},
   "source": [
    "**pivot 되었던 데이터프레임을 다시 풀어내는 것**\n",
    "\n",
    "1. index, columns, values가 세 개의 열로 나란히 풀려남\n",
    "\n",
    "2. 언피벗의 목적: 다른 방향으로 또 다시 데이터를 가공하기 위함\n",
    "\n",
    "3. stack 함수 활용\n",
    "- stack: index와 column의 구조를 바꾸는 함수\n",
    "- unstack을 하면 index에서 한 줄을 빼내어 columns로 넣어줌\n",
    "- stack을 하면 column에서 한 줄을 빼내어 index로 넣어줌\n",
    "\n",
    "- **멀티 인덱스**의 경우, 끝값을 뺴내고 끝값에 더하는 stack의 원리에 따름\n",
    "- 마지막 인덱스부터 빼내고, 마지막 인덱스 뒤에 붙음\n",
    "- 만일 0,1,2번 인덱스가 있다면, 2번 > 1번 > 0번 순"
   ]
  },
  {
   "cell_type": "code",
   "execution_count": null,
   "id": "f16a2fd3",
   "metadata": {},
   "outputs": [],
   "source": [
    "import pandas as pd\n",
    "\n",
    "val1 = [[20, 10], [5, 25], [22, 8], [12, 18]]\n",
    "idx1 = [[\"1반\", \"1반\", \"2반\", \"2반\"], [\"남\", \"여\",\"남\",\"여\"]]\n",
    "df1 = pd.DataFrame(val1,index=idx1, columns=[\"도시락\", \"샌드위치\"])\n",
    "\n",
    "df1 # 멀티 인덱스"
   ]
  },
  {
   "cell_type": "code",
   "execution_count": null,
   "id": "f3042937",
   "metadata": {},
   "outputs": [],
   "source": [
    "df2 = df1.copy().stack()\n",
    "df2"
   ]
  },
  {
   "cell_type": "markdown",
   "id": "f5bf2d8e",
   "metadata": {},
   "source": [
    "### 일부 열만 언피벗하고 싶은 경우: stack + melt 함수"
   ]
  },
  {
   "cell_type": "code",
   "execution_count": null,
   "id": "ea4d5073",
   "metadata": {},
   "outputs": [],
   "source": [
    "import pandas as pd\n",
    "\n",
    "val = [[83, 93, 99], [77, 88, 91], [92, 78, 95]]\n",
    "idx = [\"권보아\", \"김범수\", \"박효신\"]\n",
    "df = pd.DataFrame(val, index=idx, columns=[\"국어\", \"수학\", \"과학\"])\n",
    "val1 = [[20, 10], [5, 25], [22, 8], [12, 18]]\n",
    "idx1 = [[\"1반\", \"1반\", \"2반\", \"2반\"], [\"남\", \"여\",\"남\",\"여\"]]\n",
    "df1 = pd.DataFrame(val1,index=idx1, columns=[\"도시락\", \"샌드위치\"])\n",
    "df2 = df1.copy().unstack()\n",
    "df3 = df1.copy()\n",
    "df3[\"업체\"] = [\"CJ푸드\", \"신세계\", \"신세계\", \"CJ푸드\"]\n",
    "df4 = df3.reset_index().rename(columns={\"level_0\":\"반\", \"level_1\":\"성별\"}).copy()"
   ]
  },
  {
   "cell_type": "code",
   "execution_count": null,
   "id": "936ed622",
   "metadata": {},
   "outputs": [],
   "source": [
    "df"
   ]
  },
  {
   "cell_type": "markdown",
   "id": "019206d4",
   "metadata": {},
   "source": [
    "### df.stack(level=숫자, dropna=bool) 활용법\n",
    "\n",
    "1. stack() 실행\n",
    "2. reset_index() 실행\n",
    "3. df.columns 지정"
   ]
  },
  {
   "cell_type": "code",
   "execution_count": null,
   "id": "4325c90f",
   "metadata": {},
   "outputs": [],
   "source": [
    "df.stack() # columns를 빼내서 index로 넣어줌. \n",
    "df = df.stack().reset_index() # reset_index로 언피벗 완료 후, df에 넣어줌.\n",
    "df.columns = [\"이름\", \"과목\", \"점수\"] # df의 columns 이름을 지정\n",
    "df"
   ]
  },
  {
   "cell_type": "code",
   "execution_count": null,
   "id": "9eea4cec",
   "metadata": {},
   "outputs": [],
   "source": [
    "df1"
   ]
  },
  {
   "cell_type": "code",
   "execution_count": null,
   "id": "e7b125c9",
   "metadata": {},
   "outputs": [],
   "source": [
    "df1 = df1.stack().reset_index()"
   ]
  },
  {
   "cell_type": "code",
   "execution_count": null,
   "id": "e13ccedf",
   "metadata": {},
   "outputs": [],
   "source": [
    "df1.columns = [\"반\", \"성별\", \"제품\", \"수량\"]"
   ]
  },
  {
   "cell_type": "code",
   "execution_count": null,
   "id": "c923cf8a",
   "metadata": {},
   "outputs": [],
   "source": [
    "df1"
   ]
  },
  {
   "cell_type": "code",
   "execution_count": null,
   "id": "5885e3f7",
   "metadata": {},
   "outputs": [],
   "source": [
    "df2"
   ]
  },
  {
   "cell_type": "code",
   "execution_count": null,
   "id": "2e13016a",
   "metadata": {},
   "outputs": [],
   "source": [
    "df2 = df2.stack(level=[0,1]).reset_index() # columns index 0과 1 모두를 stack 후, reset_index\n",
    "\n",
    "df2.columns = [\"반\", \"제품\", \"성별\", \"수량\"]"
   ]
  },
  {
   "cell_type": "code",
   "execution_count": null,
   "id": "d5fccf3b",
   "metadata": {},
   "outputs": [],
   "source": [
    "df2"
   ]
  },
  {
   "cell_type": "code",
   "execution_count": null,
   "id": "fa894917",
   "metadata": {},
   "outputs": [],
   "source": [
    "df3 = df3.set_index(\"업체\", append=True).reset_index()\n",
    "# 업체 column을 먼저 index로 옮겨준 다음, reset_index()\n",
    "\n",
    "df3.columns = [\"반\",\"성별\",\"업체\",\"제품\",\"수량\"]"
   ]
  },
  {
   "cell_type": "code",
   "execution_count": null,
   "id": "f3a2d129",
   "metadata": {},
   "outputs": [],
   "source": [
    "df3"
   ]
  },
  {
   "cell_type": "markdown",
   "id": "15adde7e",
   "metadata": {},
   "source": [
    "### stack으로 언피벗하기 총정리\n",
    "\n",
    "1. set_index로 언피벗에서 제외할 열은 인덱스에 넣어준다\n",
    "2. stack으로 언피벗된 시리즈를 만들고, 뒤이어 .reset_index로 언피벗된 데이터프레임을 만든다\n",
    "\n",
    "3. df.columns(권장) 혹은 rename으로 column들의 이름을 바꾼다"
   ]
  },
  {
   "cell_type": "code",
   "execution_count": null,
   "id": "763a48b8",
   "metadata": {},
   "outputs": [],
   "source": [
    "val = [[83, 93, 99], [77, 88, 91], [92, 78, 95]]\n",
    "idx = [\"권보아\", \"김범수\", \"박효신\"]\n",
    "df = pd.DataFrame(val, index=idx, columns=[\"국어\", \"수학\", \"과학\"])\n",
    "val1 = [[20, 10], [5, 25], [22, 8], [12, 18]]\n",
    "idx1 = [[\"1반\", \"1반\", \"2반\", \"2반\"], [\"남\", \"여\",\"남\",\"여\"]]\n",
    "df1 = pd.DataFrame(val1,index=idx1, columns=[\"도시락\", \"샌드위치\"])\n",
    "df2 = df1.copy().unstack()\n",
    "df3 = df1.copy()\n",
    "df3[\"업체\"] = [\"CJ푸드\", \"신세계\", \"신세계\", \"CJ푸드\"]\n",
    "df4 = df3.reset_index().rename(columns={\"level_0\":\"반\", \"level_1\":\"성별\"}).copy()"
   ]
  },
  {
   "cell_type": "markdown",
   "id": "068bc2ad",
   "metadata": {},
   "source": [
    "### melt 함수: 언피벗에서 제외할 열 지정 가능\n",
    "\n",
    "1. id_vars: 해당 열을 인덱스로 삼아 언피벗\n",
    "\n",
    "2. value_vars: 해당 열을 value로 삼아 언피벗\n",
    "\n",
    "3. df.melt(id_vars = [열1, 열2,...], var_name = 이름, value_name = 이름)"
   ]
  },
  {
   "cell_type": "code",
   "execution_count": null,
   "id": "4ddbc829",
   "metadata": {},
   "outputs": [],
   "source": [
    "df3"
   ]
  },
  {
   "cell_type": "code",
   "execution_count": null,
   "id": "9bd8ed17",
   "metadata": {},
   "outputs": [],
   "source": [
    "df4.melt(id_vars=[\"반\",\"성별\",\"업체\"], var_name = \"제품\", value_name = \"수량\")"
   ]
  }
 ],
 "metadata": {
  "kernelspec": {
   "display_name": "dx_env",
   "language": "python",
   "name": "dx_env"
  },
  "language_info": {
   "codemirror_mode": {
    "name": "ipython",
    "version": 3
   },
   "file_extension": ".py",
   "mimetype": "text/x-python",
   "name": "python",
   "nbconvert_exporter": "python",
   "pygments_lexer": "ipython3",
   "version": "3.7.15"
  }
 },
 "nbformat": 4,
 "nbformat_minor": 5
}
