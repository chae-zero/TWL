{
 "cells": [
  {
   "cell_type": "markdown",
   "id": "eaaa0b8a",
   "metadata": {},
   "source": [
    "## Pandas"
   ]
  },
  {
   "cell_type": "code",
   "execution_count": null,
   "id": "d421b623",
   "metadata": {},
   "outputs": [],
   "source": [
    "import pandas as pd\n",
    "import numpy as np \n",
    "import random as rn\n",
    "\n",
    "data1 = pd.Series([4,1,2,6,7]) # 데이터를 index / value 로 표현\n",
    "\n",
    "print(data1)\n",
    "print(data1.values) # value 확인\n",
    "print(data1.index) # 인덱스만 확인 "
   ]
  },
  {
   "cell_type": "code",
   "execution_count": null,
   "id": "4660dc0e",
   "metadata": {},
   "outputs": [],
   "source": [
    "pd.Series([2,3,1,4,5], index =['a','b','c','d','e']) # 동일 사이즈의 원하는 인덱스로 변경 가능"
   ]
  },
  {
   "cell_type": "code",
   "execution_count": null,
   "id": "1cc537b2",
   "metadata": {},
   "outputs": [],
   "source": [
    "data2 = {'text' : ['유님', '안녕', '하세요'], # '열 이름' : [values]\n",
    "        'day' : [1, 2, 3],\n",
    "        'point' : [1.5, 3.7, 4.2]}\n",
    "Frame1 = pd.DataFrame(data2)\n",
    "\n",
    "print(Frame1)\n",
    "print(Frame1.values) # value 확인\n",
    "print(Frame1.index) # index 확인\n",
    "print(Frame1.columns) # 컬럼값 확인가능"
   ]
  },
  {
   "cell_type": "code",
   "execution_count": null,
   "id": "8839af00",
   "metadata": {},
   "outputs": [],
   "source": [
    "pd.DataFrame(data2, index = ['one','two','three'])\n",
    "# 기존에 있는 데이터에서 열과 행의 인덱스만 빌려 사용도 가능 이때 index의 갯수가 맞아야 값이 들어감\n",
    "# 인덱스 값이 맞아야함 값이 없으면 알아서 NAN으로 들어감"
   ]
  },
  {
   "cell_type": "code",
   "execution_count": null,
   "id": "413d4b06",
   "metadata": {},
   "outputs": [],
   "source": [
    "Frame1.describe() # 숫자형 데이터들을 정리해 요약해서 보여준다. 갯수, 평균, 분산,최소값 등등 "
   ]
  },
  {
   "cell_type": "code",
   "execution_count": null,
   "id": "4ecf0820",
   "metadata": {},
   "outputs": [],
   "source": [
    "#Data Frame indexing\n",
    "print(Frame1['text']) # text 열의 값만 출력.\n",
    "print(Frame1.text) # Frame1.text 입력해도 같은 결과\n",
    "\n",
    "print(Frame1[['text','day']]) # 원하는 열 여러 개 출력"
   ]
  },
  {
   "cell_type": "code",
   "execution_count": null,
   "id": "99b31ce2",
   "metadata": {},
   "outputs": [],
   "source": [
    "Frame1['add'] = 0.7 #add열을 추가하고 값을 대입할수 있음\n",
    "Frame1['add2'] = np.random.rand(3,1) # 랜덤으로 0-1까지의 실수 부여 \n",
    "\n",
    "Se = pd.Series([1,2,3], index =[0,1,2])\n",
    "Frame1['add3'] = Se # Series를 생성한 뒤 삽입하는 것도 가능\n",
    "\n",
    "del Frame1['add3'] #해당 열 삭제\n",
    "print(Frame1)"
   ]
  },
  {
   "cell_type": "code",
   "execution_count": null,
   "id": "1c1c6979",
   "metadata": {},
   "outputs": [],
   "source": [
    "#loc 와 iloc 인덱싱 & 슬라이싱\n",
    "\n",
    "print(Frame1)\n",
    "Frame1.loc[:,['text','day']] # text,day 열 값 출력\n",
    "Frame1.loc[0:1,'text':'day'] #0~1행 에서 text,day 열 값 출력\n",
    "Frame1.loc[4,:] =['new',3,4,1,None] # 새로운 행 삽입 loc['행 이름', :]\n",
    "\n",
    "Frame1.iloc[0]  # 0 행의 데이터 출력\n",
    "Frame1.iloc[0:2,2:4] # df 형태로 출력\n",
    "Frame1.iloc[[0,2],[1,2]] # df 형태로 출력"
   ]
  },
  {
   "cell_type": "code",
   "execution_count": null,
   "id": "e7de092f",
   "metadata": {},
   "outputs": [],
   "source": [
    "print(Frame1)\n",
    "Frame1['point'] > 3.0 # 3.0 이상의 값으로 조건을 달수도 있음\n",
    "Frame1.loc[Frame1['point'] > 3.0] #Frame1 중 point열이 3이상인 데이터를 출력\n",
    "Frame1.loc[Frame1['text'] == 'hello',['text','day','add']] # 이렇게 원하는 값만 출력도 가능\n",
    "Frame1.loc[Frame1['point'] > 3, 'add'] = 0 # 3보다큰 포인터 값에 add열을 0으로 대체\n"
   ]
  },
  {
   "cell_type": "code",
   "execution_count": null,
   "id": "75540014",
   "metadata": {},
   "outputs": [],
   "source": [
    "randfr = pd.DataFrame(np.random.rand(4,6))\n",
    "randfr.columns = ['A','B','C','D','E','F']\n",
    "randfr.index = pd.date_range('2015-05-05',periods = 4) #date_range함수를 사용\n",
    "print(randfr)"
   ]
  },
  {
   "cell_type": "code",
   "execution_count": null,
   "id": "9c76afb9",
   "metadata": {},
   "outputs": [],
   "source": [
    "Frame1.dropna(how='any') # 하나의 값이라도 null이있으면 그 행을 삭제\n",
    "Frame1.fillna(value = 0.9) # nan값을 value값으로 채워넣기\n",
    "Frame1.isnull() #null값인지 아닌지 확인 Df로 확인가능\n",
    " \n",
    "Frame1.sum(axis = 0) # 열의 합을 나타냄\n",
    "Frame1.sum(axis = 1) # 행방향으로 합을 나타냄 Nan은 배제시킨다\n",
    "Frame1['day'].sum() #특정행만 삽입\n",
    "Frame1.iloc[:,1].sum()"
   ]
  }
 ],
 "metadata": {
  "kernelspec": {
   "display_name": "dx_env",
   "language": "python",
   "name": "dx_env"
  },
  "language_info": {
   "codemirror_mode": {
    "name": "ipython",
    "version": 3
   },
   "file_extension": ".py",
   "mimetype": "text/x-python",
   "name": "python",
   "nbconvert_exporter": "python",
   "pygments_lexer": "ipython3",
   "version": "3.7.15"
  }
 },
 "nbformat": 4,
 "nbformat_minor": 5
}
