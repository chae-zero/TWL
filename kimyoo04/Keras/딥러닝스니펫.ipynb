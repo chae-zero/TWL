{
 "cells": [
  {
   "attachments": {},
   "cell_type": "markdown",
   "metadata": {},
   "source": [
    "# 딥러닝스니펫"
   ]
  },
  {
   "attachments": {},
   "cell_type": "markdown",
   "metadata": {},
   "source": [
    "#### - 모델링 전\n",
    "1. 모듈 임포트\n",
    "2. 데이터 불러오기\n",
    "3. 학습, 평가 데이터 분리\n",
    "4. reshape\n",
    "5. scaling\n",
    "6. one-hot encoding\n",
    "\n",
    "#### - Sequential API, Functional API\n",
    "1. 세션 클리어\n",
    "2. 모델 선언\n",
    "3. 레이어 조립\n",
    "4. 컴파일\n",
    "5. 요약\n",
    "\n",
    "#### - EarlyStopping\n",
    "\n",
    "#### - 시각화"
   ]
  },
  {
   "attachments": {},
   "cell_type": "markdown",
   "metadata": {},
   "source": [
    "# 모듈 가져오기"
   ]
  },
  {
   "attachments": {},
   "cell_type": "markdown",
   "metadata": {},
   "source": [
    "#### 기본"
   ]
  },
  {
   "cell_type": "code",
   "execution_count": null,
   "metadata": {},
   "outputs": [],
   "source": [
    "import numpy as np\n",
    "import pandas as pd"
   ]
  },
  {
   "attachments": {},
   "cell_type": "markdown",
   "metadata": {},
   "source": [
    "#### 딥러닝"
   ]
  },
  {
   "cell_type": "code",
   "execution_count": null,
   "metadata": {},
   "outputs": [],
   "source": [
    "import tensorflow\n",
    "from tensorflow import keras\n",
    "\n",
    "from keras.utils import to_categorical, plot_model\n",
    "from keras.callbacks import EarlyStopping\n",
    "\n",
    "from sklearn.model_selection import train_test_split\n",
    "from sklearn.preprocessing import MinMaxScaler"
   ]
  },
  {
   "attachments": {},
   "cell_type": "markdown",
   "metadata": {},
   "source": [
    "#### 시각화"
   ]
  },
  {
   "cell_type": "code",
   "execution_count": null,
   "metadata": {},
   "outputs": [],
   "source": [
    "import matplotlib.pyplot as plt\n",
    "import seaborn as sns\n",
    "plt.rc('font', family='Malgun Gothic')\n",
    "sns.set(font=\"Malgun Gothic\",\n",
    "        rc={\"axes.unicode_minus\":False}, # 마이너스 부호 깨짐 현상 해결\n",
    "        style='darkgrid')  \n",
    "\n",
    "import warnings\n",
    "warnings.filterwarnings(action='ignore')\n",
    "%config InlineBackend.figure_format = 'retina'"
   ]
  },
  {
   "attachments": {},
   "cell_type": "markdown",
   "metadata": {},
   "source": [
    "# 모델링 전"
   ]
  },
  {
   "attachments": {},
   "cell_type": "markdown",
   "metadata": {},
   "source": [
    "1. 모듈 임포트\n",
    "2. 데이터 불러오기\n",
    "3. 학습, 검증, 평가 데이터 분리\n",
    "4. reshape\n",
    "5. scaling\n",
    "6. one-hot encoding"
   ]
  },
  {
   "attachments": {},
   "cell_type": "markdown",
   "metadata": {},
   "source": [
    "#### x, y 분리"
   ]
  },
  {
   "cell_type": "code",
   "execution_count": null,
   "metadata": {},
   "outputs": [],
   "source": [
    "target='타겟컬럼'\n",
    "\n",
    "x = df.drop(target, axis=1)\n",
    "y = df.loc[:, target]"
   ]
  },
  {
   "attachments": {},
   "cell_type": "markdown",
   "metadata": {},
   "source": [
    "#### train, val, test 데이터 분리"
   ]
  },
  {
   "cell_type": "code",
   "execution_count": null,
   "metadata": {},
   "outputs": [],
   "source": [
    "train_x, test_x, train_y, test_y = train_test_split(x, y, test_size=0.1, random_state=2023)\n",
    "train_x, val_x, train_y, val_y = train_test_split(train_x, train_y, test_size=0.1, random_state=2023)"
   ]
  },
  {
   "cell_type": "code",
   "execution_count": null,
   "metadata": {},
   "outputs": [],
   "source": [
    "train_x.shape, train_y.shape, val_x.shape, val_y.shape"
   ]
  },
  {
   "attachments": {},
   "cell_type": "markdown",
   "metadata": {},
   "source": [
    "#### reshape"
   ]
  },
  {
   "cell_type": "code",
   "execution_count": null,
   "metadata": {},
   "outputs": [],
   "source": [
    "train_x = train_x.reshape( (train_x.shape[0], -1) )\n",
    "test_x = test_x.reshape( (test_x.shape[0], -1) )"
   ]
  },
  {
   "attachments": {},
   "cell_type": "markdown",
   "metadata": {},
   "source": [
    "#### min-max scaling"
   ]
  },
  {
   "cell_type": "code",
   "execution_count": null,
   "metadata": {},
   "outputs": [],
   "source": [
    "max_n, min_n = train_x.max(), train_x.min()\n",
    "\n",
    "train_x = (train_x - min_n) / (max_n - min_n)\n",
    "test_x = (test_x - min_n) / (max_n - min_n)"
   ]
  },
  {
   "attachments": {},
   "cell_type": "markdown",
   "metadata": {},
   "source": [
    "#### one-hot encoding"
   ]
  },
  {
   "cell_type": "code",
   "execution_count": null,
   "metadata": {},
   "outputs": [],
   "source": [
    "class_n = len(set(train_y))\n",
    "\n",
    "train_y = to_categorical(train_y, class_n)\n",
    "test_y = to_categorical(test_y, class_n)"
   ]
  },
  {
   "attachments": {},
   "cell_type": "markdown",
   "metadata": {},
   "source": [
    "# Sequential API"
   ]
  },
  {
   "cell_type": "code",
   "execution_count": null,
   "metadata": {},
   "outputs": [],
   "source": [
    "# 1번. 세션 클리어 : 기존의 모델 구조가 남아있다면 지워줘\n",
    "keras.backend.clear_session()\n",
    "\n",
    "# 2번. 모델 선언 : 레이어 블록을 조립할 발판!\n",
    "model = keras.models.Sequential()\n",
    "\n",
    "# 3번. 레이어 조립 : .add()\n",
    "model.add(keras.layers.Input(shape=(784,)) )\n",
    "model.add(keras.layers.Dense(10, activation='relu') )\n",
    "model.add(keras.layers.Dense(10, activation='swish') )\n",
    "model.add(keras.layers.Dense(10, activation='sigmoid') )\n",
    "model.add(keras.layers.Dense(3, activation='softmax') )\n",
    "\n",
    "# 4번. 컴파일\n",
    "model.compile(loss='categorical_crossentropy', metrics=['accuracy'],\n",
    "              optimizer='adam')\n",
    "\n",
    "# 요약\n",
    "model.summary()"
   ]
  },
  {
   "attachments": {},
   "cell_type": "markdown",
   "metadata": {},
   "source": [
    "# Functional API"
   ]
  },
  {
   "cell_type": "code",
   "execution_count": null,
   "metadata": {},
   "outputs": [],
   "source": [
    "# 1번 세션 클리어\n",
    "keras.backend.clear_session()\n",
    "\n",
    "# 2번 레이어 엮기\n",
    "il1 = keras.layers.Input(shape=(13,))\n",
    "hl1 = keras.layers.Dense(64, activation='relu', name='hidden1')(il1)\n",
    "\n",
    "il2 = keras.layers.Input(shape=(13,))\n",
    "hl2 = keras.layers.Dense(64, activation='relu', name='hidden2')(il2)\n",
    "\n",
    "add_l = keras.layers.Add()([hl1, hl2])\n",
    "concat_l = keras.layers.Concatenate()([hl1, hl2])\n",
    "ol = keras.layers.Dense(3, activation='softmax', name='output')(add_l) # concat_l\n",
    "\n",
    "# 3번 모델의 시작/끝 지정\n",
    "model = keras.models.Model([il1, il2], ol)\n",
    "\n",
    "# 4번 컴파일\n",
    "model.compile(loss='categorical_crossentropy', metrics=['accuracy'],\n",
    "              optimizer='adam')\n",
    "\n",
    "# 요약\n",
    "model.summary()"
   ]
  },
  {
   "cell_type": "code",
   "execution_count": null,
   "metadata": {},
   "outputs": [],
   "source": [
    "plot_model( model , show_shapes=True, show_layer_names=True )"
   ]
  },
  {
   "attachments": {},
   "cell_type": "markdown",
   "metadata": {},
   "source": [
    "# EarlyStopping"
   ]
  },
  {
   "cell_type": "code",
   "execution_count": null,
   "metadata": {},
   "outputs": [],
   "source": [
    "es = EarlyStopping(\n",
    "                    monitor='val_loss',         # 관측 대상\n",
    "                    min_delta=0,                # 임계값. 관측 대상이 임계값만큼 변하지 않는다면 patience 1 증가\n",
    "                    patience=5,                 # 관측 대상 성능이 개선되지 않을 때 몇 번 더 지켜볼래\n",
    "                    verbose=1,                  # 학습과정 보이기\n",
    "                    restore_best_weights=True   # 최적의 epoch 가중치를 모델에 적용\n",
    "                  )  "
   ]
  },
  {
   "cell_type": "code",
   "execution_count": null,
   "metadata": {},
   "outputs": [],
   "source": [
    "history = model.fit([il1, il2], train_y, validation_split=0.2, epochs=10000, verbose=1,\n",
    "          callbacks=[es])"
   ]
  },
  {
   "cell_type": "code",
   "execution_count": null,
   "metadata": {},
   "outputs": [],
   "source": [
    "y_pred = model.predict([test_x_1, test_x_2])"
   ]
  },
  {
   "attachments": {},
   "cell_type": "markdown",
   "metadata": {},
   "source": [
    "# 시각화"
   ]
  },
  {
   "cell_type": "code",
   "execution_count": null,
   "metadata": {},
   "outputs": [],
   "source": [
    "\"\"\"\n",
    "train, val data 의 loss, accuracy 시각화\n",
    "- history\n",
    "- epoch\n",
    "\"\"\"\n",
    "\n",
    "def plot_loss_acc( history, epochs ) :\n",
    "    loss, val_loss = history.history[\"loss\"], history.history[\"val_loss\"]\n",
    "    acc, val_acc = history.history[\"accuracy\"], history.history[\"val_accuracy\"]\n",
    "\n",
    "    fig, ax = plt.subplots(1,2, figsize=(12,4))\n",
    "\n",
    "    ax[0].plot(range(1, epochs+1), loss, label=\"Training\")\n",
    "    ax[0].plot(range(1, epochs+1), val_loss, label=\"Validation\")\n",
    "    ax[0].legend(loc=\"best\")\n",
    "    ax[0].set_title(\"Loss\")\n",
    "\n",
    "    ax[1].plot(range(1, epochs+1), acc, label=\"Training\")\n",
    "    ax[1].plot(range(1, epochs+1), val_acc, label=\"Validation\")\n",
    "    ax[1].legend(loc=\"best\")\n",
    "    ax[1].set_title(\"Accuracy\")\n",
    "\n",
    "    plt.show()"
   ]
  },
  {
   "cell_type": "code",
   "execution_count": null,
   "metadata": {},
   "outputs": [],
   "source": [
    "import matplotlib.pyplot as plt\n",
    "\"\"\"\n",
    "epochs: 에폭횟수!\n",
    "\"\"\"\n",
    "epochs = \n",
    "plot_loss_acc(history, epochs)"
   ]
  },
  {
   "attachments": {},
   "cell_type": "markdown",
   "metadata": {},
   "source": [
    "# 저장 및 로드"
   ]
  },
  {
   "cell_type": "code",
   "execution_count": null,
   "metadata": {},
   "outputs": [],
   "source": [
    "model.save('model.h5')"
   ]
  },
  {
   "cell_type": "code",
   "execution_count": null,
   "metadata": {},
   "outputs": [],
   "source": [
    "model = keras.models.load_model('path/to/location')"
   ]
  }
 ],
 "metadata": {
  "kernelspec": {
   "display_name": "aivle",
   "language": "python",
   "name": "aivle"
  },
  "language_info": {
   "codemirror_mode": {
    "name": "ipython",
    "version": 3
   },
   "file_extension": ".py",
   "mimetype": "text/x-python",
   "name": "python",
   "nbconvert_exporter": "python",
   "pygments_lexer": "ipython3",
   "version": "3.9.15"
  },
  "orig_nbformat": 4
 },
 "nbformat": 4,
 "nbformat_minor": 2
}
