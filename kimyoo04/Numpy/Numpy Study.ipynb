{
 "cells": [
  {
   "cell_type": "code",
   "execution_count": 3,
   "metadata": {},
   "outputs": [],
   "source": [
    "import numpy as np"
   ]
  },
  {
   "attachments": {},
   "cell_type": "markdown",
   "metadata": {},
   "source": [
    "# 배열 타입 설정"
   ]
  },
  {
   "cell_type": "code",
   "execution_count": 4,
   "metadata": {},
   "outputs": [],
   "source": [
    "list_1 = [50,30,5,56,6,65,7,4,3,63,36,4,5,6,34,55]"
   ]
  },
  {
   "cell_type": "code",
   "execution_count": 44,
   "metadata": {},
   "outputs": [
    {
     "name": "stdout",
     "output_type": "stream",
     "text": [
      "[50 30  5 56  6 65  7  4  3 63 36  4  5  6 34 55]\n",
      "int32\n",
      "[50. 30.  5. 56.  6. 65.  7.  4.  3. 63. 36.  4.  5.  6. 34. 55.]\n",
      "float32\n",
      "[b'abc' b'def']\n",
      "|S3\n",
      "[b'a' b'ab' b'abc']\n",
      "|S3\n",
      "['a' 'ab' 'abc']\n",
      "<U3\n"
     ]
    }
   ],
   "source": [
    "my_numpy_array = np.array(list_1) # 여러 차원 배열도 가능\n",
    "print(my_numpy_array)\n",
    "print(my_numpy_array.dtype)\n",
    "\n",
    "my_numpy_array = np.array(list_1, dtype='f4') # 타입 설정 가능\n",
    "print(my_numpy_array)\n",
    "print(my_numpy_array.dtype)\n",
    "\n",
    "my_numpy_array = np.array(['abc', 'defasgbg'], dtype='S3') # 문자열 길이 제한 가능\n",
    "print(my_numpy_array)\n",
    "print(my_numpy_array.dtype)\n",
    "\n",
    "# 배열 안의 가장 긴 문자열을 크기를 타입으로 사용됨\n",
    "my_numpy_array = np.array(['a', 'ab', 'abc'], dtype=np.string_) \n",
    "print(my_numpy_array)\n",
    "print(my_numpy_array.dtype)\n",
    "\n",
    "# 배열 안의 가장 긴 문자열을 크기를 타입으로 사용됨\n",
    "my_numpy_array = np.array(['a', 'ab', 'abc'], dtype=np.unicode_) \n",
    "print(my_numpy_array)\n",
    "print(my_numpy_array.dtype)"
   ]
  },
  {
   "attachments": {},
   "cell_type": "markdown",
   "metadata": {},
   "source": [
    "# 배열 생성"
   ]
  },
  {
   "cell_type": "code",
   "execution_count": 74,
   "metadata": {},
   "outputs": [],
   "source": [
    "list_2 = [0,1,2,3,4,5,6,7,8,9,]\n",
    "arr1 = np.array(list_2) # 1차원 배열\n",
    "arr2 = np.array(range(10)) # 시퀸스 객체\n",
    "arr3 = np.array([[1,2,3], [4,5,6]]) # 2차원 배열 직접 삽입\n",
    "arr4 = np.arange(0, 20) # array와 range 합친 메소드\n",
    "arr5 = np.arange(0, 20, 2) \n",
    "arr6 = np.linspace(0, 10, 20) # 등분 간격 유지하는 수 배열\n",
    "arr7, step = np.linspace(0, 10, 20, endpoint=False, retstep=True) # 간격을 반환을 같이 받기 \n",
    "\n"
   ]
  },
  {
   "attachments": {},
   "cell_type": "markdown",
   "metadata": {},
   "source": [
    "# 특수한 배열 생성"
   ]
  },
  {
   "cell_type": "code",
   "execution_count": null,
   "metadata": {},
   "outputs": [],
   "source": [
    "a = np.eye(7) # 주대각선이 1이고 나머지가 0인 7x7의 대각행렬 반환\n",
    "b = np.eye(5, k=-2) # 대각행렬의 대각 위치 조정\n",
    "c = np.identity(3) # 단위행렬\n",
    "d = np.ones((7,7)) # 7x7의 1행렬 반환\n",
    "e = np.ones_like(arr1) # 특정 배열의 형태대로 1행렬 반환\n",
    "f = np.zeros(8) # 8x8의 영행렬 반환\n",
    "g = np.zeros_like(arr1) # 특정 배열의 형태대로 영행렬 반환\n",
    "h = np.full((2,3), 5) # 2x3의 5행렬 반환\n",
    "i = np.full_like(arr1, 5) # 특정 배열의 형태대로 5행렬 반환\n",
    "j = np.diag(arr1) # 1차원 배열 인자 -> 대각행렬로 반환\n",
    "k = np.diag(arr3) # 2차원 배열 인자 -> 주대각선 성분 추출 반환\n",
    "\n"
   ]
  },
  {
   "attachments": {},
   "cell_type": "markdown",
   "metadata": {},
   "source": [
    "# 난수 생성과 활용"
   ]
  },
  {
   "cell_type": "code",
   "execution_count": 97,
   "metadata": {},
   "outputs": [],
   "source": [
    "arr = np.arange(25).reshape(5,5)\n",
    "\n",
    "np.random.seed(123) # 랜덤 시드 숫자 고정\n",
    "l = np.random.rand(20) # 랜덤 실수 - 20개의 배열 반환\n",
    "m = np.random.rand(3, 3) # 랜덤 실수 - 행렬 3x3 의 배열 반환\n",
    "# np.ranodm.randint(low, high, size, dtype)\n",
    "n = np.random.randint(1, 50) # 랜덤 정수 - 1~50 사이의 수 1개 정수 반환\n",
    "o = np.random.randint(1, 100, 15) # 랜덤 정수 - 1~100 사이의 수 15개 배열 반환\n",
    "\n"
   ]
  },
  {
   "cell_type": "code",
   "execution_count": 98,
   "metadata": {},
   "outputs": [
    {
     "name": "stdout",
     "output_type": "stream",
     "text": [
      "[0.46426806 0.56843069 0.30254945 0.49730879 0.68326291 0.91669867\n",
      " 0.10892895 0.49549179 0.23283593 0.43686066]\n",
      "[0.75154299 0.48089213 0.79772841 0.28270293 0.43341824 0.00975735\n",
      " 0.34079598 0.68927201 0.86936929 0.26780382]\n",
      "[0.45674792 0.26828131 0.8370528  0.27051466 0.53006201 0.17537266\n",
      " 0.31496645 0.8911091  0.18033628 0.4943162 ]\n",
      "[0.2122981  0.52087687 0.16009994 0.9190568  0.99428992 0.47704756\n",
      " 0.30988351 0.50720432 0.2807932  0.76383669]\n"
     ]
    }
   ],
   "source": [
    "# np.random.rand()\n",
    "print(np.random.random_sample(10))\n",
    "print(np.random.random(10))\n",
    "print(np.random.ranf(10))\n",
    "print(np.random.sample(10))"
   ]
  },
  {
   "cell_type": "code",
   "execution_count": 85,
   "metadata": {},
   "outputs": [
    {
     "name": "stdout",
     "output_type": "stream",
     "text": [
      "[3 3 2 0 3 3 1 0 0 3 0 0 0 3 3]\n",
      "[3 0 3 1 0 4 0 2 2 4 2 5 2 5 2]\n"
     ]
    }
   ],
   "source": [
    "# np.random.choice(iterable_or_int, size, replace=True, p=weights)\n",
    "print(np.random.choice(range(4), 15, replace=True, p=[0.3, 0.2, 0.1, 0.4]))\n",
    "print(np.random.choice(6, 15))"
   ]
  },
  {
   "cell_type": "code",
   "execution_count": 103,
   "metadata": {},
   "outputs": [
    {
     "name": "stdout",
     "output_type": "stream",
     "text": [
      "shuffle 하기 전 \n",
      "[[10 11 12 13 14]\n",
      " [20 21 22 23 24]\n",
      " [ 0  1  2  3  4]\n",
      " [15 16 17 18 19]\n",
      " [ 5  6  7  8  9]]\n",
      "\n",
      "None\n",
      "\n",
      "shuffle 한 후 \n",
      "[[15 16 17 18 19]\n",
      " [20 21 22 23 24]\n",
      " [ 0  1  2  3  4]\n",
      " [ 5  6  7  8  9]\n",
      " [10 11 12 13 14]]\n",
      "\n",
      "[[10 11 12 13 14]\n",
      " [15 16 17 18 19]\n",
      " [ 5  6  7  8  9]\n",
      " [20 21 22 23 24]\n",
      " [ 0  1  2  3  4]]\n"
     ]
    }
   ],
   "source": [
    "# 배열의 요소 순서 섞기\n",
    "print(f'shuffle 하기 전 \\n{arr}')\n",
    "print()\n",
    "print(np.random.shuffle(arr)) # None\n",
    "print()\n",
    "print(f'shuffle 한 후 \\n{arr}')\n",
    "print()\n",
    "# 배열의 요소 순서 섞은 것을 복사\n",
    "print(np.random.permutation(arr))\n"
   ]
  },
  {
   "attachments": {},
   "cell_type": "markdown",
   "metadata": {},
   "source": [
    "# 반복을 사용한 배열 생성"
   ]
  },
  {
   "cell_type": "code",
   "execution_count": 77,
   "metadata": {},
   "outputs": [
    {
     "name": "stdout",
     "output_type": "stream",
     "text": [
      "[0 0 0 1 1 1 2 2 2]\n",
      "\n",
      "[0 0 0 1 1 1 2 2 2]\n"
     ]
    }
   ],
   "source": [
    "arr = [0, 1, 2]\n",
    "print(np.repeat(arr, 3))  \n",
    "print()\n",
    "print(np.repeat(range(3), 3))\n",
    "print()\n",
    "\n",
    "# 배열의 반복 위치 설정, 축 설정\n",
    "arr = [[1,2], [3,4]]\n",
    "print(np.repeat(arr, [1,5], axis=0))"
   ]
  },
  {
   "attachments": {},
   "cell_type": "markdown",
   "metadata": {},
   "source": [
    "# 배열 연산"
   ]
  },
  {
   "cell_type": "code",
   "execution_count": 104,
   "metadata": {},
   "outputs": [
    {
     "name": "stdout",
     "output_type": "stream",
     "text": [
      "[1 2 3 4 5 6 7 8 9]\n",
      "[1 2 3 4 5 6 7 8 9]\n",
      "[ 2  4  6  8 10 12 14 16 18]\n",
      "[1 2 3 4 5 6 7 8 9]\n",
      "[1 2 3 4 5 6 7 8 9]\n",
      "[0 0 0 0 0 0 0 0 0]\n",
      "[1 2 3 4 5 6 7 8 9] [ 1  4  9 16 25 36 49 64 81]\n",
      "[1. 2. 3. 4. 5. 6. 7. 8. 9.]\n",
      "[2.71828183e+00 7.38905610e+00 2.00855369e+01 5.45981500e+01\n",
      " 1.48413159e+02 4.03428793e+02 1.09663316e+03 2.98095799e+03\n",
      " 8.10308393e+03]\n"
     ]
    }
   ],
   "source": [
    "a = np.arange(1, 10) # [1~9] nparray 형태가 됨\n",
    "b = np.arange(1, 10) # [1~9] nparray 형태가 됨\n",
    "\n",
    "sum_ = a + b # 각 인덱스별 더하기 결과를 반환\n",
    "print(f'{a}\\n{b}\\n{sum_}')\n",
    "\n",
    "minus = a - b # 각 인덱스별 더하기 결과를 반환\n",
    "print(f'{a}\\n{b}\\n{minus}')\n",
    "\n",
    "squared = a ** 2 # 배열 제곱 인덱스별 적용\n",
    "print(a, squared)"
   ]
  },
  {
   "cell_type": "code",
   "execution_count": 121,
   "metadata": {},
   "outputs": [
    {
     "name": "stdout",
     "output_type": "stream",
     "text": [
      "[ 9 11 13]\n",
      "[ 8  9 10]\n",
      "[ 9 11 13]\n",
      "[ 8  9 10]\n",
      "[ 9 22 39]\n"
     ]
    }
   ],
   "source": [
    "arr1 = np.array([1,2,3])\n",
    "arr2 = np.array([8,9,10])\n",
    "\n",
    "np.add(arr1, arr2, out=arr1)\n",
    "print(arr1) # arr1 변수에 더하기 결과 반환\n",
    "print(arr2) # arr2 의 값이 변하지 않음\n",
    "\n",
    "np.subtract(arr1, [8,9,10]) # out 파라미터에 변수를 주지 않으면 반환 안함\n",
    "print(arr1)\n",
    "print(arr2)\n",
    "\n",
    "np.multiply(arr1, [1,2,3], out=arr1)\n",
    "print(arr1)"
   ]
  },
  {
   "cell_type": "code",
   "execution_count": 130,
   "metadata": {},
   "outputs": [
    {
     "name": "stdout",
     "output_type": "stream",
     "text": [
      "[[1.         1.41421356 1.73205081]\n",
      " [2.         2.23606798 2.44948974]]\n",
      "[[  2.71828183   7.3890561   20.08553692]\n",
      " [ 54.59815003 148.4131591  403.42879349]]\n"
     ]
    }
   ],
   "source": [
    "arr = np.arange(1,7).reshape(2,3)\n",
    "print(np.sqrt(arr)) # 배열 제곱근 인덱스별 적용\n",
    "print(np.exp(arr)) # 자연상수(e = 2.71828...)의 지수배에 대한 값을 계산"
   ]
  },
  {
   "cell_type": "code",
   "execution_count": 131,
   "metadata": {},
   "outputs": [
    {
     "name": "stdout",
     "output_type": "stream",
     "text": [
      "[[1 2 3]\n",
      " [4 5 6]]\n",
      "[[0.         0.69314718 1.09861229]\n",
      " [1.38629436 1.60943791 1.79175947]]\n",
      "[[0.         1.         1.5849625 ]\n",
      " [2.         2.32192809 2.5849625 ]]\n",
      "[[0.         0.30103    0.47712125]\n",
      " [0.60205999 0.69897    0.77815125]]\n"
     ]
    }
   ],
   "source": [
    "print(arr)\n",
    "print(np.log(arr)) # 자연 로그\n",
    "print(np.log2(arr)) # log2\n",
    "print(np.log10(arr))    "
   ]
  },
  {
   "cell_type": "code",
   "execution_count": null,
   "metadata": {},
   "outputs": [],
   "source": [
    "print(np.sin(arr))\n",
    "print(np.cos(arr))"
   ]
  },
  {
   "cell_type": "code",
   "execution_count": 136,
   "metadata": {},
   "outputs": [
    {
     "name": "stdout",
     "output_type": "stream",
     "text": [
      "[[1 2 3]\n",
      " [4 5 6]]\n",
      "\n",
      "[5 7 9]\n",
      "[ 6 15]\n"
     ]
    }
   ],
   "source": [
    "print(arr)\n",
    "print()\n",
    "print(np.sum(arr, axis=0))\n",
    "print()\n",
    "print(np.sum(arr, axis=1))  "
   ]
  },
  {
   "cell_type": "code",
   "execution_count": 139,
   "metadata": {},
   "outputs": [
    {
     "name": "stdout",
     "output_type": "stream",
     "text": [
      "[[1 2 3]\n",
      " [4 5 6]]\n",
      "\n",
      "[1 2 3]\n",
      "[1 4]\n",
      "1\n"
     ]
    }
   ],
   "source": [
    "print(arr)\n",
    "print()\n",
    "# 축을 따라 최솟값 반환\n",
    "print(np.min(arr, axis=0))\n",
    "print(np.min(arr, axis=1))\n",
    "print(np.min(arr)) # 축이 없으면 최솟값 반환"
   ]
  },
  {
   "cell_type": "code",
   "execution_count": 142,
   "metadata": {},
   "outputs": [
    {
     "name": "stdout",
     "output_type": "stream",
     "text": [
      "[[1 2 3]\n",
      " [4 5 6]]\n",
      "\n",
      "[4 5 6]\n",
      "[3 6]\n",
      "6\n"
     ]
    }
   ],
   "source": [
    "print(arr)\n",
    "print()\n",
    "# 축을 따라 최댓값 반환\n",
    "print(np.max(arr, axis=0))    \n",
    "print(np.max(arr, axis=1))    \n",
    "print(np.max(arr)) # 축이 없으면 최댓값 반환"
   ]
  },
  {
   "cell_type": "code",
   "execution_count": 145,
   "metadata": {},
   "outputs": [
    {
     "name": "stdout",
     "output_type": "stream",
     "text": [
      "[0 0 0]\n",
      "[1 1 1]\n",
      "[0 0]\n",
      "[2 2]\n",
      "0\n",
      "5\n"
     ]
    }
   ],
   "source": [
    "# 축을 따라 최댓값, 최소값의 인덱스 반환\n",
    "print(np.argmin(arr, axis=0))\n",
    "print(np.argmax(arr, axis=0))\n",
    "print(np.argmin(arr, axis=1))\n",
    "print(np.argmax(arr, axis=1))\n",
    "# 축이 없으면 전체 요소 중 최댓값의 인덱스, 최솟값의 인덱스 반환\n",
    "print(np.argmin(arr))\n",
    "print(np.argmax(arr))"
   ]
  },
  {
   "cell_type": "code",
   "execution_count": 146,
   "metadata": {},
   "outputs": [
    {
     "name": "stdout",
     "output_type": "stream",
     "text": [
      "[1 4 4 7 9]\n",
      "[0 2 3 5 5]\n"
     ]
    }
   ],
   "source": [
    "arr1 = np.array([1, 2, 4, 7, 5])\n",
    "arr2 = np.array([0, 4, 3, 5, 9])\n",
    "\n",
    "# 길이와 차원이 같은 배열의 같은 인덱스 끼리 비교후 큰 값 배열, 작은 값 배열 반환\n",
    "print(np.maximum(arr1, arr2))\n",
    "print(np.minimum(arr1, arr2))"
   ]
  },
  {
   "cell_type": "code",
   "execution_count": 147,
   "metadata": {},
   "outputs": [
    {
     "name": "stdout",
     "output_type": "stream",
     "text": [
      "[5.52043722 2.40247504 8.84805011 4.60238424 1.9317033  2.93692504\n",
      " 8.17927508 5.59487376 6.77925447 8.09126678]\n",
      "[5. 2. 8. 4. 1. 2. 8. 5. 6. 8.]\n",
      "[0.52043722 0.40247504 0.84805011 0.60238424 0.9317033  0.93692504\n",
      " 0.17927508 0.59487376 0.77925447 0.09126678]\n"
     ]
    }
   ],
   "source": [
    "arr1 = np.random.rand(10) * 10\n",
    "\n",
    "# 배열의 정수 부분과 소수 부분을 분리\n",
    "float_, int_ = np.modf(arr1)\n",
    "print(arr1)\n",
    "print(int_)\n",
    "print(float_)"
   ]
  },
  {
   "attachments": {},
   "cell_type": "markdown",
   "metadata": {},
   "source": [
    "# 인덱싱, 슬라이싱"
   ]
  },
  {
   "cell_type": "code",
   "execution_count": 56,
   "metadata": {},
   "outputs": [
    {
     "name": "stdout",
     "output_type": "stream",
     "text": [
      "['99' '99' '99']\n",
      "\n",
      "[[3 9 1 1]\n",
      " [1 1 5 7]\n",
      " [8 7 1 5]\n",
      " [7 7 7 8]]\n",
      "\n",
      "[3 9 1 1] 9\n",
      "\n",
      "7\n",
      "\n",
      "[8 8 8 9]\n",
      "\n",
      "[8 4 6 8 6 4 6 2 4 8 6 4 2]\n",
      "\n",
      "[[1 8 3 4 6]\n",
      " [2 4 3 8 6]]\n",
      "\n"
     ]
    }
   ],
   "source": [
    "# Broadcasting 방법\n",
    "# 한 번에 특정 슬라이싱 범위를 값을 바꾸기\n",
    "my_numpy_array[0:6] = 99\n",
    "print(my_numpy_array)\n",
    "print()\n",
    "\n",
    "matrix = np.random.randint(1,10, (4,4))\n",
    "print(matrix)\n",
    "print()\n",
    "\n",
    "# get first row \n",
    "# get first row's second index\n",
    "print(f'{matrix[0]} {matrix[0][1]}')\n",
    "print()\n",
    "\n",
    "# [행, 열] 표기법 가능\n",
    "print(matrix[1, 3])\n",
    "print()\n",
    "\n",
    "# boolean indexing\n",
    "matrix = np.random.randint(1, 10, (5, 5))\n",
    "new_matrix = matrix[ matrix > 7]\n",
    "print(new_matrix)\n",
    "print()\n",
    "\n",
    "# boolean indexing\n",
    "new_matrix = matrix[ matrix % 2 == 0 ] # 짝수 값만 배열 반환\n",
    "print(new_matrix)\n",
    "print()\n",
    "\n",
    "# fancy indexing\n",
    "print(matrix[[0, 2]])\n",
    "print()\n"
   ]
  },
  {
   "cell_type": "code",
   "execution_count": 40,
   "metadata": {},
   "outputs": [
    {
     "data": {
      "text/plain": [
       "array([[ 2, 30, 20,  0,  0],\n",
       "       [-2,  4, 40,  0,  0],\n",
       "       [ 0,  4,  0, 90, 10],\n",
       "       [-2, -2, 34, 22, 12],\n",
       "       [-2, 24, 22, 32, -2]])"
      ]
     },
     "execution_count": 40,
     "metadata": {},
     "output_type": "execute_result"
    }
   ],
   "source": [
    "# 조건 2 개 값 일괄 변경\n",
    "X = [[2, 30, 20, -2, -4],\n",
    "    [3, 4, 40, -3, -2],\n",
    "    [-3, 4, -6, 90, 10],\n",
    "    [25, 45, 34, 22, 12],\n",
    "    [13, 24, 22, 32, 37]]\n",
    "\n",
    "X = np.array(X)\n",
    "\n",
    "X[ X < 0 ] = 0\n",
    "X[ X % 2 == 1 ] = -2\n",
    "\n",
    "X"
   ]
  },
  {
   "attachments": {},
   "cell_type": "markdown",
   "metadata": {},
   "source": [
    "# 배열 정보 확인"
   ]
  },
  {
   "cell_type": "code",
   "execution_count": 83,
   "metadata": {},
   "outputs": [
    {
     "name": "stdout",
     "output_type": "stream",
     "text": [
      "[[1 2 3]\n",
      " [4 5 6]\n",
      " [7 8 9]]\n",
      "배열 타입 확인 <class 'numpy.ndarray'>\n",
      "배열 차원 확인 2\n",
      "배열 원소 개수 확인 9\n",
      "배열 모양 확인 (3, 3)\n",
      "\n",
      "class:  ndarray\n",
      "shape:  (3, 3)\n",
      "strides:  (6, 2)\n",
      "itemsize:  2\n",
      "aligned:  True\n",
      "contiguous:  True\n",
      "fortran:  False\n",
      "data pointer: 0x170532249e0\n",
      "byteorder:  little\n",
      "byteswap:  False\n",
      "type: int16\n",
      "배열 종합 정보 확인 \n",
      "None\n",
      "\n",
      "각 배열 요소의 바이트 수 2\n",
      "배열의 메모리 크기 18\n"
     ]
    }
   ],
   "source": [
    "x = np.array([[1,2,3], [4,5,6], [7,8,9]], dtype='i2')\n",
    "\n",
    "print(x)\n",
    "print(f'배열 타입 확인 {type(x)}')\n",
    "print(f'배열 차원 확인 {x.ndim}')\n",
    "print(f'배열 원소 개수 확인 {x.size}')\n",
    "print(f'배열 모양 확인 {x.shape}')\n",
    "print(f'각 배열 요소의 바이트 수 {x.itemsize}')\n",
    "print(f'배열의 메모리 크기 {x.nbytes}')\n",
    "print()\n",
    "print(f'배열 종합 정보 확인 \\n{np.info(x)}')\n"
   ]
  },
  {
   "attachments": {},
   "cell_type": "markdown",
   "metadata": {},
   "source": [
    "# 배열 가공, 수정"
   ]
  },
  {
   "cell_type": "code",
   "execution_count": 72,
   "metadata": {},
   "outputs": [
    {
     "name": "stdout",
     "output_type": "stream",
     "text": [
      "[[1 2 3 4 5 6 7 8 9]]\n",
      "\n",
      "[[1]\n",
      " [2]\n",
      " [3]\n",
      " [4]\n",
      " [5]\n",
      " [6]\n",
      " [7]\n",
      " [8]\n",
      " [9]]\n",
      "\n",
      "[[1. 2. 3.]\n",
      " [4. 5. 6.]\n",
      " [7. 8. 9.]]\n"
     ]
    }
   ],
   "source": [
    "print(x.reshape(1,9))\n",
    "print()\n",
    "\n",
    "print(x.reshape(9,1))\n",
    "print()\n",
    "\n",
    "print(x.astype(np.float32))"
   ]
  },
  {
   "attachments": {},
   "cell_type": "markdown",
   "metadata": {},
   "source": [
    "# 확률과 통계"
   ]
  },
  {
   "cell_type": "code",
   "execution_count": null,
   "metadata": {},
   "outputs": [],
   "source": []
  }
 ],
 "metadata": {
  "kernelspec": {
   "display_name": "base",
   "language": "python",
   "name": "python3"
  },
  "language_info": {
   "codemirror_mode": {
    "name": "ipython",
    "version": 3
   },
   "file_extension": ".py",
   "mimetype": "text/x-python",
   "name": "python",
   "nbconvert_exporter": "python",
   "pygments_lexer": "ipython3",
   "version": "3.9.7 (default, Sep 16 2021, 16:59:28) [MSC v.1916 64 bit (AMD64)]"
  },
  "orig_nbformat": 4,
  "vscode": {
   "interpreter": {
    "hash": "f49206fcf84a9145e7e21228cbafa911d1ac18292303b01e865d8267a9c448f7"
   }
  }
 },
 "nbformat": 4,
 "nbformat_minor": 2
}
