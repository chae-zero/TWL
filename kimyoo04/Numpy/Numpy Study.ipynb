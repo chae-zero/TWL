{
 "cells": [
  {
   "cell_type": "code",
   "execution_count": 2,
   "metadata": {},
   "outputs": [],
   "source": [
    "import numpy as np"
   ]
  },
  {
   "attachments": {},
   "cell_type": "markdown",
   "metadata": {},
   "source": [
    "# 배열 타입 설정"
   ]
  },
  {
   "cell_type": "code",
   "execution_count": 153,
   "metadata": {},
   "outputs": [],
   "source": [
    "list_1 = [50,30,5,56,6,65,7,4,3,63,36,4,5,6,34,55]"
   ]
  },
  {
   "cell_type": "code",
   "execution_count": 155,
   "metadata": {},
   "outputs": [
    {
     "name": "stdout",
     "output_type": "stream",
     "text": [
      "[50 30  5 56  6 65  7  4  3 63 36  4  5  6 34 55]\n",
      "int32\n",
      "[50. 30.  5. 56.  6. 65.  7.  4.  3. 63. 36.  4.  5.  6. 34. 55.]\n",
      "float32\n",
      "[b'abc' b'def']\n",
      "|S3\n",
      "[b'a' b'ab' b'abc']\n",
      "|S3\n",
      "['a' 'ab' 'abc']\n",
      "<U3\n"
     ]
    }
   ],
   "source": [
    "my_numpy_array = np.array(list_1) # 여러 차원 배열도 가능\n",
    "print(my_numpy_array)\n",
    "print(my_numpy_array.dtype)\n",
    "\n",
    "my_numpy_array = np.array(list_1, dtype='f4') # 타입 설정 가능\n",
    "print(my_numpy_array)\n",
    "print(my_numpy_array.dtype)\n",
    "\n",
    "my_numpy_array = np.array(['abc', 'defasgbg'], dtype='S3') # 문자열 길이 제한 가능\n",
    "print(my_numpy_array)\n",
    "print(my_numpy_array.dtype)\n",
    "\n",
    "# 배열 안의 가장 긴 문자열을 크기를 타입으로 사용됨\n",
    "my_numpy_array = np.array(['a', 'ab', 'abc'], dtype=np.string_) \n",
    "print(my_numpy_array)\n",
    "print(my_numpy_array.dtype)\n",
    "\n",
    "# 배열 안의 가장 긴 문자열을 크기를 타입으로 사용됨\n",
    "my_numpy_array = np.array(['a', 'ab', 'abc'], dtype=np.unicode_) \n",
    "print(my_numpy_array)\n",
    "print(my_numpy_array.dtype)"
   ]
  },
  {
   "attachments": {},
   "cell_type": "markdown",
   "metadata": {},
   "source": [
    "# 배열 생성"
   ]
  },
  {
   "cell_type": "code",
   "execution_count": 156,
   "metadata": {},
   "outputs": [],
   "source": [
    "list_2 = [0,1,2,3,4,5,6,7,8,9,]\n",
    "arr1 = np.array(list_2) # 1차원 배열\n",
    "arr2 = np.array(range(10)) # 시퀸스 객체\n",
    "arr3 = np.array([[1,2,3], [4,5,6]]) # 2차원 배열 직접 삽입\n",
    "arr4 = np.arange(0, 20) # array와 range 합친 메소드\n",
    "arr5 = np.arange(0, 20, 2) \n",
    "arr6 = np.linspace(0, 10, 20) # 등분 간격 유지하는 수 배열\n",
    "arr7, step = np.linspace(0, 10, 20, endpoint=False, retstep=True) # 간격을 반환을 같이 받기 \n",
    "\n"
   ]
  },
  {
   "attachments": {},
   "cell_type": "markdown",
   "metadata": {},
   "source": [
    "# 특수한 배열 생성"
   ]
  },
  {
   "cell_type": "code",
   "execution_count": 164,
   "metadata": {},
   "outputs": [
    {
     "data": {
      "text/plain": [
       "array([[0, 0, 0, 0, 0, 0, 0, 0, 0, 0],\n",
       "       [0, 1, 0, 0, 0, 0, 0, 0, 0, 0],\n",
       "       [0, 0, 2, 0, 0, 0, 0, 0, 0, 0],\n",
       "       [0, 0, 0, 3, 0, 0, 0, 0, 0, 0],\n",
       "       [0, 0, 0, 0, 4, 0, 0, 0, 0, 0],\n",
       "       [0, 0, 0, 0, 0, 5, 0, 0, 0, 0],\n",
       "       [0, 0, 0, 0, 0, 0, 6, 0, 0, 0],\n",
       "       [0, 0, 0, 0, 0, 0, 0, 7, 0, 0],\n",
       "       [0, 0, 0, 0, 0, 0, 0, 0, 8, 0],\n",
       "       [0, 0, 0, 0, 0, 0, 0, 0, 0, 9]])"
      ]
     },
     "execution_count": 164,
     "metadata": {},
     "output_type": "execute_result"
    }
   ],
   "source": [
    "a = np.eye(7) # 주대각선이 1이고 나머지가 0인 7x7의 대각행렬 반환\n",
    "b = np.eye(5, k=-2) # 대각행렬의 대각 위치 조정\n",
    "c = np.identity(3) # 단위행렬\n",
    "d = np.ones((7,7)) # 7x7의 1행렬 반환\n",
    "e = np.ones_like(arr1) # 특정 배열의 형태대로 1행렬 반환\n",
    "f = np.zeros(8) # 8x8의 영행렬 반환\n",
    "g = np.zeros_like(arr1) # 특정 배열의 형태대로 영행렬 반환\n",
    "h = np.full((2,3), 5) # 2x3의 5행렬 반환\n",
    "i = np.full_like(arr1, 5) # 특정 배열의 형태대로 5행렬 반환\n",
    "j = np.diag(arr1) # 1차원 배열 인자 -> 대각행렬로 반환\n",
    "k = np.diag(arr3) # 2차원 배열 인자 -> 주대각선 성분 추출 반환\n",
    "\n",
    "j"
   ]
  },
  {
   "attachments": {},
   "cell_type": "markdown",
   "metadata": {},
   "source": [
    "# 난수 생성과 활용"
   ]
  },
  {
   "cell_type": "code",
   "execution_count": 168,
   "metadata": {},
   "outputs": [
    {
     "data": {
      "text/plain": [
       "array([ 4, 70, 65, 76, 35, 59, 11, 23, 78, 19, 16, 28, 31, 53, 71])"
      ]
     },
     "execution_count": 168,
     "metadata": {},
     "output_type": "execute_result"
    }
   ],
   "source": [
    "arr = np.arange(25).reshape(5,5)\n",
    "\n",
    "np.random.seed(123) # 랜덤 시드 숫자 고정\n",
    "l = np.random.rand(20) # 랜덤 실수 - 20개의 배열 반환\n",
    "m = np.random.rand(3, 3) # 랜덤 실수 - 행렬 3x3 의 배열 반환\n",
    "# np.ranodm.randint(low, high, size, dtype)\n",
    "n = np.random.randint(1, 50) # 랜덤 정수 - 1~50 사이의 수 1개 정수 반환\n",
    "o = np.random.randint(1, 100, 15) # 랜덤 정수 - 1~100 사이의 수 15개 배열 반환\n",
    "\n"
   ]
  },
  {
   "cell_type": "code",
   "execution_count": 169,
   "metadata": {},
   "outputs": [
    {
     "name": "stdout",
     "output_type": "stream",
     "text": [
      "[0.46426806 0.56843069 0.30254945 0.49730879 0.68326291 0.91669867\n",
      " 0.10892895 0.49549179 0.23283593 0.43686066]\n",
      "[0.75154299 0.48089213 0.79772841 0.28270293 0.43341824 0.00975735\n",
      " 0.34079598 0.68927201 0.86936929 0.26780382]\n",
      "[0.45674792 0.26828131 0.8370528  0.27051466 0.53006201 0.17537266\n",
      " 0.31496645 0.8911091  0.18033628 0.4943162 ]\n",
      "[0.2122981  0.52087687 0.16009994 0.9190568  0.99428992 0.47704756\n",
      " 0.30988351 0.50720432 0.2807932  0.76383669]\n"
     ]
    }
   ],
   "source": [
    "# np.random.rand()\n",
    "print(np.random.random_sample(10))\n",
    "print(np.random.random(10))\n",
    "print(np.random.ranf(10))\n",
    "print(np.random.sample(10))\n",
    "\n"
   ]
  },
  {
   "cell_type": "code",
   "execution_count": 172,
   "metadata": {},
   "outputs": [
    {
     "name": "stdout",
     "output_type": "stream",
     "text": [
      "[0 0 3 2 3 3 3 1 0 1 2 2 1 3 3]\n",
      "[5 1 3 2 3 1 1 3 3 2 4 0 3 2 3]\n"
     ]
    }
   ],
   "source": [
    "# np.random.choice(iterable_or_int, size, replace=True, p=weights)\n",
    "print(np.random.choice(range(4), 15, replace=True, p=[0.3, 0.2, 0.1, 0.4]))\n",
    "print(np.random.choice(6, 15))"
   ]
  },
  {
   "cell_type": "code",
   "execution_count": 173,
   "metadata": {},
   "outputs": [
    {
     "name": "stdout",
     "output_type": "stream",
     "text": [
      "shuffle 하기 전 \n",
      "[[ 0  1  2  3  4]\n",
      " [ 5  6  7  8  9]\n",
      " [10 11 12 13 14]\n",
      " [15 16 17 18 19]\n",
      " [20 21 22 23 24]]\n",
      "\n",
      "None\n",
      "\n",
      "shuffle 한 후 \n",
      "[[ 0  1  2  3  4]\n",
      " [15 16 17 18 19]\n",
      " [ 5  6  7  8  9]\n",
      " [20 21 22 23 24]\n",
      " [10 11 12 13 14]]\n",
      "\n",
      "[[ 0  1  2  3  4]\n",
      " [10 11 12 13 14]\n",
      " [20 21 22 23 24]\n",
      " [ 5  6  7  8  9]\n",
      " [15 16 17 18 19]]\n"
     ]
    }
   ],
   "source": [
    "# 배열의 요소 순서 섞기\n",
    "print(f'shuffle 하기 전 \\n{arr}')\n",
    "print()\n",
    "print(np.random.shuffle(arr)) # None\n",
    "print()\n",
    "print(f'shuffle 한 후 \\n{arr}')\n",
    "print()\n",
    "# 배열의 요소 순서 섞은 것을 복사\n",
    "print(np.random.permutation(arr))\n"
   ]
  },
  {
   "attachments": {},
   "cell_type": "markdown",
   "metadata": {},
   "source": [
    "# 반복을 사용한 배열 생성"
   ]
  },
  {
   "cell_type": "code",
   "execution_count": 175,
   "metadata": {},
   "outputs": [
    {
     "name": "stdout",
     "output_type": "stream",
     "text": [
      "[0 0 0 1 1 1 2 2 2]\n",
      "\n",
      "[0 0 0 1 1 1 2 2 2]\n",
      "\n",
      "[[1 2]\n",
      " [3 4]\n",
      " [3 4]\n",
      " [3 4]\n",
      " [3 4]\n",
      " [3 4]]\n"
     ]
    }
   ],
   "source": [
    "arr = [0, 1, 2]\n",
    "print(np.repeat(arr, 3))  \n",
    "print()\n",
    "print(np.repeat(range(3), 3))\n",
    "print()\n",
    "\n",
    "# 배열의 반복 위치 설정, 축 설정\n",
    "arr = [[1,2], [3,4]]\n",
    "print(np.repeat(arr, [1,5], axis=0))"
   ]
  },
  {
   "attachments": {},
   "cell_type": "markdown",
   "metadata": {},
   "source": [
    "# 배열 연산"
   ]
  },
  {
   "cell_type": "code",
   "execution_count": 176,
   "metadata": {},
   "outputs": [
    {
     "name": "stdout",
     "output_type": "stream",
     "text": [
      "[1 2 3 4 5 6 7 8 9]\n",
      "[1 2 3 4 5 6 7 8 9]\n",
      "[ 2  4  6  8 10 12 14 16 18]\n",
      "[1 2 3 4 5 6 7 8 9]\n",
      "[1 2 3 4 5 6 7 8 9]\n",
      "[0 0 0 0 0 0 0 0 0]\n",
      "[1 2 3 4 5 6 7 8 9] [ 1  4  9 16 25 36 49 64 81]\n"
     ]
    }
   ],
   "source": [
    "a = np.arange(1, 10) # [1~9] nparray 형태가 됨\n",
    "b = np.arange(1, 10) # [1~9] nparray 형태가 됨\n",
    "\n",
    "sum_ = a + b # 각 인덱스별 더하기 결과를 반환\n",
    "print(f'{a}\\n{b}\\n{sum_}')\n",
    "\n",
    "minus = a - b # 각 인덱스별 더하기 결과를 반환\n",
    "print(f'{a}\\n{b}\\n{minus}')\n",
    "\n",
    "squared = a ** 2 # 배열 제곱 인덱스별 적용\n",
    "print(a, squared)"
   ]
  },
  {
   "cell_type": "code",
   "execution_count": 177,
   "metadata": {},
   "outputs": [
    {
     "name": "stdout",
     "output_type": "stream",
     "text": [
      "[ 9 11 13]\n",
      "[ 8  9 10]\n",
      "[ 9 11 13]\n",
      "[ 8  9 10]\n",
      "[ 9 22 39]\n"
     ]
    }
   ],
   "source": [
    "arr1 = np.array([1,2,3])\n",
    "arr2 = np.array([8,9,10])\n",
    "\n",
    "np.add(arr1, arr2, out=arr1)\n",
    "print(arr1) # arr1 변수에 더하기 결과 반환\n",
    "print(arr2) # arr2 의 값이 변하지 않음\n",
    "\n",
    "np.subtract(arr1, [8,9,10]) # out 파라미터에 변수를 주지 않으면 반환 안함\n",
    "print(arr1)\n",
    "print(arr2)\n",
    "\n",
    "np.multiply(arr1, [1,2,3], out=arr1)\n",
    "print(arr1)"
   ]
  },
  {
   "cell_type": "code",
   "execution_count": 130,
   "metadata": {},
   "outputs": [
    {
     "name": "stdout",
     "output_type": "stream",
     "text": [
      "[[1.         1.41421356 1.73205081]\n",
      " [2.         2.23606798 2.44948974]]\n",
      "[[  2.71828183   7.3890561   20.08553692]\n",
      " [ 54.59815003 148.4131591  403.42879349]]\n"
     ]
    }
   ],
   "source": [
    "arr = np.arange(1,7).reshape(2,3)\n",
    "print(np.sqrt(arr)) # 배열 제곱근 인덱스별 적용\n",
    "print(np.exp(arr)) # 자연상수(e = 2.71828...)의 지수배에 대한 값을 계산"
   ]
  },
  {
   "cell_type": "code",
   "execution_count": 131,
   "metadata": {},
   "outputs": [
    {
     "name": "stdout",
     "output_type": "stream",
     "text": [
      "[[1 2 3]\n",
      " [4 5 6]]\n",
      "[[0.         0.69314718 1.09861229]\n",
      " [1.38629436 1.60943791 1.79175947]]\n",
      "[[0.         1.         1.5849625 ]\n",
      " [2.         2.32192809 2.5849625 ]]\n",
      "[[0.         0.30103    0.47712125]\n",
      " [0.60205999 0.69897    0.77815125]]\n"
     ]
    }
   ],
   "source": [
    "print(arr)\n",
    "print(np.log(arr)) # 자연 로그\n",
    "print(np.log2(arr)) # log2\n",
    "print(np.log10(arr))    "
   ]
  },
  {
   "cell_type": "code",
   "execution_count": null,
   "metadata": {},
   "outputs": [],
   "source": [
    "print(np.sin(arr))\n",
    "print(np.cos(arr))"
   ]
  },
  {
   "cell_type": "code",
   "execution_count": 178,
   "metadata": {},
   "outputs": [
    {
     "name": "stdout",
     "output_type": "stream",
     "text": [
      "[[1, 2], [3, 4]]\n",
      "\n",
      "[4 6]\n",
      "\n",
      "[3 7]\n"
     ]
    }
   ],
   "source": [
    "print(arr)\n",
    "print()\n",
    "print(np.sum(arr, axis=0))\n",
    "print()\n",
    "print(np.sum(arr, axis=1))  "
   ]
  },
  {
   "cell_type": "code",
   "execution_count": 179,
   "metadata": {},
   "outputs": [
    {
     "name": "stdout",
     "output_type": "stream",
     "text": [
      "[[1, 2], [3, 4]]\n",
      "\n",
      "[1 2]\n",
      "[1 3]\n",
      "1\n"
     ]
    }
   ],
   "source": [
    "print(arr)\n",
    "print()\n",
    "# 축을 따라 최솟값 반환\n",
    "print(np.min(arr, axis=0))\n",
    "print(np.min(arr, axis=1))\n",
    "print(np.min(arr)) # 축이 없으면 최솟값 반환"
   ]
  },
  {
   "cell_type": "code",
   "execution_count": 142,
   "metadata": {},
   "outputs": [
    {
     "name": "stdout",
     "output_type": "stream",
     "text": [
      "[[1 2 3]\n",
      " [4 5 6]]\n",
      "\n",
      "[4 5 6]\n",
      "[3 6]\n",
      "6\n"
     ]
    }
   ],
   "source": [
    "print(arr)\n",
    "print()\n",
    "# 축을 따라 최댓값 반환\n",
    "print(np.max(arr, axis=0))    \n",
    "print(np.max(arr, axis=1))    \n",
    "print(np.max(arr)) # 축이 없으면 최댓값 반환"
   ]
  },
  {
   "cell_type": "code",
   "execution_count": 145,
   "metadata": {},
   "outputs": [
    {
     "name": "stdout",
     "output_type": "stream",
     "text": [
      "[0 0 0]\n",
      "[1 1 1]\n",
      "[0 0]\n",
      "[2 2]\n",
      "0\n",
      "5\n"
     ]
    }
   ],
   "source": [
    "# 축을 따라 최댓값, 최소값의 인덱스 반환\n",
    "print(np.argmin(arr, axis=0))\n",
    "print(np.argmax(arr, axis=0))\n",
    "print(np.argmin(arr, axis=1))\n",
    "print(np.argmax(arr, axis=1))\n",
    "# 축이 없으면 전체 요소 중 최댓값의 인덱스, 최솟값의 인덱스 반환\n",
    "print(np.argmin(arr))\n",
    "print(np.argmax(arr))"
   ]
  },
  {
   "cell_type": "code",
   "execution_count": 180,
   "metadata": {},
   "outputs": [
    {
     "name": "stdout",
     "output_type": "stream",
     "text": [
      "[1 4 4 7 9]\n",
      "[0 2 3 5 5]\n"
     ]
    }
   ],
   "source": [
    "arr1 = np.array([1, 2, 4, 7, 5])\n",
    "arr2 = np.array([0, 4, 3, 5, 9])\n",
    "\n",
    "# 길이와 차원이 같은 배열의 같은 인덱스 끼리 비교후 큰 값 배열, 작은 값 배열 반환\n",
    "print(np.maximum(arr1, arr2))\n",
    "print(np.minimum(arr1, arr2))"
   ]
  },
  {
   "cell_type": "code",
   "execution_count": 44,
   "metadata": {},
   "outputs": [
    {
     "name": "stdout",
     "output_type": "stream",
     "text": [
      "[7.10075224 2.94516994 9.71363999 2.7868747  0.69982189 5.19280361\n",
      " 6.94314886 2.44659787 3.38582202 5.63627983]\n",
      "[7. 2. 9. 2. 0. 5. 6. 2. 3. 5.]\n",
      "[0.10075224 0.94516994 0.71363999 0.7868747  0.69982189 0.19280361\n",
      " 0.94314886 0.44659787 0.38582202 0.63627983]\n"
     ]
    }
   ],
   "source": [
    "arr1 = np.random.rand(10) * 10\n",
    "\n",
    "# 배열의 정수 부분과 소수 부분을 분리\n",
    "float_, int_ = np.modf(arr1)\n",
    "print(arr1)\n",
    "print(int_)\n",
    "print(float_)"
   ]
  },
  {
   "attachments": {},
   "cell_type": "markdown",
   "metadata": {},
   "source": [
    "# 인덱싱, 슬라이싱"
   ]
  },
  {
   "cell_type": "code",
   "execution_count": 60,
   "metadata": {},
   "outputs": [
    {
     "name": "stdout",
     "output_type": "stream",
     "text": [
      "['99' '99' '99']\n",
      "\n",
      "[[8 4 6 5]\n",
      " [1 9 1 3]\n",
      " [2 6 6 6]\n",
      " [4 6 5 3]]\n",
      "\n",
      "[8 4 6 5] 4\n",
      "\n",
      "3\n",
      "3\n",
      "\n",
      "[[1 3]\n",
      " [6 6]]\n",
      "[1 9 1 3]\n",
      "[1 9 1 3]\n",
      "\n"
     ]
    }
   ],
   "source": [
    "# Broadcasting 방법\n",
    "# 한 번에 특정 슬라이싱 범위를 값을 바꾸기\n",
    "my_numpy_array[0:6] = 99\n",
    "print(my_numpy_array)\n",
    "print()\n",
    "\n",
    "matrix = np.random.randint(1,10, (4,4))\n",
    "print(matrix)\n",
    "print()\n",
    "\n",
    "# get first row \n",
    "# get first row's second index\n",
    "print(f'{matrix[0]} {matrix[0][1]}')\n",
    "print()\n",
    "\n",
    "# [행, 열] 표기법, \n",
    "print(matrix[1][3])\n",
    "print(matrix[1, 3])\n",
    "print()\n",
    "\n",
    "# [...] 표기법 가능\n",
    "print(matrix[1:3, 2:5])\n",
    "print(matrix[1, ...])   \n",
    "print(matrix[1,:])   \n",
    "print()"
   ]
  },
  {
   "cell_type": "code",
   "execution_count": 69,
   "metadata": {},
   "outputs": [
    {
     "name": "stdout",
     "output_type": "stream",
     "text": [
      "[[3 6 2 9 6]\n",
      " [9 2 4 1 5]\n",
      " [5 9 3 5 3]\n",
      " [2 8 3 4 1]\n",
      " [5 6 8 1 3]]\n",
      "\n",
      "[9 2 1]\n",
      "[4 5]\n",
      "\n",
      "[9 8 8 8 9 8 8]\n",
      "\n",
      "[8 6 8 8 2 6 2 6 6 2 8 8]\n",
      "\n"
     ]
    }
   ],
   "source": [
    "print(matrix)\n",
    "print()\n",
    "\n",
    "# boolean indexing\n",
    "bools = np.array([True, True, False, True, False])\n",
    "print(matrix[1,:][bools])\n",
    "print(matrix[1,:][~bools]) # not 붙인 효과\n",
    "print()\n",
    "\n",
    "# boolean indexing\n",
    "matrix = np.random.randint(1, 10, (5, 5))\n",
    "new_matrix = matrix[ matrix > 7]\n",
    "print(new_matrix)\n",
    "print()\n",
    "\n",
    "# boolean indexing\n",
    "new_matrix = matrix[ matrix % 2 == 0 ] # 짝수 값만 배열 반환\n",
    "print(new_matrix)\n",
    "print()"
   ]
  },
  {
   "cell_type": "code",
   "execution_count": 70,
   "metadata": {},
   "outputs": [
    {
     "name": "stdout",
     "output_type": "stream",
     "text": [
      "[[7 9 8 6 7]\n",
      " [8 8 3 2 7]\n",
      " [1 6 3 7 2]\n",
      " [6 3 6 7 5]\n",
      " [2 9 8 8 1]]\n",
      "\n",
      "[[7 9 8 6 7]\n",
      " [1 6 3 7 2]]\n",
      "\n"
     ]
    }
   ],
   "source": [
    "print(matrix)\n",
    "print()\n",
    "\n",
    "# fancy indexing\n",
    "print(matrix[[0, 2]])\n",
    "print()\n"
   ]
  },
  {
   "cell_type": "code",
   "execution_count": 71,
   "metadata": {},
   "outputs": [
    {
     "data": {
      "text/plain": [
       "array([[ 2, 30, 20,  0,  0],\n",
       "       [-2,  4, 40,  0,  0],\n",
       "       [ 0,  4,  0, 90, 10],\n",
       "       [-2, -2, 34, 22, 12],\n",
       "       [-2, 24, 22, 32, -2]])"
      ]
     },
     "execution_count": 71,
     "metadata": {},
     "output_type": "execute_result"
    }
   ],
   "source": [
    "# 조건 2 개 값 일괄 변경\n",
    "X = [[2, 30, 20, -2, -4],\n",
    "    [3, 4, 40, -3, -2],\n",
    "    [-3, 4, -6, 90, 10],\n",
    "    [25, 45, 34, 22, 12],\n",
    "    [13, 24, 22, 32, 37]]\n",
    "\n",
    "X = np.array(X)\n",
    "\n",
    "X[ X < 0 ] = 0\n",
    "X[ X % 2 == 1 ] = -2\n",
    "\n",
    "X"
   ]
  },
  {
   "attachments": {},
   "cell_type": "markdown",
   "metadata": {},
   "source": [
    "# 조건에 따른 값 지정"
   ]
  },
  {
   "cell_type": "code",
   "execution_count": 83,
   "metadata": {},
   "outputs": [
    {
     "name": "stdout",
     "output_type": "stream",
     "text": [
      "[[1 1 1 1 1]\n",
      " [1 1 0 0 1]\n",
      " [0 1 0 1 0]\n",
      " [1 0 1 1 0]\n",
      " [0 1 1 1 0]]\n",
      "\n",
      "[[0 0]\n",
      " [0 1]\n",
      " [0 2]\n",
      " [0 3]\n",
      " [0 4]\n",
      " [1 0]\n",
      " [1 1]\n",
      " [1 4]\n",
      " [2 1]\n",
      " [2 3]\n",
      " [3 0]\n",
      " [3 2]\n",
      " [3 3]\n",
      " [4 1]\n",
      " [4 2]\n",
      " [4 3]]\n"
     ]
    }
   ],
   "source": [
    "# condition \n",
    "# np.where(condition, true_return, false_return) \n",
    "print(np.where(matrix > 5, 1, 0)) # true일 때, false일 때 삽입할 값 지정 가능\n",
    "print()\n",
    "\n",
    "# 조건에 맞는 값의 인덱스를 오름차순 반환\n",
    "print(np.argwhere(matrix > 5))"
   ]
  },
  {
   "attachments": {},
   "cell_type": "markdown",
   "metadata": {},
   "source": [
    "# 배열 정보 확인"
   ]
  },
  {
   "cell_type": "code",
   "execution_count": 106,
   "metadata": {},
   "outputs": [
    {
     "name": "stdout",
     "output_type": "stream",
     "text": [
      "[[1 2 3]\n",
      " [4 5 6]\n",
      " [7 8 9]]\n",
      "배열 타입 확인 <class 'numpy.ndarray'>\n",
      "배열 차원 확인 2\n",
      "배열 원소 개수 확인 9\n",
      "배열 모양 확인 (3, 3)\n",
      "각 배열 요소의 바이트 수 2\n",
      "배열의 메모리 크기 18\n",
      "\n",
      "class:  ndarray\n",
      "shape:  (3, 3)\n",
      "strides:  (6, 2)\n",
      "itemsize:  2\n",
      "aligned:  True\n",
      "contiguous:  True\n",
      "fortran:  False\n",
      "data pointer: 0x1ffee0a87f0\n",
      "byteorder:  little\n",
      "byteswap:  False\n",
      "type: int16\n",
      "배열 종합 정보 확인 \n",
      "None\n"
     ]
    }
   ],
   "source": [
    "x = np.array([[1,2,3], [4,5,6], [7,8,9]], dtype='i2')\n",
    "\n",
    "print(x)\n",
    "print(f'배열 타입 확인 {type(x)}')\n",
    "print(f'배열 차원 확인 {x.ndim}')\n",
    "print(f'배열 원소 개수 확인 {x.size}')\n",
    "print(f'배열 모양 확인 {x.shape}')\n",
    "print(f'각 배열 요소의 바이트 수 {x.itemsize}')\n",
    "print(f'배열의 메모리 크기 {x.nbytes}')\n",
    "print()\n",
    "print(f'배열 종합 정보 확인 \\n{np.info(x)}')\n"
   ]
  },
  {
   "attachments": {},
   "cell_type": "markdown",
   "metadata": {},
   "source": [
    "# 배열 가공, 수정"
   ]
  },
  {
   "cell_type": "code",
   "execution_count": 119,
   "metadata": {},
   "outputs": [
    {
     "name": "stdout",
     "output_type": "stream",
     "text": [
      "[[1 2 3 4 5 6 7 8 9]]\n",
      "\n",
      "[[1. 2. 3.]\n",
      " [4. 5. 6.]\n",
      " [7. 8. 9.]]\n",
      "\n",
      "[[1 2 3]\n",
      " [4 5 6]]\n",
      "\n",
      "[1 2 3 4 5 6]\n",
      "[1 2 3 4 5 6]\n"
     ]
    }
   ],
   "source": [
    "x = np.array([[1,2,3], [4,5,6], [7,8,9]], dtype='i2')\n",
    "\n",
    "print(x.reshape(1,9)) # 배열 shape 조정\n",
    "print()\n",
    "\n",
    "print(x.astype(np.float32)) # 배열의 요소들의 타입 지정\n",
    "print()\n",
    "\n",
    "x.resize((2,3)) # 배열의 사이즈 조정, slicing도 가능\n",
    "print(x)\n",
    "print()\n",
    "\n",
    "print(x.flatten()) # 1차원 배열 반환 (메모리 저장)\n",
    "print()\n",
    "\n",
    "print(x.ravel()) # 1차원 배열 반환 (메모리 참조)\n"
   ]
  },
  {
   "attachments": {},
   "cell_type": "markdown",
   "metadata": {},
   "source": [
    "# 배열 추가, 수정, 삭제, 복사"
   ]
  },
  {
   "cell_type": "code",
   "execution_count": 126,
   "metadata": {},
   "outputs": [
    {
     "name": "stdout",
     "output_type": "stream",
     "text": [
      "[1 2 3]\n",
      "\n",
      "[1 2 3 4]\n",
      "[1 2 3 4 5 6]\n",
      "\n",
      "[100   1   2   3]\n",
      "[1 2 3 1 2 3]\n",
      "\n",
      "[2 3]\n",
      "\n"
     ]
    }
   ],
   "source": [
    "arr = np.array(range(1,4))\n",
    "print(arr)\n",
    "print()\n",
    "\n",
    "# np.append(array, new_value, [axis])\n",
    "arr1 = np.append(arr, 4)  \n",
    "arr2 = np.append(arr, [4,5,6])    \n",
    "print(arr1)\n",
    "print(arr2)\n",
    "print()\n",
    "\n",
    "# np.insert(array, index, new_value. [axis])\n",
    "arr3 = np.insert(arr, 0, 100)    \n",
    "arr4 = np.insert(arr, 0, [1,2,3])    \n",
    "print(arr3)\n",
    "print(arr4)\n",
    "print()\n",
    "\n",
    "# np.delet(array, index)\n",
    "arr5 = np.delete(arr, 0)    \n",
    "print(arr5)\n",
    "print()\n",
    "\n",
    "# np.copy(array)\n",
    "arr1 = np.copy(arr)"
   ]
  },
  {
   "cell_type": "code",
   "execution_count": 141,
   "metadata": {},
   "outputs": [
    {
     "name": "stdout",
     "output_type": "stream",
     "text": [
      "[[ 1  2  3  4]\n",
      " [ 5  6  7  8]\n",
      " [ 9 10 11 12]\n",
      " [13 14 15 16]\n",
      " [ 1  2  3  4]\n",
      " [ 5  6  7  8]\n",
      " [ 9 10 11 12]\n",
      " [13 14 15 16]]\n",
      "[[ 1  2  3  4  1  2  3  4]\n",
      " [ 5  6  7  8  5  6  7  8]\n",
      " [ 9 10 11 12  9 10 11 12]\n",
      " [13 14 15 16 13 14 15 16]]\n"
     ]
    }
   ],
   "source": [
    "x = np.arange(1,17).reshape(4,4)\n",
    "y = x.copy()\n",
    "\n",
    "# np.concatename()\n",
    "cat = np.concatenate((x,y))     \n",
    "print(cat)   \n",
    "cat = np.concatenate((x,y), axis=1)     \n",
    "print(cat)   "
   ]
  },
  {
   "attachments": {},
   "cell_type": "markdown",
   "metadata": {},
   "source": [
    "# 배열 정렬"
   ]
  },
  {
   "cell_type": "code",
   "execution_count": 89,
   "metadata": {},
   "outputs": [
    {
     "name": "stdout",
     "output_type": "stream",
     "text": [
      "[[ 5 10 10 11]\n",
      " [ 8  5 10 11]\n",
      " [10 18  3  2]\n",
      " [13 14  3 19]]\n",
      "[[ 5  5  3  2]\n",
      " [ 8 10  3 11]\n",
      " [10 14 10 11]\n",
      " [13 18 10 19]]\n",
      "None\n",
      "[[ 5  5  3  2]\n",
      " [ 8 10  3 11]\n",
      " [10 14 10 11]\n",
      " [13 18 10 19]]\n"
     ]
    }
   ],
   "source": [
    "x = np.random.randint(1, 20, 16).reshape(4,4)\n",
    "print(x)\n",
    "print(np.sort(x, axis=0)) \n",
    "print(x.sort(axis=0))\n",
    "print(x)\n"
   ]
  },
  {
   "cell_type": "code",
   "execution_count": 99,
   "metadata": {},
   "outputs": [
    {
     "name": "stdout",
     "output_type": "stream",
     "text": [
      "[[19  9  9 10]\n",
      " [10 18  9 19]\n",
      " [ 1 11  9  5]\n",
      " [ 6  4 13  7]]\n",
      "[[1 2 3 0]\n",
      " [2 0 1 3]\n",
      " [0 3 2 1]\n",
      " [1 0 3 2]]\n",
      "[[2 3 0 2]\n",
      " [3 0 1 3]\n",
      " [1 2 2 0]\n",
      " [0 1 3 1]]\n",
      "[ 8 13 11 12 15  1  2  6 10  3  4  9 14  5  0  7]\n"
     ]
    }
   ],
   "source": [
    "x = np.random.randint(1, 20, 16).reshape(4,4)\n",
    "print(x)\n",
    "# 정렬했을 때의 순서 인덱스를 반환\n",
    "print(np.argsort(x)) # 기본값 axis=1\n",
    "print(np.argsort(x, axis=0))\n",
    "print(np.argsort(x, axis=None)) # flatten 된 배열의 인덱스를 반환"
   ]
  },
  {
   "cell_type": "code",
   "execution_count": 104,
   "metadata": {},
   "outputs": [
    {
     "name": "stdout",
     "output_type": "stream",
     "text": [
      "[[14 11 19 13]\n",
      " [17 14 19 16]\n",
      " [17 14 14  5]\n",
      " [ 6 12 15 11]]\n",
      "[[14 17 17  6]\n",
      " [11 14 14 12]\n",
      " [19 19 14 15]\n",
      " [13 16  5 11]]\n",
      "[[14 17 17  6]\n",
      " [11 14 14 12]\n",
      " [19 19 14 15]\n",
      " [13 16  5 11]]\n",
      "[[14 17 17  6]\n",
      " [11 14 14 12]\n",
      " [19 19 14 15]\n",
      " [13 16  5 11]]\n"
     ]
    }
   ],
   "source": [
    "x = np.random.randint(1, 20, 16).reshape(4,4)\n",
    "print(x)\n",
    "\n",
    "# 행렬의 내적(inner product) 구할 때 필요\n",
    "# 3 가지 모두 전치행렬 transpose matrix(aT)로 사용가능\n",
    "# 3차원 배열도 가능!\n",
    "print(x.T)\n",
    "print(np.transpose(x))\n",
    "print(x.transpose())"
   ]
  },
  {
   "attachments": {},
   "cell_type": "markdown",
   "metadata": {},
   "source": [
    "# 확률과 통계"
   ]
  },
  {
   "cell_type": "code",
   "execution_count": 18,
   "metadata": {},
   "outputs": [
    {
     "name": "stdout",
     "output_type": "stream",
     "text": [
      "[[ 0  1  2  3  4]\n",
      " [ 5  6  7  8  9]\n",
      " [10 11 12 13 14]\n",
      " [15 16 17 18 19]\n",
      " [20 21 22 23 24]]\n",
      "12.0\n",
      "[10. 11. 12. 13. 14.]\n",
      "[ 2  7 12 17 22]\n"
     ]
    }
   ],
   "source": [
    "# mean 평균\n",
    "\n",
    "print(arr)\n",
    "print(np.mean(arr))\n",
    "print(np.mean(arr, axis=0)) \n",
    "print(np.mean(arr, axis=1, dtype = np.int16)) \n"
   ]
  },
  {
   "cell_type": "code",
   "execution_count": 11,
   "metadata": {},
   "outputs": [
    {
     "name": "stdout",
     "output_type": "stream",
     "text": [
      "[[ 0  1  2  3  4]\n",
      " [ 5  6  7  8  9]\n",
      " [10 11 12 13 14]\n",
      " [15 16 17 18 19]\n",
      " [20 21 22 23 24]]\n",
      "12.0\n",
      "[10. 11. 12. 13. 14.]\n",
      "[ 2.  7. 12. 17. 22.]\n"
     ]
    }
   ],
   "source": [
    "# median 중앙값, 중위수\n",
    "\n",
    "print(arr)\n",
    "print(np.median(arr))\n",
    "print(np.median(arr, axis=0)) \n",
    "print(np.median(arr, axis=1, dtype = np.int16)) \n"
   ]
  },
  {
   "cell_type": "code",
   "execution_count": 19,
   "metadata": {},
   "outputs": [
    {
     "name": "stdout",
     "output_type": "stream",
     "text": [
      "6.0\n",
      "12.0\n",
      "18.0\n",
      "[ 6. 12. 18.]\n"
     ]
    }
   ],
   "source": [
    "# 데이터의 백분위수를 계산\n",
    "\"\"\"\n",
    "a : 사용할 배열\n",
    "p : percentile로 백분위수 결과\n",
    "(axis) : 축 설정\n",
    "(out) : 변수 반환 유무\n",
    "(overwrite_input) : 입력 덮어쓰기, 기본값 = False로 \n",
    "(method) : 백분위수를 추정하는데 사용할 방법을 설정\n",
    "    1. 'inverted_cdf'\n",
    "    2. 'averaged_inverted_cdf'\n",
    "    3. 'closest_observation'\n",
    "    4. 'interpolated_inverted_cdf'\n",
    "    5. 'hazen'\n",
    "    6. 'weibull'\n",
    "    7. 'linear'\n",
    "    8. 'median_unbiased'\n",
    "    9. 'normal_unbiased'\n",
    "(keepdims) : 차원 유지. True이면 출력 차원을 입력 차원과 동일하게 유지\n",
    "\"\"\"\n",
    "\n",
    "\n",
    "# 백분위 25%의 intensity\n",
    "print(np.percentile(arr, 25))\n",
    "\n",
    "# 백분위 50%의 intensity\n",
    "print(np.percentile(arr, 50))\n",
    "\n",
    "# 백분위 75%의 intensity\n",
    "print(np.percentile(arr, 75))\n",
    "\n",
    "# 백분위 25, 50 75%의 intensity\n",
    "print(np.percentile(arr, [25, 50 , 75]))\n"
   ]
  },
  {
   "cell_type": "code",
   "execution_count": 30,
   "metadata": {},
   "outputs": [
    {
     "name": "stdout",
     "output_type": "stream",
     "text": [
      "[[ 0  1  2  3  4]\n",
      " [ 5  6  7  8  9]\n",
      " [10 11 12 13 14]\n",
      " [15 16 17 18 19]\n",
      " [20 21 22 23 24]]\n",
      "7.211102550927978\n",
      "[7.07106781 7.07106781 7.07106781 7.07106781 7.07106781]\n",
      "[1.4142135 1.4142135 1.4142135 1.4142135 1.4142135]\n"
     ]
    }
   ],
   "source": [
    "# std 표준 편차 : 각 측정값과 평균의 차이를 측정하여 해당 자료의 산포도를 나타내는 값\n",
    "\n",
    "print(arr)\n",
    "print(np.std(arr))\n",
    "print(np.std(arr, axis=0)) \n",
    "print(np.std(arr, axis=1, dtype = np.float32)) "
   ]
  },
  {
   "cell_type": "code",
   "execution_count": 23,
   "metadata": {},
   "outputs": [
    {
     "name": "stdout",
     "output_type": "stream",
     "text": [
      "[[ 0  1  2  3  4]\n",
      " [ 5  6  7  8  9]\n",
      " [10 11 12 13 14]\n",
      " [15 16 17 18 19]\n",
      " [20 21 22 23 24]]\n",
      "52.0\n",
      "[50. 50. 50. 50. 50.]\n",
      "[2. 2. 2. 2. 2.]\n"
     ]
    }
   ],
   "source": [
    "# var 분산 : 관측값에서 평균을 뺀 값을 제곱하고 모두 더한 후 전체 개수로 나눠서 구한다. 즉, 편차 제곱의 평균\n",
    "\n",
    "print(arr)\n",
    "print(np.var(arr))\n",
    "print(np.var(arr, axis=0)) \n",
    "print(np.var(arr, axis=1, dtype = np.float32)) "
   ]
  },
  {
   "cell_type": "code",
   "execution_count": 41,
   "metadata": {},
   "outputs": [
    {
     "name": "stdout",
     "output_type": "stream",
     "text": [
      "[[ 0  1  2  3  4]\n",
      " [ 5  6  7  8  9]\n",
      " [10 11 12 13 14]\n",
      " [15 16 17 18 19]\n",
      " [20 21 22 23 24]]\n",
      "[[2.5 2.5 2.5 2.5 2.5]\n",
      " [2.5 2.5 2.5 2.5 2.5]\n",
      " [2.5 2.5 2.5 2.5 2.5]\n",
      " [2.5 2.5 2.5 2.5 2.5]\n",
      " [2.5 2.5 2.5 2.5 2.5]]\n",
      "[[ 26.33   -27.83   -41.84    -2.834   10.5    -22.5   ]\n",
      " [-27.83    30.33    42.34     2.834   -9.      29.    ]\n",
      " [-41.84    42.34    70.4      4.836  -21.      25.    ]\n",
      " [ -2.834    2.834    4.836    0.3333  -1.5      1.5   ]\n",
      " [ 10.5     -9.     -21.      -1.5      9.       3.    ]\n",
      " [-22.5     29.      25.       1.5      3.      49.    ]]\n",
      "[[1. 1.]\n",
      " [1. 1.]]\n",
      "[[ 0  1  2  3  4]\n",
      " [ 5  7  9 11 13]\n",
      " [15 18 21 24 27]\n",
      " [30 34 38 42 46]\n",
      " [50 55 60 65 70]]\n",
      "[[      0       0       0       0       0]\n",
      " [      5      30     210    1680   15120]\n",
      " [     10     110    1320   17160  240240]\n",
      " [     15     240    4080   73440 1395360]\n",
      " [     20     420    9240  212520 5100480]]\n"
     ]
    }
   ],
   "source": [
    "arr1 = np.random.randint(1,20, 9).reshape(3, 3)\n",
    "arr2 = np.random.randint(1, 20, 9).reshape(3, 3)\n",
    "\n",
    "print(arr)\n",
    "# 공분산 설명 : https://supermemi.tistory.com/71\n",
    "print(np.cov(arr)) # 공분산 covariance : 두 변수가 함께 변화를 보이는 지표, 2개의 확률변수의 선형 관계를 나타내는 값\n",
    "print(np.cov(arr1, arr2, dtype=np.float16)) # arr1의 분산, arr2의 분산과 함께 둘의 공분산 계산\n",
    "# 피어슨 상관계수 설명 : https://umbum.dev/1006\n",
    "print(np.corrcoef(arr[:,0], arr[:,1])) #  피어슨 상관계수 값 계산 :  X와 Y 간의 선형 상관 관계를 계량화한 수치\n",
    "print(np.cumsum(arr, axis=0)) # 누적되는 원소들의 누적 합 계산\n",
    "print(np.cumprod(arr, axis=1)) # 누적되는 원소들의 누적 곱 계산"
   ]
  },
  {
   "cell_type": "code",
   "execution_count": 42,
   "metadata": {},
   "outputs": [
    {
     "name": "stdout",
     "output_type": "stream",
     "text": [
      "[[ 0  0  0  0  0]\n",
      " [ 5  6  0  0  0]\n",
      " [10 11 12  0  0]\n",
      " [15 16 17 18  0]\n",
      " [20 21 22 23 24]]\n",
      "[[ 0  1  2  3  4]\n",
      " [ 0  6  7  8  9]\n",
      " [ 0  0 12 13 14]\n",
      " [ 0  0  0 18 19]\n",
      " [ 0  0  0  0 24]]\n"
     ]
    }
   ],
   "source": [
    "print(np.tril(arr)) # 하삼각행렬 (Lower triangular matrix) 반환\n",
    "print(np.triu(arr)) # 상삼각행렬 (Upper triangular matrix) 반환"
   ]
  },
  {
   "attachments": {},
   "cell_type": "markdown",
   "metadata": {},
   "source": [
    " # Set 관련"
   ]
  },
  {
   "cell_type": "code",
   "execution_count": 6,
   "metadata": {},
   "outputs": [
    {
     "name": "stdout",
     "output_type": "stream",
     "text": [
      "[1 2 3 4 5 6]\n",
      "[1 2 3 4 5 6]\n",
      "[3 3 2 1 2 1]\n"
     ]
    }
   ],
   "source": [
    "arr = np.array([1,1,1,2,2,2,3,3,4,5,5,6])\n",
    "print(np.unique(arr))\n",
    "\n",
    "set_, cnt = np.unique(arr, return_counts=True)\n",
    "print(set_)\n",
    "print(cnt)"
   ]
  },
  {
   "cell_type": "code",
   "execution_count": 7,
   "metadata": {},
   "outputs": [
    {
     "name": "stdout",
     "output_type": "stream",
     "text": [
      "[3 4 5]\n",
      "[1 2 3 4 5 6 7]\n",
      "[False False  True  True  True]\n",
      "[False False  True  True  True]\n",
      "[1 2]\n",
      "[1 2 6 7]\n"
     ]
    }
   ],
   "source": [
    "arr1 = np.array([1,2,3,4,5])\n",
    "arr2 = np.array([3,4,5,6,7])\n",
    "\n",
    "print(np.intersect1d(arr1, arr2)) # 교집합\n",
    "print(np.union1d(arr1, arr2)) # 합집합\n",
    "print(np.setdiff1d(arr1, arr2)) # 차집합\n",
    "print(np.setxor1d(arr1, arr2)) # 합집합 - 교집합 (교집합의 여집합)\n",
    "\n",
    "# 존재 유무 불\n",
    "print(np.in1d(arr1, arr2)) # 1차원 배열로 반환\n",
    "print(np.isin(arr1, arr2)) # 넣어준 배열의 차원 그대로 반환\n"
   ]
  },
  {
   "attachments": {},
   "cell_type": "markdown",
   "metadata": {},
   "source": [
    "# 선형대수"
   ]
  },
  {
   "cell_type": "code",
   "execution_count": 20,
   "metadata": {},
   "outputs": [
    {
     "name": "stdout",
     "output_type": "stream",
     "text": [
      "[[-0.1318779  -0.712131    0.13825496  0.20223823  0.64456413]\n",
      " [-0.4835218  -0.50059903 -0.31810856  0.14120003 -0.62807386]\n",
      " [-0.54262538  0.313135   -0.61405375 -0.20891711  0.43219881]\n",
      " [-0.67371172  0.25565086  0.6905731   0.05821929 -0.02178233]\n",
      " [-0.0220252  -0.28081873  0.16043472 -0.94452443 -0.05282068]]\n",
      "\n",
      "[[-0.78728945 -0.67715657 -1.26722724 -1.0931003  -0.9140792 ]\n",
      " [ 0.         -1.13498578 -0.42547663 -0.14885868 -0.25551329]\n",
      " [ 0.          0.         -0.41394965  0.15335667 -0.53774138]\n",
      " [ 0.          0.          0.         -0.95397965 -0.40492228]\n",
      " [ 0.          0.          0.          0.          0.1448224 ]]\n"
     ]
    }
   ],
   "source": [
    "arr = np.random.rand(5,5)\n",
    "\n",
    "q, r = np.linalg.qr(arr)\n",
    "print(q); print()\n",
    "print(r)"
   ]
  },
  {
   "cell_type": "code",
   "execution_count": 19,
   "metadata": {},
   "outputs": [
    {
     "name": "stdout",
     "output_type": "stream",
     "text": [
      "[[0.36559797 0.64588745 0.68488474 0.53454942 0.48813437]\n",
      " [0.99094613 1.3520716  1.57533299 1.32321075 1.34220614]\n",
      " [0.95936558 1.39166788 1.80302978 1.48652134 1.83194828]\n",
      " [1.03686064 1.29547915 1.45671184 1.2154447  1.08586218]\n",
      " [0.88900688 1.47168602 1.79235747 1.39524355 1.66682156]]\n",
      "\n",
      "[[0.36559797 0.64588745 0.68488474 0.53454942 0.48813437]\n",
      " [0.99094613 1.3520716  1.57533299 1.32321075 1.34220614]\n",
      " [0.95936558 1.39166788 1.80302978 1.48652134 1.83194828]\n",
      " [1.03686064 1.29547915 1.45671184 1.2154447  1.08586218]\n",
      " [0.88900688 1.47168602 1.79235747 1.39524355 1.66682156]]\n",
      "\n",
      "[[0.36559797 0.64588745 0.68488474 0.53454942 0.48813437]\n",
      " [0.99094613 1.3520716  1.57533299 1.32321075 1.34220614]\n",
      " [0.95936558 1.39166788 1.80302978 1.48652134 1.83194828]\n",
      " [1.03686064 1.29547915 1.45671184 1.2154447  1.08586218]\n",
      " [0.88900688 1.47168602 1.79235747 1.39524355 1.66682156]]\n",
      "\n"
     ]
    }
   ],
   "source": [
    "arr1 = np.random.rand(5,5)\n",
    "arr2 = np.random.rand(5,5)\n",
    "\n",
    "print(arr1.dot(arr2)); print()\n",
    "# or\n",
    "print(np.dot(arr1, arr2)); print()\n",
    "# or\n",
    "print(arr1 @ arr2); print()"
   ]
  },
  {
   "cell_type": "code",
   "execution_count": 23,
   "metadata": {},
   "outputs": [
    {
     "name": "stdout",
     "output_type": "stream",
     "text": [
      "[[-0.36267842  0.31858517 -0.3945214  -0.68066539  0.38472762]\n",
      " [-0.63577613  0.46076605  0.01522165  0.21812368 -0.57937355]\n",
      " [-0.2524644  -0.7327307  -0.49934775 -0.12601873 -0.3662493 ]\n",
      " [-0.45859433 -0.36396127  0.74724371 -0.28858707  0.12477087]\n",
      " [-0.43612617 -0.12975382 -0.19078736  0.62446254  0.60547884]]\n",
      "\n",
      "[2.01686442 1.05730561 0.74881867 0.43389409 0.03155006]\n",
      "\n",
      "[[-0.58343943 -0.56306759 -0.23269111 -0.45303729 -0.2883841 ]\n",
      " [ 0.54955209  0.03257334 -0.40610078 -0.07799845 -0.72521023]\n",
      " [-0.47392179  0.17779404  0.2403651   0.61737331 -0.55214331]\n",
      " [-0.30968894  0.41753784 -0.81037884  0.1553305   0.22116393]\n",
      " [-0.19256645  0.68988789  0.25777461 -0.61918987 -0.1926889 ]]\n"
     ]
    }
   ],
   "source": [
    "arr = np.random.rand(5,5)\n",
    "\n",
    "u, s, v = np.linalg.svd(arr)\n",
    "print(u); print()\n",
    "print(s); print()\n",
    "print(v)"
   ]
  },
  {
   "cell_type": "code",
   "execution_count": 16,
   "metadata": {},
   "outputs": [
    {
     "name": "stdout",
     "output_type": "stream",
     "text": [
      "[ 2.6597437 +0.j          0.56380311+0.j          0.23978549+0.j\n",
      " -0.58862233+0.10644253j -0.58862233-0.10644253j]\n",
      "\n",
      "[ 2.6597437 +0.j          0.56380311+0.j          0.23978549+0.j\n",
      " -0.58862233+0.10644253j -0.58862233-0.10644253j]\n",
      "\n",
      "[[ 1.73648879e-01+0.j          6.84580410e-01+0.j\n",
      "  -2.07797630e-01+0.j         -4.50509275e-02+0.06636484j\n",
      "  -4.50509275e-02-0.06636484j]\n",
      " [ 3.96408687e-01+0.j         -1.53418468e-04+0.j\n",
      "   4.40003988e-01+0.j         -5.51290575e-01+0.27761499j\n",
      "  -5.51290575e-01-0.27761499j]\n",
      " [ 5.74292007e-01+0.j         -5.84033401e-01+0.j\n",
      "  -7.67456563e-01+0.j          1.52027218e-01-0.00366291j\n",
      "   1.52027218e-01+0.00366291j]\n",
      " [ 4.06203952e-01+0.j         -2.89965647e-01+0.j\n",
      "   3.94526569e-01+0.j          6.55457071e-01+0.j\n",
      "   6.55457071e-01-0.j        ]\n",
      " [ 5.63820236e-01+0.j         -3.25844364e-01+0.j\n",
      "   1.36293233e-01+0.j         -1.59583456e-01-0.36654904j\n",
      "  -1.59583456e-01+0.36654904j]]\n"
     ]
    }
   ],
   "source": [
    "arr = np.random.rand(5,5)\n",
    "print(np.linalg.eigvals(arr)); print()\n",
    "\n",
    "w, v = np.linalg.eig(arr)\n",
    "print(w)    # eigen values\n",
    "print()\n",
    "print(v)   # eigen vectors\n",
    "\n"
   ]
  },
  {
   "cell_type": "code",
   "execution_count": 17,
   "metadata": {},
   "outputs": [
    {
     "name": "stdout",
     "output_type": "stream",
     "text": [
      "1.4533236227673814\n",
      "\n",
      "-0.198390997111491\n",
      "\n",
      "[[-1.69482045  0.86608452  2.61720615 -2.07120794 -0.12469817]\n",
      " [ 0.58135253 -0.54518232 -0.01739241  1.16467121 -1.00996475]\n",
      " [ 0.09217099  1.16764515 -0.73124982  0.31673954 -0.11179493]\n",
      " [ 0.51108639  0.00483213  0.26680457 -1.14180828  0.87113038]\n",
      " [ 1.1006423  -0.76084456 -2.31337199  2.20351438  1.02170362]]\n",
      "\n",
      "[[-1.69482045  0.86608452  2.61720615 -2.07120794 -0.12469817]\n",
      " [ 0.58135253 -0.54518232 -0.01739241  1.16467121 -1.00996475]\n",
      " [ 0.09217099  1.16764515 -0.73124982  0.31673954 -0.11179493]\n",
      " [ 0.51108639  0.00483213  0.26680457 -1.14180828  0.87113038]\n",
      " [ 1.1006423  -0.76084456 -2.31337199  2.20351438  1.02170362]]\n",
      "\n",
      "[-1.01935554 -0.95232821  0.94169532  1.10958313  6.56141282]\n"
     ]
    }
   ],
   "source": [
    "arr = np.random.rand(5,5)\n",
    "\n",
    "print(np.trace(arr)); print()\n",
    "print(np.linalg.det(arr)); print()\n",
    "\n",
    "\n",
    "print(np.linalg.inv(arr)); print()\n",
    "print(np.linalg.pinv(arr)); print()\n",
    "\n",
    "y = [1,2,3,4,5]\n",
    "print(np.linalg.solve(arr, y))"
   ]
  },
  {
   "cell_type": "code",
   "execution_count": 11,
   "metadata": {},
   "outputs": [
    {
     "name": "stdout",
     "output_type": "stream",
     "text": [
      "[ 3.90558838 -2.18967179  3.16384021  1.92401873 -1.07257619]\n",
      "[]\n",
      "5\n",
      "[2.3169312  0.86627475 0.6787801  0.27570244 0.0544881 ]\n"
     ]
    },
    {
     "name": "stderr",
     "output_type": "stream",
     "text": [
      "C:\\Users\\yookim\\AppData\\Local\\Temp\\ipykernel_33848\\2394510925.py:2: FutureWarning: `rcond` parameter will change to the default of machine precision times ``max(M, N)`` where M and N are the input matrix dimensions.\n",
      "To use the future default and silence this warning we advise to pass `rcond=None`, to keep using the old, explicitly pass `rcond=-1`.\n",
      "  solution, residuals, rank, singular = np.linalg.lstsq(arr, y)\n"
     ]
    }
   ],
   "source": [
    "y = [1,2,3,4,5]\n",
    "solution, residuals, rank, singular = np.linalg.lstsq(arr, y)\n",
    "print(solution)\n",
    "print(residuals)\n",
    "print(rank)\n",
    "print(singular)"
   ]
  }
 ],
 "metadata": {
  "kernelspec": {
   "display_name": "aivle",
   "language": "python",
   "name": "python3"
  },
  "language_info": {
   "codemirror_mode": {
    "name": "ipython",
    "version": 3
   },
   "file_extension": ".py",
   "mimetype": "text/x-python",
   "name": "python",
   "nbconvert_exporter": "python",
   "pygments_lexer": "ipython3",
   "version": "3.9.15"
  },
  "orig_nbformat": 4,
  "vscode": {
   "interpreter": {
    "hash": "14c0778f35eb1a1693aaa8436d3d12e6f0497f04708fd5dddb8ce06d09acab7c"
   }
  }
 },
 "nbformat": 4,
 "nbformat_minor": 2
}
