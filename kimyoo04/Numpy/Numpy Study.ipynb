{
 "cells": [
  {
   "cell_type": "code",
   "execution_count": null,
   "metadata": {},
   "outputs": [],
   "source": [
    "import numpy as np"
   ]
  },
  {
   "attachments": {},
   "cell_type": "markdown",
   "metadata": {},
   "source": [
    "# 배열 타입 설정"
   ]
  },
  {
   "cell_type": "code",
   "execution_count": null,
   "metadata": {},
   "outputs": [],
   "source": [
    "list_1 = [50,30,5,56,6,65,7,4,3,63,36,4,5,6,34,55]"
   ]
  },
  {
   "cell_type": "code",
   "execution_count": null,
   "metadata": {},
   "outputs": [],
   "source": [
    "my_numpy_array = np.array(list_1) # 여러 차원 배열도 가능\n",
    "print(my_numpy_array)\n",
    "print(my_numpy_array.dtype)\n",
    "\n",
    "my_numpy_array = np.array(list_1, dtype='f4') # 타입 설정 가능\n",
    "print(my_numpy_array)\n",
    "print(my_numpy_array.dtype)\n",
    "\n",
    "my_numpy_array = np.array(['abc', 'defasgbg'], dtype='S3') # 문자열 길이 제한 가능\n",
    "print(my_numpy_array)\n",
    "print(my_numpy_array.dtype)\n",
    "\n",
    "# 배열 안의 가장 긴 문자열을 크기를 타입으로 사용됨\n",
    "my_numpy_array = np.array(['a', 'ab', 'abc'], dtype=np.string_) \n",
    "print(my_numpy_array)\n",
    "print(my_numpy_array.dtype)\n",
    "\n",
    "# 배열 안의 가장 긴 문자열을 크기를 타입으로 사용됨\n",
    "my_numpy_array = np.array(['a', 'ab', 'abc'], dtype=np.unicode_) \n",
    "print(my_numpy_array)\n",
    "print(my_numpy_array.dtype)"
   ]
  },
  {
   "attachments": {},
   "cell_type": "markdown",
   "metadata": {},
   "source": [
    "# 배열 생성"
   ]
  },
  {
   "cell_type": "code",
   "execution_count": null,
   "metadata": {},
   "outputs": [],
   "source": [
    "list_2 = [0,1,2,3,4,5,6,7,8,9,]\n",
    "arr1 = np.array(list_2) # 1차원 배열\n",
    "arr2 = np.array(range(10)) # 시퀸스 객체\n",
    "arr3 = np.array([[1,2,3], [4,5,6]]) # 2차원 배열 직접 삽입\n",
    "arr4 = np.arange(0, 20) # array와 range 합친 메소드\n",
    "arr5 = np.arange(0, 20, 2) \n",
    "arr6 = np.linspace(0, 10, 20) # 등분 간격 유지하는 수 배열\n",
    "arr7, step = np.linspace(0, 10, 20, endpoint=False, retstep=True) # 간격을 반환을 같이 받기 \n",
    "\n"
   ]
  },
  {
   "attachments": {},
   "cell_type": "markdown",
   "metadata": {},
   "source": [
    "# 특수한 배열 생성"
   ]
  },
  {
   "cell_type": "code",
   "execution_count": null,
   "metadata": {},
   "outputs": [],
   "source": [
    "a = np.eye(7) # 주대각선이 1이고 나머지가 0인 7x7의 대각행렬 반환\n",
    "b = np.eye(5, k=-2) # 대각행렬의 대각 위치 조정\n",
    "c = np.identity(3) # 단위행렬\n",
    "d = np.ones((7,7)) # 7x7의 1행렬 반환\n",
    "e = np.ones_like(arr1) # 특정 배열의 형태대로 1행렬 반환\n",
    "f = np.zeros(8) # 8x8의 영행렬 반환\n",
    "g = np.zeros_like(arr1) # 특정 배열의 형태대로 영행렬 반환\n",
    "h = np.full((2,3), 5) # 2x3의 5행렬 반환\n",
    "i = np.full_like(arr1, 5) # 특정 배열의 형태대로 5행렬 반환\n",
    "j = np.diag(arr1) # 1차원 배열 인자 -> 대각행렬로 반환\n",
    "k = np.diag(arr3) # 2차원 배열 인자 -> 주대각선 성분 추출 반환\n",
    "\n",
    "j"
   ]
  },
  {
   "attachments": {},
   "cell_type": "markdown",
   "metadata": {},
   "source": [
    "# 난수 생성과 활용"
   ]
  },
  {
   "cell_type": "code",
   "execution_count": null,
   "metadata": {},
   "outputs": [],
   "source": [
    "arr = np.arange(25).reshape(5,5)\n",
    "\n",
    "np.random.seed(123) # 랜덤 시드 숫자 고정\n",
    "l = np.random.rand(20) # 랜덤 실수 - 20개의 배열 반환\n",
    "m = np.random.rand(3, 3) # 랜덤 실수 - 행렬 3x3 의 배열 반환\n",
    "# np.ranodm.randint(low, high, size, dtype)\n",
    "n = np.random.randint(1, 50) # 랜덤 정수 - 1~50 사이의 수 1개 정수 반환\n",
    "o = np.random.randint(1, 100, 15) # 랜덤 정수 - 1~100 사이의 수 15개 배열 반환\n",
    "\n"
   ]
  },
  {
   "cell_type": "code",
   "execution_count": null,
   "metadata": {},
   "outputs": [],
   "source": [
    "# np.random.rand()\n",
    "print(np.random.random_sample(10))\n",
    "print(np.random.random(10))\n",
    "print(np.random.ranf(10))\n",
    "print(np.random.sample(10))\n",
    "\n"
   ]
  },
  {
   "cell_type": "code",
   "execution_count": null,
   "metadata": {},
   "outputs": [],
   "source": [
    "# np.random.choice(iterable_or_int, size, replace=True, p=weights)\n",
    "print(np.random.choice(range(4), 15, replace=True, p=[0.3, 0.2, 0.1, 0.4]))\n",
    "print(np.random.choice(6, 15))"
   ]
  },
  {
   "cell_type": "code",
   "execution_count": null,
   "metadata": {},
   "outputs": [],
   "source": [
    "# 배열의 요소 순서 섞기\n",
    "print(f'shuffle 하기 전 \\n{arr}')\n",
    "print()\n",
    "print(np.random.shuffle(arr)) # None\n",
    "print()\n",
    "print(f'shuffle 한 후 \\n{arr}')\n",
    "print()\n",
    "# 배열의 요소 순서 섞은 것을 복사\n",
    "print(np.random.permutation(arr))\n"
   ]
  },
  {
   "attachments": {},
   "cell_type": "markdown",
   "metadata": {},
   "source": [
    "# 반복을 사용한 배열 생성"
   ]
  },
  {
   "cell_type": "code",
   "execution_count": null,
   "metadata": {},
   "outputs": [],
   "source": [
    "arr = [0, 1, 2]\n",
    "print(np.repeat(arr, 3))  \n",
    "print()\n",
    "print(np.repeat(range(3), 3))\n",
    "print()\n",
    "\n",
    "# 배열의 반복 위치 설정, 축 설정\n",
    "arr = [[1,2], [3,4]]\n",
    "print(np.repeat(arr, [1,5], axis=0))"
   ]
  },
  {
   "attachments": {},
   "cell_type": "markdown",
   "metadata": {},
   "source": [
    "# 배열 연산"
   ]
  },
  {
   "cell_type": "code",
   "execution_count": null,
   "metadata": {},
   "outputs": [],
   "source": [
    "a = np.arange(1, 10) # [1~9] nparray 형태가 됨\n",
    "b = np.arange(1, 10) # [1~9] nparray 형태가 됨\n",
    "\n",
    "sum_ = a + b # 각 인덱스별 더하기 결과를 반환\n",
    "print(f'{a}\\n{b}\\n{sum_}')\n",
    "\n",
    "minus = a - b # 각 인덱스별 더하기 결과를 반환\n",
    "print(f'{a}\\n{b}\\n{minus}')\n",
    "\n",
    "squared = a ** 2 # 배열 제곱 인덱스별 적용\n",
    "print(a, squared)"
   ]
  },
  {
   "cell_type": "code",
   "execution_count": null,
   "metadata": {},
   "outputs": [],
   "source": [
    "arr1 = np.array([1,2,3])\n",
    "arr2 = np.array([8,9,10])\n",
    "\n",
    "np.add(arr1, arr2, out=arr1)\n",
    "print(arr1) # arr1 변수에 더하기 결과 반환\n",
    "print(arr2) # arr2 의 값이 변하지 않음\n",
    "\n",
    "np.subtract(arr1, [8,9,10]) # out 파라미터에 변수를 주지 않으면 반환 안함\n",
    "print(arr1)\n",
    "print(arr2)\n",
    "\n",
    "np.multiply(arr1, [1,2,3], out=arr1)\n",
    "print(arr1)"
   ]
  },
  {
   "cell_type": "code",
   "execution_count": null,
   "metadata": {},
   "outputs": [],
   "source": [
    "arr = np.arange(1,7).reshape(2,3)\n",
    "print(np.sqrt(arr)) # 배열 제곱근 인덱스별 적용\n",
    "print(np.exp(arr)) # 자연상수(e = 2.71828...)의 지수배에 대한 값을 계산"
   ]
  },
  {
   "cell_type": "code",
   "execution_count": null,
   "metadata": {},
   "outputs": [],
   "source": [
    "print(arr)\n",
    "print(np.log(arr)) # 자연 로그\n",
    "print(np.log2(arr)) # log2\n",
    "print(np.log10(arr))    "
   ]
  },
  {
   "cell_type": "code",
   "execution_count": null,
   "metadata": {},
   "outputs": [],
   "source": [
    "print(np.sin(arr))\n",
    "print(np.cos(arr))"
   ]
  },
  {
   "cell_type": "code",
   "execution_count": null,
   "metadata": {},
   "outputs": [],
   "source": [
    "print(arr)\n",
    "print()\n",
    "print(np.sum(arr, axis=0))\n",
    "print()\n",
    "print(np.sum(arr, axis=1))  "
   ]
  },
  {
   "cell_type": "code",
   "execution_count": null,
   "metadata": {},
   "outputs": [],
   "source": [
    "print(arr)\n",
    "print()\n",
    "# 축을 따라 최솟값 반환\n",
    "print(np.min(arr, axis=0))\n",
    "print(np.min(arr, axis=1))\n",
    "print(np.min(arr)) # 축이 없으면 최솟값 반환"
   ]
  },
  {
   "cell_type": "code",
   "execution_count": null,
   "metadata": {},
   "outputs": [],
   "source": [
    "print(arr)\n",
    "print()\n",
    "# 축을 따라 최댓값 반환\n",
    "print(np.max(arr, axis=0))    \n",
    "print(np.max(arr, axis=1))    \n",
    "print(np.max(arr)) # 축이 없으면 최댓값 반환"
   ]
  },
  {
   "cell_type": "code",
   "execution_count": null,
   "metadata": {},
   "outputs": [],
   "source": [
    "# 축을 따라 최댓값, 최소값의 인덱스 반환\n",
    "print(np.argmin(arr, axis=0))\n",
    "print(np.argmax(arr, axis=0))\n",
    "print(np.argmin(arr, axis=1))\n",
    "print(np.argmax(arr, axis=1))\n",
    "# 축이 없으면 전체 요소 중 최댓값의 인덱스, 최솟값의 인덱스 반환\n",
    "print(np.argmin(arr))\n",
    "print(np.argmax(arr))"
   ]
  },
  {
   "cell_type": "code",
   "execution_count": null,
   "metadata": {},
   "outputs": [],
   "source": [
    "arr1 = np.array([1, 2, 4, 7, 5])\n",
    "arr2 = np.array([0, 4, 3, 5, 9])\n",
    "\n",
    "# 길이와 차원이 같은 배열의 같은 인덱스 끼리 비교후 큰 값 배열, 작은 값 배열 반환\n",
    "print(np.maximum(arr1, arr2))\n",
    "print(np.minimum(arr1, arr2))"
   ]
  },
  {
   "cell_type": "code",
   "execution_count": null,
   "metadata": {},
   "outputs": [],
   "source": [
    "arr1 = np.random.rand(10) * 10\n",
    "\n",
    "# 배열의 정수 부분과 소수 부분을 분리\n",
    "float_, int_ = np.modf(arr1)\n",
    "print(arr1)\n",
    "print(int_)\n",
    "print(float_)"
   ]
  },
  {
   "attachments": {},
   "cell_type": "markdown",
   "metadata": {},
   "source": [
    "# 인덱싱, 슬라이싱"
   ]
  },
  {
   "cell_type": "code",
   "execution_count": null,
   "metadata": {},
   "outputs": [],
   "source": [
    "# Broadcasting 방법\n",
    "# 한 번에 특정 슬라이싱 범위를 값을 바꾸기\n",
    "my_numpy_array[0:6] = 99\n",
    "print(my_numpy_array)\n",
    "print()\n",
    "\n",
    "matrix = np.random.randint(1,10, (4,4))\n",
    "print(matrix)\n",
    "print()\n",
    "\n",
    "# get first row \n",
    "# get first row's second index\n",
    "print(f'{matrix[0]} {matrix[0][1]}')\n",
    "print()\n",
    "\n",
    "# [행, 열] 표기법, \n",
    "print(matrix[1][3])\n",
    "print(matrix[1, 3])\n",
    "print()\n",
    "\n",
    "# [...] 표기법 가능\n",
    "print(matrix[1:3, 2:5])\n",
    "print(matrix[1, ...])   \n",
    "print(matrix[1,:])   \n",
    "print()"
   ]
  },
  {
   "cell_type": "code",
   "execution_count": null,
   "metadata": {},
   "outputs": [],
   "source": [
    "print(matrix)\n",
    "print()\n",
    "\n",
    "# boolean indexing\n",
    "bools = np.array([True, True, False, True, False])\n",
    "print(matrix[1,:][bools])\n",
    "print(matrix[1,:][~bools]) # not 붙인 효과\n",
    "print()\n",
    "\n",
    "# boolean indexing\n",
    "matrix = np.random.randint(1, 10, (5, 5))\n",
    "new_matrix = matrix[ matrix > 7]\n",
    "print(new_matrix)\n",
    "print()\n",
    "\n",
    "# boolean indexing\n",
    "new_matrix = matrix[ matrix % 2 == 0 ] # 짝수 값만 배열 반환\n",
    "print(new_matrix)\n",
    "print()"
   ]
  },
  {
   "cell_type": "code",
   "execution_count": null,
   "metadata": {},
   "outputs": [],
   "source": [
    "print(matrix)\n",
    "print()\n",
    "\n",
    "# fancy indexing\n",
    "print(matrix[[0, 2]])\n",
    "print()\n"
   ]
  },
  {
   "cell_type": "code",
   "execution_count": null,
   "metadata": {},
   "outputs": [],
   "source": [
    "# 조건 2 개 값 일괄 변경\n",
    "X = [[2, 30, 20, -2, -4],\n",
    "    [3, 4, 40, -3, -2],\n",
    "    [-3, 4, -6, 90, 10],\n",
    "    [25, 45, 34, 22, 12],\n",
    "    [13, 24, 22, 32, 37]]\n",
    "\n",
    "X = np.array(X)\n",
    "\n",
    "X[ X < 0 ] = 0\n",
    "X[ X % 2 == 1 ] = -2\n",
    "\n",
    "X"
   ]
  },
  {
   "attachments": {},
   "cell_type": "markdown",
   "metadata": {},
   "source": [
    "# 조건에 따른 값 지정"
   ]
  },
  {
   "cell_type": "code",
   "execution_count": null,
   "metadata": {},
   "outputs": [],
   "source": [
    "# condition \n",
    "# np.where(condition, true_return, false_return) \n",
    "print(np.where(matrix > 5, 1, 0)) # true일 때, false일 때 삽입할 값 지정 가능\n",
    "print()\n",
    "\n",
    "# 조건에 맞는 값의 인덱스를 오름차순 반환\n",
    "print(np.argwhere(matrix > 5))"
   ]
  },
  {
   "attachments": {},
   "cell_type": "markdown",
   "metadata": {},
   "source": [
    "# 배열 정보 확인"
   ]
  },
  {
   "cell_type": "code",
   "execution_count": null,
   "metadata": {},
   "outputs": [],
   "source": [
    "x = np.array([[1,2,3], [4,5,6], [7,8,9]], dtype='i2')\n",
    "\n",
    "print(x)\n",
    "print(f'배열 타입 확인 {type(x)}')\n",
    "print(f'배열 차원 확인 {x.ndim}')\n",
    "print(f'배열 원소 개수 확인 {x.size}')\n",
    "print(f'배열 모양 확인 {x.shape}')\n",
    "print(f'각 배열 요소의 바이트 수 {x.itemsize}')\n",
    "print(f'배열의 메모리 크기 {x.nbytes}')\n",
    "print()\n",
    "print(f'배열 종합 정보 확인 \\n{np.info(x)}')\n"
   ]
  },
  {
   "attachments": {},
   "cell_type": "markdown",
   "metadata": {},
   "source": [
    "# 배열 가공, 수정"
   ]
  },
  {
   "cell_type": "code",
   "execution_count": null,
   "metadata": {},
   "outputs": [],
   "source": [
    "x = np.array([[1,2,3], [4,5,6], [7,8,9]], dtype='i2')\n",
    "\n",
    "print(x.reshape(1,9)) # 배열 shape 조정\n",
    "print()\n",
    "\n",
    "print(x.astype(np.float32)) # 배열의 요소들의 타입 지정\n",
    "print()\n",
    "\n",
    "x.resize((2,3)) # 배열의 사이즈 조정, slicing도 가능\n",
    "print(x)\n",
    "print()\n",
    "\n",
    "print(x.flatten()) # 1차원 배열 반환 (메모리 저장)\n",
    "print()\n",
    "\n",
    "print(x.ravel()) # 1차원 배열 반환 (메모리 참조)\n"
   ]
  },
  {
   "attachments": {},
   "cell_type": "markdown",
   "metadata": {},
   "source": [
    "# 배열 추가, 수정, 삭제, 복사"
   ]
  },
  {
   "cell_type": "code",
   "execution_count": null,
   "metadata": {},
   "outputs": [],
   "source": [
    "arr = np.array(range(1,4))\n",
    "print(arr)\n",
    "print()\n",
    "\n",
    "# np.append(array, new_value, [axis])\n",
    "arr1 = np.append(arr, 4)  \n",
    "arr2 = np.append(arr, [4,5,6])    \n",
    "print(arr1)\n",
    "print(arr2)\n",
    "print()\n",
    "\n",
    "# np.insert(array, index, new_value. [axis])\n",
    "arr3 = np.insert(arr, 0, 100)    \n",
    "arr4 = np.insert(arr, 0, [1,2,3])    \n",
    "print(arr3)\n",
    "print(arr4)\n",
    "print()\n",
    "\n",
    "# np.delet(array, index)\n",
    "arr5 = np.delete(arr, 0)    \n",
    "print(arr5)\n",
    "print()\n",
    "\n",
    "# np.copy(array)\n",
    "arr1 = np.copy(arr)"
   ]
  },
  {
   "cell_type": "code",
   "execution_count": null,
   "metadata": {},
   "outputs": [],
   "source": [
    "x = np.arange(1,17).reshape(4,4)\n",
    "y = x.copy()\n",
    "\n",
    "# np.concatename()\n",
    "cat = np.concatenate((x,y))     \n",
    "print(cat)   \n",
    "cat = np.concatenate((x,y), axis=1)     \n",
    "print(cat)   "
   ]
  },
  {
   "attachments": {},
   "cell_type": "markdown",
   "metadata": {},
   "source": [
    "# 배열 정렬"
   ]
  },
  {
   "cell_type": "code",
   "execution_count": null,
   "metadata": {},
   "outputs": [],
   "source": [
    "x = np.random.randint(1, 20, 16).reshape(4,4)\n",
    "print(x)\n",
    "print(np.sort(x, axis=0)) \n",
    "print(x.sort(axis=0))\n",
    "print(x)\n"
   ]
  },
  {
   "cell_type": "code",
   "execution_count": null,
   "metadata": {},
   "outputs": [],
   "source": [
    "x = np.random.randint(1, 20, 16).reshape(4,4)\n",
    "print(x)\n",
    "# 정렬했을 때의 순서 인덱스를 반환\n",
    "print(np.argsort(x)) # 기본값 axis=1\n",
    "print(np.argsort(x, axis=0))\n",
    "print(np.argsort(x, axis=None)) # flatten 된 배열의 인덱스를 반환"
   ]
  },
  {
   "cell_type": "code",
   "execution_count": null,
   "metadata": {},
   "outputs": [],
   "source": [
    "x = np.random.randint(1, 20, 16).reshape(4,4)\n",
    "print(x)\n",
    "\n",
    "# 행렬의 내적(inner product) 구할 때 필요\n",
    "# 3 가지 모두 전치행렬 transpose matrix(aT)로 사용가능\n",
    "# 3차원 배열도 가능!\n",
    "print(x.T)\n",
    "print(np.transpose(x))\n",
    "print(x.transpose())"
   ]
  },
  {
   "attachments": {},
   "cell_type": "markdown",
   "metadata": {},
   "source": [
    "# 확률과 통계"
   ]
  },
  {
   "cell_type": "code",
   "execution_count": null,
   "metadata": {},
   "outputs": [],
   "source": [
    "# mean 평균\n",
    "\n",
    "print(arr)\n",
    "print(np.mean(arr))\n",
    "print(np.mean(arr, axis=0)) \n",
    "print(np.mean(arr, axis=1, dtype = np.int16)) \n"
   ]
  },
  {
   "cell_type": "code",
   "execution_count": null,
   "metadata": {},
   "outputs": [],
   "source": [
    "# median 중앙값, 중위수\n",
    "\n",
    "print(arr)\n",
    "print(np.median(arr))\n",
    "print(np.median(arr, axis=0)) \n",
    "print(np.median(arr, axis=1, dtype = np.int16)) \n"
   ]
  },
  {
   "cell_type": "code",
   "execution_count": null,
   "metadata": {},
   "outputs": [],
   "source": [
    "# 데이터의 백분위수를 계산\n",
    "\"\"\"\n",
    "a : 사용할 배열\n",
    "p : percentile로 백분위수 결과\n",
    "(axis) : 축 설정\n",
    "(out) : 변수 반환 유무\n",
    "(overwrite_input) : 입력 덮어쓰기, 기본값 = False로 \n",
    "(method) : 백분위수를 추정하는데 사용할 방법을 설정\n",
    "    1. 'inverted_cdf'\n",
    "    2. 'averaged_inverted_cdf'\n",
    "    3. 'closest_observation'\n",
    "    4. 'interpolated_inverted_cdf'\n",
    "    5. 'hazen'\n",
    "    6. 'weibull'\n",
    "    7. 'linear'\n",
    "    8. 'median_unbiased'\n",
    "    9. 'normal_unbiased'\n",
    "(keepdims) : 차원 유지. True이면 출력 차원을 입력 차원과 동일하게 유지\n",
    "\"\"\"\n",
    "\n",
    "\n",
    "# 백분위 25%의 intensity\n",
    "print(np.percentile(arr, 25))\n",
    "\n",
    "# 백분위 50%의 intensity\n",
    "print(np.percentile(arr, 50))\n",
    "\n",
    "# 백분위 75%의 intensity\n",
    "print(np.percentile(arr, 75))\n",
    "\n",
    "# 백분위 25, 50 75%의 intensity\n",
    "print(np.percentile(arr, [25, 50 , 75]))\n"
   ]
  },
  {
   "cell_type": "code",
   "execution_count": null,
   "metadata": {},
   "outputs": [],
   "source": [
    "# std 표준 편차 : 각 측정값과 평균의 차이를 측정하여 해당 자료의 산포도를 나타내는 값\n",
    "\n",
    "print(arr)\n",
    "print(np.std(arr))\n",
    "print(np.std(arr, axis=0)) \n",
    "print(np.std(arr, axis=1, dtype = np.float32)) "
   ]
  },
  {
   "cell_type": "code",
   "execution_count": null,
   "metadata": {},
   "outputs": [],
   "source": [
    "# var 분산 : 관측값에서 평균을 뺀 값을 제곱하고 모두 더한 후 전체 개수로 나눠서 구한다. 즉, 편차 제곱의 평균\n",
    "\n",
    "print(arr)\n",
    "print(np.var(arr))\n",
    "print(np.var(arr, axis=0)) \n",
    "print(np.var(arr, axis=1, dtype = np.float32)) "
   ]
  },
  {
   "cell_type": "code",
   "execution_count": null,
   "metadata": {},
   "outputs": [],
   "source": [
    "arr1 = np.random.randint(1,20, 9).reshape(3, 3)\n",
    "arr2 = np.random.randint(1, 20, 9).reshape(3, 3)\n",
    "\n",
    "print(arr)\n",
    "# 공분산 설명 : https://supermemi.tistory.com/71\n",
    "print(np.cov(arr)) # 공분산 covariance : 두 변수가 함께 변화를 보이는 지표, 2개의 확률변수의 선형 관계를 나타내는 값\n",
    "print(np.cov(arr1, arr2, dtype=np.float16)) # arr1의 분산, arr2의 분산과 함께 둘의 공분산 계산\n",
    "# 피어슨 상관계수 설명 : https://umbum.dev/1006\n",
    "print(np.corrcoef(arr[:,0], arr[:,1])) #  피어슨 상관계수 값 계산 :  X와 Y 간의 선형 상관 관계를 계량화한 수치\n",
    "print(np.cumsum(arr, axis=0)) # 누적되는 원소들의 누적 합 계산\n",
    "print(np.cumprod(arr, axis=1)) # 누적되는 원소들의 누적 곱 계산"
   ]
  },
  {
   "cell_type": "code",
   "execution_count": null,
   "metadata": {},
   "outputs": [],
   "source": [
    "print(np.tril(arr)) # 하삼각행렬 (Lower triangular matrix) 반환\n",
    "print(np.triu(arr)) # 상삼각행렬 (Upper triangular matrix) 반환"
   ]
  },
  {
   "attachments": {},
   "cell_type": "markdown",
   "metadata": {},
   "source": [
    " # Set 관련"
   ]
  },
  {
   "cell_type": "code",
   "execution_count": null,
   "metadata": {},
   "outputs": [],
   "source": [
    "arr = np.array([1,1,1,2,2,2,3,3,4,5,5,6])\n",
    "print(np.unique(arr))\n",
    "\n",
    "set_, cnt = np.unique(arr, return_counts=True)\n",
    "print(set_)\n",
    "print(cnt)"
   ]
  },
  {
   "cell_type": "code",
   "execution_count": null,
   "metadata": {},
   "outputs": [],
   "source": [
    "arr1 = np.array([1,2,3,4,5])\n",
    "arr2 = np.array([3,4,5,6,7])\n",
    "\n",
    "print(np.intersect1d(arr1, arr2)) # 교집합\n",
    "print(np.union1d(arr1, arr2)) # 합집합\n",
    "print(np.setdiff1d(arr1, arr2)) # 차집합\n",
    "print(np.setxor1d(arr1, arr2)) # 합집합 - 교집합 (교집합의 여집합)\n",
    "\n",
    "# 존재 유무 불\n",
    "print(np.in1d(arr1, arr2)) # 1차원 배열로 반환\n",
    "print(np.isin(arr1, arr2)) # 넣어준 배열의 차원 그대로 반환\n"
   ]
  },
  {
   "attachments": {},
   "cell_type": "markdown",
   "metadata": {},
   "source": [
    "# 선형대수"
   ]
  },
  {
   "cell_type": "code",
   "execution_count": null,
   "metadata": {},
   "outputs": [],
   "source": [
    "arr = np.random.rand(5,5)\n",
    "\n",
    "q, r = np.linalg.qr(arr)\n",
    "print(q); print()\n",
    "print(r)"
   ]
  },
  {
   "cell_type": "code",
   "execution_count": null,
   "metadata": {},
   "outputs": [],
   "source": [
    "arr1 = np.random.rand(5,5)\n",
    "arr2 = np.random.rand(5,5)\n",
    "\n",
    "print(arr1.dot(arr2)); print()\n",
    "# or\n",
    "print(np.dot(arr1, arr2)); print()\n",
    "# or\n",
    "print(arr1 @ arr2); print()"
   ]
  },
  {
   "cell_type": "code",
   "execution_count": null,
   "metadata": {},
   "outputs": [],
   "source": [
    "arr = np.random.rand(5,5)\n",
    "\n",
    "u, s, v = np.linalg.svd(arr)\n",
    "print(u); print()\n",
    "print(s); print()\n",
    "print(v)"
   ]
  },
  {
   "cell_type": "code",
   "execution_count": null,
   "metadata": {},
   "outputs": [],
   "source": [
    "arr = np.random.rand(5,5)\n",
    "print(np.linalg.eigvals(arr)); print()\n",
    "\n",
    "w, v = np.linalg.eig(arr)\n",
    "print(w)    # eigen values\n",
    "print()\n",
    "print(v)   # eigen vectors\n",
    "\n"
   ]
  },
  {
   "cell_type": "code",
   "execution_count": null,
   "metadata": {},
   "outputs": [],
   "source": [
    "arr = np.random.rand(5,5)\n",
    "\n",
    "print(np.trace(arr)); print()\n",
    "print(np.linalg.det(arr)); print()\n",
    "\n",
    "\n",
    "print(np.linalg.inv(arr)); print()\n",
    "print(np.linalg.pinv(arr)); print()\n",
    "\n",
    "y = [1,2,3,4,5]\n",
    "print(np.linalg.solve(arr, y))"
   ]
  },
  {
   "cell_type": "code",
   "execution_count": null,
   "metadata": {},
   "outputs": [],
   "source": [
    "y = [1,2,3,4,5]\n",
    "solution, residuals, rank, singular = np.linalg.lstsq(arr, y)\n",
    "print(solution)\n",
    "print(residuals)\n",
    "print(rank)\n",
    "print(singular)"
   ]
  }
 ],
 "metadata": {
  "kernelspec": {
   "display_name": "aivle",
   "language": "python",
   "name": "python3"
  },
  "language_info": {
   "codemirror_mode": {
    "name": "ipython",
    "version": 3
   },
   "file_extension": ".py",
   "mimetype": "text/x-python",
   "name": "python",
   "nbconvert_exporter": "python",
   "pygments_lexer": "ipython3",
   "version": "3.9.15"
  },
  "vscode": {
   "interpreter": {
    "hash": "14c0778f35eb1a1693aaa8436d3d12e6f0497f04708fd5dddb8ce06d09acab7c"
   }
  }
 },
 "nbformat": 4,
 "nbformat_minor": 2
}
