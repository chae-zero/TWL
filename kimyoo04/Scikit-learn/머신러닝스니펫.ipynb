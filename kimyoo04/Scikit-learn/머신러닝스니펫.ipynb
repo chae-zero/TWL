{
 "cells": [
  {
   "attachments": {},
   "cell_type": "markdown",
   "metadata": {},
   "source": [
    "# 머신러닝 스니펫 목차"
   ]
  },
  {
   "attachments": {},
   "cell_type": "markdown",
   "metadata": {},
   "source": [
    "#### 데이터 헨들링\n",
    "1. 모듈 임포트\n",
    "2. 데이터 탐색 (이해, 도메인 지식 학습)\n",
    "3. 데이터 분석 (단변량, 이변량, ydata-profiling)\n",
    "4. 데이터 전처리 (결측치, 이상치, 정규화, 처리, 피처엔지니어링)\n",
    "6. 학습, 평가 데이터 분리(x_train, x_test, y_train, y_test)\n",
    "---\n",
    "#### 모델링 (알고리즘 선택)\n",
    "1. 모듈 임포트\n",
    "2. 모델 선언\n",
    "3. 모델 학습\n",
    "4. 모델 예측 및 평가\n",
    "5. 시각화\n",
    "---\n",
    "#### 하이퍼파라미터 튜닝\n",
    "1. cross_val_score\n",
    "2. GridSearchCV\n",
    "3. RandomSearchCV\n",
    "---\n",
    "#### Regulation 테스트"
   ]
  },
  {
   "attachments": {},
   "cell_type": "markdown",
   "metadata": {},
   "source": [
    "# 모듈 불러오기"
   ]
  },
  {
   "attachments": {},
   "cell_type": "markdown",
   "metadata": {},
   "source": [
    "#### 기본"
   ]
  },
  {
   "cell_type": "code",
   "execution_count": 2,
   "metadata": {},
   "outputs": [],
   "source": [
    "import numpy as np\n",
    "import pandas as pd\n",
    "import joblib\n",
    "\n",
    "from scipy.stats import skew, kurtosis\n",
    "from scipy.stats import ttest_ind, f_oneway, pearsonr"
   ]
  },
  {
   "cell_type": "code",
   "execution_count": null,
   "metadata": {},
   "outputs": [],
   "source": [
    "# pip install xgboost\n",
    "# pip install lightgbm"
   ]
  },
  {
   "attachments": {},
   "cell_type": "markdown",
   "metadata": {},
   "source": [
    "#### 회귀"
   ]
  },
  {
   "cell_type": "code",
   "execution_count": null,
   "metadata": {},
   "outputs": [],
   "source": [
    "from sklearn.linear_model import LinearRegression as RL\n",
    "from sklearn.neighbors import KNeighborsRegressor as KNNR\n",
    "from sklearn.tree import DecisionTreeRegressor as DTR\n",
    "from sklearn.svm import SVR\n",
    "from sklearn.ensemble import RandomForestRegressor as RFR\n",
    "from lightgbm import LGBMRegressor as LGBMR\n",
    "from xgboost import XGBRegressor as XGBR\n",
    "\n",
    "from sklearn.metrics import mean_squared_error as mse\n",
    "from sklearn.metrics import r2_score"
   ]
  },
  {
   "attachments": {},
   "cell_type": "markdown",
   "metadata": {},
   "source": [
    "#### 분류"
   ]
  },
  {
   "cell_type": "code",
   "execution_count": null,
   "metadata": {},
   "outputs": [],
   "source": [
    "from sklearn.linear_model import LogisticRegression as LR\n",
    "from sklearn.neighbors import KNeighborsClassifier as KNNC\n",
    "from sklearn.tree import DecisionTreeClassifier as DTC\n",
    "from sklearn.svm import SVC\n",
    "from sklearn.ensemble import RandomForestClassifier as RFC\n",
    "from lightgbm import LGBMClassifier as LGBMC\n",
    "from xgboost import XGBClassifier as XGBC\n",
    "\n",
    "from sklearn.metrics import confusion_matrix as cmatrix\n",
    "from sklearn.metrics import classification_report as creport\n",
    "from sklearn.metrics import recall_score as recall\n",
    "from sklearn.metrics import accuracy_score as acc\n",
    "from sklearn.metrics import f1_score"
   ]
  },
  {
   "attachments": {},
   "cell_type": "markdown",
   "metadata": {},
   "source": [
    "#### 교차검증"
   ]
  },
  {
   "cell_type": "code",
   "execution_count": null,
   "metadata": {},
   "outputs": [],
   "source": [
    "from sklearn.tree import DecisionTreeClassifier\n",
    "from sklearn.model_selection import cross_val_score\n",
    "\n",
    "from sklearn.model_selection import GridSearchCV, RandomizedSearchCV\n",
    "\n",
    "from sklearn.metrics import recall_score\n",
    "from sklearn.metrics import precision_score\n",
    "from sklearn.metrics import f1_score\n",
    "from sklearn.metrics import make_scorer\n",
    "\n",
    "from sklearn.model_selection import (\n",
    "    StratifiedKFold, # 분류\n",
    "    KFold, # 회귀\n",
    "    # GroupKFold, \n",
    "    # RepeatedKFold, \n",
    "    # StratifiedGroupKFold, \n",
    "    # RepeatedStratifiedKFold\n",
    ")"
   ]
  },
  {
   "attachments": {},
   "cell_type": "markdown",
   "metadata": {},
   "source": [
    "#### 시각화"
   ]
  },
  {
   "cell_type": "code",
   "execution_count": null,
   "metadata": {},
   "outputs": [],
   "source": [
    "import matplotlib.pyplot as plt\n",
    "import seaborn as sns\n",
    "plt.rc('font', family='Malgun Gothic')\n",
    "sns.set(font=\"Malgun Gothic\",\n",
    "        rc={\"axes.unicode_minus\":False}, # 마이너스 부호 깨짐 현상 해결\n",
    "        style='darkgrid')  \n",
    "\n",
    "import warnings\n",
    "warnings.filterwarnings(action='ignore')\n",
    "%config InlineBackend.figure_format = 'retina'"
   ]
  },
  {
   "attachments": {},
   "cell_type": "markdown",
   "metadata": {},
   "source": [
    "# 데이터 저장"
   ]
  },
  {
   "cell_type": "code",
   "execution_count": null,
   "metadata": {},
   "outputs": [],
   "source": [
    "folder_name = '1th'\n",
    "\n",
    "x_train.to_csv(f'./{folder_name}/x_train.csv', index = False)\n",
    "y_train.to_csv(f'./{folder_name}/y_train.csv', index = False)\n",
    "x_test.to_csv(f'./{folder_name}/x_test.csv', index = False)\n",
    "y_test.to_csv(f'./{folder_name}/y_test.csv', index = False)\n",
    "y_test.to_csv(f'./{folder_name}/x_final.csv', index = False)"
   ]
  },
  {
   "attachments": {},
   "cell_type": "markdown",
   "metadata": {},
   "source": [
    "# 데이터 로드"
   ]
  },
  {
   "cell_type": "code",
   "execution_count": null,
   "metadata": {},
   "outputs": [],
   "source": [
    "folder_name = '1th'\n",
    "\n",
    "df = pd.read_csv(f'./{folder_name}/x_train.csv', sep=',', encoding='utf-8')"
   ]
  },
  {
   "attachments": {},
   "cell_type": "markdown",
   "metadata": {},
   "source": [
    "# 데이터 탐색"
   ]
  },
  {
   "attachments": {},
   "cell_type": "markdown",
   "metadata": {},
   "source": [
    "#### x, y 분리"
   ]
  },
  {
   "cell_type": "code",
   "execution_count": null,
   "metadata": {},
   "outputs": [],
   "source": [
    "target='타겟컬럼'\n",
    "\n",
    "x = df.drop(target, axis=1)\n",
    "y = df.loc[:, target]"
   ]
  },
  {
   "cell_type": "markdown",
   "metadata": {},
   "source": [
    "#### 학습 평가 데이터 분리"
   ]
  },
  {
   "cell_type": "code",
   "execution_count": null,
   "metadata": {},
   "outputs": [],
   "source": [
    "from sklearn.model_selection import train_test_split\n",
    "\n",
    "# stratify 는 y 데이터가 알맞은 비율로 분할되게 맞춰준다.\n",
    "x_train, x_test, y_train, y_test =\\\n",
    "    train_test_split(x, y, test_size=0.3, random_state=1, stratify=y)"
   ]
  },
  {
   "attachments": {},
   "cell_type": "markdown",
   "metadata": {},
   "source": [
    "#### 누락된 값 분석"
   ]
  },
  {
   "cell_type": "code",
   "execution_count": null,
   "metadata": {},
   "outputs": [],
   "source": [
    "df.isna().sum() # 결측값 컬럼별 개수 파악"
   ]
  },
  {
   "cell_type": "code",
   "execution_count": null,
   "metadata": {},
   "outputs": [],
   "source": [
    "df.isna().mean() * 100 # 결측값 비율 파악"
   ]
  },
  {
   "cell_type": "code",
   "execution_count": null,
   "metadata": {},
   "outputs": [],
   "source": [
    "# !pip install missingno"
   ]
  },
  {
   "cell_type": "code",
   "execution_count": null,
   "metadata": {},
   "outputs": [],
   "source": [
    "import missingno as msno\n",
    "\n",
    "# 컬럼별 결측치 위치 시각화\n",
    "ax = msno.matrix(df)\n",
    "plt.show()\n",
    "\n",
    "# 파일 저장\n",
    "# from time import time, localtime\n",
    "# today = localtime(time())\n",
    "# ax.get_figure().savefig(f'images/mlpr_{today.tm_mon}{today.tm_mday}.png')"
   ]
  },
  {
   "cell_type": "code",
   "execution_count": null,
   "metadata": {},
   "outputs": [],
   "source": [
    "fig, ax = plt.subplots(figsize=(16, 6))\n",
    "(1 - df.isna().mean()).abs().plot.bar(ax=ax)\n",
    "\n",
    "# 파일 저장\n",
    "# from time import time, localtime\n",
    "# today = localtime(time())\n",
    "# fig.savefig(f'images/mlpr_{today.tm_mon}{today.tm_mday}.png', dpi=300)"
   ]
  },
  {
   "attachments": {},
   "cell_type": "markdown",
   "metadata": {},
   "source": [
    "#### 누락된 값 대치"
   ]
  },
  {
   "cell_type": "code",
   "execution_count": 5,
   "metadata": {},
   "outputs": [],
   "source": [
    "from sklearn import impute\n",
    "from sklearn.impute import KNNImputer\n",
    "from sklearn.experimental import enable_iterative_imputer"
   ]
  },
  {
   "cell_type": "code",
   "execution_count": null,
   "metadata": {},
   "outputs": [],
   "source": [
    "target = '컬럼명'\n",
    "imputer = impute.IterativeImputer(\n",
    "                                    missing_values = np.nan,    # 찾을 값 (결측값)\n",
    "                                    initial_strategy = 'mean',  # 대치할 방법, 'most_frequent'\n",
    "                                    verbose = 0\n",
    "                                    )\n",
    "imputed = imputer.fit_transform(x_train[target])\n",
    "x_train.loc[:, target] = imputed\n",
    "imputed = imputer.fit_transform(x_test[target])\n",
    "x_test.loc[:, target] = imputed"
   ]
  },
  {
   "cell_type": "code",
   "execution_count": null,
   "metadata": {},
   "outputs": [],
   "source": [
    "drop_cols = ['컬럼명1', '컬럼명2']\n",
    "df = df.drop(columns=drop_cols, inplace=True)\n",
    "df = df.dropna()\n",
    "df = df.dropna(axis=1)"
   ]
  },
  {
   "attachments": {},
   "cell_type": "markdown",
   "metadata": {},
   "source": [
    "#### 누락된 값이 있었다는 신호를 주는 컬럼 생성"
   ]
  },
  {
   "cell_type": "code",
   "execution_count": null,
   "metadata": {},
   "outputs": [],
   "source": [
    "def add_missing_indicator(col):\n",
    "    def wrapper(df):\n",
    "        return df[col].isna().astype(int)\n",
    "    return wrapper"
   ]
  },
  {
   "cell_type": "code",
   "execution_count": null,
   "metadata": {},
   "outputs": [],
   "source": [
    "df = df.assign(컬럼명_missing=add_missing_indicator('컬럼명'))"
   ]
  },
  {
   "attachments": {},
   "cell_type": "markdown",
   "metadata": {},
   "source": [
    "#### 열 이름 수정"
   ]
  },
  {
   "cell_type": "code",
   "execution_count": null,
   "metadata": {},
   "outputs": [],
   "source": [
    "# 스네이크 케이스로 컬럼명 정리 (그러나 앞뒤 공백은 처리 못해줌)\n",
    "import janitor as jn\n",
    "jn.clean_names(df) "
   ]
  },
  {
   "cell_type": "code",
   "execution_count": null,
   "metadata": {},
   "outputs": [],
   "source": [
    "# 컬럼명의 앞뒤 공백 제거 및 스네이크 케이스로 정리\n",
    "def clean_col(name):\n",
    "    return name.strip().lower().replace(' ', '_')\n",
    "\n",
    "df.rename(columns=clean_col)"
   ]
  },
  {
   "attachments": {},
   "cell_type": "markdown",
   "metadata": {},
   "source": [
    "#### skew 높은 값 로그 스케일링"
   ]
  },
  {
   "cell_type": "code",
   "execution_count": null,
   "metadata": {},
   "outputs": [],
   "source": [
    "\n",
    "# object가 아닌 숫자형 피쳐의 컬럼 index 객체 추출.\n",
    "features_index = df.dtypes[df.dtypes != 'object'].index\n",
    "# df에 컬럼 index를 [ ]로 입력하면 해당하는 컬럼 데이터 셋 반환. apply lambda로 skew( )호출 \n",
    "skew_features = df[features_index].apply(lambda x : skew(x))\n",
    "# skew 정도가 1 이상인 컬럼들만 추출. \n",
    "skew_features_top = skew_features[skew_features > 1]\n",
    "print(skew_features_top.sort_values(ascending=False))"
   ]
  },
  {
   "cell_type": "code",
   "execution_count": null,
   "metadata": {},
   "outputs": [],
   "source": [
    "df[skew_features_top.index] = np.log1p(df[skew_features_top.index])"
   ]
  },
  {
   "attachments": {},
   "cell_type": "markdown",
   "metadata": {},
   "source": [
    "#### 이상치 제거 IQR"
   ]
  },
  {
   "cell_type": "code",
   "execution_count": null,
   "metadata": {},
   "outputs": [],
   "source": [
    "# np.percentile(df[col].values, 100)\n",
    "# np.max(df[col].values)\n",
    "\n",
    "def get_outlier(df, col, weight=1.5):\n",
    "    tmp = df[col]\n",
    "    quantile_25 = np.percentile(tmp.values, 25)\n",
    "    quantile_75 = np.percentile(tmp.values, 75)\n",
    "\n",
    "    iqr = quantile_75 - quantile_25\n",
    "    iqr_weight = iqr * weight\n",
    "    \n",
    "    low_outlier = quantile_25 - iqr_weight\n",
    "    high_outlier = quantile_75 + iqr_weight\n",
    "    \n",
    "    low_outlier_index = tmp[tmp < low_outlier].index\n",
    "    high_outlier_index = tmp[tmp > high_outlier].index\n",
    "\n",
    "    return [low_outlier_index, high_outlier_index]"
   ]
  },
  {
   "attachments": {},
   "cell_type": "markdown",
   "metadata": {},
   "source": [
    "# 데이터 분석"
   ]
  },
  {
   "attachments": {},
   "cell_type": "markdown",
   "metadata": {},
   "source": [
    "#### 수작업으로 분석"
   ]
  },
  {
   "attachments": {
    "image.png": {
     "image/png": "[encoded data removed]"
    }
   },
   "cell_type": "markdown",
   "metadata": {},
   "source": [
    "![image.png](attachment:image.png)"
   ]
  },
  {
   "cell_type": "code",
   "execution_count": null,
   "metadata": {},
   "outputs": [],
   "source": [
    "def col_info(df, col):\n",
    "    display(df[[col]].info())\n",
    "    display(df[[col]].describe().T)\n",
    "    \n",
    "    plt.figure(figsize=(16, 16))\n",
    "    plt.title(col)\n",
    "    plt.grid(axis='x')    \n",
    "    \n",
    "    plt.subplot(3,1,1)\n",
    "    sns.boxplot(x=col, data=df)\n",
    "    \n",
    "    plt.subplot(3,1,2)\n",
    "    sns.histplot(x=col, data=df, kde=True)\n",
    "\n",
    "    plt.tight_layout()\n",
    "    plt.show()\n",
    "    \n",
    "    # 왜도 > 0 : 왼쪽 치우침 / 왜도 < 0 : 오른쪽 치우침\n",
    "    # 첨도 = 0 : 정규분포 / 첨도 > 0 : 위로 뾰족 / 첨도 < 0 : 아래로 뾰족\n",
    "    print(f'왜도: {skew(df[col])} 첨도: {kurtosis(df[col])}')\n",
    "    print('-' * 80)\n",
    "\n",
    "def numerical_analysis(df, x, y):\n",
    "    plt.title('숫자형 -> 숫자형 이변량 분석')\n",
    "    plt.grid(axis=\"x\")\n",
    "    \n",
    "    sns.regplot(x = x, y = y, data = df)\n",
    "    sns.jointplot(x = x, y = y, data = df)\n",
    "    plt.show()    \n",
    "\n",
    "    result = pearsonr(x = df[x], y = df[y])\n",
    "    print(f'상관계수 : {result[0]}, p-value : {result[1]}')\n",
    "    print('-' * 50)\n",
    "\n",
    "def categorical_analysis(df, x, y):\n",
    "    plt.title('범주형 -> 숫자형 이변량 분석')\n",
    "    plt.grid(axis=\"x\")\n",
    "    \n",
    "    sns.barplot(x = x, y = y, data = df)\n",
    "    plt.axhline(df[y].mean(), color = 'r')\n",
    "    plt.show()    \n",
    "    \n",
    "    data_group = []\n",
    "    cnt = 0\n",
    "    \n",
    "    for val in df[x].unique():\n",
    "        data_group.append(df.loc[df[x]==val, y])\n",
    "        cnt += 1\n",
    "\n",
    "    if cnt == 2:\n",
    "        result = ttest_ind(*data_group)\n",
    "        print(f't-value : {result[0]}, p-value : {result[1]}')\n",
    "        print('-' * 80)\n",
    "    else:\n",
    "        result = f_oneway(*data_group)\n",
    "        print(f'f-value : {result[0]}, p-value : {result[1]}')\n",
    "        print('-' * 80)\n",
    "\n",
    "def print_relation_xy(df, numerical_cols, categorical_cols, y):\n",
    "    for x in categorical_cols:\n",
    "        data_group = []\n",
    "        cnt = 0\n",
    "        \n",
    "        for val in df[x].unique():\n",
    "            data_group.append(df.loc[df[x]==val, y])\n",
    "            cnt += 1\n",
    "        \n",
    "        if x == y: # target y는 출력 제외\n",
    "            continue\n",
    "        \n",
    "        if cnt == 2:\n",
    "            result = ttest_ind(*data_group)\n",
    "            print(f'{x} t-value : {result[0]}, p-value : {result[1]}')\n",
    "        else:\n",
    "            result = f_oneway(*data_group)\n",
    "            print(f'{x} f-value : {result[0]}, p-value : {result[1]}')\n",
    "\n",
    "    print('-' * 80)\n",
    "    \n",
    "    for x in numerical_cols:\n",
    "        result = pearsonr(x = df[x], y = df[y])\n",
    "        print(f'{x} 상관계수 : {result[0]}, p-value : {result[1]}')\n",
    "\n",
    "def show_corr(df):\n",
    "    plt.figure(figsize=(15,12))\n",
    "    sns.heatmap(df.corr(), annot=True, cmap='RdYlGn_r')\n",
    "    plt.xticks(rotation=45)\n",
    "    plt.show()"
   ]
  },
  {
   "attachments": {},
   "cell_type": "markdown",
   "metadata": {},
   "source": [
    "#### 간단한 단변량 이변량 분석"
   ]
  },
  {
   "cell_type": "code",
   "execution_count": null,
   "metadata": {},
   "outputs": [],
   "source": [
    "# !pip install ydata-profiling"
   ]
  },
  {
   "cell_type": "code",
   "execution_count": null,
   "metadata": {},
   "outputs": [],
   "source": [
    "from ydata_profiling import ProfileReport\n",
    "profile = df.profile_report(interactions={'targets':['labels'],}, explorative=True)\n",
    "profile.to_widgets()"
   ]
  },
  {
   "cell_type": "markdown",
   "metadata": {},
   "source": [
    "# 정규화"
   ]
  },
  {
   "cell_type": "code",
   "execution_count": null,
   "metadata": {},
   "outputs": [],
   "source": [
    "from sklearn.preprocessing import MinMaxScaler, StandardScaler\n",
    "\n",
    "# 정규화\n",
    "scaler = MinMaxScaler()\n",
    "scaler.fit(x_train)\n",
    "x_train= scaler.transform(x_train)\n",
    "x_test= scaler.transform(x_test)"
   ]
  },
  {
   "cell_type": "code",
   "execution_count": null,
   "metadata": {},
   "outputs": [],
   "source": [
    "# min-max scaling\n",
    "max_n, min_n = x_train.max(), x_train.min()"
   ]
  },
  {
   "cell_type": "code",
   "execution_count": null,
   "metadata": {},
   "outputs": [],
   "source": [
    "x_train = (x_train - min_n) / (max_n - min_n)\n",
    "x_test = (x_test - min_n) / (max_n - min_n)"
   ]
  },
  {
   "cell_type": "code",
   "execution_count": null,
   "metadata": {},
   "outputs": [],
   "source": []
  },
  {
   "attachments": {},
   "cell_type": "markdown",
   "metadata": {},
   "source": [
    "# 회귀 모델링"
   ]
  },
  {
   "cell_type": "code",
   "execution_count": null,
   "metadata": {},
   "outputs": [],
   "source": [
    "models =    {\n",
    "                'RL': RL(n_jobs=-1),\n",
    "                'KNNR': KNNR(n_neighbors=5),\n",
    "                'DTR': DTR(max_depth=5, random_state=1),\n",
    "                'SVR': SVR(kernel='rbf', C=1, random_state=1),\n",
    "                'RFR': RFR(max_depth=5, random_state=1),\n",
    "                'LGBMR': LGBMR(max_depth=5, num_leaves=31, learning_rate=0.1),\n",
    "            }\n",
    "\n",
    "results = {}\n",
    "r2_scores = {}\n",
    "\n",
    "for key in models:\n",
    "    model = models[key]\n",
    "    model.fit(x_train, y_train)\n",
    "    y_pred = model.predict(x_test)\n",
    "    \n",
    "    mse_result = mse(y_test, y_pred)\n",
    "    r2_result = r2_score(y_test, y_pred)\n",
    "    r2_scores[key] = r2_result\n",
    "    \n",
    "    print('=' * 20, key, '=' * 20)\n",
    "    print('mse : ', mse_result)\n",
    "    print('r2_score : ', r2_result)\n",
    "    print('=' * 60)\n",
    "    \n",
    "    results[key] = model"
   ]
  },
  {
   "cell_type": "code",
   "execution_count": null,
   "metadata": {},
   "outputs": [],
   "source": [
    "for key in results:\n",
    "    results[key]\n",
    "    plt.figure(figsize=(16, 6))\n",
    "    plt.barh(y=list(x_train), width=results[key].feature_importances_)\n",
    "    plt.show()"
   ]
  },
  {
   "cell_type": "code",
   "execution_count": null,
   "metadata": {},
   "outputs": [],
   "source": [
    "# 시각화\n",
    "plt.figure(figsize=(16, 6))\n",
    "plt.barh(y=list(r2_scores), width=r2_scores.values())\n",
    "plt.xlabel('R2_Score')\n",
    "plt.ylabel('Model')\n",
    "plt.show()"
   ]
  },
  {
   "attachments": {},
   "cell_type": "markdown",
   "metadata": {},
   "source": [
    "# 분류 모델링"
   ]
  },
  {
   "cell_type": "code",
   "execution_count": null,
   "metadata": {},
   "outputs": [],
   "source": [
    "models = {\n",
    "        'LR': LR(C=1, random_state=1, n_jobs=-1),\n",
    "        'KNN': KNNC(n_neighbors=5),\n",
    "        'DTC': DTC(max_depth=5, random_state=1),\n",
    "        'SVC': SVC(kernel='rbf', C=1, random_state=1),\n",
    "        'RFC': RFC(max_depth=5, random_state=1),\n",
    "        'LGBMC': LGBMC(max_depth=5, num_leaves=31, learning_rate=0.1),\n",
    "        }\n",
    "\n",
    "results = {}\n",
    "acc_results = {}\n",
    "recall_results = {}\n",
    "\n",
    "for key in models:\n",
    "    model = models[key]\n",
    "    model.fit(x_train, y_train)\n",
    "    y_pred = model.predict(x_test)\n",
    "    \n",
    "    print('=' * 20, key, '=' * 20)\n",
    "    print('confusion_matrix\\n', cmatrix(y_test, y_pred))\n",
    "    print('classification_report\\n', creport(y_test, y_pred))\n",
    "    print('=' * 60)\n",
    "    \n",
    "    results[key] = model\n",
    "    acc_results[key] = acc(y_test, y_pred)\n",
    "    recall_results[key] = recall(y_test, y_pred)"
   ]
  },
  {
   "attachments": {},
   "cell_type": "markdown",
   "metadata": {},
   "source": [
    "#### 모델별 정확도 시각화"
   ]
  },
  {
   "cell_type": "code",
   "execution_count": null,
   "metadata": {},
   "outputs": [],
   "source": [
    "tmp = pd.Series(acc_results)\n",
    "\n",
    "plt.figure(figsize=(16, 6))\n",
    "plt.title('accuracy')\n",
    "plt.barh(tmp.index, tmp.values)\n",
    "plt.show()"
   ]
  },
  {
   "attachments": {},
   "cell_type": "markdown",
   "metadata": {},
   "source": [
    "#### 모델별 재현율 시각화"
   ]
  },
  {
   "cell_type": "code",
   "execution_count": null,
   "metadata": {},
   "outputs": [],
   "source": [
    "tmp = pd.Series(recall_results)\n",
    "\n",
    "plt.figure(figsize=(16, 6))\n",
    "plt.title('recall')\n",
    "plt.barh(tmp.index, tmp.values)\n",
    "plt.show()"
   ]
  },
  {
   "attachments": {},
   "cell_type": "markdown",
   "metadata": {},
   "source": [
    "#### 모델별 학습성능, 평가성능 출력"
   ]
  },
  {
   "cell_type": "code",
   "execution_count": null,
   "metadata": {},
   "outputs": [],
   "source": [
    "print('모델 : 학습성능 / 평가성능 (Accuracy)')\n",
    "for key in results:\n",
    "    print(f'{key:10} : {round(results[key].score(x_train, y_train), 4):6} / {round(results[key].score(x_test, y_test), 4):6}\\n')"
   ]
  },
  {
   "attachments": {},
   "cell_type": "markdown",
   "metadata": {},
   "source": [
    "#### 변수 중요도 시각화"
   ]
  },
  {
   "cell_type": "code",
   "execution_count": null,
   "metadata": {},
   "outputs": [],
   "source": [
    "key = 'LGBMC'\n",
    "tmp = pd.Series(data=results[key].feature_importances_, index=list(x_train)).sort_values()\n",
    "\n",
    "plt.figure(figsize=(16, 6))\n",
    "plt.barh(y=tmp.index, width=tmp.values)\n",
    "plt.show()"
   ]
  },
  {
   "attachments": {},
   "cell_type": "markdown",
   "metadata": {},
   "source": [
    "#### 혼동행렬 시각화"
   ]
  },
  {
   "cell_type": "code",
   "execution_count": null,
   "metadata": {},
   "outputs": [],
   "source": [
    "def plot_confusion_matrix(ax, matrix, labels = ['malicious','benign'], title='Confusion matrix', fontsize=9):\n",
    "    ax.set_xticks([x for x in range(len(labels))])\n",
    "    ax.set_yticks([y for y in range(len(labels))])\n",
    "\n",
    "    # Place labels on minor ticks\n",
    "    ax.set_xticks([x + 0.5 for x in range(len(labels))], minor=True)\n",
    "    ax.set_xticklabels(labels, rotation=90, fontsize=fontsize, minor=True)\n",
    "    ax.set_yticks([y + 0.5 for y in range(len(labels))], minor=True)\n",
    "    ax.set_yticklabels(labels[::-1], fontsize=fontsize, minor=True)\n",
    "\n",
    "    # Hide major tick labels\n",
    "    ax.tick_params(which='major', labelbottom='off', labelleft='off')\n",
    "\n",
    "    # Finally, hide minor tick marks\n",
    "    ax.tick_params(which='minor', width=0)\n",
    "\n",
    "    # Plot heat map\n",
    "    proportions = [1. * row / sum(row) for row in matrix]\n",
    "    ax.pcolor(np.array(proportions[::-1]), cmap=plt.cm.Blues)\n",
    "\n",
    "    # Plot counts as text\n",
    "    for row in range(len(matrix)):\n",
    "        for col in range(len(matrix[row])):\n",
    "            confusion = matrix[::-1][row][col]\n",
    "            if confusion != 0:\n",
    "                ax.text(col + 0.5, row + 0.5, int(confusion),\n",
    "                        fontsize=fontsize,\n",
    "                        horizontalalignment='center',\n",
    "                        verticalalignment='center')\n",
    "\n",
    "    # Add finishing touches\n",
    "    ax.grid(True, linestyle=':')\n",
    "    ax.set_title(title, fontsize=fontsize)\n",
    "    ax.set_xlabel('prediction', fontsize=fontsize)\n",
    "    ax.set_ylabel('actual', fontsize=fontsize)\n",
    "\n",
    "    plt.show()"
   ]
  },
  {
   "cell_type": "code",
   "execution_count": null,
   "metadata": {},
   "outputs": [],
   "source": [
    "confusion = cmatrix(y_test, y_pred)\n",
    "fig, ax = plt.subplots(figsize=(10,3))\n",
    "plot_confusion_matrix(ax, confusion, fontsize=30)"
   ]
  },
  {
   "attachments": {},
   "cell_type": "markdown",
   "metadata": {},
   "source": [
    "# LightGBM 세팅"
   ]
  },
  {
   "cell_type": "code",
   "execution_count": null,
   "metadata": {},
   "outputs": [],
   "source": [
    "from lightgbm import LGBMClassifier as LGBMC\n",
    "\n",
    "model = LGBMC(n_estimators=400)\n",
    "\n",
    "evals = [(x_test, y_test)]\n",
    "model.fit(  \n",
    "            x_train, \n",
    "            y_train,\n",
    "            learning_rate=0.1,\n",
    "            early_stopping_rounds=100, \n",
    "            eval_metric=\"logloss\", \n",
    "            eval_set=evals, \n",
    "            verbose=True\n",
    "         )\n",
    "preds = model.predict(x_test)\n",
    "pred_proba = model.predict_proba(x_test)[:, 1]"
   ]
  },
  {
   "cell_type": "code",
   "execution_count": null,
   "metadata": {},
   "outputs": [],
   "source": [
    "from lightgbm import plot_importance\n",
    "import matplotlib.pyplot as plt\n",
    "%matplotlib inline\n",
    "\n",
    "fig, ax = plt.subplots(figsize=(10, 12))\n",
    "plot_importance(lgbm_wrapper, ax=ax)"
   ]
  },
  {
   "attachments": {},
   "cell_type": "markdown",
   "metadata": {},
   "source": [
    "# Regulation 세팅"
   ]
  },
  {
   "cell_type": "code",
   "execution_count": null,
   "metadata": {},
   "outputs": [],
   "source": [
    "# 모델링(ElasticNetCV)\n",
    "from sklearn.linear_model import ElasticNetCV\n",
    "\n",
    "l1 = np.linspace(0.1, 1, 10)                         \n",
    "alpha = np.linspace(0.1, 10, 50)\n",
    "model = ElasticNetCV(l1_ratio=l1, alphas=alpha, cv=5, random_state=1)\n",
    "model.fit(x_train, y_train)\n",
    "\n",
    "# 성능 확인\n",
    "print('학습성능:', model.score(x_train, y_train))\n",
    "print('평가성능:', model.score(x_test, y_test))\n",
    "print('-' * 28)\n",
    "print('l1_ratio:', model.l1_ratio_)\n",
    "print('alpha:', model.alpha_)"
   ]
  },
  {
   "cell_type": "code",
   "execution_count": null,
   "metadata": {},
   "outputs": [],
   "source": [
    "# 가중치 시각화 \n",
    "plt.figure(figsize=(15, 5))\n",
    "plt.bar(x=range(1, 501), height=model.coef_)\n",
    "plt.show()"
   ]
  },
  {
   "attachments": {},
   "cell_type": "markdown",
   "metadata": {},
   "source": [
    "# 하이퍼파라미터 튜닝"
   ]
  },
  {
   "attachments": {},
   "cell_type": "markdown",
   "metadata": {},
   "source": [
    "#### K-fold"
   ]
  },
  {
   "cell_type": "code",
   "execution_count": null,
   "metadata": {},
   "outputs": [],
   "source": [
    "models = {\n",
    "        'LR': LR(C=1, random_state=1, n_jobs=-1),\n",
    "        'KNN': KNNC(n_neighbors=5),\n",
    "        'DT': DTC(max_depth=5, random_state=1),\n",
    "        'SVC': SVC(kernel='rbf', C=1, random_state=1),\n",
    "        'RFC': RFC(max_depth=5, random_state=1),\n",
    "        'LGBMC': LGBMC(max_depth=5, num_leaves=31, learning_rate=0.1),\n",
    "        }\n",
    "\n",
    "results = {}\n",
    "\n",
    "for key in models:\n",
    "    model = models[key]\n",
    "    # cross_val_score()은 내부적으로 StratifiedKFold 사용\n",
    "    cv_score = cross_val_score(model, x_train, y_train, cv=5) \n",
    "\n",
    "    print('=' * 20, key, '=' * 20)\n",
    "    print(cv_score)\n",
    "    print('평균:', cv_score.mean())\n",
    "    print('표준편차:', cv_score.std())\n",
    "    print('=' * 60)\n",
    "    \n",
    "    results[key] = cv_score.mean()\n",
    "\n",
    "# 시각화\n",
    "plt.figure(figsize=(5, 5))\n",
    "plt.barh(y=list(results), width=results.values())\n",
    "plt.xlabel('Score')\n",
    "plt.ylabel('Model')\n",
    "plt.show()"
   ]
  },
  {
   "attachments": {},
   "cell_type": "markdown",
   "metadata": {},
   "source": [
    "#### GridSearchCV"
   ]
  },
  {
   "cell_type": "code",
   "execution_count": null,
   "metadata": {},
   "outputs": [],
   "source": [
    "model = LGBMC(num_leaves=31, learning_rate=0.1) "
   ]
  },
  {
   "cell_type": "code",
   "execution_count": null,
   "metadata": {},
   "outputs": [],
   "source": [
    "params = {'max_depth': range(5, 20)}\n",
    "model = GridSearchCV(\n",
    "                    model,                  # 기본 모델 이름\n",
    "                    params,                 # 앞에서 선언한 튜닝용 파라미터 변수\n",
    "                    cv=StratifiedKFold(n_splits=3, random_state=1), # default=5\n",
    "                    refit=True,             # 기본값 True\n",
    "                    scoring=make_scorer(f1_score, average='micro'),   # 평가 방법\n",
    "                    n_jobs=-1               # cpu 전부 사용\n",
    "                    )     "
   ]
  },
  {
   "cell_type": "code",
   "execution_count": null,
   "metadata": {},
   "outputs": [],
   "source": [
    "model.fit(x_train, y_train)"
   ]
  },
  {
   "cell_type": "code",
   "execution_count": null,
   "metadata": {},
   "outputs": [],
   "source": [
    "model.cv_results_['mean_test_score']"
   ]
  },
  {
   "cell_type": "code",
   "execution_count": null,
   "metadata": {},
   "outputs": [],
   "source": [
    "model.best_params_, model.best_score_"
   ]
  },
  {
   "cell_type": "code",
   "execution_count": null,
   "metadata": {},
   "outputs": [],
   "source": [
    "tmp = pd.Series(data=model.best_estimator_.feature_importances_, index=list(x_train)).sort_values()\n",
    "\n",
    "plt.figure(figsize=(16, 6))\n",
    "plt.barh(y=tmp.index, width=tmp.values)\n",
    "plt.show()"
   ]
  },
  {
   "cell_type": "code",
   "execution_count": null,
   "metadata": {},
   "outputs": [],
   "source": [
    "# 예측하기\n",
    "y_pred = model.predict(x_test)"
   ]
  },
  {
   "cell_type": "code",
   "execution_count": null,
   "metadata": {},
   "outputs": [],
   "source": [
    "# 평가하기\n",
    "print(cmatrix(y_test, y_pred))\n",
    "print(creport(y_test, y_pred))"
   ]
  },
  {
   "attachments": {},
   "cell_type": "markdown",
   "metadata": {},
   "source": [
    "#### RandomSearchCV"
   ]
  },
  {
   "cell_type": "code",
   "execution_count": null,
   "metadata": {},
   "outputs": [],
   "source": [
    "model = LGBMC(num_leaves=31, learning_rate=0.1)"
   ]
  },
  {
   "cell_type": "code",
   "execution_count": null,
   "metadata": {},
   "outputs": [],
   "source": [
    "params = {'max_depth': range(5, 20)}\n",
    "model = RandomizedSearchCV(\n",
    "                            model,                  # 기본 모델 이름\n",
    "                            params,                 # 앞에서 선언한 튜닝용 파라미터 변수\n",
    "                            cv=5,                   # k-fold Cross Validation(default=5)\n",
    "                            n_iter=20,              # Random하게 시도할 횟수(default=10)\n",
    "                            refit=True,             # 기본값 True\n",
    "                            scoring=make_scorer(f1_score, average='micro'),     # 평가 방법\n",
    "                            n_jobs=-1               # cpu 전부 사용\n",
    "                            )     "
   ]
  },
  {
   "cell_type": "code",
   "execution_count": null,
   "metadata": {},
   "outputs": [],
   "source": [
    "model.fit(x_train, y_train)"
   ]
  },
  {
   "cell_type": "code",
   "execution_count": null,
   "metadata": {},
   "outputs": [],
   "source": [
    "model.cv_results_['mean_test_score']"
   ]
  },
  {
   "cell_type": "code",
   "execution_count": null,
   "metadata": {},
   "outputs": [],
   "source": [
    "model.best_params_, model.best_score_"
   ]
  },
  {
   "cell_type": "code",
   "execution_count": null,
   "metadata": {},
   "outputs": [],
   "source": [
    "tmp = pd.Series(data=model.best_estimator_.feature_importances_, index=list(x_train)).sort_values()\n",
    "\n",
    "plt.figure(figsize=(16, 6))\n",
    "plt.barh(y=tmp.index, width=tmp.values)\n",
    "plt.show()"
   ]
  },
  {
   "cell_type": "code",
   "execution_count": null,
   "metadata": {},
   "outputs": [],
   "source": [
    "# 예측하기\n",
    "y_pred = model.predict(x_test)"
   ]
  },
  {
   "cell_type": "code",
   "execution_count": null,
   "metadata": {},
   "outputs": [],
   "source": [
    "# 평가하기\n",
    "print(cmatrix(y_test, y_pred))\n",
    "print(creport(y_test, y_pred))"
   ]
  },
  {
   "attachments": {},
   "cell_type": "markdown",
   "metadata": {},
   "source": [
    "# 시각화 "
   ]
  },
  {
   "cell_type": "code",
   "execution_count": null,
   "metadata": {},
   "outputs": [],
   "source": [
    "for key in results:\n",
    "    plt.figure(figsize=(5, 5))\n",
    "    plt.title(key)\n",
    "    plt.barh(list(x_train), model.feature_importances_)\n",
    "    plt.show()"
   ]
  },
  {
   "attachments": {},
   "cell_type": "markdown",
   "metadata": {},
   "source": [
    "# 모델 저장 및 불러오기"
   ]
  },
  {
   "cell_type": "code",
   "execution_count": null,
   "metadata": {},
   "outputs": [],
   "source": [
    "joblib.dump(model, 'modelname.pkl')\n",
    "\n",
    "loaded_model = joblib.load('modelname.pkl')\n",
    "score = loaded_model.score(x_test,y_test)\n",
    "\n",
    "print('정확도: {score:.3f}'.format(score=score))"
   ]
  },
  {
   "attachments": {},
   "cell_type": "markdown",
   "metadata": {},
   "source": [
    "# Kaggle 제출"
   ]
  },
  {
   "cell_type": "code",
   "execution_count": null,
   "metadata": {},
   "outputs": [],
   "source": [
    "sub = pd.DataFrame()\n",
    "sub['label'] = pd.DataFrame(y_pred)\n",
    "sub.tail(2)"
   ]
  },
  {
   "cell_type": "code",
   "execution_count": null,
   "metadata": {},
   "outputs": [],
   "source": [
    "sub.set_index('id', inplace=True)\n",
    "sub['label'].replace({1:'malicious', 0:'benign'}, inplace=True) # 분류 답안 생성\n",
    "sub.tail(2)"
   ]
  },
  {
   "cell_type": "code",
   "execution_count": null,
   "metadata": {},
   "outputs": [],
   "source": [
    "sub.to_csv('sample.csv', index=True) # 제출할 csv 파일 저장"
   ]
  }
 ],
 "metadata": {
  "kernelspec": {
   "display_name": "base",
   "language": "python",
   "name": "python3"
  },
  "language_info": {
   "codemirror_mode": {
    "name": "ipython",
    "version": 3
   },
   "file_extension": ".py",
   "mimetype": "text/x-python",
   "name": "python",
   "nbconvert_exporter": "python",
   "pygments_lexer": "ipython3",
   "version": "3.9.7"
  },
  "orig_nbformat": 4,
  "vscode": {
   "interpreter": {
    "hash": "f49206fcf84a9145e7e21228cbafa911d1ac18292303b01e865d8267a9c448f7"
   }
  }
 },
 "nbformat": 4,
 "nbformat_minor": 2
}
