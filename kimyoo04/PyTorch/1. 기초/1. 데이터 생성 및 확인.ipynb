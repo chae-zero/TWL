{
 "cells": [
  {
   "cell_type": "code",
   "execution_count": 1,
   "metadata": {},
   "outputs": [
    {
     "data": {
      "text/plain": [
       "'1.12.1'"
      ]
     },
     "execution_count": 1,
     "metadata": {},
     "output_type": "execute_result"
    }
   ],
   "source": [
    "import torch\n",
    "import pandas as pd\n",
    "import numpy as np\n",
    "import matplotlib.pyplot as plt\n",
    "torch.__version__"
   ]
  },
  {
   "attachments": {},
   "cell_type": "markdown",
   "metadata": {},
   "source": [
    "## 데이터 생성 및 확인\n",
    "\n",
    "- 스칼라 : 하나의 숫자\n",
    "- 벡터 : 숫자와 방향\n",
    "- 행렬 : 2차워 숫자 배열\n",
    "- 텐서 : n-차원 숫자 배열"
   ]
  },
  {
   "cell_type": "code",
   "execution_count": 51,
   "metadata": {},
   "outputs": [
    {
     "name": "stdout",
     "output_type": "stream",
     "text": [
      "Get one scalar : 7\n",
      "\n",
      "tensor([3, 4]) \n",
      "\n",
      "Shape of tensor: torch.Size([2])\n",
      "\n",
      "n-dimention of tensor: 1\n",
      "\n",
      "Datatype of tensor: torch.int64\n",
      "\n",
      "Device tensor is stored on: cpu\n",
      "\n"
     ]
    }
   ],
   "source": [
    "# 요약\n",
    "scalar = torch.tensor(7)\n",
    "# 스칼라의 값 확인 || tensor.item()\n",
    "print(f\"Get one scalar : {scalar.item()}\\n\")\n",
    "\n",
    "# 스칼라, 벡터, 텐서 생성 || torch.tensor(값 or n-차원 배열)\n",
    "some_tensor = torch.tensor([3, 4])\n",
    "print(some_tensor, \"\\n\")\n",
    "# 텐서의 형태 확인 || vector.shape \n",
    "print(f\"Shape of tensor: {some_tensor.shape}\\n\")\n",
    "# 차원 확인 || tensor.ndim \n",
    "print(f\"n-dimention of tensor: {some_tensor.ndim}\\n\")\n",
    "# 데이터 타입 확인 || tensor.dtype\n",
    "print(f\"Datatype of tensor: {some_tensor.dtype}\\n\")\n",
    "# device 설정 확인 || tensor.device\n",
    "print(f\"Device tensor is stored on: {some_tensor.device}\\n\") # 기본 device 는 cpu"
   ]
  },
  {
   "cell_type": "markdown",
   "metadata": {},
   "source": [
    "# torch.range() 와 torch.arange()"
   ]
  },
  {
   "cell_type": "code",
   "execution_count": null,
   "metadata": {},
   "outputs": [
    {
     "data": {
      "text/plain": [
       "tensor([0, 1, 2, 3, 4, 5, 6, 7, 8, 9])"
      ]
     },
     "metadata": {},
     "output_type": "display_data"
    }
   ],
   "source": [
    "# 미래에 사라질 방식 || torch.range()\n",
    "# zero_to_ten_deprecated = torch.range(0, 10)\n",
    "\n",
    "# Create a range of values 0 to 10\n",
    "zero_to_ten = torch.arange(start=0, end=10, step=1)\n",
    "zero_to_ten"
   ]
  }
 ],
 "metadata": {
  "kernelspec": {
   "display_name": "pytorch",
   "language": "python",
   "name": "python3"
  },
  "language_info": {
   "codemirror_mode": {
    "name": "ipython",
    "version": 3
   },
   "file_extension": ".py",
   "mimetype": "text/x-python",
   "name": "python",
   "nbconvert_exporter": "python",
   "pygments_lexer": "ipython3",
   "version": "3.10.9"
  },
  "orig_nbformat": 4,
  "vscode": {
   "interpreter": {
    "hash": "23b65ba387c5ade8c3baf33a1c2333418758373f0e0edd0862cd39d162aec75c"
   }
  }
 },
 "nbformat": 4,
 "nbformat_minor": 2
}
