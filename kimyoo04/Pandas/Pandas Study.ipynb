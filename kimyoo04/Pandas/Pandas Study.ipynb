{
 "cells": [
  {
   "cell_type": "code",
   "execution_count": null,
   "metadata": {},
   "outputs": [],
   "source": [
    "import pandas as pd"
   ]
  },
  {
   "cell_type": "code",
   "execution_count": null,
   "metadata": {},
   "outputs": [],
   "source": [
    "data = {\n",
    "    '이름': ['아이유', '김연아', '홍길동', '장범준', '강감찬'],\n",
    "    '학과': ['국문학', '수학', '컴퓨터', '철학', '경영학'],\n",
    "    '성적': [3.0, 1.0, 3.5, 2.7, 4.0]\n",
    "}\n",
    "\n",
    "df = pd.DataFrame(data)\n",
    "\n",
    "# 원하는 행번호와 열의 이름 정확히 입력\n",
    "df.loc[0:, '이름']\n",
    "# 원하는 행과, 열의 번호 입력\n",
    "df.iloc[0:, 1]"
   ]
  },
  {
   "cell_type": "code",
   "execution_count": null,
   "metadata": {},
   "outputs": [],
   "source": [
    "# to_csv(저장경로와 파일이름 지정, 콤마로 구분, 저장시 인덱스 저장 유무)\n",
    "df.to_csv('./student.csv', sep=',', index=False)"
   ]
  },
  {
   "cell_type": "code",
   "execution_count": null,
   "metadata": {},
   "outputs": [],
   "source": [
    "# csv 데이터 로딩\n",
    "df = pd.read_csv('./student.csv')\n",
    "display(df)"
   ]
  },
  {
   "cell_type": "code",
   "execution_count": null,
   "metadata": {},
   "outputs": [],
   "source": [
    "print(df[1:5]); print()\n",
    "print(df[0:3]); print()\n",
    "print(df[0:]); print()"
   ]
  },
  {
   "cell_type": "code",
   "execution_count": null,
   "metadata": {},
   "outputs": [],
   "source": [
    "# print(df[1]) <- 에러 발생\n",
    "\n",
    "df['이름']\n",
    "df['성적']\n",
    "df['학과']"
   ]
  },
  {
   "cell_type": "code",
   "execution_count": null,
   "metadata": {},
   "outputs": [],
   "source": [
    "df[['학과', '이름']]"
   ]
  },
  {
   "cell_type": "code",
   "execution_count": null,
   "metadata": {},
   "outputs": [],
   "source": [
    "print(df[['학과', '이름']][1:4]); print()\n",
    "print(df[1:4][['이름', '학과']])\n",
    "# 필드 순서 상관 없음, 인덱싱 순서 상관 없음"
   ]
  },
  {
   "cell_type": "code",
   "execution_count": null,
   "metadata": {},
   "outputs": [],
   "source": [
    "df[ df['학과'] == '수학' ]"
   ]
  },
  {
   "cell_type": "code",
   "execution_count": null,
   "metadata": {},
   "outputs": [],
   "source": [
    "print(df.loc[3]); print()\n",
    "print(df.loc[[1, 2, 3]]); print()\n",
    "print(df.loc[[1, 2, 3], :]); print()\n",
    "# print(df.loc[[1, 2, 3], [0:1]]) <-- 불가능 열은 문자열로 주어야함\n",
    "print(df.loc[[1, 2, 4], ['이름', '성적']]) # <-- [[행번호]. [열이름]]"
   ]
  },
  {
   "cell_type": "code",
   "execution_count": null,
   "metadata": {},
   "outputs": [],
   "source": [
    "print(df.iloc[[1, 3, 4], 0:2]); print() # df.iloc[[행번호], 열인덱스]\n",
    "print(df.iloc[[1, 3, 4], 0:3]) "
   ]
  },
  {
   "cell_type": "code",
   "execution_count": null,
   "metadata": {},
   "outputs": [],
   "source": [
    "df.loc[ df['성적'] % 2 != 0, ['이름', '학과', '성적']]"
   ]
  },
  {
   "cell_type": "code",
   "execution_count": null,
   "metadata": {},
   "outputs": [],
   "source": [
    "import numpy as np\n",
    "import pandas as pd"
   ]
  },
  {
   "cell_type": "code",
   "execution_count": null,
   "metadata": {},
   "outputs": [],
   "source": [
    "import os\n",
    "os.getcwd()"
   ]
  },
  {
   "attachments": {},
   "cell_type": "markdown",
   "metadata": {},
   "source": [
    "# 데이터 변경"
   ]
  },
  {
   "attachments": {},
   "cell_type": "markdown",
   "metadata": {},
   "source": [
    "### 지난 시간 저장한 csv 로딩"
   ]
  },
  {
   "cell_type": "code",
   "execution_count": null,
   "metadata": {},
   "outputs": [],
   "source": [
    "df = pd.read_csv('./student.csv')\n",
    "display(df)"
   ]
  },
  {
   "cell_type": "code",
   "execution_count": null,
   "metadata": {},
   "outputs": [],
   "source": [
    "df['등급'] = 'A' # 일괄 값 적용됨\n",
    "df"
   ]
  },
  {
   "attachments": {},
   "cell_type": "markdown",
   "metadata": {},
   "source": [
    "### 컬럼과 값을 추가하는 방법 (numpy, pandas)\n",
    "##### - 값을 넣을 때의 인덱스가 같아야하며, 길이도 같아야함!"
   ]
  },
  {
   "cell_type": "code",
   "execution_count": null,
   "metadata": {},
   "outputs": [],
   "source": [
    "# numpy 1d array 로 할당하는 방법\n",
    "grade = np.array(['B', 'D', 'B', 'C', 'A'])\n",
    "df['등급'] = grade\n",
    "display(df)\n",
    "\n",
    "# pandas의 Series 로 할당하는 방법 \n",
    "age = pd.Series([21, 20, 24, 23, 28])\n",
    "df['나이'] = age\n",
    "display(df)"
   ]
  },
  {
   "attachments": {},
   "cell_type": "markdown",
   "metadata": {},
   "source": [
    "### 컬럼과 값 추가"
   ]
  },
  {
   "cell_type": "code",
   "execution_count": null,
   "metadata": {},
   "outputs": [],
   "source": [
    "df.index"
   ]
  },
  {
   "cell_type": "code",
   "execution_count": null,
   "metadata": {},
   "outputs": [],
   "source": [
    "# 데이터 프레임의 인덱스 변경\n",
    "df.index = ['one', 'two', 'three', 'four', 'five']\n",
    "display(df)"
   ]
  },
  {
   "cell_type": "code",
   "execution_count": null,
   "metadata": {},
   "outputs": [],
   "source": [
    "sex = pd.Series(['여자', '여자', '남자', '남자', '남자'])\n",
    "df['성별'] = sex\n",
    "display(df)\n",
    "\n",
    "# 인덱스가 다르기 때문에 NaN으로 출력"
   ]
  },
  {
   "cell_type": "code",
   "execution_count": null,
   "metadata": {},
   "outputs": [],
   "source": [
    "# sex 의 인덱스 확인\n",
    "sex.index"
   ]
  },
  {
   "cell_type": "code",
   "execution_count": null,
   "metadata": {},
   "outputs": [],
   "source": [
    "# df 의 인덱스 확인\n",
    "df.index"
   ]
  },
  {
   "cell_type": "code",
   "execution_count": null,
   "metadata": {},
   "outputs": [],
   "source": [
    "# sex와 df 인덱스 일치시키기\n",
    "sex.index = df.index \n",
    "\n",
    "# 필드와 값 삽입\n",
    "df['성별'] = sex\n",
    "display(df)"
   ]
  },
  {
   "attachments": {},
   "cell_type": "markdown",
   "metadata": {},
   "source": [
    "### 인덱스 리셋, 교체"
   ]
  },
  {
   "cell_type": "code",
   "execution_count": null,
   "metadata": {},
   "outputs": [],
   "source": [
    "# df.reset_index(drop=True, inplace=True) inplace=True 설정은 원본에 바로 적용됨\n",
    "display(df.reset_index()) # 일시적인 적용\n",
    "\n",
    "# 특정 필드를 인덱스로 사용\n",
    "display(df.set_index('이름'))"
   ]
  },
  {
   "attachments": {},
   "cell_type": "markdown",
   "metadata": {},
   "source": [
    "### 컬럼 삭제"
   ]
  },
  {
   "cell_type": "code",
   "execution_count": null,
   "metadata": {},
   "outputs": [],
   "source": [
    "# df.drop(컬럼명, axis=1은 컬럼을 기준으로 삭제, inplace=True 인수를 주면 원본데이터에 반영)\n",
    "df.drop('성별', axis=1, inplace=False) "
   ]
  },
  {
   "cell_type": "code",
   "execution_count": null,
   "metadata": {},
   "outputs": [],
   "source": [
    "df.drop('나이', axis='columns') # axis=1 대신 columns로도 가능"
   ]
  },
  {
   "attachments": {},
   "cell_type": "markdown",
   "metadata": {},
   "source": [
    "### dataframe은 다른 변수에 할당해줘도 데이터 참조가 일어나지 않는다."
   ]
  },
  {
   "cell_type": "code",
   "execution_count": null,
   "metadata": {},
   "outputs": [],
   "source": [
    "# 행 삭제 df.drop(인덱스값, 행축)\n",
    "df.drop('one', axis=0)"
   ]
  },
  {
   "attachments": {},
   "cell_type": "markdown",
   "metadata": {},
   "source": [
    "### JSON 데이터 받아오기"
   ]
  },
  {
   "cell_type": "code",
   "execution_count": null,
   "metadata": {},
   "outputs": [],
   "source": [
    "from dotenv import load_dotenv # https://blog.gilbok.com/how-to-use-dot-env-in-python/\n",
    "import requests\n",
    "import json\n",
    "import os\n",
    "\n",
    "load_dotenv()\n",
    "\n",
    "store_endpoint = os.environ.get('store_endpoint')\n",
    "store_key = os.environ.get('store_key')\n",
    "store_divide_id = 'indsLclsCd'\n",
    "store_numOfRows = 100\n",
    "store_pageNo = 0\n",
    "\n",
    "url = f'{store_endpoint}/storeListInUpjong?divId={store_divide_id}&key=Q&numOfRows={store_numOfRows}&pageNo={store_pageNo}&type=json&serviceKey={store_key}'\n",
    "\n",
    "response = requests.get(url) # API GET 요청\n",
    "\n",
    "response.encoding = 'utf-8' # 인코딩 방식 설정\n",
    "\n",
    "print(response.text[0:400]) # reponse 객체의 text 출력"
   ]
  },
  {
   "cell_type": "code",
   "execution_count": null,
   "metadata": {},
   "outputs": [],
   "source": [
    "# json -> dict \n",
    "resulting_dict = json.loads(response.text)\n",
    "\n",
    "resulting_dict.keys()"
   ]
  },
  {
   "cell_type": "code",
   "execution_count": null,
   "metadata": {},
   "outputs": [],
   "source": [
    "resulting_dict['body'].keys()"
   ]
  },
  {
   "cell_type": "code",
   "execution_count": null,
   "metadata": {},
   "outputs": [],
   "source": [
    "resulting_dict['body']['items'][0]"
   ]
  },
  {
   "attachments": {},
   "cell_type": "markdown",
   "metadata": {},
   "source": [
    "### dict 데이터를 컬럼별 리스트에 담기"
   ]
  },
  {
   "cell_type": "code",
   "execution_count": null,
   "metadata": {},
   "outputs": [],
   "source": [
    "# 각 키의 값마다 리스트에 담을 변수 초기화\n",
    "store_name_list = []\n",
    "store_kind_list = []\n",
    "address_list = []\n",
    "latitude_list = []\n",
    "longitude_list = []\n",
    "\n",
    "# dictionary 속 데이터 정보 입력\n",
    "for tmp in resulting_dict['body']['items']:\n",
    "    store_name_list.append(tmp['bizesNm'])\n",
    "    store_kind_list.append(tmp['indsMclsNm'])\n",
    "    address_list.append(tmp['lnoAdr'])\n",
    "    latitude_list.append(tmp['lat'])\n",
    "    longitude_list.append(tmp['lon'])\n",
    "    \n",
    "print(store_name_list[:10])\n",
    "print(store_kind_list[:10])\n",
    "print(address_list[:10])\n",
    "print(latitude_list[:10])\n",
    "print(longitude_list[:10])"
   ]
  },
  {
   "attachments": {},
   "cell_type": "markdown",
   "metadata": {},
   "source": [
    "### dataframe 으로 변환"
   ]
  },
  {
   "cell_type": "code",
   "execution_count": null,
   "metadata": {},
   "outputs": [],
   "source": [
    "df = pd.DataFrame(\n",
    "    {\n",
    "        'name':store_name_list,\n",
    "        'kind':store_kind_list,\n",
    "        'address':address_list,\n",
    "        'latitude':latitude_list,\n",
    "        'longitude':longitude_list,\n",
    "    }\n",
    ")\n",
    "\n",
    "display(df)"
   ]
  },
  {
   "attachments": {},
   "cell_type": "markdown",
   "metadata": {},
   "source": [
    "# 데이터 합치기"
   ]
  },
  {
   "attachments": {},
   "cell_type": "markdown",
   "metadata": {},
   "source": [
    "### DataFrame 병합 구현 방법 (조인)"
   ]
  },
  {
   "cell_type": "code",
   "execution_count": null,
   "metadata": {},
   "outputs": [],
   "source": [
    "data1 = {\n",
    "    '학번': [1, 2, 3, 4],\n",
    "    '이름': ['아이유', '김연아', '홍길동', '강감찬'],\n",
    "    '학과': ['철학', '경영학', '컴퓨터', '물리학']\n",
    "}\n",
    "\n",
    "data2 = {\n",
    "    '학번': [1, 2, 4, 5],\n",
    "    '학년': [2, 4, 3, 1],\n",
    "    '학점': [1.5, 2.0, 4.1, 3.8]\n",
    "}\n",
    "\n",
    "df1 = pd.DataFrame(data1)\n",
    "df2 = pd.DataFrame(data2)\n",
    "\n",
    "display(df1)\n",
    "display(df2)"
   ]
  },
  {
   "cell_type": "code",
   "execution_count": null,
   "metadata": {},
   "outputs": [],
   "source": [
    "# inner join 사용\n",
    "inner_df = pd.merge(df1, df2, on='학번', how='inner')\n",
    "display(inner_df)"
   ]
  },
  {
   "cell_type": "code",
   "execution_count": null,
   "metadata": {},
   "outputs": [],
   "source": [
    "# outer join 사용\n",
    "outer_df = pd.merge(df1, df2, on='학번', how='outer')\n",
    "display(outer_df)"
   ]
  },
  {
   "cell_type": "code",
   "execution_count": null,
   "metadata": {},
   "outputs": [],
   "source": [
    "# left and right join\n",
    "left_df = pd.merge(df1, df2, on='학번', how='left')\n",
    "display(left_df) # df1 의 학번을 기준으로 merge\n",
    "\n",
    "right_df = pd.merge(df1, df2, on='학번', how='right')\n",
    "display(right_df) # df2 의 학번을 기준으로 merge"
   ]
  },
  {
   "attachments": {},
   "cell_type": "markdown",
   "metadata": {},
   "source": [
    "## 현실에서 일어날 법한 merge의 응용"
   ]
  },
  {
   "attachments": {},
   "cell_type": "markdown",
   "metadata": {},
   "source": [
    "#### 같은 의미의 값이지만 다른 컬럼명인 경우"
   ]
  },
  {
   "cell_type": "code",
   "execution_count": null,
   "metadata": {},
   "outputs": [],
   "source": [
    "data1 = {\n",
    "    '학번': [1, 2, 3, 4],\n",
    "    '이름': ['아이유', '김연아', '홍길동', '강감찬'],\n",
    "    '학과': ['철학', '경영학', '컴퓨터', '물리학']\n",
    "}\n",
    "\n",
    "data2 = {\n",
    "    '학생고유번호': [1, 2, 4, 5], \n",
    "    '학년': [2, 4, 3, 1],\n",
    "    '학점': [1.5, 2.0, 4.1, 3.8]\n",
    "}\n",
    "\n",
    "df1 = pd.DataFrame(data1)\n",
    "df2 = pd.DataFrame(data2)"
   ]
  },
  {
   "cell_type": "code",
   "execution_count": null,
   "metadata": {},
   "outputs": [],
   "source": [
    "display(df1)"
   ]
  },
  {
   "cell_type": "code",
   "execution_count": null,
   "metadata": {},
   "outputs": [],
   "source": [
    "display(df2)"
   ]
  },
  {
   "cell_type": "code",
   "execution_count": null,
   "metadata": {},
   "outputs": [],
   "source": [
    "# left_on 과 right_on 을 통해 임의로 특정 컬럼을 기준으로 병합하도록 함\n",
    "merged_df = pd.merge(df1, df2, left_on='학번', right_on='학생고유번호', how='inner')\n",
    "display(merged_df)"
   ]
  },
  {
   "cell_type": "code",
   "execution_count": null,
   "metadata": {},
   "outputs": [],
   "source": [
    "# 불필요한 컬럼 임시 제거\n",
    "merged_df.drop('학생고유번호', axis=1) # 원본 수정은 inplace=True 인자 넣기"
   ]
  },
  {
   "attachments": {},
   "cell_type": "markdown",
   "metadata": {},
   "source": [
    "#### 공유하는 컬럼이 없는 경우"
   ]
  },
  {
   "cell_type": "code",
   "execution_count": null,
   "metadata": {},
   "outputs": [],
   "source": [
    "data1 = {\n",
    "    '학번': [1, 2, 3, 4],\n",
    "    '이름': ['아이유', '김연아', '홍길동', '강감찬'],\n",
    "    '학과': ['철학', '경영학', '컴퓨터', '물리학']\n",
    "}\n",
    "\n",
    "data2 = {\n",
    "    '학년': [2, 4, 3, 1],\n",
    "    '학점': [1.5, 2.0, 4.1, 3.8]\n",
    "}\n",
    "\n",
    "\n",
    "df1 = pd.DataFrame(data1)\n",
    "df2 = pd.DataFrame(data2, index=[1, 2, 4, 5])"
   ]
  },
  {
   "cell_type": "code",
   "execution_count": null,
   "metadata": {},
   "outputs": [],
   "source": [
    "display(df1)"
   ]
  },
  {
   "cell_type": "code",
   "execution_count": null,
   "metadata": {},
   "outputs": [],
   "source": [
    "display(df2)"
   ]
  },
  {
   "cell_type": "code",
   "execution_count": null,
   "metadata": {},
   "outputs": [],
   "source": [
    "# left_index 과 right_index 왼쪽, 오른쪽 df의 인덱스를 기준으로 병합\n",
    "merged_df = pd.merge(df1, df2, left_index=True, right_index=True, how='inner')\n",
    "display(merged_df)"
   ]
  },
  {
   "cell_type": "code",
   "execution_count": null,
   "metadata": {},
   "outputs": [],
   "source": [
    "# 왼쪽은 학번을 기준으로, 오른쪽은 인덱스를 기준으로 병합\n",
    "merged_df = pd.merge(df1, df2, left_on='학번', right_index=True, how='inner')\n",
    "display(merged_df)"
   ]
  },
  {
   "cell_type": "code",
   "execution_count": null,
   "metadata": {},
   "outputs": [],
   "source": [
    "# 인덱스로 조인하는 방식은 join 메소드를 사용하는 것 편함\n",
    "df1.join(df2, how='inner')"
   ]
  },
  {
   "attachments": {},
   "cell_type": "markdown",
   "metadata": {},
   "source": [
    "#### 데이터 연결 pandas.concat"
   ]
  },
  {
   "cell_type": "code",
   "execution_count": null,
   "metadata": {},
   "outputs": [],
   "source": [
    "import numpy as np\n",
    "import pandas as pd\n",
    "\n",
    "np.random.seed(1) # 고정 난수 설정"
   ]
  },
  {
   "cell_type": "code",
   "execution_count": null,
   "metadata": {},
   "outputs": [],
   "source": [
    "df1 = pd.DataFrame(np.random.randint(0, 9, (3,2)), # 3x2 난수값 행렬\n",
    "                    index=['a', 'b', 'c'], # 인덱스 값 설정\n",
    "                    columns=['one', 'two']) # 컬럼 값 설정\n",
    "\n",
    "display(df1)"
   ]
  },
  {
   "cell_type": "code",
   "execution_count": null,
   "metadata": {},
   "outputs": [],
   "source": [
    "df2 = pd.DataFrame(np.random.randint(0, 9, (2,2)), # 3x2 난수값 행렬\n",
    "                    index=['a', 'b'], # 인덱스 값 설정\n",
    "                    columns=['three', 'four']) # 컬럼 값 설정\n",
    "\n",
    "display(df2)"
   ]
  },
  {
   "cell_type": "code",
   "execution_count": null,
   "metadata": {},
   "outputs": [],
   "source": [
    "# df1 & df2 concat으로 연결\n",
    "concat_dict1 = pd.concat([df1, df2], axis=1) # axis=1은 오른쪽 옆으로 붙이기 axis=0은 밑으로 붙이기\n",
    "display(concat_dict1)"
   ]
  },
  {
   "cell_type": "code",
   "execution_count": null,
   "metadata": {},
   "outputs": [],
   "source": [
    "# df1 & df2 concat으로 연결\n",
    "concat_dict2 = pd.concat([df1, df2], axis=0) # axis=1은 오른쪽 옆으로 붙이기 axis=0은 밑으로 붙이기\n",
    "display(concat_dict2) # 컬럼명을 공유하고 있지 않아서 컬럼이 새로 추가됨"
   ]
  },
  {
   "attachments": {},
   "cell_type": "markdown",
   "metadata": {},
   "source": [
    "# 데이터 그룹핑"
   ]
  },
  {
   "attachments": {},
   "cell_type": "markdown",
   "metadata": {},
   "source": [
    "#### Groupby 메소드, apply(함수)\n",
    "\n",
    "#### 집계 함수\n",
    "- count\n",
    "- sum\n",
    "- mean, median\n",
    "- min, max\n",
    "- var, std\n",
    "- first, last\n",
    "- Describe\n",
    "- aggregate or agg\n",
    "- apply"
   ]
  },
  {
   "attachments": {},
   "cell_type": "markdown",
   "metadata": {},
   "source": [
    "#### Groupby 객체\n",
    "\n",
    "- Groupby 객체는 반복문 이용 가능\n",
    "- Groupby 객체는 **그룹 이름, 그룹별 데이터**를 **튜플 형태**로 갖고 있음\n",
    "- 각 그룹별 데이터는 원래의 인덱스 값을 가지고 있음"
   ]
  },
  {
   "attachments": {},
   "cell_type": "markdown",
   "metadata": {},
   "source": [
    "#### 정렬 함수 sort_values(by='사용자 수', ascending=False)\n",
    "ex) sort_values(by=['강좌 개수', '개발년도'], ascending=False)"
   ]
  },
  {
   "cell_type": "code",
   "execution_count": null,
   "metadata": {},
   "outputs": [],
   "source": [
    "import numpy as np\n",
    "import pandas as pd"
   ]
  },
  {
   "cell_type": "code",
   "execution_count": null,
   "metadata": {},
   "outputs": [],
   "source": [
    "df = pd.DataFrame({\n",
    "    '학과': ['수학', '화학', '수학', '화학', '수학'],\n",
    "    '이름': ['로버트', '앤드류', '유진', '제이슨', '제이크'],\n",
    "    '학년': [1, 2, 3, 2, 3],\n",
    "    '학점': [1.5, 2.7, 3.5, 1.9, 4.0],\n",
    "})\n",
    "\n",
    "display(df)"
   ]
  },
  {
   "attachments": {},
   "cell_type": "markdown",
   "metadata": {},
   "source": [
    "#### 1 단계 그룹핑"
   ]
  },
  {
   "cell_type": "code",
   "execution_count": null,
   "metadata": {},
   "outputs": [],
   "source": [
    "df_dept = df.groupby('학과') # dataframe의 특정 컬럼을 기준으로 그룹화"
   ]
  },
  {
   "cell_type": "code",
   "execution_count": null,
   "metadata": {},
   "outputs": [],
   "source": [
    "display(df_dept)\n",
    "# <pandas.core.groupby.generic.DataFrameGroupBy object at 0x000001748DC740A0> 객체 주소 출력됨"
   ]
  },
  {
   "cell_type": "code",
   "execution_count": null,
   "metadata": {},
   "outputs": [],
   "source": [
    "# 학과별 기술통계 출력\n",
    "df_dept.describe()"
   ]
  },
  {
   "cell_type": "code",
   "execution_count": null,
   "metadata": {},
   "outputs": [],
   "source": [
    "# 학과별 원소 개수 출력\n",
    "df_dept.count()"
   ]
  },
  {
   "cell_type": "code",
   "execution_count": null,
   "metadata": {},
   "outputs": [],
   "source": [
    "# Series 그룹화\n",
    "dept = df['학점'].groupby(df['학과']) # 학과별 학점으로 그룹화\n",
    "print(dept)"
   ]
  },
  {
   "cell_type": "code",
   "execution_count": null,
   "metadata": {},
   "outputs": [],
   "source": [
    "dept.mean()"
   ]
  },
  {
   "cell_type": "code",
   "execution_count": null,
   "metadata": {},
   "outputs": [],
   "source": [
    "dept.std()"
   ]
  },
  {
   "cell_type": "code",
   "execution_count": null,
   "metadata": {},
   "outputs": [],
   "source": [
    "dept.size()"
   ]
  },
  {
   "cell_type": "code",
   "execution_count": null,
   "metadata": {},
   "outputs": [],
   "source": [
    "# 수학과 인원 학점 데이터만 따로 반환\n",
    "math = dept.get_group('수학')\n",
    "\n",
    "math"
   ]
  },
  {
   "attachments": {},
   "cell_type": "markdown",
   "metadata": {},
   "source": [
    "#### 2 단계 그룹핑"
   ]
  },
  {
   "cell_type": "code",
   "execution_count": null,
   "metadata": {},
   "outputs": [],
   "source": [
    "dept = df.groupby([df['학과'], df['학년']]) # 학과별 학년별 그룹화 진행\n",
    "dept"
   ]
  },
  {
   "cell_type": "code",
   "execution_count": null,
   "metadata": {},
   "outputs": [],
   "source": [
    "# 그룹별 기술통계 도출\n",
    "dept.describe()"
   ]
  },
  {
   "cell_type": "code",
   "execution_count": null,
   "metadata": {},
   "outputs": [],
   "source": [
    "display(dept.mean())"
   ]
  },
  {
   "cell_type": "code",
   "execution_count": null,
   "metadata": {},
   "outputs": [],
   "source": [
    "# 데이터 추가\n",
    "df2 = pd.DataFrame({\n",
    "    '학과': ['화학', '수학', '화학', '수학'],\n",
    "    '이름': ['앤디', '제니', '엘리스', '멜리샤'],\n",
    "    '학년': [1, 2, 3, 2],\n",
    "    '학점': [3, 4.2, 3.1, 4.5]\n",
    "})\n",
    "\n",
    "concat_df = pd.concat([df, df2], axis=0)\n",
    "concat_df.reset_index(inplace=True, drop=True)\n",
    "display(concat_df)"
   ]
  },
  {
   "cell_type": "code",
   "execution_count": null,
   "metadata": {},
   "outputs": [],
   "source": [
    "dept_and_year = concat_df.groupby([concat_df['학과'], concat_df['학년']])"
   ]
  },
  {
   "cell_type": "code",
   "execution_count": null,
   "metadata": {},
   "outputs": [],
   "source": [
    "dept_and_year.describe()"
   ]
  },
  {
   "cell_type": "code",
   "execution_count": null,
   "metadata": {},
   "outputs": [],
   "source": [
    "dept_and_year.mean().index"
   ]
  },
  {
   "attachments": {},
   "cell_type": "markdown",
   "metadata": {},
   "source": [
    "#### apply(인덱싱하는 함수) 메소드 사용"
   ]
  },
  {
   "cell_type": "code",
   "execution_count": null,
   "metadata": {},
   "outputs": [],
   "source": [
    "def top3_dept_scorer(df):\n",
    "    return df.sort_values(by='학점', ascending=False)[:3] "
   ]
  },
  {
   "cell_type": "code",
   "execution_count": null,
   "metadata": {},
   "outputs": [],
   "source": [
    "# 학과별 그룹화 \n",
    "dept = concat_df.groupby('학과')"
   ]
  },
  {
   "cell_type": "code",
   "execution_count": null,
   "metadata": {},
   "outputs": [],
   "source": [
    "dept.apply(top3_dept_scorer)"
   ]
  },
  {
   "cell_type": "code",
   "execution_count": null,
   "metadata": {},
   "outputs": [],
   "source": [
    "display(dept.apply(top3_dept_scorer)['이름']) # 멀티 인덱스이기 때문에 이상하게 출력되는 모습"
   ]
  },
  {
   "attachments": {},
   "cell_type": "markdown",
   "metadata": {},
   "source": [
    "#### groupby, apply, 람다 함수 한번에 사용"
   ]
  },
  {
   "cell_type": "code",
   "execution_count": null,
   "metadata": {},
   "outputs": [],
   "source": [
    "# 위아래 똑같은 결과 나옴\n",
    "# concat_df.groupby(concat_df['학년']).apply(lambda x: x.sort_values(by='학점'))\n",
    "concat_df.groupby('학년').apply(lambda x: x.sort_values(by='학점'))"
   ]
  },
  {
   "attachments": {},
   "cell_type": "markdown",
   "metadata": {},
   "source": [
    "#### groupby는 시퀸스 객체라서 for loop 가능"
   ]
  },
  {
   "cell_type": "code",
   "execution_count": null,
   "metadata": {},
   "outputs": [],
   "source": [
    "for dept, group in concat_df.groupby('학과'):\n",
    "    print(f'학과: {dept}')\n",
    "    display(group)"
   ]
  },
  {
   "attachments": {},
   "cell_type": "markdown",
   "metadata": {},
   "source": [
    "#### 2차 그룹핑 for loop"
   ]
  },
  {
   "cell_type": "code",
   "execution_count": null,
   "metadata": {},
   "outputs": [],
   "source": [
    "for (dept, year), group in concat_df.groupby(['학과', '학년']):\n",
    "    print('-' * 25)\n",
    "    print('학과: ', dept, '/ 학년: ', year)\n",
    "    display(group)"
   ]
  },
  {
   "attachments": {},
   "cell_type": "markdown",
   "metadata": {},
   "source": [
    "# 시계열데이터기초"
   ]
  },
  {
   "attachments": {},
   "cell_type": "markdown",
   "metadata": {},
   "source": [
    "- DatetimeIndex 자료형 사용\n",
    "- pd.to_datetime()\n",
    "- Down-sampling 을 자주 하게됨 (일 단위 -> 월 단위 -> 년 단위)\n",
    "- Up-sampling: 실제로 존재하지 않는 데이터를 만듬 (Forward filling, Backword filling)\n",
    "  - 처음 데이터를 기준으로, 마지막 데이터를 기준으로 하느냐에 따라 Forward, Backword라고 함\n",
    "\n",
    "#### Time Plot 시간그래프 pd.DataFrame.plot()\n",
    "- 패턴, 이상치, 시간에 따른 변화, 계절성 등을 시각적으로 파악하기 용이"
   ]
  },
  {
   "cell_type": "code",
   "execution_count": null,
   "metadata": {},
   "outputs": [],
   "source": [
    "date1 = ['2022 01 01', '2022 02 01', '2022 03 01', '2022 04 01']\n",
    "date_idx1 = pd.to_datetime(date1)\n",
    "\n",
    "\n",
    "# 위와 같이 다양한 방식으로 날짜를 넣어주면 처리를 해주는 to_datetime 메소드"
   ]
  },
  {
   "cell_type": "code",
   "execution_count": null,
   "metadata": {},
   "outputs": [],
   "source": [
    "date3 = ['2022/01/01', '2022/02/01', '2022/03/01', '2022/04/01']\n",
    "date_idx3 = pd.to_datetime(date3)"
   ]
  },
  {
   "cell_type": "code",
   "execution_count": null,
   "metadata": {},
   "outputs": [],
   "source": [
    "date4 = ['2022,01,01', '2022,02,01', '2022,03,01', '2022,04,01']\n",
    "date_idx4 = pd.to_datetime(date4)"
   ]
  },
  {
   "cell_type": "code",
   "execution_count": null,
   "metadata": {},
   "outputs": [],
   "source": [
    "series = pd.Series(np.random.randint(3, 10, size=4), index=date_idx1)\n",
    "series"
   ]
  },
  {
   "attachments": {},
   "cell_type": "markdown",
   "metadata": {},
   "source": [
    "#### pd.date_range"
   ]
  },
  {
   "cell_type": "code",
   "execution_count": null,
   "metadata": {},
   "outputs": [],
   "source": [
    "pd.date_range('2020-1-1', '2020-05-31', freq='MS')"
   ]
  },
  {
   "attachments": {},
   "cell_type": "markdown",
   "metadata": {},
   "source": [
    "#### freq 인수\n",
    "- D: 일별 (기본값)\n",
    "- W: 주별 (일요일 기준)\n",
    "- W-MON: 주별 (월요일 기준)\n",
    "- M: 월별 (월 마지막일 기준)\n",
    "- MS: 월별 (월 시작일 기준)\n",
    "- B: 주말을 제외한 평일 인덱스"
   ]
  },
  {
   "cell_type": "code",
   "execution_count": null,
   "metadata": {},
   "outputs": [],
   "source": []
  }
 ],
 "metadata": {
  "kernelspec": {
   "display_name": "aivle",
   "language": "python",
   "name": "python3"
  },
  "language_info": {
   "codemirror_mode": {
    "name": "ipython",
    "version": 3
   },
   "file_extension": ".py",
   "mimetype": "text/x-python",
   "name": "python",
   "nbconvert_exporter": "python",
   "pygments_lexer": "ipython3",
   "version": "3.9.15"
  },
  "vscode": {
   "interpreter": {
    "hash": "14c0778f35eb1a1693aaa8436d3d12e6f0497f04708fd5dddb8ce06d09acab7c"
   }
  }
 },
 "nbformat": 4,
 "nbformat_minor": 2
}
