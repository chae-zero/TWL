{
 "cells": [
  {
   "cell_type": "code",
   "execution_count": 1,
   "metadata": {},
   "outputs": [],
   "source": [
    "import pandas as pd\n",
    "import numpy as np"
   ]
  },
  {
   "cell_type": "code",
   "execution_count": null,
   "metadata": {},
   "outputs": [],
   "source": [
    "data = {\n",
    "    '이름': ['아이유', '김연아', '홍길동', '장범준', '강감찬'],\n",
    "    '학과': ['국문학', '수학', '컴퓨터', '철학', '경영학'],\n",
    "    '성적': [3.0, 1.0, 3.5, 2.7, 4.0]\n",
    "}\n",
    "\n",
    "df = pd.DataFrame(data)\n",
    "\n",
    "# 원하는 행번호와 열의 이름 정확히 입력\n",
    "df.loc[0:, '이름']\n",
    "# 원하는 행과, 열의 번호 입력\n",
    "df.iloc[0:, 1]"
   ]
  },
  {
   "cell_type": "code",
   "execution_count": null,
   "metadata": {},
   "outputs": [],
   "source": [
    "# to_csv(저장경로와 파일이름 지정, 콤마로 구분, 저장시 인덱스 저장 유무)\n",
    "df.to_csv('./student.csv', sep=',', index=False)"
   ]
  },
  {
   "cell_type": "code",
   "execution_count": 3,
   "metadata": {},
   "outputs": [
    {
     "data": {
      "text/html": [
       "<div>\n",
       "<style scoped>\n",
       "    .dataframe tbody tr th:only-of-type {\n",
       "        vertical-align: middle;\n",
       "    }\n",
       "\n",
       "    .dataframe tbody tr th {\n",
       "        vertical-align: top;\n",
       "    }\n",
       "\n",
       "    .dataframe thead th {\n",
       "        text-align: right;\n",
       "    }\n",
       "</style>\n",
       "<table border=\"1\" class=\"dataframe\">\n",
       "  <thead>\n",
       "    <tr style=\"text-align: right;\">\n",
       "      <th></th>\n",
       "      <th>이름</th>\n",
       "      <th>학과</th>\n",
       "      <th>성적</th>\n",
       "    </tr>\n",
       "  </thead>\n",
       "  <tbody>\n",
       "    <tr>\n",
       "      <th>0</th>\n",
       "      <td>아이유</td>\n",
       "      <td>국문학</td>\n",
       "      <td>3.0</td>\n",
       "    </tr>\n",
       "    <tr>\n",
       "      <th>1</th>\n",
       "      <td>김연아</td>\n",
       "      <td>수학</td>\n",
       "      <td>1.0</td>\n",
       "    </tr>\n",
       "    <tr>\n",
       "      <th>2</th>\n",
       "      <td>홍길동</td>\n",
       "      <td>컴퓨터</td>\n",
       "      <td>3.5</td>\n",
       "    </tr>\n",
       "    <tr>\n",
       "      <th>3</th>\n",
       "      <td>장범준</td>\n",
       "      <td>철학</td>\n",
       "      <td>2.7</td>\n",
       "    </tr>\n",
       "    <tr>\n",
       "      <th>4</th>\n",
       "      <td>강감찬</td>\n",
       "      <td>경영학</td>\n",
       "      <td>4.0</td>\n",
       "    </tr>\n",
       "  </tbody>\n",
       "</table>\n",
       "</div>"
      ],
      "text/plain": [
       "    이름   학과   성적\n",
       "0  아이유  국문학  3.0\n",
       "1  김연아   수학  1.0\n",
       "2  홍길동  컴퓨터  3.5\n",
       "3  장범준   철학  2.7\n",
       "4  강감찬  경영학  4.0"
      ]
     },
     "metadata": {},
     "output_type": "display_data"
    }
   ],
   "source": [
    "# csv 데이터 로딩\n",
    "df = pd.read_csv('./student.csv')\n",
    "display(df)"
   ]
  },
  {
   "cell_type": "code",
   "execution_count": 4,
   "metadata": {},
   "outputs": [
    {
     "name": "stdout",
     "output_type": "stream",
     "text": [
      "    이름   학과   성적\n",
      "1  김연아   수학  1.0\n",
      "2  홍길동  컴퓨터  3.5\n",
      "3  장범준   철학  2.7\n",
      "4  강감찬  경영학  4.0\n",
      "\n",
      "    이름   학과   성적\n",
      "0  아이유  국문학  3.0\n",
      "1  김연아   수학  1.0\n",
      "2  홍길동  컴퓨터  3.5\n",
      "\n",
      "    이름   학과   성적\n",
      "0  아이유  국문학  3.0\n",
      "1  김연아   수학  1.0\n",
      "2  홍길동  컴퓨터  3.5\n",
      "3  장범준   철학  2.7\n",
      "4  강감찬  경영학  4.0\n",
      "\n"
     ]
    }
   ],
   "source": [
    "print(df[1:5]); print()\n",
    "print(df[0:3]); print()\n",
    "print(df[0:]); print()"
   ]
  },
  {
   "cell_type": "code",
   "execution_count": 5,
   "metadata": {},
   "outputs": [
    {
     "data": {
      "text/plain": [
       "0    국문학\n",
       "1     수학\n",
       "2    컴퓨터\n",
       "3     철학\n",
       "4    경영학\n",
       "Name: 학과, dtype: object"
      ]
     },
     "execution_count": 5,
     "metadata": {},
     "output_type": "execute_result"
    }
   ],
   "source": [
    "# print(df[1]) <- 에러 발생\n",
    "\n",
    "df['이름']\n",
    "df['성적']\n",
    "df['학과']"
   ]
  },
  {
   "cell_type": "code",
   "execution_count": 6,
   "metadata": {},
   "outputs": [
    {
     "data": {
      "text/html": [
       "<div>\n",
       "<style scoped>\n",
       "    .dataframe tbody tr th:only-of-type {\n",
       "        vertical-align: middle;\n",
       "    }\n",
       "\n",
       "    .dataframe tbody tr th {\n",
       "        vertical-align: top;\n",
       "    }\n",
       "\n",
       "    .dataframe thead th {\n",
       "        text-align: right;\n",
       "    }\n",
       "</style>\n",
       "<table border=\"1\" class=\"dataframe\">\n",
       "  <thead>\n",
       "    <tr style=\"text-align: right;\">\n",
       "      <th></th>\n",
       "      <th>학과</th>\n",
       "      <th>이름</th>\n",
       "    </tr>\n",
       "  </thead>\n",
       "  <tbody>\n",
       "    <tr>\n",
       "      <th>0</th>\n",
       "      <td>국문학</td>\n",
       "      <td>아이유</td>\n",
       "    </tr>\n",
       "    <tr>\n",
       "      <th>1</th>\n",
       "      <td>수학</td>\n",
       "      <td>김연아</td>\n",
       "    </tr>\n",
       "    <tr>\n",
       "      <th>2</th>\n",
       "      <td>컴퓨터</td>\n",
       "      <td>홍길동</td>\n",
       "    </tr>\n",
       "    <tr>\n",
       "      <th>3</th>\n",
       "      <td>철학</td>\n",
       "      <td>장범준</td>\n",
       "    </tr>\n",
       "    <tr>\n",
       "      <th>4</th>\n",
       "      <td>경영학</td>\n",
       "      <td>강감찬</td>\n",
       "    </tr>\n",
       "  </tbody>\n",
       "</table>\n",
       "</div>"
      ],
      "text/plain": [
       "    학과   이름\n",
       "0  국문학  아이유\n",
       "1   수학  김연아\n",
       "2  컴퓨터  홍길동\n",
       "3   철학  장범준\n",
       "4  경영학  강감찬"
      ]
     },
     "execution_count": 6,
     "metadata": {},
     "output_type": "execute_result"
    }
   ],
   "source": [
    "df[['학과', '이름']]"
   ]
  },
  {
   "cell_type": "code",
   "execution_count": 7,
   "metadata": {},
   "outputs": [
    {
     "name": "stdout",
     "output_type": "stream",
     "text": [
      "    학과   이름\n",
      "1   수학  김연아\n",
      "2  컴퓨터  홍길동\n",
      "3   철학  장범준\n",
      "\n",
      "    이름   학과\n",
      "1  김연아   수학\n",
      "2  홍길동  컴퓨터\n",
      "3  장범준   철학\n"
     ]
    }
   ],
   "source": [
    "print(df[['학과', '이름']][1:4]); print()\n",
    "print(df[1:4][['이름', '학과']])\n",
    "# 필드 순서 상관 없음, 인덱싱 순서 상관 없음"
   ]
  },
  {
   "cell_type": "code",
   "execution_count": 8,
   "metadata": {},
   "outputs": [
    {
     "data": {
      "text/html": [
       "<div>\n",
       "<style scoped>\n",
       "    .dataframe tbody tr th:only-of-type {\n",
       "        vertical-align: middle;\n",
       "    }\n",
       "\n",
       "    .dataframe tbody tr th {\n",
       "        vertical-align: top;\n",
       "    }\n",
       "\n",
       "    .dataframe thead th {\n",
       "        text-align: right;\n",
       "    }\n",
       "</style>\n",
       "<table border=\"1\" class=\"dataframe\">\n",
       "  <thead>\n",
       "    <tr style=\"text-align: right;\">\n",
       "      <th></th>\n",
       "      <th>이름</th>\n",
       "      <th>학과</th>\n",
       "      <th>성적</th>\n",
       "    </tr>\n",
       "  </thead>\n",
       "  <tbody>\n",
       "    <tr>\n",
       "      <th>1</th>\n",
       "      <td>김연아</td>\n",
       "      <td>수학</td>\n",
       "      <td>1.0</td>\n",
       "    </tr>\n",
       "  </tbody>\n",
       "</table>\n",
       "</div>"
      ],
      "text/plain": [
       "    이름  학과   성적\n",
       "1  김연아  수학  1.0"
      ]
     },
     "execution_count": 8,
     "metadata": {},
     "output_type": "execute_result"
    }
   ],
   "source": [
    "df[ df['학과'] == '수학' ]"
   ]
  },
  {
   "cell_type": "code",
   "execution_count": 9,
   "metadata": {},
   "outputs": [
    {
     "name": "stdout",
     "output_type": "stream",
     "text": [
      "이름    장범준\n",
      "학과     철학\n",
      "성적    2.7\n",
      "Name: 3, dtype: object\n",
      "\n",
      "    이름   학과   성적\n",
      "1  김연아   수학  1.0\n",
      "2  홍길동  컴퓨터  3.5\n",
      "3  장범준   철학  2.7\n",
      "\n",
      "    이름   학과   성적\n",
      "1  김연아   수학  1.0\n",
      "2  홍길동  컴퓨터  3.5\n",
      "3  장범준   철학  2.7\n",
      "\n",
      "    이름   성적\n",
      "1  김연아  1.0\n",
      "2  홍길동  3.5\n",
      "4  강감찬  4.0\n"
     ]
    }
   ],
   "source": [
    "print(df.loc[3]); print()\n",
    "print(df.loc[[1, 2, 3]]); print()\n",
    "print(df.loc[[1, 2, 3], :]); print()\n",
    "# print(df.loc[[1, 2, 3], [0:1]]) <-- 불가능 열은 문자열로 주어야함\n",
    "print(df.loc[[1, 2, 4], ['이름', '성적']]) # <-- [[행번호]. [열이름]]"
   ]
  },
  {
   "cell_type": "code",
   "execution_count": 10,
   "metadata": {},
   "outputs": [
    {
     "name": "stdout",
     "output_type": "stream",
     "text": [
      "    이름   학과\n",
      "1  김연아   수학\n",
      "3  장범준   철학\n",
      "4  강감찬  경영학\n",
      "\n",
      "    이름   학과   성적\n",
      "1  김연아   수학  1.0\n",
      "3  장범준   철학  2.7\n",
      "4  강감찬  경영학  4.0\n"
     ]
    }
   ],
   "source": [
    "print(df.iloc[[1, 3, 4], 0:2]); print() # df.iloc[[행번호], 열인덱스]\n",
    "print(df.iloc[[1, 3, 4], 0:3]) "
   ]
  },
  {
   "cell_type": "code",
   "execution_count": 11,
   "metadata": {},
   "outputs": [
    {
     "data": {
      "text/html": [
       "<div>\n",
       "<style scoped>\n",
       "    .dataframe tbody tr th:only-of-type {\n",
       "        vertical-align: middle;\n",
       "    }\n",
       "\n",
       "    .dataframe tbody tr th {\n",
       "        vertical-align: top;\n",
       "    }\n",
       "\n",
       "    .dataframe thead th {\n",
       "        text-align: right;\n",
       "    }\n",
       "</style>\n",
       "<table border=\"1\" class=\"dataframe\">\n",
       "  <thead>\n",
       "    <tr style=\"text-align: right;\">\n",
       "      <th></th>\n",
       "      <th>이름</th>\n",
       "      <th>학과</th>\n",
       "      <th>성적</th>\n",
       "    </tr>\n",
       "  </thead>\n",
       "  <tbody>\n",
       "    <tr>\n",
       "      <th>0</th>\n",
       "      <td>아이유</td>\n",
       "      <td>국문학</td>\n",
       "      <td>3.0</td>\n",
       "    </tr>\n",
       "    <tr>\n",
       "      <th>1</th>\n",
       "      <td>김연아</td>\n",
       "      <td>수학</td>\n",
       "      <td>1.0</td>\n",
       "    </tr>\n",
       "    <tr>\n",
       "      <th>2</th>\n",
       "      <td>홍길동</td>\n",
       "      <td>컴퓨터</td>\n",
       "      <td>3.5</td>\n",
       "    </tr>\n",
       "    <tr>\n",
       "      <th>3</th>\n",
       "      <td>장범준</td>\n",
       "      <td>철학</td>\n",
       "      <td>2.7</td>\n",
       "    </tr>\n",
       "  </tbody>\n",
       "</table>\n",
       "</div>"
      ],
      "text/plain": [
       "    이름   학과   성적\n",
       "0  아이유  국문학  3.0\n",
       "1  김연아   수학  1.0\n",
       "2  홍길동  컴퓨터  3.5\n",
       "3  장범준   철학  2.7"
      ]
     },
     "execution_count": 11,
     "metadata": {},
     "output_type": "execute_result"
    }
   ],
   "source": [
    "df.loc[ df['성적'] % 2 != 0, ['이름', '학과', '성적']]"
   ]
  },
  {
   "cell_type": "code",
   "execution_count": 12,
   "metadata": {},
   "outputs": [],
   "source": [
    "import numpy as np\n",
    "import pandas as pd"
   ]
  },
  {
   "cell_type": "code",
   "execution_count": 13,
   "metadata": {},
   "outputs": [
    {
     "data": {
      "text/plain": [
       "'c:\\\\Users\\\\yookim\\\\Documents\\\\A_Code\\\\TWL\\\\kimyoo04\\\\Pandas'"
      ]
     },
     "execution_count": 13,
     "metadata": {},
     "output_type": "execute_result"
    }
   ],
   "source": [
    "import os\n",
    "os.getcwd()"
   ]
  },
  {
   "attachments": {},
   "cell_type": "markdown",
   "metadata": {},
   "source": [
    "# 데이터 변경"
   ]
  },
  {
   "attachments": {},
   "cell_type": "markdown",
   "metadata": {},
   "source": [
    "### 지난 시간 저장한 csv 로딩"
   ]
  },
  {
   "cell_type": "code",
   "execution_count": 14,
   "metadata": {},
   "outputs": [
    {
     "data": {
      "text/html": [
       "<div>\n",
       "<style scoped>\n",
       "    .dataframe tbody tr th:only-of-type {\n",
       "        vertical-align: middle;\n",
       "    }\n",
       "\n",
       "    .dataframe tbody tr th {\n",
       "        vertical-align: top;\n",
       "    }\n",
       "\n",
       "    .dataframe thead th {\n",
       "        text-align: right;\n",
       "    }\n",
       "</style>\n",
       "<table border=\"1\" class=\"dataframe\">\n",
       "  <thead>\n",
       "    <tr style=\"text-align: right;\">\n",
       "      <th></th>\n",
       "      <th>이름</th>\n",
       "      <th>학과</th>\n",
       "      <th>성적</th>\n",
       "    </tr>\n",
       "  </thead>\n",
       "  <tbody>\n",
       "    <tr>\n",
       "      <th>0</th>\n",
       "      <td>아이유</td>\n",
       "      <td>국문학</td>\n",
       "      <td>3.0</td>\n",
       "    </tr>\n",
       "    <tr>\n",
       "      <th>1</th>\n",
       "      <td>김연아</td>\n",
       "      <td>수학</td>\n",
       "      <td>1.0</td>\n",
       "    </tr>\n",
       "    <tr>\n",
       "      <th>2</th>\n",
       "      <td>홍길동</td>\n",
       "      <td>컴퓨터</td>\n",
       "      <td>3.5</td>\n",
       "    </tr>\n",
       "    <tr>\n",
       "      <th>3</th>\n",
       "      <td>장범준</td>\n",
       "      <td>철학</td>\n",
       "      <td>2.7</td>\n",
       "    </tr>\n",
       "    <tr>\n",
       "      <th>4</th>\n",
       "      <td>강감찬</td>\n",
       "      <td>경영학</td>\n",
       "      <td>4.0</td>\n",
       "    </tr>\n",
       "  </tbody>\n",
       "</table>\n",
       "</div>"
      ],
      "text/plain": [
       "    이름   학과   성적\n",
       "0  아이유  국문학  3.0\n",
       "1  김연아   수학  1.0\n",
       "2  홍길동  컴퓨터  3.5\n",
       "3  장범준   철학  2.7\n",
       "4  강감찬  경영학  4.0"
      ]
     },
     "metadata": {},
     "output_type": "display_data"
    }
   ],
   "source": [
    "df = pd.read_csv('./student.csv')\n",
    "display(df)"
   ]
  },
  {
   "cell_type": "code",
   "execution_count": 15,
   "metadata": {},
   "outputs": [
    {
     "data": {
      "text/html": [
       "<div>\n",
       "<style scoped>\n",
       "    .dataframe tbody tr th:only-of-type {\n",
       "        vertical-align: middle;\n",
       "    }\n",
       "\n",
       "    .dataframe tbody tr th {\n",
       "        vertical-align: top;\n",
       "    }\n",
       "\n",
       "    .dataframe thead th {\n",
       "        text-align: right;\n",
       "    }\n",
       "</style>\n",
       "<table border=\"1\" class=\"dataframe\">\n",
       "  <thead>\n",
       "    <tr style=\"text-align: right;\">\n",
       "      <th></th>\n",
       "      <th>이름</th>\n",
       "      <th>학과</th>\n",
       "      <th>성적</th>\n",
       "      <th>등급</th>\n",
       "    </tr>\n",
       "  </thead>\n",
       "  <tbody>\n",
       "    <tr>\n",
       "      <th>0</th>\n",
       "      <td>아이유</td>\n",
       "      <td>국문학</td>\n",
       "      <td>3.0</td>\n",
       "      <td>A</td>\n",
       "    </tr>\n",
       "    <tr>\n",
       "      <th>1</th>\n",
       "      <td>김연아</td>\n",
       "      <td>수학</td>\n",
       "      <td>1.0</td>\n",
       "      <td>A</td>\n",
       "    </tr>\n",
       "    <tr>\n",
       "      <th>2</th>\n",
       "      <td>홍길동</td>\n",
       "      <td>컴퓨터</td>\n",
       "      <td>3.5</td>\n",
       "      <td>A</td>\n",
       "    </tr>\n",
       "    <tr>\n",
       "      <th>3</th>\n",
       "      <td>장범준</td>\n",
       "      <td>철학</td>\n",
       "      <td>2.7</td>\n",
       "      <td>A</td>\n",
       "    </tr>\n",
       "    <tr>\n",
       "      <th>4</th>\n",
       "      <td>강감찬</td>\n",
       "      <td>경영학</td>\n",
       "      <td>4.0</td>\n",
       "      <td>A</td>\n",
       "    </tr>\n",
       "  </tbody>\n",
       "</table>\n",
       "</div>"
      ],
      "text/plain": [
       "    이름   학과   성적 등급\n",
       "0  아이유  국문학  3.0  A\n",
       "1  김연아   수학  1.0  A\n",
       "2  홍길동  컴퓨터  3.5  A\n",
       "3  장범준   철학  2.7  A\n",
       "4  강감찬  경영학  4.0  A"
      ]
     },
     "execution_count": 15,
     "metadata": {},
     "output_type": "execute_result"
    }
   ],
   "source": [
    "df['등급'] = 'A' # 일괄 값 적용됨\n",
    "df"
   ]
  },
  {
   "attachments": {},
   "cell_type": "markdown",
   "metadata": {},
   "source": [
    "### 컬럼과 값을 추가하는 방법 (numpy, pandas)\n",
    "##### - 값을 넣을 때의 인덱스가 같아야하며, 길이도 같아야함!"
   ]
  },
  {
   "cell_type": "code",
   "execution_count": 16,
   "metadata": {},
   "outputs": [
    {
     "data": {
      "text/html": [
       "<div>\n",
       "<style scoped>\n",
       "    .dataframe tbody tr th:only-of-type {\n",
       "        vertical-align: middle;\n",
       "    }\n",
       "\n",
       "    .dataframe tbody tr th {\n",
       "        vertical-align: top;\n",
       "    }\n",
       "\n",
       "    .dataframe thead th {\n",
       "        text-align: right;\n",
       "    }\n",
       "</style>\n",
       "<table border=\"1\" class=\"dataframe\">\n",
       "  <thead>\n",
       "    <tr style=\"text-align: right;\">\n",
       "      <th></th>\n",
       "      <th>이름</th>\n",
       "      <th>학과</th>\n",
       "      <th>성적</th>\n",
       "      <th>등급</th>\n",
       "    </tr>\n",
       "  </thead>\n",
       "  <tbody>\n",
       "    <tr>\n",
       "      <th>0</th>\n",
       "      <td>아이유</td>\n",
       "      <td>국문학</td>\n",
       "      <td>3.0</td>\n",
       "      <td>B</td>\n",
       "    </tr>\n",
       "    <tr>\n",
       "      <th>1</th>\n",
       "      <td>김연아</td>\n",
       "      <td>수학</td>\n",
       "      <td>1.0</td>\n",
       "      <td>D</td>\n",
       "    </tr>\n",
       "    <tr>\n",
       "      <th>2</th>\n",
       "      <td>홍길동</td>\n",
       "      <td>컴퓨터</td>\n",
       "      <td>3.5</td>\n",
       "      <td>B</td>\n",
       "    </tr>\n",
       "    <tr>\n",
       "      <th>3</th>\n",
       "      <td>장범준</td>\n",
       "      <td>철학</td>\n",
       "      <td>2.7</td>\n",
       "      <td>C</td>\n",
       "    </tr>\n",
       "    <tr>\n",
       "      <th>4</th>\n",
       "      <td>강감찬</td>\n",
       "      <td>경영학</td>\n",
       "      <td>4.0</td>\n",
       "      <td>A</td>\n",
       "    </tr>\n",
       "  </tbody>\n",
       "</table>\n",
       "</div>"
      ],
      "text/plain": [
       "    이름   학과   성적 등급\n",
       "0  아이유  국문학  3.0  B\n",
       "1  김연아   수학  1.0  D\n",
       "2  홍길동  컴퓨터  3.5  B\n",
       "3  장범준   철학  2.7  C\n",
       "4  강감찬  경영학  4.0  A"
      ]
     },
     "metadata": {},
     "output_type": "display_data"
    },
    {
     "data": {
      "text/html": [
       "<div>\n",
       "<style scoped>\n",
       "    .dataframe tbody tr th:only-of-type {\n",
       "        vertical-align: middle;\n",
       "    }\n",
       "\n",
       "    .dataframe tbody tr th {\n",
       "        vertical-align: top;\n",
       "    }\n",
       "\n",
       "    .dataframe thead th {\n",
       "        text-align: right;\n",
       "    }\n",
       "</style>\n",
       "<table border=\"1\" class=\"dataframe\">\n",
       "  <thead>\n",
       "    <tr style=\"text-align: right;\">\n",
       "      <th></th>\n",
       "      <th>이름</th>\n",
       "      <th>학과</th>\n",
       "      <th>성적</th>\n",
       "      <th>등급</th>\n",
       "      <th>나이</th>\n",
       "    </tr>\n",
       "  </thead>\n",
       "  <tbody>\n",
       "    <tr>\n",
       "      <th>0</th>\n",
       "      <td>아이유</td>\n",
       "      <td>국문학</td>\n",
       "      <td>3.0</td>\n",
       "      <td>B</td>\n",
       "      <td>21</td>\n",
       "    </tr>\n",
       "    <tr>\n",
       "      <th>1</th>\n",
       "      <td>김연아</td>\n",
       "      <td>수학</td>\n",
       "      <td>1.0</td>\n",
       "      <td>D</td>\n",
       "      <td>20</td>\n",
       "    </tr>\n",
       "    <tr>\n",
       "      <th>2</th>\n",
       "      <td>홍길동</td>\n",
       "      <td>컴퓨터</td>\n",
       "      <td>3.5</td>\n",
       "      <td>B</td>\n",
       "      <td>24</td>\n",
       "    </tr>\n",
       "    <tr>\n",
       "      <th>3</th>\n",
       "      <td>장범준</td>\n",
       "      <td>철학</td>\n",
       "      <td>2.7</td>\n",
       "      <td>C</td>\n",
       "      <td>23</td>\n",
       "    </tr>\n",
       "    <tr>\n",
       "      <th>4</th>\n",
       "      <td>강감찬</td>\n",
       "      <td>경영학</td>\n",
       "      <td>4.0</td>\n",
       "      <td>A</td>\n",
       "      <td>28</td>\n",
       "    </tr>\n",
       "  </tbody>\n",
       "</table>\n",
       "</div>"
      ],
      "text/plain": [
       "    이름   학과   성적 등급  나이\n",
       "0  아이유  국문학  3.0  B  21\n",
       "1  김연아   수학  1.0  D  20\n",
       "2  홍길동  컴퓨터  3.5  B  24\n",
       "3  장범준   철학  2.7  C  23\n",
       "4  강감찬  경영학  4.0  A  28"
      ]
     },
     "metadata": {},
     "output_type": "display_data"
    }
   ],
   "source": [
    "# numpy 1d array 로 할당하는 방법\n",
    "grade = np.array(['B', 'D', 'B', 'C', 'A'])\n",
    "df['등급'] = grade\n",
    "display(df)\n",
    "\n",
    "# pandas의 Series 로 할당하는 방법 \n",
    "age = pd.Series([21, 20, 24, 23, 28])\n",
    "df['나이'] = age\n",
    "display(df)"
   ]
  },
  {
   "attachments": {},
   "cell_type": "markdown",
   "metadata": {},
   "source": [
    "### 컬럼과 값 추가"
   ]
  },
  {
   "cell_type": "code",
   "execution_count": 17,
   "metadata": {},
   "outputs": [
    {
     "data": {
      "text/plain": [
       "RangeIndex(start=0, stop=5, step=1)"
      ]
     },
     "execution_count": 17,
     "metadata": {},
     "output_type": "execute_result"
    }
   ],
   "source": [
    "df.index"
   ]
  },
  {
   "cell_type": "code",
   "execution_count": 18,
   "metadata": {},
   "outputs": [
    {
     "data": {
      "text/html": [
       "<div>\n",
       "<style scoped>\n",
       "    .dataframe tbody tr th:only-of-type {\n",
       "        vertical-align: middle;\n",
       "    }\n",
       "\n",
       "    .dataframe tbody tr th {\n",
       "        vertical-align: top;\n",
       "    }\n",
       "\n",
       "    .dataframe thead th {\n",
       "        text-align: right;\n",
       "    }\n",
       "</style>\n",
       "<table border=\"1\" class=\"dataframe\">\n",
       "  <thead>\n",
       "    <tr style=\"text-align: right;\">\n",
       "      <th></th>\n",
       "      <th>이름</th>\n",
       "      <th>학과</th>\n",
       "      <th>성적</th>\n",
       "      <th>등급</th>\n",
       "      <th>나이</th>\n",
       "    </tr>\n",
       "  </thead>\n",
       "  <tbody>\n",
       "    <tr>\n",
       "      <th>one</th>\n",
       "      <td>아이유</td>\n",
       "      <td>국문학</td>\n",
       "      <td>3.0</td>\n",
       "      <td>B</td>\n",
       "      <td>21</td>\n",
       "    </tr>\n",
       "    <tr>\n",
       "      <th>two</th>\n",
       "      <td>김연아</td>\n",
       "      <td>수학</td>\n",
       "      <td>1.0</td>\n",
       "      <td>D</td>\n",
       "      <td>20</td>\n",
       "    </tr>\n",
       "    <tr>\n",
       "      <th>three</th>\n",
       "      <td>홍길동</td>\n",
       "      <td>컴퓨터</td>\n",
       "      <td>3.5</td>\n",
       "      <td>B</td>\n",
       "      <td>24</td>\n",
       "    </tr>\n",
       "    <tr>\n",
       "      <th>four</th>\n",
       "      <td>장범준</td>\n",
       "      <td>철학</td>\n",
       "      <td>2.7</td>\n",
       "      <td>C</td>\n",
       "      <td>23</td>\n",
       "    </tr>\n",
       "    <tr>\n",
       "      <th>five</th>\n",
       "      <td>강감찬</td>\n",
       "      <td>경영학</td>\n",
       "      <td>4.0</td>\n",
       "      <td>A</td>\n",
       "      <td>28</td>\n",
       "    </tr>\n",
       "  </tbody>\n",
       "</table>\n",
       "</div>"
      ],
      "text/plain": [
       "        이름   학과   성적 등급  나이\n",
       "one    아이유  국문학  3.0  B  21\n",
       "two    김연아   수학  1.0  D  20\n",
       "three  홍길동  컴퓨터  3.5  B  24\n",
       "four   장범준   철학  2.7  C  23\n",
       "five   강감찬  경영학  4.0  A  28"
      ]
     },
     "metadata": {},
     "output_type": "display_data"
    }
   ],
   "source": [
    "# 데이터 프레임의 인덱스 변경\n",
    "df.index = ['one', 'two', 'three', 'four', 'five']\n",
    "display(df)"
   ]
  },
  {
   "cell_type": "code",
   "execution_count": 19,
   "metadata": {},
   "outputs": [
    {
     "data": {
      "text/html": [
       "<div>\n",
       "<style scoped>\n",
       "    .dataframe tbody tr th:only-of-type {\n",
       "        vertical-align: middle;\n",
       "    }\n",
       "\n",
       "    .dataframe tbody tr th {\n",
       "        vertical-align: top;\n",
       "    }\n",
       "\n",
       "    .dataframe thead th {\n",
       "        text-align: right;\n",
       "    }\n",
       "</style>\n",
       "<table border=\"1\" class=\"dataframe\">\n",
       "  <thead>\n",
       "    <tr style=\"text-align: right;\">\n",
       "      <th></th>\n",
       "      <th>이름</th>\n",
       "      <th>학과</th>\n",
       "      <th>성적</th>\n",
       "      <th>등급</th>\n",
       "      <th>나이</th>\n",
       "      <th>성별</th>\n",
       "    </tr>\n",
       "  </thead>\n",
       "  <tbody>\n",
       "    <tr>\n",
       "      <th>one</th>\n",
       "      <td>아이유</td>\n",
       "      <td>국문학</td>\n",
       "      <td>3.0</td>\n",
       "      <td>B</td>\n",
       "      <td>21</td>\n",
       "      <td>NaN</td>\n",
       "    </tr>\n",
       "    <tr>\n",
       "      <th>two</th>\n",
       "      <td>김연아</td>\n",
       "      <td>수학</td>\n",
       "      <td>1.0</td>\n",
       "      <td>D</td>\n",
       "      <td>20</td>\n",
       "      <td>NaN</td>\n",
       "    </tr>\n",
       "    <tr>\n",
       "      <th>three</th>\n",
       "      <td>홍길동</td>\n",
       "      <td>컴퓨터</td>\n",
       "      <td>3.5</td>\n",
       "      <td>B</td>\n",
       "      <td>24</td>\n",
       "      <td>NaN</td>\n",
       "    </tr>\n",
       "    <tr>\n",
       "      <th>four</th>\n",
       "      <td>장범준</td>\n",
       "      <td>철학</td>\n",
       "      <td>2.7</td>\n",
       "      <td>C</td>\n",
       "      <td>23</td>\n",
       "      <td>NaN</td>\n",
       "    </tr>\n",
       "    <tr>\n",
       "      <th>five</th>\n",
       "      <td>강감찬</td>\n",
       "      <td>경영학</td>\n",
       "      <td>4.0</td>\n",
       "      <td>A</td>\n",
       "      <td>28</td>\n",
       "      <td>NaN</td>\n",
       "    </tr>\n",
       "  </tbody>\n",
       "</table>\n",
       "</div>"
      ],
      "text/plain": [
       "        이름   학과   성적 등급  나이   성별\n",
       "one    아이유  국문학  3.0  B  21  NaN\n",
       "two    김연아   수학  1.0  D  20  NaN\n",
       "three  홍길동  컴퓨터  3.5  B  24  NaN\n",
       "four   장범준   철학  2.7  C  23  NaN\n",
       "five   강감찬  경영학  4.0  A  28  NaN"
      ]
     },
     "metadata": {},
     "output_type": "display_data"
    }
   ],
   "source": [
    "sex = pd.Series(['여자', '여자', '남자', '남자', '남자'])\n",
    "df['성별'] = sex\n",
    "display(df)\n",
    "\n",
    "# 인덱스가 다르기 때문에 NaN으로 출력"
   ]
  },
  {
   "cell_type": "code",
   "execution_count": 20,
   "metadata": {},
   "outputs": [
    {
     "data": {
      "text/plain": [
       "RangeIndex(start=0, stop=5, step=1)"
      ]
     },
     "execution_count": 20,
     "metadata": {},
     "output_type": "execute_result"
    }
   ],
   "source": [
    "# sex 의 인덱스 확인\n",
    "sex.index"
   ]
  },
  {
   "cell_type": "code",
   "execution_count": 21,
   "metadata": {},
   "outputs": [
    {
     "data": {
      "text/plain": [
       "Index(['one', 'two', 'three', 'four', 'five'], dtype='object')"
      ]
     },
     "execution_count": 21,
     "metadata": {},
     "output_type": "execute_result"
    }
   ],
   "source": [
    "# df 의 인덱스 확인\n",
    "df.index"
   ]
  },
  {
   "cell_type": "code",
   "execution_count": 22,
   "metadata": {},
   "outputs": [
    {
     "data": {
      "text/html": [
       "<div>\n",
       "<style scoped>\n",
       "    .dataframe tbody tr th:only-of-type {\n",
       "        vertical-align: middle;\n",
       "    }\n",
       "\n",
       "    .dataframe tbody tr th {\n",
       "        vertical-align: top;\n",
       "    }\n",
       "\n",
       "    .dataframe thead th {\n",
       "        text-align: right;\n",
       "    }\n",
       "</style>\n",
       "<table border=\"1\" class=\"dataframe\">\n",
       "  <thead>\n",
       "    <tr style=\"text-align: right;\">\n",
       "      <th></th>\n",
       "      <th>이름</th>\n",
       "      <th>학과</th>\n",
       "      <th>성적</th>\n",
       "      <th>등급</th>\n",
       "      <th>나이</th>\n",
       "      <th>성별</th>\n",
       "    </tr>\n",
       "  </thead>\n",
       "  <tbody>\n",
       "    <tr>\n",
       "      <th>one</th>\n",
       "      <td>아이유</td>\n",
       "      <td>국문학</td>\n",
       "      <td>3.0</td>\n",
       "      <td>B</td>\n",
       "      <td>21</td>\n",
       "      <td>여자</td>\n",
       "    </tr>\n",
       "    <tr>\n",
       "      <th>two</th>\n",
       "      <td>김연아</td>\n",
       "      <td>수학</td>\n",
       "      <td>1.0</td>\n",
       "      <td>D</td>\n",
       "      <td>20</td>\n",
       "      <td>여자</td>\n",
       "    </tr>\n",
       "    <tr>\n",
       "      <th>three</th>\n",
       "      <td>홍길동</td>\n",
       "      <td>컴퓨터</td>\n",
       "      <td>3.5</td>\n",
       "      <td>B</td>\n",
       "      <td>24</td>\n",
       "      <td>남자</td>\n",
       "    </tr>\n",
       "    <tr>\n",
       "      <th>four</th>\n",
       "      <td>장범준</td>\n",
       "      <td>철학</td>\n",
       "      <td>2.7</td>\n",
       "      <td>C</td>\n",
       "      <td>23</td>\n",
       "      <td>남자</td>\n",
       "    </tr>\n",
       "    <tr>\n",
       "      <th>five</th>\n",
       "      <td>강감찬</td>\n",
       "      <td>경영학</td>\n",
       "      <td>4.0</td>\n",
       "      <td>A</td>\n",
       "      <td>28</td>\n",
       "      <td>남자</td>\n",
       "    </tr>\n",
       "  </tbody>\n",
       "</table>\n",
       "</div>"
      ],
      "text/plain": [
       "        이름   학과   성적 등급  나이  성별\n",
       "one    아이유  국문학  3.0  B  21  여자\n",
       "two    김연아   수학  1.0  D  20  여자\n",
       "three  홍길동  컴퓨터  3.5  B  24  남자\n",
       "four   장범준   철학  2.7  C  23  남자\n",
       "five   강감찬  경영학  4.0  A  28  남자"
      ]
     },
     "metadata": {},
     "output_type": "display_data"
    }
   ],
   "source": [
    "# sex와 df 인덱스 일치시키기\n",
    "sex.index = df.index \n",
    "\n",
    "# 필드와 값 삽입\n",
    "df['성별'] = sex\n",
    "display(df)"
   ]
  },
  {
   "attachments": {},
   "cell_type": "markdown",
   "metadata": {},
   "source": [
    "### 인덱스 리셋, 교체"
   ]
  },
  {
   "cell_type": "code",
   "execution_count": 23,
   "metadata": {},
   "outputs": [
    {
     "data": {
      "text/html": [
       "<div>\n",
       "<style scoped>\n",
       "    .dataframe tbody tr th:only-of-type {\n",
       "        vertical-align: middle;\n",
       "    }\n",
       "\n",
       "    .dataframe tbody tr th {\n",
       "        vertical-align: top;\n",
       "    }\n",
       "\n",
       "    .dataframe thead th {\n",
       "        text-align: right;\n",
       "    }\n",
       "</style>\n",
       "<table border=\"1\" class=\"dataframe\">\n",
       "  <thead>\n",
       "    <tr style=\"text-align: right;\">\n",
       "      <th></th>\n",
       "      <th>index</th>\n",
       "      <th>이름</th>\n",
       "      <th>학과</th>\n",
       "      <th>성적</th>\n",
       "      <th>등급</th>\n",
       "      <th>나이</th>\n",
       "      <th>성별</th>\n",
       "    </tr>\n",
       "  </thead>\n",
       "  <tbody>\n",
       "    <tr>\n",
       "      <th>0</th>\n",
       "      <td>one</td>\n",
       "      <td>아이유</td>\n",
       "      <td>국문학</td>\n",
       "      <td>3.0</td>\n",
       "      <td>B</td>\n",
       "      <td>21</td>\n",
       "      <td>여자</td>\n",
       "    </tr>\n",
       "    <tr>\n",
       "      <th>1</th>\n",
       "      <td>two</td>\n",
       "      <td>김연아</td>\n",
       "      <td>수학</td>\n",
       "      <td>1.0</td>\n",
       "      <td>D</td>\n",
       "      <td>20</td>\n",
       "      <td>여자</td>\n",
       "    </tr>\n",
       "    <tr>\n",
       "      <th>2</th>\n",
       "      <td>three</td>\n",
       "      <td>홍길동</td>\n",
       "      <td>컴퓨터</td>\n",
       "      <td>3.5</td>\n",
       "      <td>B</td>\n",
       "      <td>24</td>\n",
       "      <td>남자</td>\n",
       "    </tr>\n",
       "    <tr>\n",
       "      <th>3</th>\n",
       "      <td>four</td>\n",
       "      <td>장범준</td>\n",
       "      <td>철학</td>\n",
       "      <td>2.7</td>\n",
       "      <td>C</td>\n",
       "      <td>23</td>\n",
       "      <td>남자</td>\n",
       "    </tr>\n",
       "    <tr>\n",
       "      <th>4</th>\n",
       "      <td>five</td>\n",
       "      <td>강감찬</td>\n",
       "      <td>경영학</td>\n",
       "      <td>4.0</td>\n",
       "      <td>A</td>\n",
       "      <td>28</td>\n",
       "      <td>남자</td>\n",
       "    </tr>\n",
       "  </tbody>\n",
       "</table>\n",
       "</div>"
      ],
      "text/plain": [
       "   index   이름   학과   성적 등급  나이  성별\n",
       "0    one  아이유  국문학  3.0  B  21  여자\n",
       "1    two  김연아   수학  1.0  D  20  여자\n",
       "2  three  홍길동  컴퓨터  3.5  B  24  남자\n",
       "3   four  장범준   철학  2.7  C  23  남자\n",
       "4   five  강감찬  경영학  4.0  A  28  남자"
      ]
     },
     "metadata": {},
     "output_type": "display_data"
    },
    {
     "data": {
      "text/html": [
       "<div>\n",
       "<style scoped>\n",
       "    .dataframe tbody tr th:only-of-type {\n",
       "        vertical-align: middle;\n",
       "    }\n",
       "\n",
       "    .dataframe tbody tr th {\n",
       "        vertical-align: top;\n",
       "    }\n",
       "\n",
       "    .dataframe thead th {\n",
       "        text-align: right;\n",
       "    }\n",
       "</style>\n",
       "<table border=\"1\" class=\"dataframe\">\n",
       "  <thead>\n",
       "    <tr style=\"text-align: right;\">\n",
       "      <th></th>\n",
       "      <th>학과</th>\n",
       "      <th>성적</th>\n",
       "      <th>등급</th>\n",
       "      <th>나이</th>\n",
       "      <th>성별</th>\n",
       "    </tr>\n",
       "    <tr>\n",
       "      <th>이름</th>\n",
       "      <th></th>\n",
       "      <th></th>\n",
       "      <th></th>\n",
       "      <th></th>\n",
       "      <th></th>\n",
       "    </tr>\n",
       "  </thead>\n",
       "  <tbody>\n",
       "    <tr>\n",
       "      <th>아이유</th>\n",
       "      <td>국문학</td>\n",
       "      <td>3.0</td>\n",
       "      <td>B</td>\n",
       "      <td>21</td>\n",
       "      <td>여자</td>\n",
       "    </tr>\n",
       "    <tr>\n",
       "      <th>김연아</th>\n",
       "      <td>수학</td>\n",
       "      <td>1.0</td>\n",
       "      <td>D</td>\n",
       "      <td>20</td>\n",
       "      <td>여자</td>\n",
       "    </tr>\n",
       "    <tr>\n",
       "      <th>홍길동</th>\n",
       "      <td>컴퓨터</td>\n",
       "      <td>3.5</td>\n",
       "      <td>B</td>\n",
       "      <td>24</td>\n",
       "      <td>남자</td>\n",
       "    </tr>\n",
       "    <tr>\n",
       "      <th>장범준</th>\n",
       "      <td>철학</td>\n",
       "      <td>2.7</td>\n",
       "      <td>C</td>\n",
       "      <td>23</td>\n",
       "      <td>남자</td>\n",
       "    </tr>\n",
       "    <tr>\n",
       "      <th>강감찬</th>\n",
       "      <td>경영학</td>\n",
       "      <td>4.0</td>\n",
       "      <td>A</td>\n",
       "      <td>28</td>\n",
       "      <td>남자</td>\n",
       "    </tr>\n",
       "  </tbody>\n",
       "</table>\n",
       "</div>"
      ],
      "text/plain": [
       "      학과   성적 등급  나이  성별\n",
       "이름                      \n",
       "아이유  국문학  3.0  B  21  여자\n",
       "김연아   수학  1.0  D  20  여자\n",
       "홍길동  컴퓨터  3.5  B  24  남자\n",
       "장범준   철학  2.7  C  23  남자\n",
       "강감찬  경영학  4.0  A  28  남자"
      ]
     },
     "metadata": {},
     "output_type": "display_data"
    }
   ],
   "source": [
    "# df.reset_index(drop=True, inplace=True) inplace=True 설정은 원본에 바로 적용됨\n",
    "display(df.reset_index()) # 일시적인 적용\n",
    "\n",
    "# 특정 필드를 인덱스로 사용\n",
    "display(df.set_index('이름'))"
   ]
  },
  {
   "attachments": {},
   "cell_type": "markdown",
   "metadata": {},
   "source": [
    "### 컬럼 삭제"
   ]
  },
  {
   "cell_type": "code",
   "execution_count": null,
   "metadata": {},
   "outputs": [],
   "source": [
    "# df.drop(컬럼명, axis=1은 컬럼을 기준으로 삭제, inplace=True 인수를 주면 원본데이터에 반영)\n",
    "df.drop('성별', axis=1, inplace=False) "
   ]
  },
  {
   "cell_type": "code",
   "execution_count": null,
   "metadata": {},
   "outputs": [],
   "source": [
    "df.drop('나이', axis='columns') # axis=1 대신 columns로도 가능"
   ]
  },
  {
   "attachments": {},
   "cell_type": "markdown",
   "metadata": {},
   "source": [
    "### dataframe은 다른 변수에 할당해줘도 데이터 참조가 일어나지 않는다."
   ]
  },
  {
   "cell_type": "code",
   "execution_count": null,
   "metadata": {},
   "outputs": [],
   "source": [
    "# 행 삭제 df.drop(인덱스값, 행축)\n",
    "df.drop('one', axis=0)"
   ]
  },
  {
   "attachments": {},
   "cell_type": "markdown",
   "metadata": {},
   "source": [
    "### JSON 데이터 받아오기"
   ]
  },
  {
   "cell_type": "code",
   "execution_count": 25,
   "metadata": {},
   "outputs": [
    {
     "name": "stdout",
     "output_type": "stream",
     "text": [
      "{\n",
      "\t\"header\" : {\n",
      "\t\t\"description\" : \"소상공인시장진흥공단 주요상권내 상가업소정보\"\n",
      "\t\t,\"columns\" : [\"상가업소번호\",\"상호명\",\"지점명\",\"상권업종대분류코드\",\"상권업종대분류명\",\"상권업종중분류코드\",\"상권업종중분류명\",\"상권업종소분류코드\",\"상권업종소분류명\",\"표준산업분류코드\",\"표준산업분류명\",\"시도코드\",\"시도명\",\"시군구코드\",\"시군구명\",\"행정동코드\",\"행정동명\",\"법정동코드\",\"법정동명\",\"PNU코드\",\"대지구분코드\",\"대지구분명\",\"지번본번지\",\"지번부번지\",\"지번주소\",\"도로명코드\",\"도로명\",\"건물본번지\",\"건물부번지\",\"건물관리번호\",\"건물명\",\"도로명주소\",\"구우편번호\",\"신우편번호\",\"동정보\",\"층정보\",\"호정보\",\"경도\",\"위도\"]\n",
      "\t\t,\"stdrY\n"
     ]
    }
   ],
   "source": [
    "from dotenv import load_dotenv # https://blog.gilbok.com/how-to-use-dot-env-in-python/\n",
    "import requests\n",
    "import json\n",
    "import os\n",
    "\n",
    "load_dotenv()\n",
    "\n",
    "store_endpoint = os.environ.get('store_endpoint')\n",
    "store_key = os.environ.get('store_key')\n",
    "store_divide_id = 'indsLclsCd'\n",
    "store_numOfRows = 100\n",
    "store_pageNo = 0\n",
    "\n",
    "url = f'{store_endpoint}/storeListInUpjong?divId={store_divide_id}&key=Q&numOfRows={store_numOfRows}&pageNo={store_pageNo}&type=json&serviceKey={store_key}'\n",
    "\n",
    "response = requests.get(url) # API GET 요청\n",
    "response.encoding = 'utf-8' # 인코딩 방식 설정\n",
    "\n",
    "print(response.text[0:400]) # reponse 객체의 text 출력"
   ]
  },
  {
   "cell_type": "code",
   "execution_count": 29,
   "metadata": {},
   "outputs": [
    {
     "data": {
      "text/plain": [
       "dict_keys(['header', 'body'])"
      ]
     },
     "execution_count": 29,
     "metadata": {},
     "output_type": "execute_result"
    }
   ],
   "source": [
    "# json -> dict \n",
    "resulting_dict = json.loads(response.text)\n",
    "\n",
    "resulting_dict.keys()"
   ]
  },
  {
   "cell_type": "code",
   "execution_count": 30,
   "metadata": {},
   "outputs": [
    {
     "data": {
      "text/plain": [
       "dict_keys(['items', 'numOfRows', 'pageNo', 'totalCount'])"
      ]
     },
     "execution_count": 30,
     "metadata": {},
     "output_type": "execute_result"
    }
   ],
   "source": [
    "resulting_dict['body'].keys()"
   ]
  },
  {
   "cell_type": "code",
   "execution_count": 31,
   "metadata": {},
   "outputs": [
    {
     "data": {
      "text/plain": [
       "{'bizesId': '10000982',\n",
       " 'bizesNm': '이웃사촌',\n",
       " 'brchNm': '',\n",
       " 'indsLclsCd': 'Q',\n",
       " 'indsLclsNm': '음식',\n",
       " 'indsMclsCd': 'Q01',\n",
       " 'indsMclsNm': '한식',\n",
       " 'indsSclsCd': 'Q01A01',\n",
       " 'indsSclsNm': '한식/백반/한정식',\n",
       " 'ksicCd': 'I56111',\n",
       " 'ksicNm': '한식 음식점업',\n",
       " 'ctprvnCd': '45',\n",
       " 'ctprvnNm': '전라북도',\n",
       " 'signguCd': '45111',\n",
       " 'signguNm': '전주시',\n",
       " 'adongCd': '4511170200',\n",
       " 'adongNm': '삼천2동',\n",
       " 'ldongCd': '4511113700',\n",
       " 'ldongNm': '삼천동1가',\n",
       " 'lnoCd': '4511113700106950005',\n",
       " 'plotSctCd': '1',\n",
       " 'plotSctNm': '대지',\n",
       " 'lnoMnno': 695,\n",
       " 'lnoSlno': 5,\n",
       " 'lnoAdr': '전라북도 전주시 완산구 삼천동1가 695-5',\n",
       " 'rdnmCd': '451114598396',\n",
       " 'rdnm': '전라북도 전주시 완산구 하거마1길',\n",
       " 'bldMnno': 32,\n",
       " 'bldSlno': '',\n",
       " 'bldMngNo': '4511113700106950005025264',\n",
       " 'bldNm': '',\n",
       " 'rdnmAdr': '전라북도 전주시 완산구 하거마1길 32, (삼천동1가)',\n",
       " 'oldZipcd': '560812',\n",
       " 'newZipcd': '55088',\n",
       " 'dongNo': '',\n",
       " 'flrNo': '1',\n",
       " 'hoNo': '',\n",
       " 'lon': 127.117866794928,\n",
       " 'lat': 35.7930153087836}"
      ]
     },
     "execution_count": 31,
     "metadata": {},
     "output_type": "execute_result"
    }
   ],
   "source": [
    "resulting_dict['body']['items'][0]"
   ]
  },
  {
   "attachments": {},
   "cell_type": "markdown",
   "metadata": {},
   "source": [
    "### dict 데이터를 컬럼별 리스트에 담기"
   ]
  },
  {
   "cell_type": "code",
   "execution_count": 32,
   "metadata": {},
   "outputs": [
    {
     "name": "stdout",
     "output_type": "stream",
     "text": [
      "['이웃사촌', '이조숯불갈비', '이창명의짜장면시키신분', '이포천서리막국수본점', '인수분식', '인천기공', '일광숯가마가든', '일동참숯불구이', '일미가든', '일미생삽겹살']\n",
      "['한식', '한식', '중식', '분식', '분식', '유흥주점', '한식', '한식', '한식', '한식']\n",
      "['전라북도 전주시 완산구 삼천동1가 695-5', '경상남도 남해군 미조면 미조리 111-3', '경기도 안양시 동안구 비산동 1101-2', '경기도 광주시 장지동 77-8', '세종특별자치시 조치원읍 신흥리 10-7', '인천광역시 남동구 고잔동 642-5', '경상북도 경주시 외동읍 구어리 148-1', '경기도 안산시 상록구 일동 601-34', '전라북도 부안군 하서면 언독리 543-2', '전라남도 담양군 담양읍 지침리 114-6']\n",
      "[35.7930153087836, 34.7131927447173, 37.3965021686581, 37.3950743807212, 36.5970986229857, 37.4029167472593, 35.7002987266103, 37.311218307336, 35.7135909555964, 35.3155550161523]\n",
      "[127.117866794928, 128.044802106761, 126.948952854363, 127.244487450922, 127.293883803151, 126.702129162996, 129.331720476686, 126.866254953139, 126.660007269146, 126.984945764921]\n"
     ]
    }
   ],
   "source": [
    "# 각 키의 값마다 리스트에 담을 변수 초기화\n",
    "store_name_list = []\n",
    "store_kind_list = []\n",
    "address_list = []\n",
    "latitude_list = []\n",
    "longitude_list = []\n",
    "\n",
    "# dictionary 속 데이터 정보 입력\n",
    "for tmp in resulting_dict['body']['items']:\n",
    "    store_name_list.append(tmp['bizesNm'])\n",
    "    store_kind_list.append(tmp['indsMclsNm'])\n",
    "    address_list.append(tmp['lnoAdr'])\n",
    "    latitude_list.append(tmp['lat'])\n",
    "    longitude_list.append(tmp['lon'])\n",
    "    \n",
    "print(store_name_list[:10])\n",
    "print(store_kind_list[:10])\n",
    "print(address_list[:10])\n",
    "print(latitude_list[:10])\n",
    "print(longitude_list[:10])"
   ]
  },
  {
   "attachments": {},
   "cell_type": "markdown",
   "metadata": {},
   "source": [
    "### dataframe 으로 변환"
   ]
  },
  {
   "cell_type": "code",
   "execution_count": 33,
   "metadata": {},
   "outputs": [
    {
     "data": {
      "text/html": [
       "<div>\n",
       "<style scoped>\n",
       "    .dataframe tbody tr th:only-of-type {\n",
       "        vertical-align: middle;\n",
       "    }\n",
       "\n",
       "    .dataframe tbody tr th {\n",
       "        vertical-align: top;\n",
       "    }\n",
       "\n",
       "    .dataframe thead th {\n",
       "        text-align: right;\n",
       "    }\n",
       "</style>\n",
       "<table border=\"1\" class=\"dataframe\">\n",
       "  <thead>\n",
       "    <tr style=\"text-align: right;\">\n",
       "      <th></th>\n",
       "      <th>name</th>\n",
       "      <th>kind</th>\n",
       "      <th>address</th>\n",
       "      <th>latitude</th>\n",
       "      <th>longitude</th>\n",
       "    </tr>\n",
       "  </thead>\n",
       "  <tbody>\n",
       "    <tr>\n",
       "      <th>0</th>\n",
       "      <td>이웃사촌</td>\n",
       "      <td>한식</td>\n",
       "      <td>전라북도 전주시 완산구 삼천동1가 695-5</td>\n",
       "      <td>35.793015</td>\n",
       "      <td>127.117867</td>\n",
       "    </tr>\n",
       "    <tr>\n",
       "      <th>1</th>\n",
       "      <td>이조숯불갈비</td>\n",
       "      <td>한식</td>\n",
       "      <td>경상남도 남해군 미조면 미조리 111-3</td>\n",
       "      <td>34.713193</td>\n",
       "      <td>128.044802</td>\n",
       "    </tr>\n",
       "    <tr>\n",
       "      <th>2</th>\n",
       "      <td>이창명의짜장면시키신분</td>\n",
       "      <td>중식</td>\n",
       "      <td>경기도 안양시 동안구 비산동 1101-2</td>\n",
       "      <td>37.396502</td>\n",
       "      <td>126.948953</td>\n",
       "    </tr>\n",
       "    <tr>\n",
       "      <th>3</th>\n",
       "      <td>이포천서리막국수본점</td>\n",
       "      <td>분식</td>\n",
       "      <td>경기도 광주시 장지동 77-8</td>\n",
       "      <td>37.395074</td>\n",
       "      <td>127.244487</td>\n",
       "    </tr>\n",
       "    <tr>\n",
       "      <th>4</th>\n",
       "      <td>인수분식</td>\n",
       "      <td>분식</td>\n",
       "      <td>세종특별자치시 조치원읍 신흥리 10-7</td>\n",
       "      <td>36.597099</td>\n",
       "      <td>127.293884</td>\n",
       "    </tr>\n",
       "    <tr>\n",
       "      <th>...</th>\n",
       "      <td>...</td>\n",
       "      <td>...</td>\n",
       "      <td>...</td>\n",
       "      <td>...</td>\n",
       "      <td>...</td>\n",
       "    </tr>\n",
       "    <tr>\n",
       "      <th>95</th>\n",
       "      <td>진미청국장</td>\n",
       "      <td>한식</td>\n",
       "      <td>전라북도 남원시 신촌동 410-3</td>\n",
       "      <td>35.409339</td>\n",
       "      <td>127.394183</td>\n",
       "    </tr>\n",
       "    <tr>\n",
       "      <th>96</th>\n",
       "      <td>진미해장국</td>\n",
       "      <td>한식</td>\n",
       "      <td>경기도 성남시 중원구 하대원동 132-11</td>\n",
       "      <td>37.429835</td>\n",
       "      <td>127.149768</td>\n",
       "    </tr>\n",
       "    <tr>\n",
       "      <th>97</th>\n",
       "      <td>진솔식당</td>\n",
       "      <td>한식</td>\n",
       "      <td>경상북도 청도군 화양읍 범곡리 134-13</td>\n",
       "      <td>35.648019</td>\n",
       "      <td>128.734324</td>\n",
       "    </tr>\n",
       "    <tr>\n",
       "      <th>98</th>\n",
       "      <td>진수성찬</td>\n",
       "      <td>한식</td>\n",
       "      <td>인천광역시 부평구 삼산동 167-10</td>\n",
       "      <td>37.518886</td>\n",
       "      <td>126.740994</td>\n",
       "    </tr>\n",
       "    <tr>\n",
       "      <th>99</th>\n",
       "      <td>진수식당</td>\n",
       "      <td>한식</td>\n",
       "      <td>전라남도 여수시 화장동 846-11</td>\n",
       "      <td>34.776750</td>\n",
       "      <td>127.643774</td>\n",
       "    </tr>\n",
       "  </tbody>\n",
       "</table>\n",
       "<p>100 rows × 5 columns</p>\n",
       "</div>"
      ],
      "text/plain": [
       "           name kind                   address   latitude   longitude\n",
       "0          이웃사촌   한식  전라북도 전주시 완산구 삼천동1가 695-5  35.793015  127.117867\n",
       "1        이조숯불갈비   한식    경상남도 남해군 미조면 미조리 111-3  34.713193  128.044802\n",
       "2   이창명의짜장면시키신분   중식    경기도 안양시 동안구 비산동 1101-2  37.396502  126.948953\n",
       "3    이포천서리막국수본점   분식          경기도 광주시 장지동 77-8  37.395074  127.244487\n",
       "4          인수분식   분식     세종특별자치시 조치원읍 신흥리 10-7  36.597099  127.293884\n",
       "..          ...  ...                       ...        ...         ...\n",
       "95        진미청국장   한식        전라북도 남원시 신촌동 410-3  35.409339  127.394183\n",
       "96        진미해장국   한식   경기도 성남시 중원구 하대원동 132-11  37.429835  127.149768\n",
       "97         진솔식당   한식   경상북도 청도군 화양읍 범곡리 134-13  35.648019  128.734324\n",
       "98         진수성찬   한식      인천광역시 부평구 삼산동 167-10  37.518886  126.740994\n",
       "99         진수식당   한식       전라남도 여수시 화장동 846-11  34.776750  127.643774\n",
       "\n",
       "[100 rows x 5 columns]"
      ]
     },
     "metadata": {},
     "output_type": "display_data"
    }
   ],
   "source": [
    "df = pd.DataFrame(\n",
    "    {\n",
    "        'name':store_name_list,\n",
    "        'kind':store_kind_list,\n",
    "        'address':address_list,\n",
    "        'latitude':latitude_list,\n",
    "        'longitude':longitude_list,\n",
    "    }\n",
    ")\n",
    "\n",
    "display(df)"
   ]
  },
  {
   "attachments": {},
   "cell_type": "markdown",
   "metadata": {},
   "source": [
    "# 데이터 합치기"
   ]
  },
  {
   "attachments": {},
   "cell_type": "markdown",
   "metadata": {},
   "source": [
    "### DataFrame 병합 구현 방법 (조인)"
   ]
  },
  {
   "cell_type": "code",
   "execution_count": 35,
   "metadata": {},
   "outputs": [
    {
     "data": {
      "text/html": [
       "<div>\n",
       "<style scoped>\n",
       "    .dataframe tbody tr th:only-of-type {\n",
       "        vertical-align: middle;\n",
       "    }\n",
       "\n",
       "    .dataframe tbody tr th {\n",
       "        vertical-align: top;\n",
       "    }\n",
       "\n",
       "    .dataframe thead th {\n",
       "        text-align: right;\n",
       "    }\n",
       "</style>\n",
       "<table border=\"1\" class=\"dataframe\">\n",
       "  <thead>\n",
       "    <tr style=\"text-align: right;\">\n",
       "      <th></th>\n",
       "      <th>학번</th>\n",
       "      <th>이름</th>\n",
       "      <th>학과</th>\n",
       "    </tr>\n",
       "  </thead>\n",
       "  <tbody>\n",
       "    <tr>\n",
       "      <th>0</th>\n",
       "      <td>1</td>\n",
       "      <td>아이유</td>\n",
       "      <td>철학</td>\n",
       "    </tr>\n",
       "    <tr>\n",
       "      <th>1</th>\n",
       "      <td>2</td>\n",
       "      <td>김연아</td>\n",
       "      <td>경영학</td>\n",
       "    </tr>\n",
       "    <tr>\n",
       "      <th>2</th>\n",
       "      <td>3</td>\n",
       "      <td>홍길동</td>\n",
       "      <td>컴퓨터</td>\n",
       "    </tr>\n",
       "    <tr>\n",
       "      <th>3</th>\n",
       "      <td>4</td>\n",
       "      <td>강감찬</td>\n",
       "      <td>물리학</td>\n",
       "    </tr>\n",
       "  </tbody>\n",
       "</table>\n",
       "</div>"
      ],
      "text/plain": [
       "   학번   이름   학과\n",
       "0   1  아이유   철학\n",
       "1   2  김연아  경영학\n",
       "2   3  홍길동  컴퓨터\n",
       "3   4  강감찬  물리학"
      ]
     },
     "metadata": {},
     "output_type": "display_data"
    },
    {
     "data": {
      "text/html": [
       "<div>\n",
       "<style scoped>\n",
       "    .dataframe tbody tr th:only-of-type {\n",
       "        vertical-align: middle;\n",
       "    }\n",
       "\n",
       "    .dataframe tbody tr th {\n",
       "        vertical-align: top;\n",
       "    }\n",
       "\n",
       "    .dataframe thead th {\n",
       "        text-align: right;\n",
       "    }\n",
       "</style>\n",
       "<table border=\"1\" class=\"dataframe\">\n",
       "  <thead>\n",
       "    <tr style=\"text-align: right;\">\n",
       "      <th></th>\n",
       "      <th>학번</th>\n",
       "      <th>학년</th>\n",
       "      <th>학점</th>\n",
       "    </tr>\n",
       "  </thead>\n",
       "  <tbody>\n",
       "    <tr>\n",
       "      <th>0</th>\n",
       "      <td>1</td>\n",
       "      <td>2</td>\n",
       "      <td>1.5</td>\n",
       "    </tr>\n",
       "    <tr>\n",
       "      <th>1</th>\n",
       "      <td>2</td>\n",
       "      <td>4</td>\n",
       "      <td>2.0</td>\n",
       "    </tr>\n",
       "    <tr>\n",
       "      <th>2</th>\n",
       "      <td>4</td>\n",
       "      <td>3</td>\n",
       "      <td>4.1</td>\n",
       "    </tr>\n",
       "    <tr>\n",
       "      <th>3</th>\n",
       "      <td>5</td>\n",
       "      <td>1</td>\n",
       "      <td>3.8</td>\n",
       "    </tr>\n",
       "  </tbody>\n",
       "</table>\n",
       "</div>"
      ],
      "text/plain": [
       "   학번  학년   학점\n",
       "0   1   2  1.5\n",
       "1   2   4  2.0\n",
       "2   4   3  4.1\n",
       "3   5   1  3.8"
      ]
     },
     "metadata": {},
     "output_type": "display_data"
    }
   ],
   "source": [
    "data1 = {\n",
    "    '학번': [1, 2, 3, 4],\n",
    "    '이름': ['아이유', '김연아', '홍길동', '강감찬'],\n",
    "    '학과': ['철학', '경영학', '컴퓨터', '물리학']\n",
    "}\n",
    "\n",
    "data2 = {\n",
    "    '학번': [1, 2, 4, 5],\n",
    "    '학년': [2, 4, 3, 1],\n",
    "    '학점': [1.5, 2.0, 4.1, 3.8]\n",
    "}\n",
    "\n",
    "df1 = pd.DataFrame(data1)\n",
    "df2 = pd.DataFrame(data2)\n",
    "\n",
    "display(df1)\n",
    "display(df2)"
   ]
  },
  {
   "cell_type": "code",
   "execution_count": 36,
   "metadata": {},
   "outputs": [
    {
     "data": {
      "text/html": [
       "<div>\n",
       "<style scoped>\n",
       "    .dataframe tbody tr th:only-of-type {\n",
       "        vertical-align: middle;\n",
       "    }\n",
       "\n",
       "    .dataframe tbody tr th {\n",
       "        vertical-align: top;\n",
       "    }\n",
       "\n",
       "    .dataframe thead th {\n",
       "        text-align: right;\n",
       "    }\n",
       "</style>\n",
       "<table border=\"1\" class=\"dataframe\">\n",
       "  <thead>\n",
       "    <tr style=\"text-align: right;\">\n",
       "      <th></th>\n",
       "      <th>학번</th>\n",
       "      <th>이름</th>\n",
       "      <th>학과</th>\n",
       "      <th>학년</th>\n",
       "      <th>학점</th>\n",
       "    </tr>\n",
       "  </thead>\n",
       "  <tbody>\n",
       "    <tr>\n",
       "      <th>0</th>\n",
       "      <td>1</td>\n",
       "      <td>아이유</td>\n",
       "      <td>철학</td>\n",
       "      <td>2</td>\n",
       "      <td>1.5</td>\n",
       "    </tr>\n",
       "    <tr>\n",
       "      <th>1</th>\n",
       "      <td>2</td>\n",
       "      <td>김연아</td>\n",
       "      <td>경영학</td>\n",
       "      <td>4</td>\n",
       "      <td>2.0</td>\n",
       "    </tr>\n",
       "    <tr>\n",
       "      <th>2</th>\n",
       "      <td>4</td>\n",
       "      <td>강감찬</td>\n",
       "      <td>물리학</td>\n",
       "      <td>3</td>\n",
       "      <td>4.1</td>\n",
       "    </tr>\n",
       "  </tbody>\n",
       "</table>\n",
       "</div>"
      ],
      "text/plain": [
       "   학번   이름   학과  학년   학점\n",
       "0   1  아이유   철학   2  1.5\n",
       "1   2  김연아  경영학   4  2.0\n",
       "2   4  강감찬  물리학   3  4.1"
      ]
     },
     "metadata": {},
     "output_type": "display_data"
    }
   ],
   "source": [
    "# inner join 사용\n",
    "inner_df = pd.merge(df1, df2, on='학번', how='inner')\n",
    "display(inner_df)"
   ]
  },
  {
   "cell_type": "code",
   "execution_count": 37,
   "metadata": {},
   "outputs": [
    {
     "data": {
      "text/html": [
       "<div>\n",
       "<style scoped>\n",
       "    .dataframe tbody tr th:only-of-type {\n",
       "        vertical-align: middle;\n",
       "    }\n",
       "\n",
       "    .dataframe tbody tr th {\n",
       "        vertical-align: top;\n",
       "    }\n",
       "\n",
       "    .dataframe thead th {\n",
       "        text-align: right;\n",
       "    }\n",
       "</style>\n",
       "<table border=\"1\" class=\"dataframe\">\n",
       "  <thead>\n",
       "    <tr style=\"text-align: right;\">\n",
       "      <th></th>\n",
       "      <th>학번</th>\n",
       "      <th>이름</th>\n",
       "      <th>학과</th>\n",
       "      <th>학년</th>\n",
       "      <th>학점</th>\n",
       "    </tr>\n",
       "  </thead>\n",
       "  <tbody>\n",
       "    <tr>\n",
       "      <th>0</th>\n",
       "      <td>1</td>\n",
       "      <td>아이유</td>\n",
       "      <td>철학</td>\n",
       "      <td>2.0</td>\n",
       "      <td>1.5</td>\n",
       "    </tr>\n",
       "    <tr>\n",
       "      <th>1</th>\n",
       "      <td>2</td>\n",
       "      <td>김연아</td>\n",
       "      <td>경영학</td>\n",
       "      <td>4.0</td>\n",
       "      <td>2.0</td>\n",
       "    </tr>\n",
       "    <tr>\n",
       "      <th>2</th>\n",
       "      <td>3</td>\n",
       "      <td>홍길동</td>\n",
       "      <td>컴퓨터</td>\n",
       "      <td>NaN</td>\n",
       "      <td>NaN</td>\n",
       "    </tr>\n",
       "    <tr>\n",
       "      <th>3</th>\n",
       "      <td>4</td>\n",
       "      <td>강감찬</td>\n",
       "      <td>물리학</td>\n",
       "      <td>3.0</td>\n",
       "      <td>4.1</td>\n",
       "    </tr>\n",
       "    <tr>\n",
       "      <th>4</th>\n",
       "      <td>5</td>\n",
       "      <td>NaN</td>\n",
       "      <td>NaN</td>\n",
       "      <td>1.0</td>\n",
       "      <td>3.8</td>\n",
       "    </tr>\n",
       "  </tbody>\n",
       "</table>\n",
       "</div>"
      ],
      "text/plain": [
       "   학번   이름   학과   학년   학점\n",
       "0   1  아이유   철학  2.0  1.5\n",
       "1   2  김연아  경영학  4.0  2.0\n",
       "2   3  홍길동  컴퓨터  NaN  NaN\n",
       "3   4  강감찬  물리학  3.0  4.1\n",
       "4   5  NaN  NaN  1.0  3.8"
      ]
     },
     "metadata": {},
     "output_type": "display_data"
    }
   ],
   "source": [
    "# outer join 사용\n",
    "outer_df = pd.merge(df1, df2, on='학번', how='outer')\n",
    "display(outer_df)"
   ]
  },
  {
   "cell_type": "code",
   "execution_count": 38,
   "metadata": {},
   "outputs": [
    {
     "data": {
      "text/html": [
       "<div>\n",
       "<style scoped>\n",
       "    .dataframe tbody tr th:only-of-type {\n",
       "        vertical-align: middle;\n",
       "    }\n",
       "\n",
       "    .dataframe tbody tr th {\n",
       "        vertical-align: top;\n",
       "    }\n",
       "\n",
       "    .dataframe thead th {\n",
       "        text-align: right;\n",
       "    }\n",
       "</style>\n",
       "<table border=\"1\" class=\"dataframe\">\n",
       "  <thead>\n",
       "    <tr style=\"text-align: right;\">\n",
       "      <th></th>\n",
       "      <th>학번</th>\n",
       "      <th>이름</th>\n",
       "      <th>학과</th>\n",
       "      <th>학년</th>\n",
       "      <th>학점</th>\n",
       "    </tr>\n",
       "  </thead>\n",
       "  <tbody>\n",
       "    <tr>\n",
       "      <th>0</th>\n",
       "      <td>1</td>\n",
       "      <td>아이유</td>\n",
       "      <td>철학</td>\n",
       "      <td>2.0</td>\n",
       "      <td>1.5</td>\n",
       "    </tr>\n",
       "    <tr>\n",
       "      <th>1</th>\n",
       "      <td>2</td>\n",
       "      <td>김연아</td>\n",
       "      <td>경영학</td>\n",
       "      <td>4.0</td>\n",
       "      <td>2.0</td>\n",
       "    </tr>\n",
       "    <tr>\n",
       "      <th>2</th>\n",
       "      <td>3</td>\n",
       "      <td>홍길동</td>\n",
       "      <td>컴퓨터</td>\n",
       "      <td>NaN</td>\n",
       "      <td>NaN</td>\n",
       "    </tr>\n",
       "    <tr>\n",
       "      <th>3</th>\n",
       "      <td>4</td>\n",
       "      <td>강감찬</td>\n",
       "      <td>물리학</td>\n",
       "      <td>3.0</td>\n",
       "      <td>4.1</td>\n",
       "    </tr>\n",
       "  </tbody>\n",
       "</table>\n",
       "</div>"
      ],
      "text/plain": [
       "   학번   이름   학과   학년   학점\n",
       "0   1  아이유   철학  2.0  1.5\n",
       "1   2  김연아  경영학  4.0  2.0\n",
       "2   3  홍길동  컴퓨터  NaN  NaN\n",
       "3   4  강감찬  물리학  3.0  4.1"
      ]
     },
     "metadata": {},
     "output_type": "display_data"
    },
    {
     "data": {
      "text/html": [
       "<div>\n",
       "<style scoped>\n",
       "    .dataframe tbody tr th:only-of-type {\n",
       "        vertical-align: middle;\n",
       "    }\n",
       "\n",
       "    .dataframe tbody tr th {\n",
       "        vertical-align: top;\n",
       "    }\n",
       "\n",
       "    .dataframe thead th {\n",
       "        text-align: right;\n",
       "    }\n",
       "</style>\n",
       "<table border=\"1\" class=\"dataframe\">\n",
       "  <thead>\n",
       "    <tr style=\"text-align: right;\">\n",
       "      <th></th>\n",
       "      <th>학번</th>\n",
       "      <th>이름</th>\n",
       "      <th>학과</th>\n",
       "      <th>학년</th>\n",
       "      <th>학점</th>\n",
       "    </tr>\n",
       "  </thead>\n",
       "  <tbody>\n",
       "    <tr>\n",
       "      <th>0</th>\n",
       "      <td>1</td>\n",
       "      <td>아이유</td>\n",
       "      <td>철학</td>\n",
       "      <td>2</td>\n",
       "      <td>1.5</td>\n",
       "    </tr>\n",
       "    <tr>\n",
       "      <th>1</th>\n",
       "      <td>2</td>\n",
       "      <td>김연아</td>\n",
       "      <td>경영학</td>\n",
       "      <td>4</td>\n",
       "      <td>2.0</td>\n",
       "    </tr>\n",
       "    <tr>\n",
       "      <th>2</th>\n",
       "      <td>4</td>\n",
       "      <td>강감찬</td>\n",
       "      <td>물리학</td>\n",
       "      <td>3</td>\n",
       "      <td>4.1</td>\n",
       "    </tr>\n",
       "    <tr>\n",
       "      <th>3</th>\n",
       "      <td>5</td>\n",
       "      <td>NaN</td>\n",
       "      <td>NaN</td>\n",
       "      <td>1</td>\n",
       "      <td>3.8</td>\n",
       "    </tr>\n",
       "  </tbody>\n",
       "</table>\n",
       "</div>"
      ],
      "text/plain": [
       "   학번   이름   학과  학년   학점\n",
       "0   1  아이유   철학   2  1.5\n",
       "1   2  김연아  경영학   4  2.0\n",
       "2   4  강감찬  물리학   3  4.1\n",
       "3   5  NaN  NaN   1  3.8"
      ]
     },
     "metadata": {},
     "output_type": "display_data"
    }
   ],
   "source": [
    "# left and right join\n",
    "left_df = pd.merge(df1, df2, on='학번', how='left')\n",
    "display(left_df) # df1 의 학번을 기준으로 merge\n",
    "\n",
    "right_df = pd.merge(df1, df2, on='학번', how='right')\n",
    "display(right_df) # df2 의 학번을 기준으로 merge"
   ]
  },
  {
   "attachments": {},
   "cell_type": "markdown",
   "metadata": {},
   "source": [
    "## 현실에서 일어날 법한 merge의 응용"
   ]
  },
  {
   "attachments": {},
   "cell_type": "markdown",
   "metadata": {},
   "source": [
    "#### 같은 의미의 값이지만 다른 컬럼명인 경우"
   ]
  },
  {
   "cell_type": "code",
   "execution_count": 40,
   "metadata": {},
   "outputs": [],
   "source": [
    "data1 = {\n",
    "    '학번': [1, 2, 3, 4],\n",
    "    '이름': ['아이유', '김연아', '홍길동', '강감찬'],\n",
    "    '학과': ['철학', '경영학', '컴퓨터', '물리학']\n",
    "}\n",
    "\n",
    "data2 = {\n",
    "    '학생고유번호': [1, 2, 4, 5], \n",
    "    '학년': [2, 4, 3, 1],\n",
    "    '학점': [1.5, 2.0, 4.1, 3.8]\n",
    "}\n",
    "\n",
    "df1 = pd.DataFrame(data1)\n",
    "df2 = pd.DataFrame(data2)"
   ]
  },
  {
   "cell_type": "code",
   "execution_count": 41,
   "metadata": {},
   "outputs": [
    {
     "data": {
      "text/html": [
       "<div>\n",
       "<style scoped>\n",
       "    .dataframe tbody tr th:only-of-type {\n",
       "        vertical-align: middle;\n",
       "    }\n",
       "\n",
       "    .dataframe tbody tr th {\n",
       "        vertical-align: top;\n",
       "    }\n",
       "\n",
       "    .dataframe thead th {\n",
       "        text-align: right;\n",
       "    }\n",
       "</style>\n",
       "<table border=\"1\" class=\"dataframe\">\n",
       "  <thead>\n",
       "    <tr style=\"text-align: right;\">\n",
       "      <th></th>\n",
       "      <th>학번</th>\n",
       "      <th>이름</th>\n",
       "      <th>학과</th>\n",
       "    </tr>\n",
       "  </thead>\n",
       "  <tbody>\n",
       "    <tr>\n",
       "      <th>0</th>\n",
       "      <td>1</td>\n",
       "      <td>아이유</td>\n",
       "      <td>철학</td>\n",
       "    </tr>\n",
       "    <tr>\n",
       "      <th>1</th>\n",
       "      <td>2</td>\n",
       "      <td>김연아</td>\n",
       "      <td>경영학</td>\n",
       "    </tr>\n",
       "    <tr>\n",
       "      <th>2</th>\n",
       "      <td>3</td>\n",
       "      <td>홍길동</td>\n",
       "      <td>컴퓨터</td>\n",
       "    </tr>\n",
       "    <tr>\n",
       "      <th>3</th>\n",
       "      <td>4</td>\n",
       "      <td>강감찬</td>\n",
       "      <td>물리학</td>\n",
       "    </tr>\n",
       "  </tbody>\n",
       "</table>\n",
       "</div>"
      ],
      "text/plain": [
       "   학번   이름   학과\n",
       "0   1  아이유   철학\n",
       "1   2  김연아  경영학\n",
       "2   3  홍길동  컴퓨터\n",
       "3   4  강감찬  물리학"
      ]
     },
     "metadata": {},
     "output_type": "display_data"
    }
   ],
   "source": [
    "display(df1)"
   ]
  },
  {
   "cell_type": "code",
   "execution_count": 42,
   "metadata": {},
   "outputs": [
    {
     "data": {
      "text/html": [
       "<div>\n",
       "<style scoped>\n",
       "    .dataframe tbody tr th:only-of-type {\n",
       "        vertical-align: middle;\n",
       "    }\n",
       "\n",
       "    .dataframe tbody tr th {\n",
       "        vertical-align: top;\n",
       "    }\n",
       "\n",
       "    .dataframe thead th {\n",
       "        text-align: right;\n",
       "    }\n",
       "</style>\n",
       "<table border=\"1\" class=\"dataframe\">\n",
       "  <thead>\n",
       "    <tr style=\"text-align: right;\">\n",
       "      <th></th>\n",
       "      <th>학생고유번호</th>\n",
       "      <th>학년</th>\n",
       "      <th>학점</th>\n",
       "    </tr>\n",
       "  </thead>\n",
       "  <tbody>\n",
       "    <tr>\n",
       "      <th>0</th>\n",
       "      <td>1</td>\n",
       "      <td>2</td>\n",
       "      <td>1.5</td>\n",
       "    </tr>\n",
       "    <tr>\n",
       "      <th>1</th>\n",
       "      <td>2</td>\n",
       "      <td>4</td>\n",
       "      <td>2.0</td>\n",
       "    </tr>\n",
       "    <tr>\n",
       "      <th>2</th>\n",
       "      <td>4</td>\n",
       "      <td>3</td>\n",
       "      <td>4.1</td>\n",
       "    </tr>\n",
       "    <tr>\n",
       "      <th>3</th>\n",
       "      <td>5</td>\n",
       "      <td>1</td>\n",
       "      <td>3.8</td>\n",
       "    </tr>\n",
       "  </tbody>\n",
       "</table>\n",
       "</div>"
      ],
      "text/plain": [
       "   학생고유번호  학년   학점\n",
       "0       1   2  1.5\n",
       "1       2   4  2.0\n",
       "2       4   3  4.1\n",
       "3       5   1  3.8"
      ]
     },
     "metadata": {},
     "output_type": "display_data"
    }
   ],
   "source": [
    "display(df2)"
   ]
  },
  {
   "cell_type": "code",
   "execution_count": 43,
   "metadata": {},
   "outputs": [
    {
     "data": {
      "text/html": [
       "<div>\n",
       "<style scoped>\n",
       "    .dataframe tbody tr th:only-of-type {\n",
       "        vertical-align: middle;\n",
       "    }\n",
       "\n",
       "    .dataframe tbody tr th {\n",
       "        vertical-align: top;\n",
       "    }\n",
       "\n",
       "    .dataframe thead th {\n",
       "        text-align: right;\n",
       "    }\n",
       "</style>\n",
       "<table border=\"1\" class=\"dataframe\">\n",
       "  <thead>\n",
       "    <tr style=\"text-align: right;\">\n",
       "      <th></th>\n",
       "      <th>학번</th>\n",
       "      <th>이름</th>\n",
       "      <th>학과</th>\n",
       "      <th>학생고유번호</th>\n",
       "      <th>학년</th>\n",
       "      <th>학점</th>\n",
       "    </tr>\n",
       "  </thead>\n",
       "  <tbody>\n",
       "    <tr>\n",
       "      <th>0</th>\n",
       "      <td>1</td>\n",
       "      <td>아이유</td>\n",
       "      <td>철학</td>\n",
       "      <td>1</td>\n",
       "      <td>2</td>\n",
       "      <td>1.5</td>\n",
       "    </tr>\n",
       "    <tr>\n",
       "      <th>1</th>\n",
       "      <td>2</td>\n",
       "      <td>김연아</td>\n",
       "      <td>경영학</td>\n",
       "      <td>2</td>\n",
       "      <td>4</td>\n",
       "      <td>2.0</td>\n",
       "    </tr>\n",
       "    <tr>\n",
       "      <th>2</th>\n",
       "      <td>4</td>\n",
       "      <td>강감찬</td>\n",
       "      <td>물리학</td>\n",
       "      <td>4</td>\n",
       "      <td>3</td>\n",
       "      <td>4.1</td>\n",
       "    </tr>\n",
       "  </tbody>\n",
       "</table>\n",
       "</div>"
      ],
      "text/plain": [
       "   학번   이름   학과  학생고유번호  학년   학점\n",
       "0   1  아이유   철학       1   2  1.5\n",
       "1   2  김연아  경영학       2   4  2.0\n",
       "2   4  강감찬  물리학       4   3  4.1"
      ]
     },
     "metadata": {},
     "output_type": "display_data"
    }
   ],
   "source": [
    "# left_on 과 right_on 을 통해 임의로 특정 컬럼을 기준으로 병합하도록 함\n",
    "merged_df = pd.merge(df1, df2, left_on='학번', right_on='학생고유번호', how='inner')\n",
    "display(merged_df)"
   ]
  },
  {
   "cell_type": "code",
   "execution_count": 44,
   "metadata": {},
   "outputs": [
    {
     "data": {
      "text/html": [
       "<div>\n",
       "<style scoped>\n",
       "    .dataframe tbody tr th:only-of-type {\n",
       "        vertical-align: middle;\n",
       "    }\n",
       "\n",
       "    .dataframe tbody tr th {\n",
       "        vertical-align: top;\n",
       "    }\n",
       "\n",
       "    .dataframe thead th {\n",
       "        text-align: right;\n",
       "    }\n",
       "</style>\n",
       "<table border=\"1\" class=\"dataframe\">\n",
       "  <thead>\n",
       "    <tr style=\"text-align: right;\">\n",
       "      <th></th>\n",
       "      <th>학번</th>\n",
       "      <th>이름</th>\n",
       "      <th>학과</th>\n",
       "      <th>학년</th>\n",
       "      <th>학점</th>\n",
       "    </tr>\n",
       "  </thead>\n",
       "  <tbody>\n",
       "    <tr>\n",
       "      <th>0</th>\n",
       "      <td>1</td>\n",
       "      <td>아이유</td>\n",
       "      <td>철학</td>\n",
       "      <td>2</td>\n",
       "      <td>1.5</td>\n",
       "    </tr>\n",
       "    <tr>\n",
       "      <th>1</th>\n",
       "      <td>2</td>\n",
       "      <td>김연아</td>\n",
       "      <td>경영학</td>\n",
       "      <td>4</td>\n",
       "      <td>2.0</td>\n",
       "    </tr>\n",
       "    <tr>\n",
       "      <th>2</th>\n",
       "      <td>4</td>\n",
       "      <td>강감찬</td>\n",
       "      <td>물리학</td>\n",
       "      <td>3</td>\n",
       "      <td>4.1</td>\n",
       "    </tr>\n",
       "  </tbody>\n",
       "</table>\n",
       "</div>"
      ],
      "text/plain": [
       "   학번   이름   학과  학년   학점\n",
       "0   1  아이유   철학   2  1.5\n",
       "1   2  김연아  경영학   4  2.0\n",
       "2   4  강감찬  물리학   3  4.1"
      ]
     },
     "execution_count": 44,
     "metadata": {},
     "output_type": "execute_result"
    }
   ],
   "source": [
    "# 불필요한 컬럼 임시 제거\n",
    "merged_df.drop('학생고유번호', axis=1) # 원본 수정은 inplace=True 인자 넣기"
   ]
  },
  {
   "attachments": {},
   "cell_type": "markdown",
   "metadata": {},
   "source": [
    "#### 공유하는 컬럼이 없는 경우"
   ]
  },
  {
   "cell_type": "code",
   "execution_count": 46,
   "metadata": {},
   "outputs": [],
   "source": [
    "data1 = {\n",
    "    '학번': [1, 2, 3, 4],\n",
    "    '이름': ['아이유', '김연아', '홍길동', '강감찬'],\n",
    "    '학과': ['철학', '경영학', '컴퓨터', '물리학']\n",
    "}\n",
    "\n",
    "data2 = {\n",
    "    '학년': [2, 4, 3, 1],\n",
    "    '학점': [1.5, 2.0, 4.1, 3.8]\n",
    "}\n",
    "\n",
    "\n",
    "df1 = pd.DataFrame(data1)\n",
    "df2 = pd.DataFrame(data2, index=[1, 2, 4, 5])"
   ]
  },
  {
   "cell_type": "code",
   "execution_count": 47,
   "metadata": {},
   "outputs": [
    {
     "data": {
      "text/html": [
       "<div>\n",
       "<style scoped>\n",
       "    .dataframe tbody tr th:only-of-type {\n",
       "        vertical-align: middle;\n",
       "    }\n",
       "\n",
       "    .dataframe tbody tr th {\n",
       "        vertical-align: top;\n",
       "    }\n",
       "\n",
       "    .dataframe thead th {\n",
       "        text-align: right;\n",
       "    }\n",
       "</style>\n",
       "<table border=\"1\" class=\"dataframe\">\n",
       "  <thead>\n",
       "    <tr style=\"text-align: right;\">\n",
       "      <th></th>\n",
       "      <th>학번</th>\n",
       "      <th>이름</th>\n",
       "      <th>학과</th>\n",
       "    </tr>\n",
       "  </thead>\n",
       "  <tbody>\n",
       "    <tr>\n",
       "      <th>0</th>\n",
       "      <td>1</td>\n",
       "      <td>아이유</td>\n",
       "      <td>철학</td>\n",
       "    </tr>\n",
       "    <tr>\n",
       "      <th>1</th>\n",
       "      <td>2</td>\n",
       "      <td>김연아</td>\n",
       "      <td>경영학</td>\n",
       "    </tr>\n",
       "    <tr>\n",
       "      <th>2</th>\n",
       "      <td>3</td>\n",
       "      <td>홍길동</td>\n",
       "      <td>컴퓨터</td>\n",
       "    </tr>\n",
       "    <tr>\n",
       "      <th>3</th>\n",
       "      <td>4</td>\n",
       "      <td>강감찬</td>\n",
       "      <td>물리학</td>\n",
       "    </tr>\n",
       "  </tbody>\n",
       "</table>\n",
       "</div>"
      ],
      "text/plain": [
       "   학번   이름   학과\n",
       "0   1  아이유   철학\n",
       "1   2  김연아  경영학\n",
       "2   3  홍길동  컴퓨터\n",
       "3   4  강감찬  물리학"
      ]
     },
     "metadata": {},
     "output_type": "display_data"
    }
   ],
   "source": [
    "display(df1)"
   ]
  },
  {
   "cell_type": "code",
   "execution_count": 48,
   "metadata": {},
   "outputs": [
    {
     "data": {
      "text/html": [
       "<div>\n",
       "<style scoped>\n",
       "    .dataframe tbody tr th:only-of-type {\n",
       "        vertical-align: middle;\n",
       "    }\n",
       "\n",
       "    .dataframe tbody tr th {\n",
       "        vertical-align: top;\n",
       "    }\n",
       "\n",
       "    .dataframe thead th {\n",
       "        text-align: right;\n",
       "    }\n",
       "</style>\n",
       "<table border=\"1\" class=\"dataframe\">\n",
       "  <thead>\n",
       "    <tr style=\"text-align: right;\">\n",
       "      <th></th>\n",
       "      <th>학년</th>\n",
       "      <th>학점</th>\n",
       "    </tr>\n",
       "  </thead>\n",
       "  <tbody>\n",
       "    <tr>\n",
       "      <th>1</th>\n",
       "      <td>2</td>\n",
       "      <td>1.5</td>\n",
       "    </tr>\n",
       "    <tr>\n",
       "      <th>2</th>\n",
       "      <td>4</td>\n",
       "      <td>2.0</td>\n",
       "    </tr>\n",
       "    <tr>\n",
       "      <th>4</th>\n",
       "      <td>3</td>\n",
       "      <td>4.1</td>\n",
       "    </tr>\n",
       "    <tr>\n",
       "      <th>5</th>\n",
       "      <td>1</td>\n",
       "      <td>3.8</td>\n",
       "    </tr>\n",
       "  </tbody>\n",
       "</table>\n",
       "</div>"
      ],
      "text/plain": [
       "   학년   학점\n",
       "1   2  1.5\n",
       "2   4  2.0\n",
       "4   3  4.1\n",
       "5   1  3.8"
      ]
     },
     "metadata": {},
     "output_type": "display_data"
    }
   ],
   "source": [
    "display(df2)"
   ]
  },
  {
   "cell_type": "code",
   "execution_count": null,
   "metadata": {},
   "outputs": [],
   "source": [
    "# left_index 과 right_index 왼쪽, 오른쪽 df의 인덱스를 기준으로 병합\n",
    "merged_df = pd.merge(df1, df2, left_index=True, right_index=True, how='inner')\n",
    "display(merged_df)"
   ]
  },
  {
   "cell_type": "code",
   "execution_count": null,
   "metadata": {},
   "outputs": [],
   "source": [
    "# 왼쪽은 학번을 기준으로, 오른쪽은 인덱스를 기준으로 병합\n",
    "merged_df = pd.merge(df1, df2, left_on='학번', right_index=True, how='inner')\n",
    "display(merged_df)"
   ]
  },
  {
   "cell_type": "code",
   "execution_count": null,
   "metadata": {},
   "outputs": [],
   "source": [
    "# 인덱스로 조인하는 방식은 join 메소드를 사용하는 것 편함\n",
    "df1.join(df2, how='inner')"
   ]
  },
  {
   "attachments": {},
   "cell_type": "markdown",
   "metadata": {},
   "source": [
    "#### 데이터 연결 pandas.concat"
   ]
  },
  {
   "cell_type": "code",
   "execution_count": 49,
   "metadata": {},
   "outputs": [],
   "source": [
    "import numpy as np\n",
    "import pandas as pd\n",
    "\n",
    "np.random.seed(1) # 고정 난수 설정"
   ]
  },
  {
   "cell_type": "code",
   "execution_count": 50,
   "metadata": {},
   "outputs": [
    {
     "data": {
      "text/html": [
       "<div>\n",
       "<style scoped>\n",
       "    .dataframe tbody tr th:only-of-type {\n",
       "        vertical-align: middle;\n",
       "    }\n",
       "\n",
       "    .dataframe tbody tr th {\n",
       "        vertical-align: top;\n",
       "    }\n",
       "\n",
       "    .dataframe thead th {\n",
       "        text-align: right;\n",
       "    }\n",
       "</style>\n",
       "<table border=\"1\" class=\"dataframe\">\n",
       "  <thead>\n",
       "    <tr style=\"text-align: right;\">\n",
       "      <th></th>\n",
       "      <th>one</th>\n",
       "      <th>two</th>\n",
       "    </tr>\n",
       "  </thead>\n",
       "  <tbody>\n",
       "    <tr>\n",
       "      <th>a</th>\n",
       "      <td>5</td>\n",
       "      <td>8</td>\n",
       "    </tr>\n",
       "    <tr>\n",
       "      <th>b</th>\n",
       "      <td>5</td>\n",
       "      <td>0</td>\n",
       "    </tr>\n",
       "    <tr>\n",
       "      <th>c</th>\n",
       "      <td>0</td>\n",
       "      <td>1</td>\n",
       "    </tr>\n",
       "  </tbody>\n",
       "</table>\n",
       "</div>"
      ],
      "text/plain": [
       "   one  two\n",
       "a    5    8\n",
       "b    5    0\n",
       "c    0    1"
      ]
     },
     "metadata": {},
     "output_type": "display_data"
    }
   ],
   "source": [
    "df1 = pd.DataFrame(np.random.randint(0, 9, (3,2)), # 3x2 난수값 행렬\n",
    "                    index=['a', 'b', 'c'], # 인덱스 값 설정\n",
    "                    columns=['one', 'two']) # 컬럼 값 설정\n",
    "\n",
    "display(df1)"
   ]
  },
  {
   "cell_type": "code",
   "execution_count": 51,
   "metadata": {},
   "outputs": [
    {
     "data": {
      "text/html": [
       "<div>\n",
       "<style scoped>\n",
       "    .dataframe tbody tr th:only-of-type {\n",
       "        vertical-align: middle;\n",
       "    }\n",
       "\n",
       "    .dataframe tbody tr th {\n",
       "        vertical-align: top;\n",
       "    }\n",
       "\n",
       "    .dataframe thead th {\n",
       "        text-align: right;\n",
       "    }\n",
       "</style>\n",
       "<table border=\"1\" class=\"dataframe\">\n",
       "  <thead>\n",
       "    <tr style=\"text-align: right;\">\n",
       "      <th></th>\n",
       "      <th>three</th>\n",
       "      <th>four</th>\n",
       "    </tr>\n",
       "  </thead>\n",
       "  <tbody>\n",
       "    <tr>\n",
       "      <th>a</th>\n",
       "      <td>7</td>\n",
       "      <td>6</td>\n",
       "    </tr>\n",
       "    <tr>\n",
       "      <th>b</th>\n",
       "      <td>2</td>\n",
       "      <td>4</td>\n",
       "    </tr>\n",
       "  </tbody>\n",
       "</table>\n",
       "</div>"
      ],
      "text/plain": [
       "   three  four\n",
       "a      7     6\n",
       "b      2     4"
      ]
     },
     "metadata": {},
     "output_type": "display_data"
    }
   ],
   "source": [
    "df2 = pd.DataFrame(np.random.randint(0, 9, (2,2)), # 3x2 난수값 행렬\n",
    "                    index=['a', 'b'], # 인덱스 값 설정\n",
    "                    columns=['three', 'four']) # 컬럼 값 설정\n",
    "\n",
    "display(df2)"
   ]
  },
  {
   "cell_type": "code",
   "execution_count": 52,
   "metadata": {},
   "outputs": [
    {
     "data": {
      "text/html": [
       "<div>\n",
       "<style scoped>\n",
       "    .dataframe tbody tr th:only-of-type {\n",
       "        vertical-align: middle;\n",
       "    }\n",
       "\n",
       "    .dataframe tbody tr th {\n",
       "        vertical-align: top;\n",
       "    }\n",
       "\n",
       "    .dataframe thead th {\n",
       "        text-align: right;\n",
       "    }\n",
       "</style>\n",
       "<table border=\"1\" class=\"dataframe\">\n",
       "  <thead>\n",
       "    <tr style=\"text-align: right;\">\n",
       "      <th></th>\n",
       "      <th>one</th>\n",
       "      <th>two</th>\n",
       "      <th>three</th>\n",
       "      <th>four</th>\n",
       "    </tr>\n",
       "  </thead>\n",
       "  <tbody>\n",
       "    <tr>\n",
       "      <th>a</th>\n",
       "      <td>5</td>\n",
       "      <td>8</td>\n",
       "      <td>7.0</td>\n",
       "      <td>6.0</td>\n",
       "    </tr>\n",
       "    <tr>\n",
       "      <th>b</th>\n",
       "      <td>5</td>\n",
       "      <td>0</td>\n",
       "      <td>2.0</td>\n",
       "      <td>4.0</td>\n",
       "    </tr>\n",
       "    <tr>\n",
       "      <th>c</th>\n",
       "      <td>0</td>\n",
       "      <td>1</td>\n",
       "      <td>NaN</td>\n",
       "      <td>NaN</td>\n",
       "    </tr>\n",
       "  </tbody>\n",
       "</table>\n",
       "</div>"
      ],
      "text/plain": [
       "   one  two  three  four\n",
       "a    5    8    7.0   6.0\n",
       "b    5    0    2.0   4.0\n",
       "c    0    1    NaN   NaN"
      ]
     },
     "metadata": {},
     "output_type": "display_data"
    }
   ],
   "source": [
    "# df1 & df2 concat으로 연결\n",
    "concat_dict1 = pd.concat([df1, df2], axis=1) # axis=1은 오른쪽 옆으로 붙이기 axis=0은 밑으로 붙이기\n",
    "display(concat_dict1)"
   ]
  },
  {
   "cell_type": "code",
   "execution_count": 53,
   "metadata": {},
   "outputs": [
    {
     "data": {
      "text/html": [
       "<div>\n",
       "<style scoped>\n",
       "    .dataframe tbody tr th:only-of-type {\n",
       "        vertical-align: middle;\n",
       "    }\n",
       "\n",
       "    .dataframe tbody tr th {\n",
       "        vertical-align: top;\n",
       "    }\n",
       "\n",
       "    .dataframe thead th {\n",
       "        text-align: right;\n",
       "    }\n",
       "</style>\n",
       "<table border=\"1\" class=\"dataframe\">\n",
       "  <thead>\n",
       "    <tr style=\"text-align: right;\">\n",
       "      <th></th>\n",
       "      <th>one</th>\n",
       "      <th>two</th>\n",
       "      <th>three</th>\n",
       "      <th>four</th>\n",
       "    </tr>\n",
       "  </thead>\n",
       "  <tbody>\n",
       "    <tr>\n",
       "      <th>a</th>\n",
       "      <td>5.0</td>\n",
       "      <td>8.0</td>\n",
       "      <td>NaN</td>\n",
       "      <td>NaN</td>\n",
       "    </tr>\n",
       "    <tr>\n",
       "      <th>b</th>\n",
       "      <td>5.0</td>\n",
       "      <td>0.0</td>\n",
       "      <td>NaN</td>\n",
       "      <td>NaN</td>\n",
       "    </tr>\n",
       "    <tr>\n",
       "      <th>c</th>\n",
       "      <td>0.0</td>\n",
       "      <td>1.0</td>\n",
       "      <td>NaN</td>\n",
       "      <td>NaN</td>\n",
       "    </tr>\n",
       "    <tr>\n",
       "      <th>a</th>\n",
       "      <td>NaN</td>\n",
       "      <td>NaN</td>\n",
       "      <td>7.0</td>\n",
       "      <td>6.0</td>\n",
       "    </tr>\n",
       "    <tr>\n",
       "      <th>b</th>\n",
       "      <td>NaN</td>\n",
       "      <td>NaN</td>\n",
       "      <td>2.0</td>\n",
       "      <td>4.0</td>\n",
       "    </tr>\n",
       "  </tbody>\n",
       "</table>\n",
       "</div>"
      ],
      "text/plain": [
       "   one  two  three  four\n",
       "a  5.0  8.0    NaN   NaN\n",
       "b  5.0  0.0    NaN   NaN\n",
       "c  0.0  1.0    NaN   NaN\n",
       "a  NaN  NaN    7.0   6.0\n",
       "b  NaN  NaN    2.0   4.0"
      ]
     },
     "metadata": {},
     "output_type": "display_data"
    }
   ],
   "source": [
    "# df1 & df2 concat으로 연결\n",
    "concat_dict2 = pd.concat([df1, df2], axis=0) # axis=1은 오른쪽 옆으로 붙이기 axis=0은 밑으로 붙이기\n",
    "display(concat_dict2) # 컬럼명을 공유하고 있지 않아서 컬럼이 새로 추가됨"
   ]
  },
  {
   "attachments": {},
   "cell_type": "markdown",
   "metadata": {},
   "source": [
    "# 데이터 그룹핑"
   ]
  },
  {
   "attachments": {},
   "cell_type": "markdown",
   "metadata": {},
   "source": [
    "#### Groupby 메소드, apply(함수)\n",
    "\n",
    "#### 집계 함수\n",
    "- count\n",
    "- sum\n",
    "- mean, median\n",
    "- min, max\n",
    "- var, std\n",
    "- first, last\n",
    "- Describe\n",
    "- aggregate or agg\n",
    "- apply"
   ]
  },
  {
   "attachments": {},
   "cell_type": "markdown",
   "metadata": {},
   "source": [
    "#### Groupby 객체\n",
    "\n",
    "- Groupby 객체는 반복문 이용 가능\n",
    "- Groupby 객체는 **그룹 이름, 그룹별 데이터**를 **튜플 형태**로 갖고 있음\n",
    "- 각 그룹별 데이터는 원래의 인덱스 값을 가지고 있음"
   ]
  },
  {
   "attachments": {},
   "cell_type": "markdown",
   "metadata": {},
   "source": [
    "#### 정렬 함수 sort_values(by='사용자 수', ascending=False)\n",
    "ex) sort_values(by=['강좌 개수', '개발년도'], ascending=False)"
   ]
  },
  {
   "cell_type": "code",
   "execution_count": 54,
   "metadata": {},
   "outputs": [],
   "source": [
    "import numpy as np\n",
    "import pandas as pd"
   ]
  },
  {
   "cell_type": "code",
   "execution_count": 55,
   "metadata": {},
   "outputs": [
    {
     "data": {
      "text/html": [
       "<div>\n",
       "<style scoped>\n",
       "    .dataframe tbody tr th:only-of-type {\n",
       "        vertical-align: middle;\n",
       "    }\n",
       "\n",
       "    .dataframe tbody tr th {\n",
       "        vertical-align: top;\n",
       "    }\n",
       "\n",
       "    .dataframe thead th {\n",
       "        text-align: right;\n",
       "    }\n",
       "</style>\n",
       "<table border=\"1\" class=\"dataframe\">\n",
       "  <thead>\n",
       "    <tr style=\"text-align: right;\">\n",
       "      <th></th>\n",
       "      <th>학과</th>\n",
       "      <th>이름</th>\n",
       "      <th>학년</th>\n",
       "      <th>학점</th>\n",
       "    </tr>\n",
       "  </thead>\n",
       "  <tbody>\n",
       "    <tr>\n",
       "      <th>0</th>\n",
       "      <td>수학</td>\n",
       "      <td>로버트</td>\n",
       "      <td>1</td>\n",
       "      <td>1.5</td>\n",
       "    </tr>\n",
       "    <tr>\n",
       "      <th>1</th>\n",
       "      <td>화학</td>\n",
       "      <td>앤드류</td>\n",
       "      <td>2</td>\n",
       "      <td>2.7</td>\n",
       "    </tr>\n",
       "    <tr>\n",
       "      <th>2</th>\n",
       "      <td>수학</td>\n",
       "      <td>유진</td>\n",
       "      <td>3</td>\n",
       "      <td>3.5</td>\n",
       "    </tr>\n",
       "    <tr>\n",
       "      <th>3</th>\n",
       "      <td>화학</td>\n",
       "      <td>제이슨</td>\n",
       "      <td>2</td>\n",
       "      <td>1.9</td>\n",
       "    </tr>\n",
       "    <tr>\n",
       "      <th>4</th>\n",
       "      <td>수학</td>\n",
       "      <td>제이크</td>\n",
       "      <td>3</td>\n",
       "      <td>4.0</td>\n",
       "    </tr>\n",
       "  </tbody>\n",
       "</table>\n",
       "</div>"
      ],
      "text/plain": [
       "   학과   이름  학년   학점\n",
       "0  수학  로버트   1  1.5\n",
       "1  화학  앤드류   2  2.7\n",
       "2  수학   유진   3  3.5\n",
       "3  화학  제이슨   2  1.9\n",
       "4  수학  제이크   3  4.0"
      ]
     },
     "metadata": {},
     "output_type": "display_data"
    }
   ],
   "source": [
    "df = pd.DataFrame({\n",
    "    '학과': ['수학', '화학', '수학', '화학', '수학'],\n",
    "    '이름': ['로버트', '앤드류', '유진', '제이슨', '제이크'],\n",
    "    '학년': [1, 2, 3, 2, 3],\n",
    "    '학점': [1.5, 2.7, 3.5, 1.9, 4.0],\n",
    "})\n",
    "\n",
    "display(df)"
   ]
  },
  {
   "attachments": {},
   "cell_type": "markdown",
   "metadata": {},
   "source": [
    "#### 1 단계 그룹핑"
   ]
  },
  {
   "cell_type": "code",
   "execution_count": 56,
   "metadata": {},
   "outputs": [],
   "source": [
    "df_dept = df.groupby('학과') # dataframe의 특정 컬럼을 기준으로 그룹화"
   ]
  },
  {
   "cell_type": "code",
   "execution_count": 60,
   "metadata": {},
   "outputs": [
    {
     "data": {
      "text/plain": [
       "<pandas.core.groupby.generic.DataFrameGroupBy object at 0x000001EDD688DE20>"
      ]
     },
     "metadata": {},
     "output_type": "display_data"
    },
    {
     "name": "stdout",
     "output_type": "stream",
     "text": [
      "('수학',    학과   이름  학년   학점\n",
      "0  수학  로버트   1  1.5\n",
      "2  수학   유진   3  3.5\n",
      "4  수학  제이크   3  4.0)\n",
      "('화학',    학과   이름  학년   학점\n",
      "1  화학  앤드류   2  2.7\n",
      "3  화학  제이슨   2  1.9)\n"
     ]
    }
   ],
   "source": [
    "display(df_dept)\n",
    "# <pandas.core.groupby.generic.DataFrameGroupBy object at 0x000001748DC740A0> 객체 주소 출력됨"
   ]
  },
  {
   "cell_type": "code",
   "execution_count": 58,
   "metadata": {},
   "outputs": [
    {
     "data": {
      "text/html": [
       "<div>\n",
       "<style scoped>\n",
       "    .dataframe tbody tr th:only-of-type {\n",
       "        vertical-align: middle;\n",
       "    }\n",
       "\n",
       "    .dataframe tbody tr th {\n",
       "        vertical-align: top;\n",
       "    }\n",
       "\n",
       "    .dataframe thead tr th {\n",
       "        text-align: left;\n",
       "    }\n",
       "\n",
       "    .dataframe thead tr:last-of-type th {\n",
       "        text-align: right;\n",
       "    }\n",
       "</style>\n",
       "<table border=\"1\" class=\"dataframe\">\n",
       "  <thead>\n",
       "    <tr>\n",
       "      <th></th>\n",
       "      <th colspan=\"8\" halign=\"left\">학년</th>\n",
       "      <th colspan=\"8\" halign=\"left\">학점</th>\n",
       "    </tr>\n",
       "    <tr>\n",
       "      <th></th>\n",
       "      <th>count</th>\n",
       "      <th>mean</th>\n",
       "      <th>std</th>\n",
       "      <th>min</th>\n",
       "      <th>25%</th>\n",
       "      <th>50%</th>\n",
       "      <th>75%</th>\n",
       "      <th>max</th>\n",
       "      <th>count</th>\n",
       "      <th>mean</th>\n",
       "      <th>std</th>\n",
       "      <th>min</th>\n",
       "      <th>25%</th>\n",
       "      <th>50%</th>\n",
       "      <th>75%</th>\n",
       "      <th>max</th>\n",
       "    </tr>\n",
       "    <tr>\n",
       "      <th>학과</th>\n",
       "      <th></th>\n",
       "      <th></th>\n",
       "      <th></th>\n",
       "      <th></th>\n",
       "      <th></th>\n",
       "      <th></th>\n",
       "      <th></th>\n",
       "      <th></th>\n",
       "      <th></th>\n",
       "      <th></th>\n",
       "      <th></th>\n",
       "      <th></th>\n",
       "      <th></th>\n",
       "      <th></th>\n",
       "      <th></th>\n",
       "      <th></th>\n",
       "    </tr>\n",
       "  </thead>\n",
       "  <tbody>\n",
       "    <tr>\n",
       "      <th>수학</th>\n",
       "      <td>3.0</td>\n",
       "      <td>2.333333</td>\n",
       "      <td>1.154701</td>\n",
       "      <td>1.0</td>\n",
       "      <td>2.0</td>\n",
       "      <td>3.0</td>\n",
       "      <td>3.0</td>\n",
       "      <td>3.0</td>\n",
       "      <td>3.0</td>\n",
       "      <td>3.0</td>\n",
       "      <td>1.322876</td>\n",
       "      <td>1.5</td>\n",
       "      <td>2.5</td>\n",
       "      <td>3.5</td>\n",
       "      <td>3.75</td>\n",
       "      <td>4.0</td>\n",
       "    </tr>\n",
       "    <tr>\n",
       "      <th>화학</th>\n",
       "      <td>2.0</td>\n",
       "      <td>2.000000</td>\n",
       "      <td>0.000000</td>\n",
       "      <td>2.0</td>\n",
       "      <td>2.0</td>\n",
       "      <td>2.0</td>\n",
       "      <td>2.0</td>\n",
       "      <td>2.0</td>\n",
       "      <td>2.0</td>\n",
       "      <td>2.3</td>\n",
       "      <td>0.565685</td>\n",
       "      <td>1.9</td>\n",
       "      <td>2.1</td>\n",
       "      <td>2.3</td>\n",
       "      <td>2.50</td>\n",
       "      <td>2.7</td>\n",
       "    </tr>\n",
       "  </tbody>\n",
       "</table>\n",
       "</div>"
      ],
      "text/plain": [
       "      학년                                                 학점                 \\\n",
       "   count      mean       std  min  25%  50%  75%  max count mean       std   \n",
       "학과                                                                           \n",
       "수학   3.0  2.333333  1.154701  1.0  2.0  3.0  3.0  3.0   3.0  3.0  1.322876   \n",
       "화학   2.0  2.000000  0.000000  2.0  2.0  2.0  2.0  2.0   2.0  2.3  0.565685   \n",
       "\n",
       "                              \n",
       "    min  25%  50%   75%  max  \n",
       "학과                            \n",
       "수학  1.5  2.5  3.5  3.75  4.0  \n",
       "화학  1.9  2.1  2.3  2.50  2.7  "
      ]
     },
     "execution_count": 58,
     "metadata": {},
     "output_type": "execute_result"
    }
   ],
   "source": [
    "# 학과별 기술통계 출력\n",
    "df_dept.describe()"
   ]
  },
  {
   "cell_type": "code",
   "execution_count": 59,
   "metadata": {},
   "outputs": [
    {
     "data": {
      "text/html": [
       "<div>\n",
       "<style scoped>\n",
       "    .dataframe tbody tr th:only-of-type {\n",
       "        vertical-align: middle;\n",
       "    }\n",
       "\n",
       "    .dataframe tbody tr th {\n",
       "        vertical-align: top;\n",
       "    }\n",
       "\n",
       "    .dataframe thead th {\n",
       "        text-align: right;\n",
       "    }\n",
       "</style>\n",
       "<table border=\"1\" class=\"dataframe\">\n",
       "  <thead>\n",
       "    <tr style=\"text-align: right;\">\n",
       "      <th></th>\n",
       "      <th>이름</th>\n",
       "      <th>학년</th>\n",
       "      <th>학점</th>\n",
       "    </tr>\n",
       "    <tr>\n",
       "      <th>학과</th>\n",
       "      <th></th>\n",
       "      <th></th>\n",
       "      <th></th>\n",
       "    </tr>\n",
       "  </thead>\n",
       "  <tbody>\n",
       "    <tr>\n",
       "      <th>수학</th>\n",
       "      <td>3</td>\n",
       "      <td>3</td>\n",
       "      <td>3</td>\n",
       "    </tr>\n",
       "    <tr>\n",
       "      <th>화학</th>\n",
       "      <td>2</td>\n",
       "      <td>2</td>\n",
       "      <td>2</td>\n",
       "    </tr>\n",
       "  </tbody>\n",
       "</table>\n",
       "</div>"
      ],
      "text/plain": [
       "    이름  학년  학점\n",
       "학과            \n",
       "수학   3   3   3\n",
       "화학   2   2   2"
      ]
     },
     "execution_count": 59,
     "metadata": {},
     "output_type": "execute_result"
    }
   ],
   "source": [
    "# 학과별 원소 개수 출력\n",
    "df_dept.count()"
   ]
  },
  {
   "cell_type": "code",
   "execution_count": null,
   "metadata": {},
   "outputs": [],
   "source": [
    "# Series 그룹화\n",
    "dept = df['학점'].groupby(df['학과']) # 학과별 학점으로 그룹화\n",
    "print(dept)"
   ]
  },
  {
   "cell_type": "code",
   "execution_count": null,
   "metadata": {},
   "outputs": [],
   "source": [
    "dept.mean()"
   ]
  },
  {
   "cell_type": "code",
   "execution_count": null,
   "metadata": {},
   "outputs": [],
   "source": [
    "dept.std()"
   ]
  },
  {
   "cell_type": "code",
   "execution_count": null,
   "metadata": {},
   "outputs": [],
   "source": [
    "dept.size()"
   ]
  },
  {
   "cell_type": "code",
   "execution_count": null,
   "metadata": {},
   "outputs": [],
   "source": [
    "# 수학과 인원 학점 데이터만 따로 반환\n",
    "math = dept.get_group('수학')\n",
    "\n",
    "math"
   ]
  },
  {
   "attachments": {},
   "cell_type": "markdown",
   "metadata": {},
   "source": [
    "#### 2 단계 그룹핑"
   ]
  },
  {
   "cell_type": "code",
   "execution_count": null,
   "metadata": {},
   "outputs": [],
   "source": [
    "dept = df.groupby([df['학과'], df['학년']]) # 학과별 학년별 그룹화 진행\n",
    "dept"
   ]
  },
  {
   "cell_type": "code",
   "execution_count": null,
   "metadata": {},
   "outputs": [],
   "source": [
    "# 그룹별 기술통계 도출\n",
    "dept.describe()"
   ]
  },
  {
   "cell_type": "code",
   "execution_count": null,
   "metadata": {},
   "outputs": [],
   "source": [
    "display(dept.mean())"
   ]
  },
  {
   "cell_type": "code",
   "execution_count": null,
   "metadata": {},
   "outputs": [],
   "source": [
    "# 데이터 추가\n",
    "df2 = pd.DataFrame({\n",
    "    '학과': ['화학', '수학', '화학', '수학'],\n",
    "    '이름': ['앤디', '제니', '엘리스', '멜리샤'],\n",
    "    '학년': [1, 2, 3, 2],\n",
    "    '학점': [3, 4.2, 3.1, 4.5]\n",
    "})\n",
    "\n",
    "concat_df = pd.concat([df, df2], axis=0)\n",
    "concat_df.reset_index(inplace=True, drop=True)\n",
    "display(concat_df)"
   ]
  },
  {
   "cell_type": "code",
   "execution_count": null,
   "metadata": {},
   "outputs": [],
   "source": [
    "dept_and_year = concat_df.groupby([concat_df['학과'], concat_df['학년']])"
   ]
  },
  {
   "cell_type": "code",
   "execution_count": null,
   "metadata": {},
   "outputs": [],
   "source": [
    "dept_and_year.describe()"
   ]
  },
  {
   "cell_type": "code",
   "execution_count": null,
   "metadata": {},
   "outputs": [],
   "source": [
    "dept_and_year.mean().index"
   ]
  },
  {
   "attachments": {},
   "cell_type": "markdown",
   "metadata": {},
   "source": [
    "#### apply(인덱싱하는 함수) 메소드 사용"
   ]
  },
  {
   "cell_type": "code",
   "execution_count": null,
   "metadata": {},
   "outputs": [],
   "source": [
    "def top3_dept_scorer(df):\n",
    "    return df.sort_values(by='학점', ascending=False)[:3] "
   ]
  },
  {
   "cell_type": "code",
   "execution_count": null,
   "metadata": {},
   "outputs": [],
   "source": [
    "# 학과별 그룹화 \n",
    "dept = concat_df.groupby('학과')"
   ]
  },
  {
   "cell_type": "code",
   "execution_count": null,
   "metadata": {},
   "outputs": [],
   "source": [
    "dept.apply(top3_dept_scorer)"
   ]
  },
  {
   "cell_type": "code",
   "execution_count": null,
   "metadata": {},
   "outputs": [],
   "source": [
    "display(dept.apply(top3_dept_scorer)['이름']) # 멀티 인덱스이기 때문에 이상하게 출력되는 모습"
   ]
  },
  {
   "attachments": {},
   "cell_type": "markdown",
   "metadata": {},
   "source": [
    "#### groupby, apply, 람다 함수 한번에 사용"
   ]
  },
  {
   "cell_type": "code",
   "execution_count": null,
   "metadata": {},
   "outputs": [],
   "source": [
    "# 위아래 똑같은 결과 나옴\n",
    "# concat_df.groupby(concat_df['학년']).apply(lambda x: x.sort_values(by='학점'))\n",
    "concat_df.groupby('학년').apply(lambda x: x.sort_values(by='학점'))"
   ]
  },
  {
   "attachments": {},
   "cell_type": "markdown",
   "metadata": {},
   "source": [
    "#### groupby는 시퀸스 객체라서 for loop 가능"
   ]
  },
  {
   "cell_type": "code",
   "execution_count": null,
   "metadata": {},
   "outputs": [],
   "source": [
    "for dept, group in concat_df.groupby('학과'):\n",
    "    print(f'학과: {dept}')\n",
    "    display(group)"
   ]
  },
  {
   "attachments": {},
   "cell_type": "markdown",
   "metadata": {},
   "source": [
    "#### 2차 그룹핑 for loop"
   ]
  },
  {
   "cell_type": "code",
   "execution_count": null,
   "metadata": {},
   "outputs": [],
   "source": [
    "for (dept, year), group in concat_df.groupby(['학과', '학년']):\n",
    "    print('-' * 25)\n",
    "    print('학과: ', dept, '/ 학년: ', year)\n",
    "    display(group)"
   ]
  },
  {
   "attachments": {},
   "cell_type": "markdown",
   "metadata": {},
   "source": [
    "# 시계열데이터기초"
   ]
  },
  {
   "attachments": {},
   "cell_type": "markdown",
   "metadata": {},
   "source": [
    "- DatetimeIndex 자료형 사용\n",
    "- pd.to_datetime()\n",
    "- Down-sampling 을 자주 하게됨 (일 단위 -> 월 단위 -> 년 단위)\n",
    "- Up-sampling: 실제로 존재하지 않는 데이터를 만듬 (Forward filling, Backword filling)\n",
    "  - 처음 데이터를 기준으로, 마지막 데이터를 기준으로 하느냐에 따라 Forward, Backword라고 함\n",
    "\n",
    "#### Time Plot 시간그래프 pd.DataFrame.plot()\n",
    "- 패턴, 이상치, 시간에 따른 변화, 계절성 등을 시각적으로 파악하기 용이"
   ]
  },
  {
   "cell_type": "code",
   "execution_count": null,
   "metadata": {},
   "outputs": [],
   "source": [
    "date1 = ['2022 01 01', '2022 02 01', '2022 03 01', '2022 04 01']\n",
    "date_idx1 = pd.to_datetime(date1)\n",
    "\n",
    "\n",
    "# 위와 같이 다양한 방식으로 날짜를 넣어주면 처리를 해주는 to_datetime 메소드"
   ]
  },
  {
   "cell_type": "code",
   "execution_count": null,
   "metadata": {},
   "outputs": [],
   "source": [
    "date3 = ['2022/01/01', '2022/02/01', '2022/03/01', '2022/04/01']\n",
    "date_idx3 = pd.to_datetime(date3)"
   ]
  },
  {
   "cell_type": "code",
   "execution_count": null,
   "metadata": {},
   "outputs": [],
   "source": [
    "date4 = ['2022,01,01', '2022,02,01', '2022,03,01', '2022,04,01']\n",
    "date_idx4 = pd.to_datetime(date4)"
   ]
  },
  {
   "cell_type": "code",
   "execution_count": null,
   "metadata": {},
   "outputs": [],
   "source": [
    "series = pd.Series(np.random.randint(3, 10, size=4), index=date_idx1)\n",
    "series"
   ]
  },
  {
   "attachments": {},
   "cell_type": "markdown",
   "metadata": {},
   "source": [
    "#### pd.date_range"
   ]
  },
  {
   "cell_type": "code",
   "execution_count": null,
   "metadata": {},
   "outputs": [],
   "source": [
    "pd.date_range('2020-1-1', '2020-05-31', freq='MS')"
   ]
  },
  {
   "attachments": {},
   "cell_type": "markdown",
   "metadata": {},
   "source": [
    "#### freq 인수\n",
    "- D: 일별 (기본값)\n",
    "- W: 주별 (일요일 기준)\n",
    "- W-MON: 주별 (월요일 기준)\n",
    "- M: 월별 (월 마지막일 기준)\n",
    "- MS: 월별 (월 시작일 기준)\n",
    "- B: 주말을 제외한 평일 인덱스"
   ]
  },
  {
   "cell_type": "code",
   "execution_count": 3,
   "metadata": {},
   "outputs": [
    {
     "data": {
      "text/plain": [
       "DatetimeIndex(['2020-01-01', '2020-02-01', '2020-03-01', '2020-04-01',\n",
       "               '2020-05-01', '2020-06-01', '2020-07-01', '2020-08-01',\n",
       "               '2020-09-01', '2020-10-01', '2020-11-01', '2020-12-01',\n",
       "               '2021-01-01', '2021-02-01', '2021-03-01', '2021-04-01',\n",
       "               '2021-05-01', '2021-06-01', '2021-07-01', '2021-08-01',\n",
       "               '2021-09-01', '2021-10-01', '2021-11-01', '2021-12-01',\n",
       "               '2022-01-01', '2022-02-01', '2022-03-01', '2022-04-01',\n",
       "               '2022-05-01', '2022-06-01', '2022-07-01', '2022-08-01',\n",
       "               '2022-09-01', '2022-10-01', '2022-11-01', '2022-12-01',\n",
       "               '2023-01-01', '2023-02-01', '2023-03-01', '2023-04-01',\n",
       "               '2023-05-01', '2023-06-01', '2023-07-01', '2023-08-01',\n",
       "               '2023-09-01'],\n",
       "              dtype='datetime64[ns]', freq='MS')"
      ]
     },
     "execution_count": 3,
     "metadata": {},
     "output_type": "execute_result"
    }
   ],
   "source": [
    "# periods와 freq 명시\n",
    "pd.date_range(start='2020-1-1', periods=45, freq=\"MS\")"
   ]
  },
  {
   "attachments": {},
   "cell_type": "markdown",
   "metadata": {},
   "source": [
    "#### 시계열의 Shift"
   ]
  },
  {
   "cell_type": "code",
   "execution_count": 9,
   "metadata": {},
   "outputs": [
    {
     "data": {
      "text/plain": [
       "2020-01-01    6\n",
       "2020-02-01    8\n",
       "2020-03-01    7\n",
       "2020-04-01    8\n",
       "2020-05-01    9\n",
       "2020-06-01    5\n",
       "2020-07-01    7\n",
       "2020-08-01    4\n",
       "2020-09-01    2\n",
       "2020-10-01    5\n",
       "2020-11-01    5\n",
       "2020-12-01    6\n",
       "Freq: MS, dtype: int32"
      ]
     },
     "metadata": {},
     "output_type": "display_data"
    }
   ],
   "source": [
    "arr = np.random.randint(1, 10, 12)\n",
    "ts_indx = pd.date_range('2020-1-1', periods=12, freq=\"MS\")\n",
    "\n",
    "ts = pd.Series(arr, index=ts_indx)\n",
    "display(ts)"
   ]
  },
  {
   "cell_type": "code",
   "execution_count": 10,
   "metadata": {},
   "outputs": [
    {
     "data": {
      "text/plain": [
       "2020-01-01    NaN\n",
       "2020-02-01    NaN\n",
       "2020-03-01    NaN\n",
       "2020-04-01    NaN\n",
       "2020-05-01    6.0\n",
       "2020-06-01    8.0\n",
       "2020-07-01    7.0\n",
       "2020-08-01    8.0\n",
       "2020-09-01    9.0\n",
       "2020-10-01    5.0\n",
       "2020-11-01    7.0\n",
       "2020-12-01    4.0\n",
       "Freq: MS, dtype: float64"
      ]
     },
     "execution_count": 10,
     "metadata": {},
     "output_type": "execute_result"
    }
   ],
   "source": [
    "ts.shift(4)"
   ]
  },
  {
   "cell_type": "code",
   "execution_count": 12,
   "metadata": {},
   "outputs": [
    {
     "data": {
      "text/plain": [
       "2020-01-12    6\n",
       "2020-02-09    8\n",
       "2020-03-15    7\n",
       "2020-04-12    8\n",
       "2020-05-10    9\n",
       "2020-06-14    5\n",
       "2020-07-12    7\n",
       "2020-08-09    4\n",
       "2020-09-13    2\n",
       "2020-10-11    5\n",
       "2020-11-15    5\n",
       "2020-12-13    6\n",
       "dtype: int32"
      ]
     },
     "execution_count": 12,
     "metadata": {},
     "output_type": "execute_result"
    }
   ],
   "source": [
    "ts.shift(2, freq='W')"
   ]
  },
  {
   "attachments": {},
   "cell_type": "markdown",
   "metadata": {},
   "source": [
    "#### diff(n): 행 - n 기간 전 행 (차분?)"
   ]
  },
  {
   "cell_type": "code",
   "execution_count": 13,
   "metadata": {},
   "outputs": [
    {
     "data": {
      "text/plain": [
       "2020-01-01    NaN\n",
       "2020-02-01    2.0\n",
       "2020-03-01   -1.0\n",
       "2020-04-01    1.0\n",
       "2020-05-01    1.0\n",
       "2020-06-01   -4.0\n",
       "2020-07-01    2.0\n",
       "2020-08-01   -3.0\n",
       "2020-09-01   -2.0\n",
       "2020-10-01    3.0\n",
       "2020-11-01    0.0\n",
       "2020-12-01    1.0\n",
       "Freq: MS, dtype: float64"
      ]
     },
     "execution_count": 13,
     "metadata": {},
     "output_type": "execute_result"
    }
   ],
   "source": [
    "ts.diff(1)"
   ]
  },
  {
   "cell_type": "code",
   "execution_count": 17,
   "metadata": {},
   "outputs": [
    {
     "name": "stdout",
     "output_type": "stream",
     "text": [
      "2020-02-01 2\n"
     ]
    }
   ],
   "source": [
    "# diff의 연산 방식\n",
    "print('2020-02-01', ts[1] - ts[0])"
   ]
  },
  {
   "cell_type": "code",
   "execution_count": 19,
   "metadata": {},
   "outputs": [
    {
     "data": {
      "text/plain": [
       "2020-01-01    NaN\n",
       "2020-02-01    NaN\n",
       "2020-03-01    NaN\n",
       "2020-04-01    2.0\n",
       "2020-05-01    1.0\n",
       "2020-06-01   -2.0\n",
       "2020-07-01   -1.0\n",
       "2020-08-01   -5.0\n",
       "2020-09-01   -3.0\n",
       "2020-10-01   -2.0\n",
       "2020-11-01    1.0\n",
       "2020-12-01    4.0\n",
       "Freq: MS, dtype: float64"
      ]
     },
     "execution_count": 19,
     "metadata": {},
     "output_type": "execute_result"
    }
   ],
   "source": [
    "ts.diff(3)  # ts[3] - ts[0] 이런식으로 연산"
   ]
  },
  {
   "attachments": {},
   "cell_type": "markdown",
   "metadata": {},
   "source": [
    "## down-sampling"
   ]
  },
  {
   "cell_type": "code",
   "execution_count": 23,
   "metadata": {},
   "outputs": [
    {
     "data": {
      "text/plain": [
       "2022-01-01    1.624345\n",
       "2022-01-02   -0.611756\n",
       "2022-01-03   -0.528172\n",
       "2022-01-04   -1.072969\n",
       "2022-01-05    0.865408\n",
       "                ...   \n",
       "2022-12-27   -0.557495\n",
       "2022-12-28    0.939169\n",
       "2022-12-29   -1.943323\n",
       "2022-12-30    0.352494\n",
       "2022-12-31   -0.236437\n",
       "Freq: D, Length: 365, dtype: float64"
      ]
     },
     "metadata": {},
     "output_type": "display_data"
    }
   ],
   "source": [
    "np.random.seed(1)\n",
    "\n",
    "arr = np.random.randn(365)\n",
    "time_idx = pd.date_range('2022-1-1', periods=365, freq='D')\n",
    "\n",
    "ts = pd.Series(arr, index=time_idx)\n",
    "display(ts)"
   ]
  },
  {
   "cell_type": "code",
   "execution_count": 25,
   "metadata": {},
   "outputs": [
    {
     "data": {
      "text/plain": [
       "2022-01-01   -0.080317\n",
       "2022-02-01    0.075127\n",
       "2022-03-01    0.186964\n",
       "2022-04-01   -0.036879\n",
       "2022-05-01    0.183157\n",
       "2022-06-01    0.083610\n",
       "2022-07-01    0.135417\n",
       "2022-08-01    0.106348\n",
       "2022-09-01    0.100417\n",
       "2022-10-01   -0.057832\n",
       "2022-11-01    0.255580\n",
       "2022-12-01   -0.305686\n",
       "Freq: MS, dtype: float64"
      ]
     },
     "execution_count": 25,
     "metadata": {},
     "output_type": "execute_result"
    }
   ],
   "source": [
    "# 다운샘플링 방법\n",
    "ts.resample('MS').mean()"
   ]
  },
  {
   "attachments": {},
   "cell_type": "markdown",
   "metadata": {},
   "source": [
    "#### up-sampling"
   ]
  },
  {
   "cell_type": "code",
   "execution_count": 26,
   "metadata": {},
   "outputs": [
    {
     "name": "stdout",
     "output_type": "stream",
     "text": [
      "2022-01-02    0.727813\n",
      "2022-01-09    0.515074\n",
      "2022-01-16   -2.782534\n",
      "2022-01-23    0.584647\n",
      "2022-01-30    0.324274\n",
      "2022-02-06    0.021863\n",
      "2022-02-13   -0.468674\n",
      "2022-02-20    0.853281\n",
      "2022-02-27   -0.413029\n",
      "2022-03-06    1.834718\n",
      "Freq: W-SUN, dtype: float64\n"
     ]
    }
   ],
   "source": [
    "arr = np.random.randn(10)\n",
    "time_idx = pd.date_range('2022-1-1', periods=10, freq='W')\n",
    "\n",
    "ts = pd.Series(arr, index=time_idx)\n",
    "print(ts)"
   ]
  },
  {
   "cell_type": "code",
   "execution_count": 28,
   "metadata": {},
   "outputs": [
    {
     "data": {
      "text/plain": [
       "2022-01-02    0.727813\n",
       "2022-01-03    0.727813\n",
       "2022-01-04    0.727813\n",
       "2022-01-05    0.727813\n",
       "2022-01-06    0.727813\n",
       "2022-01-07    0.727813\n",
       "2022-01-08    0.727813\n",
       "2022-01-09    0.515074\n",
       "2022-01-10    0.515074\n",
       "2022-01-11    0.515074\n",
       "2022-01-12    0.515074\n",
       "2022-01-13    0.515074\n",
       "2022-01-14    0.515074\n",
       "2022-01-15    0.515074\n",
       "2022-01-16   -2.782534\n",
       "2022-01-17   -2.782534\n",
       "2022-01-18   -2.782534\n",
       "2022-01-19   -2.782534\n",
       "2022-01-20   -2.782534\n",
       "2022-01-21   -2.782534\n",
       "2022-01-22   -2.782534\n",
       "Freq: D, dtype: float64"
      ]
     },
     "execution_count": 28,
     "metadata": {},
     "output_type": "execute_result"
    }
   ],
   "source": [
    "# forward filling: 첫일을 참고하여 결측값 보간\n",
    "ts.resample('D').ffill().head(21)"
   ]
  },
  {
   "cell_type": "code",
   "execution_count": 29,
   "metadata": {},
   "outputs": [
    {
     "data": {
      "text/plain": [
       "2022-01-02    0.727813\n",
       "2022-01-03    0.515074\n",
       "2022-01-04    0.515074\n",
       "2022-01-05    0.515074\n",
       "2022-01-06    0.515074\n",
       "2022-01-07    0.515074\n",
       "2022-01-08    0.515074\n",
       "2022-01-09    0.515074\n",
       "2022-01-10   -2.782534\n",
       "2022-01-11   -2.782534\n",
       "2022-01-12   -2.782534\n",
       "2022-01-13   -2.782534\n",
       "2022-01-14   -2.782534\n",
       "2022-01-15   -2.782534\n",
       "2022-01-16   -2.782534\n",
       "2022-01-17    0.584647\n",
       "2022-01-18    0.584647\n",
       "2022-01-19    0.584647\n",
       "2022-01-20    0.584647\n",
       "2022-01-21    0.584647\n",
       "2022-01-22    0.584647\n",
       "Freq: D, dtype: float64"
      ]
     },
     "execution_count": 29,
     "metadata": {},
     "output_type": "execute_result"
    }
   ],
   "source": [
    "# backward filling: 마지막 날을 참고하여 결측값 보간\n",
    "ts.resample('D').bfill().head(21)"
   ]
  },
  {
   "attachments": {},
   "cell_type": "markdown",
   "metadata": {},
   "source": [
    "## 시계열 데이터 시각화"
   ]
  },
  {
   "cell_type": "code",
   "execution_count": 30,
   "metadata": {},
   "outputs": [],
   "source": [
    "import numpy as np\n",
    "import pandas as pd\n",
    "import matplotlib.pyplot as plt"
   ]
  },
  {
   "cell_type": "code",
   "execution_count": 31,
   "metadata": {},
   "outputs": [
    {
     "data": {
      "text/html": [
       "<div>\n",
       "<style scoped>\n",
       "    .dataframe tbody tr th:only-of-type {\n",
       "        vertical-align: middle;\n",
       "    }\n",
       "\n",
       "    .dataframe tbody tr th {\n",
       "        vertical-align: top;\n",
       "    }\n",
       "\n",
       "    .dataframe thead th {\n",
       "        text-align: right;\n",
       "    }\n",
       "</style>\n",
       "<table border=\"1\" class=\"dataframe\">\n",
       "  <thead>\n",
       "    <tr style=\"text-align: right;\">\n",
       "      <th></th>\n",
       "      <th>0</th>\n",
       "      <th>1</th>\n",
       "      <th>2</th>\n",
       "    </tr>\n",
       "  </thead>\n",
       "  <tbody>\n",
       "    <tr>\n",
       "      <th>2021-01-01</th>\n",
       "      <td>1.624345</td>\n",
       "      <td>-0.611756</td>\n",
       "      <td>-0.528172</td>\n",
       "    </tr>\n",
       "    <tr>\n",
       "      <th>2021-01-02</th>\n",
       "      <td>-1.072969</td>\n",
       "      <td>0.865408</td>\n",
       "      <td>-2.301539</td>\n",
       "    </tr>\n",
       "    <tr>\n",
       "      <th>2021-01-03</th>\n",
       "      <td>1.744812</td>\n",
       "      <td>-0.761207</td>\n",
       "      <td>0.319039</td>\n",
       "    </tr>\n",
       "    <tr>\n",
       "      <th>2021-01-04</th>\n",
       "      <td>-0.249370</td>\n",
       "      <td>1.462108</td>\n",
       "      <td>-2.060141</td>\n",
       "    </tr>\n",
       "    <tr>\n",
       "      <th>2021-01-05</th>\n",
       "      <td>-0.322417</td>\n",
       "      <td>-0.384054</td>\n",
       "      <td>1.133769</td>\n",
       "    </tr>\n",
       "  </tbody>\n",
       "</table>\n",
       "</div>"
      ],
      "text/plain": [
       "                   0         1         2\n",
       "2021-01-01  1.624345 -0.611756 -0.528172\n",
       "2021-01-02 -1.072969  0.865408 -2.301539\n",
       "2021-01-03  1.744812 -0.761207  0.319039\n",
       "2021-01-04 -0.249370  1.462108 -2.060141\n",
       "2021-01-05 -0.322417 -0.384054  1.133769"
      ]
     },
     "execution_count": 31,
     "metadata": {},
     "output_type": "execute_result"
    }
   ],
   "source": [
    "np. random.seed(1)\n",
    "\n",
    "ts_data = np.random.randn(365, 3)\n",
    "ts_idx = pd.date_range(start='2021-01-01', periods=365, freq='D')\n",
    "\n",
    "ts_df = pd.DataFrame(ts_data, index=ts_idx)\n",
    "ts_df.head()"
   ]
  },
  {
   "cell_type": "code",
   "execution_count": 32,
   "metadata": {},
   "outputs": [
    {
     "data": {
      "text/html": [
       "<div>\n",
       "<style scoped>\n",
       "    .dataframe tbody tr th:only-of-type {\n",
       "        vertical-align: middle;\n",
       "    }\n",
       "\n",
       "    .dataframe tbody tr th {\n",
       "        vertical-align: top;\n",
       "    }\n",
       "\n",
       "    .dataframe thead th {\n",
       "        text-align: right;\n",
       "    }\n",
       "</style>\n",
       "<table border=\"1\" class=\"dataframe\">\n",
       "  <thead>\n",
       "    <tr style=\"text-align: right;\">\n",
       "      <th></th>\n",
       "      <th>X</th>\n",
       "      <th>Y</th>\n",
       "      <th>Z</th>\n",
       "    </tr>\n",
       "  </thead>\n",
       "  <tbody>\n",
       "    <tr>\n",
       "      <th>2021-01-01</th>\n",
       "      <td>1.624345</td>\n",
       "      <td>-0.611756</td>\n",
       "      <td>-0.528172</td>\n",
       "    </tr>\n",
       "    <tr>\n",
       "      <th>2021-01-02</th>\n",
       "      <td>-1.072969</td>\n",
       "      <td>0.865408</td>\n",
       "      <td>-2.301539</td>\n",
       "    </tr>\n",
       "    <tr>\n",
       "      <th>2021-01-03</th>\n",
       "      <td>1.744812</td>\n",
       "      <td>-0.761207</td>\n",
       "      <td>0.319039</td>\n",
       "    </tr>\n",
       "    <tr>\n",
       "      <th>2021-01-04</th>\n",
       "      <td>-0.249370</td>\n",
       "      <td>1.462108</td>\n",
       "      <td>-2.060141</td>\n",
       "    </tr>\n",
       "    <tr>\n",
       "      <th>2021-01-05</th>\n",
       "      <td>-0.322417</td>\n",
       "      <td>-0.384054</td>\n",
       "      <td>1.133769</td>\n",
       "    </tr>\n",
       "  </tbody>\n",
       "</table>\n",
       "</div>"
      ],
      "text/plain": [
       "                   X         Y         Z\n",
       "2021-01-01  1.624345 -0.611756 -0.528172\n",
       "2021-01-02 -1.072969  0.865408 -2.301539\n",
       "2021-01-03  1.744812 -0.761207  0.319039\n",
       "2021-01-04 -0.249370  1.462108 -2.060141\n",
       "2021-01-05 -0.322417 -0.384054  1.133769"
      ]
     },
     "execution_count": 32,
     "metadata": {},
     "output_type": "execute_result"
    }
   ],
   "source": [
    "ts_df.columns = ['X', 'Y', 'Z']\n",
    "ts_df.head()"
   ]
  },
  {
   "cell_type": "code",
   "execution_count": 33,
   "metadata": {},
   "outputs": [
    {
     "data": {
      "text/plain": [
       "<AxesSubplot: >"
      ]
     },
     "execution_count": 33,
     "metadata": {},
     "output_type": "execute_result"
    },
    {
     "data": {
      "image/png": "[encoded data removed]",
      "text/plain": [
       "<Figure size 640x480 with 1 Axes>"
      ]
     },
     "metadata": {},
     "output_type": "display_data"
    }
   ],
   "source": [
    "ts_df.plot()"
   ]
  },
  {
   "cell_type": "code",
   "execution_count": 35,
   "metadata": {},
   "outputs": [
    {
     "data": {
      "image/png": "[encoded data removed]",
      "text/plain": [
       "<Figure size 640x480 with 1 Axes>"
      ]
     },
     "metadata": {},
     "output_type": "display_data"
    }
   ],
   "source": [
    "ts_df.plot()\n",
    "plt.title('Time Series Plot of Random numbers') # 제목\n",
    "plt.show() # 그래프 출력용 커멘드"
   ]
  },
  {
   "cell_type": "code",
   "execution_count": 39,
   "metadata": {},
   "outputs": [
    {
     "data": {
      "image/png": "[encoded data removed]",
      "text/plain": [
       "<Figure size 1000x300 with 1 Axes>"
      ]
     },
     "metadata": {},
     "output_type": "display_data"
    }
   ],
   "source": [
    "ts_df.plot(figsize=(10,3)) # 그래프의 출력 인치 사이즈 (가로, 세로)\n",
    "plt.title(\"Time Series Plot of Random Numbers\")\n",
    "plt.xlabel('Date')\n",
    "plt.ylabel('Unit')\n",
    "plt.show()"
   ]
  },
  {
   "cell_type": "code",
   "execution_count": 40,
   "metadata": {},
   "outputs": [
    {
     "data": {
      "image/png": "[encoded data removed]",
      "text/plain": [
       "<Figure size 640x480 with 1 Axes>"
      ]
     },
     "metadata": {},
     "output_type": "display_data"
    }
   ],
   "source": [
    "ts_df = ts_df.cumsum() # 누적합 함수\n",
    "ts_df.plot()\n",
    "plt.title(\"Time Series Plot of Random Numbers (Cumulative)\")\n",
    "plt.show()"
   ]
  },
  {
   "cell_type": "code",
   "execution_count": 41,
   "metadata": {},
   "outputs": [
    {
     "data": {
      "image/png": "[encoded data removed]",
      "text/plain": [
       "<Figure size 1000x300 with 1 Axes>"
      ]
     },
     "metadata": {},
     "output_type": "display_data"
    }
   ],
   "source": [
    "ts_df.plot(figsize=(10, 3))\n",
    "plt.title(\"Time Series Plot of Random Numbers\")\n",
    "plt.xlabel('Date')\n",
    "plt.ylabel('Unit')\n",
    "plt.show()"
   ]
  }
 ],
 "metadata": {
  "kernelspec": {
   "display_name": "aivle",
   "language": "python",
   "name": "python3"
  },
  "language_info": {
   "codemirror_mode": {
    "name": "ipython",
    "version": 3
   },
   "file_extension": ".py",
   "mimetype": "text/x-python",
   "name": "python",
   "nbconvert_exporter": "python",
   "pygments_lexer": "ipython3",
   "version": "3.9.15"
  },
  "vscode": {
   "interpreter": {
    "hash": "14c0778f35eb1a1693aaa8436d3d12e6f0497f04708fd5dddb8ce06d09acab7c"
   }
  }
 },
 "nbformat": 4,
 "nbformat_minor": 2
}
