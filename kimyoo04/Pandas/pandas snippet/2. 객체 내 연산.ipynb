{
 "cells": [
  {
   "attachments": {},
   "cell_type": "markdown",
   "metadata": {},
   "source": [
    "#### 반올림\n",
    "- DataFrame.round(decimals=0, args, kwargs)\n",
    "\n",
    "\n",
    "#### 합계\n",
    "- DataFrame.sum(axis=None, skipna=None, level=None, numeric_only=None, min_count=0, kwargs)\n",
    "\n",
    "\n",
    "#### 곱\n",
    "- DataFrame.prod(axis=None, skipna=None, level=None, numeric_only=None, min_count=0, kwargs)\n",
    "- DataFrame.product(axis=None, skipna=None, level=None, numeric_only=None, min_count=0, kwargs)\n",
    "\n",
    "\n",
    "#### 절댓값\n",
    "- DataFrame.abs( )\n",
    "\n",
    "\n",
    "#### 전치\n",
    "- DataFrame.transpose(args, copy=False)\n",
    "- DataFrame.T(args, copy=False)\n",
    "\n",
    "\n",
    "#### 순위\n",
    "- DataFrame.rank(axis=0, method='average', numeric_only=None, na_option='keep', ascending=True, pct=False)\n",
    "\n",
    "\n",
    "#### 차이 [이산]\n",
    "- DataFrame.diff(periods=1, axis=0)\n",
    "\n",
    "\n",
    "#### 차이 [백분률]\n",
    "- DataFrame.pct_change(periods=1, fill_method='pad', limit=None, freq=None, kwargs)\n",
    "\n",
    "\n",
    "#### 누적 계산\n",
    "- DataFrame.expanding(min_periods=1, center=None, axis=0, method='single')\n",
    "\n",
    "\n",
    "#### 기간이동 계산\n",
    "- DataFrame.rolling(window, min_periods=None, center=False, win_type=None, on=None, axis=0, closed=None, method='single')\n",
    "\n",
    "\n",
    "#### 그룹화 계산\n",
    "- DataFrame.groupby(by=None, axis=0, level=None, as_index=True, sort=True, group_keys=True, squeeze=NoDefault.no_default, observed=False, dropna=True)\n",
    "\n",
    "\n",
    "#### 지수가중함수\n",
    "- DataFrame.ewm(com=None, span=None, halflife=None, alpha=None, min_periods=0, adjust=True, ignore_na=False, axis=0, times=None, method='single')"
   ]
  }
 ],
 "metadata": {
  "kernelspec": {
   "display_name": "base",
   "language": "python",
   "name": "python3"
  },
  "language_info": {
   "name": "python",
   "version": "3.9.7 (default, Sep 16 2021, 16:59:28) [MSC v.1916 64 bit (AMD64)]"
  },
  "orig_nbformat": 4,
  "vscode": {
   "interpreter": {
    "hash": "f49206fcf84a9145e7e21228cbafa911d1ac18292303b01e865d8267a9c448f7"
   }
  }
 },
 "nbformat": 4,
 "nbformat_minor": 2
}
