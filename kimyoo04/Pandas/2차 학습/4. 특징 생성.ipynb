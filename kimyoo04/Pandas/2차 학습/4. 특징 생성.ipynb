{
 "cells": [
  {
   "attachments": {},
   "cell_type": "markdown",
   "metadata": {},
   "source": [
    "# 특징 생성\n",
    "\n",
    "- 범주 인코딩 (Nominal, Ordinal 형식) -> One-hot Encoding\n",
    "- 결합 (Add합계, Divide평균, Subtract편차  //  Multiply) (파생변수 만들 때 사용)\n",
    "- 분해 (변수 분해)\n",
    "- 차원 축소 (Principal Component Analysis, PCA, 주성분 분석)\n",
    "\n",
    "#### Principal Component Analysis, PCA, 주성분 분석\n",
    "- 원본 데이터의 분산 기반 특징을 생성\n",
    "- 주성분 간 서로 독립을 이루도록 구성 (상관관계가 없도록 구성)\n",
    "\n",
    "#### 차원 축소 목적 특징 생성\n",
    "- 군집 결과를 추후 분류/회귀 등 문제해결을 위한 입력변수로 활용함 (stacking 방법)\n",
    "- 여러개의 특징을 하나의 특징으로 축소 -> 모델 연산 비용 감소 추구"
   ]
  },
  {
   "cell_type": "code",
   "execution_count": 1,
   "metadata": {},
   "outputs": [],
   "source": [
    "import numpy as np\n",
    "import pandas as pd\n",
    "import seaborn as sns"
   ]
  },
  {
   "cell_type": "code",
   "execution_count": null,
   "metadata": {},
   "outputs": [],
   "source": [
    "# One-hot Encoding\n",
    "df = pd.get_dummies(df, columns=['city'])\n",
    "df.head()"
   ]
  },
  {
   "cell_type": "code",
   "execution_count": null,
   "metadata": {},
   "outputs": [],
   "source": [
    "# 범주형 date 컬럼 -> datetime 형식 변환\n",
    "df['date'] = pd.to_datetime(df['date'])\n",
    "print(df.head())\n",
    "\n",
    "df['year'] = df['date'].dt.year # 연도\n",
    "df['month'] = df['date'].dt.month # 월\n",
    "df['day'] = df['date'].dt.day # 일\n",
    "df['hour'] = df['date'].dt.hour # 시간\n",
    "df['dayofweek'] = df['date'].dt.dayofweek # 요일 (월 = 0)\n",
    "print(df.head())\n",
    "\n",
    "df['ampm'] = 'AM'\n",
    "df.loc[df['hour'] > 12, 'ampm'] = 'PM'\n",
    "print(df.head())"
   ]
  },
  {
   "attachments": {},
   "cell_type": "markdown",
   "metadata": {},
   "source": [
    "### PCA, 주성분 분석"
   ]
  },
  {
   "cell_type": "code",
   "execution_count": null,
   "metadata": {},
   "outputs": [],
   "source": [
    "# 차원 축소 기반 특징 생성 - PCA (주성분분석)\n",
    "\n",
    "# input 및 target 구분\n",
    "input_df = df.drop(['col1'], axis=1) # 열 추출\n",
    "target_df = df[['col1']]\n",
    "\n",
    "from sklearn.decomposition import PCA\n",
    "from sklearn.preprocessing import StandardScaler\n",
    "std_scaler = StandardScaler\n",
    "\n",
    "# 각 변수의 스케일이 다른 것을 표준화 수행\n",
    "std_scaler.fit(input_df)\n",
    "input_scaled = std_scaler.transform(input_df)\n",
    "print(input_scaled)\n",
    "\n",
    "pca = PCA(n_components=2)\n",
    "pca.fit(input_scaled)\n",
    "X_pca = pca.transform(input_scaled)\n",
    "print(X_pca)\n",
    "\n",
    "# 주성분 분석으로 변수들을 2개(pc1, pc2)로 축소시킴\n",
    "X_pca_df = pd.DataFrame(X_pca, columns = ['pc1', 'pc2'])\n",
    "display(X_pca_df)"
   ]
  },
  {
   "cell_type": "code",
   "execution_count": null,
   "metadata": {},
   "outputs": [],
   "source": [
    "# 2개의 주성분 분석을 통한 변수와 진단결과를 비교\n",
    "target_df = target_df.reset_index()\n",
    "pca_df = pd.merge(X_pca_df, target_df, left_index=True, right_index=True, how='inner')\n",
    "pca_df = pca_df[['pc1', 'pc2', 'diagnosis']]\n",
    "display(pca_df)"
   ]
  },
  {
   "cell_type": "code",
   "execution_count": null,
   "metadata": {},
   "outputs": [],
   "source": [
    "# 산점도 그래프로 표현\n",
    "ax = sns.scatterplot(x='pc1', y='pc2', hue='diagnosis', data=pca_df, palette=['green', 'red'])"
   ]
  },
  {
   "attachments": {},
   "cell_type": "markdown",
   "metadata": {},
   "source": [
    "### 군집 분석"
   ]
  },
  {
   "cell_type": "code",
   "execution_count": null,
   "metadata": {},
   "outputs": [],
   "source": [
    "from sklearn.cluster import KMeans\n",
    "\n",
    "\n",
    "subset_df = input_df.iloc[:, 0:15]\n",
    "display(subset_df)\n",
    "\n",
    "# 데이터 스케일링\n",
    "std_scaler.fit(subset_df)\n",
    "subset_input_scaled = std_scaler.transform(subset_df)\n",
    "print(subset_input_scaled)\n",
    "\n",
    "# K-means 클러스터링 \n",
    "k = 5\n",
    "model = KMeans(n_cluster = k, random_state = 10)\n",
    "model.fit(subset_input_scaled)\n",
    "target_df['cluster'] = model.fit_predict(subset_input_scaled)\n",
    "display(target_df)\n",
    "\n",
    "# 15 개의 임의의 변수로 만들어진 하나의 특징과 기존 Target 변수 비교\n",
    "pd.crosstab(target_df.diagnosis, target_df.cluster)"
   ]
  }
 ],
 "metadata": {
  "kernelspec": {
   "display_name": "aivle",
   "language": "python",
   "name": "python3"
  },
  "language_info": {
   "codemirror_mode": {
    "name": "ipython",
    "version": 3
   },
   "file_extension": ".py",
   "mimetype": "text/x-python",
   "name": "python",
   "nbconvert_exporter": "python",
   "pygments_lexer": "ipython3",
   "version": "3.9.15"
  },
  "orig_nbformat": 4,
  "vscode": {
   "interpreter": {
    "hash": "14c0778f35eb1a1693aaa8436d3d12e6f0497f04708fd5dddb8ce06d09acab7c"
   }
  }
 },
 "nbformat": 4,
 "nbformat_minor": 2
}
