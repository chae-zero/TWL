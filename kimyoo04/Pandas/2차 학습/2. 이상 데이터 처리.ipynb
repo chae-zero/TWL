{
 "cells": [
  {
   "attachments": {},
   "cell_type": "markdown",
   "metadata": {},
   "source": [
    "# 이상 데이터 처리"
   ]
  },
  {
   "attachments": {},
   "cell_type": "markdown",
   "metadata": {},
   "source": [
    "### 이상치 처리 프로세스\n",
    "\n",
    "통계적 방안: 데이터의 일반적 허용 관측범위를 정하고, 이를 벗어난 값을 이상치로 정의\n",
    "- Z-Score(표준화 점수 방안) - 데이터의 분포를 정규분포로 나타내서 각각의 관측값이 데이터의 평균으로부터 얼마의 표준편차 만큼 벗어나 있는지를 의미 (-3 ~ 3 사이 값을 사용, 그외는 이상치)\n",
    "- IQR - 사분위수 개념 기반 이상치 판단 방안. 박스플롯 사용?. (25% ~ 75% 사이 값을 사용. 1~3분위수)\n",
    "\n",
    "인적 판단 방안: 현업 관리자의 데이터 및 비즈니스 관점 기반의 판단 \n",
    "\n",
    "-> 이상치 처리 ( 삭제, 대체, 변경 )"
   ]
  },
  {
   "cell_type": "code",
   "execution_count": null,
   "metadata": {},
   "outputs": [],
   "source": [
    "import numpy as np\n",
    "import pandas as pd"
   ]
  },
  {
   "attachments": {},
   "cell_type": "markdown",
   "metadata": {},
   "source": [
    "## Z-Score"
   ]
  },
  {
   "cell_type": "code",
   "execution_count": null,
   "metadata": {},
   "outputs": [],
   "source": [
    "# Z-score\n",
    "df['z_score'] = (df['col'] - np.mean(df['col']) / np.std(df['col']))\n",
    "\n",
    "# Z-score 이상치 처리\n",
    "df = df[(df['z_score'] < 3) & (df['z_score'] > -3)]\n",
    "df.describe()"
   ]
  },
  {
   "attachments": {},
   "cell_type": "markdown",
   "metadata": {},
   "source": [
    "## IQR"
   ]
  },
  {
   "cell_type": "code",
   "execution_count": null,
   "metadata": {},
   "outputs": [],
   "source": [
    "# IQR\n",
    "q1 = df['col'].quantile(0.25)\n",
    "q3 = df['col'].quantile(0.75)\n",
    "\n",
    "# IQR 값\n",
    "iqr = (q3 - q1)\n",
    "\n",
    "df = df[ (df['col'] > (q1 - 1.5 * iqr)) & (df['col'] > (q3 + 1.5 * iqr))]\n",
    "df.describe()"
   ]
  }
 ],
 "metadata": {
  "kernelspec": {
   "display_name": "aivle",
   "language": "python",
   "name": "python3"
  },
  "language_info": {
   "name": "python",
   "version": "3.9.15 (main, Nov 24 2022, 14:39:17) [MSC v.1916 64 bit (AMD64)]"
  },
  "orig_nbformat": 4,
  "vscode": {
   "interpreter": {
    "hash": "14c0778f35eb1a1693aaa8436d3d12e6f0497f04708fd5dddb8ce06d09acab7c"
   }
  }
 },
 "nbformat": 4,
 "nbformat_minor": 2
}
