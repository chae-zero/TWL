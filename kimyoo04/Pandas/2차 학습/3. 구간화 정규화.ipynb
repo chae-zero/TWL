{
 "cells": [
  {
   "attachments": {},
   "cell_type": "markdown",
   "metadata": {},
   "source": [
    "# 구간화 정규화"
   ]
  },
  {
   "attachments": {},
   "cell_type": "markdown",
   "metadata": {},
   "source": [
    "## 구간화\n",
    "\n",
    "- 지정 길이 기반 구간 정의: 사용자 기준으로 범위 간격 구분\n",
    "- 분포 기반 구간 정의: 동일한 개수로 구분"
   ]
  },
  {
   "cell_type": "code",
   "execution_count": null,
   "metadata": {},
   "outputs": [],
   "source": [
    "import numpy as np\n",
    "import pandas as pd"
   ]
  },
  {
   "cell_type": "code",
   "execution_count": null,
   "metadata": {},
   "outputs": [],
   "source": [
    "# 지정 길이 기반 구간화\n",
    "bins = [0, 100, 500, np.max(df['col'])]\n",
    "names = ['low', 'medium', 'high']\n",
    "\n",
    "df['pref'] = pd.cut(df['col'], bins, labels=names)\n",
    "df['pref'].value_counts()"
   ]
  },
  {
   "cell_type": "code",
   "execution_count": null,
   "metadata": {},
   "outputs": [],
   "source": [
    "# 분포 기반 구간화\n",
    "# 분포가 치우쳐져 있으면 오류가 생길 확률 높아짐\n",
    "\n",
    "n = 3\n",
    "df['pref_qcut'] = pd.qcut(df['col'], n, labels=names)\n",
    "df['pref_qcut'].value_counts()"
   ]
  },
  {
   "attachments": {},
   "cell_type": "markdown",
   "metadata": {},
   "source": [
    "## 정규화\n",
    "\n",
    "min-max scaling 최대-최소 정규화\n",
    "- 데이터 구간을 0에서 1사이로 변환\n",
    "- 특정 데이터의 위치 파악 용이\n",
    "\n",
    "Z-Score 정규화\n",
    "- 0을 중심으로 양쪽으로 데이터 분포\n",
    "- 평균과 얼마나 떨어져 있는지 파악 용이"
   ]
  },
  {
   "cell_type": "code",
   "execution_count": null,
   "metadata": {},
   "outputs": [],
   "source": [
    "# 최대-최소 정규화\n",
    "from sklearn.preprocessing import MinMaxScaler\n",
    "scaler = MinMaxScaler()\n",
    "\n",
    "df['minmax_values'] = scaler.fit_transform(df[['col']])\n",
    "df.describe()"
   ]
  },
  {
   "cell_type": "code",
   "execution_count": null,
   "metadata": {},
   "outputs": [],
   "source": [
    "from sklearn.preprocessing import StandardScaler\n",
    "std_scaler = StandardScaler()\n",
    "\n",
    "df['std_values'] = std_scaler.fit_transform(df[['col']])\n",
    "df.describe()"
   ]
  },
  {
   "attachments": {},
   "cell_type": "markdown",
   "metadata": {},
   "source": [
    "### 쓰이는 상황\n",
    "- 연속형 데이터를 기계학습할 시 변수 간의 상대적 크기 차이를 제거해야함\n",
    "- K-means\n",
    "- distance를 연산하여 유사한 집단으로 묶는 알고리즘"
   ]
  }
 ],
 "metadata": {
  "kernelspec": {
   "display_name": "aivle",
   "language": "python",
   "name": "python3"
  },
  "language_info": {
   "name": "python",
   "version": "3.9.15 (main, Nov 24 2022, 14:39:17) [MSC v.1916 64 bit (AMD64)]"
  },
  "orig_nbformat": 4,
  "vscode": {
   "interpreter": {
    "hash": "14c0778f35eb1a1693aaa8436d3d12e6f0497f04708fd5dddb8ce06d09acab7c"
   }
  }
 },
 "nbformat": 4,
 "nbformat_minor": 2
}
