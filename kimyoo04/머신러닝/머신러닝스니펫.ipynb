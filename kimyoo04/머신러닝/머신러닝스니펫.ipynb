{
 "cells": [
  {
   "attachments": {},
   "cell_type": "markdown",
   "metadata": {},
   "source": [
    "# 머신러닝 스니펫 목차"
   ]
  },
  {
   "attachments": {},
   "cell_type": "markdown",
   "metadata": {},
   "source": [
    "#### 데이터 헨들링\n",
    "1. 모듈 임포트\n",
    "2. 데이터 탐색 ()\n",
    "3. 데이터 분석 ()\n",
    "4. 데이터 전처리 (결측치, 이상치, 정규화, 처리, 피처엔지니어링)\n",
    "6. 학습, 평가 데이터 분리(x_train, x_test, y_train, y_test)\n",
    "---\n",
    "#### 모델링 (알고리즘 선택)\n",
    "1. 모듈 임포트\n",
    "2. 모델 선언\n",
    "3. 모델 학습\n",
    "4. 모델 예측 및 평가\n",
    "5. 시각화\n",
    "---\n",
    "#### 하이퍼파라미터 튜닝\n",
    "1. cross_val_score\n",
    "2. GridSearchCV\n",
    "3. RandomSearchCV\n",
    "---\n",
    "#### Regulation 테스트"
   ]
  }
 ],
 "metadata": {
  "kernelspec": {
   "display_name": "base",
   "language": "python",
   "name": "python3"
  },
  "language_info": {
   "codemirror_mode": {
    "name": "ipython",
    "version": 3
   },
   "file_extension": ".py",
   "mimetype": "text/x-python",
   "name": "python",
   "nbconvert_exporter": "python",
   "pygments_lexer": "ipython3",
   "version": "3.9.7"
  },
  "orig_nbformat": 4,
  "vscode": {
   "interpreter": {
    "hash": "f49206fcf84a9145e7e21228cbafa911d1ac18292303b01e865d8267a9c448f7"
   }
  }
 },
 "nbformat": 4,
 "nbformat_minor": 2
}
