{
 "cells": [
  {
   "cell_type": "markdown",
   "metadata": {},
   "source": [
    "#### 비즈니스 가치 점수를 기준으로 CV 하기"
   ]
  },
  {
   "cell_type": "code",
   "execution_count": null,
   "metadata": {},
   "outputs": [],
   "source": [
    "business_value = np.array([[    0, -0.18],\n",
    "                           [-0.08,  0.08]])\n",
    "business_value"
   ]
  },
  {
   "cell_type": "code",
   "execution_count": null,
   "metadata": {},
   "outputs": [],
   "source": [
    "def business_score(y, pred, business_value):\n",
    "    cm = cmatrix(y, pred)\n",
    "    cm_p = cm / np.sum(cm)\n",
    "    amt_mean = 1600\n",
    "\n",
    "    return np.sum(business_value * cm_p) * amt_mean"
   ]
  },
  {
   "cell_type": "code",
   "execution_count": null,
   "metadata": {},
   "outputs": [],
   "source": [
    "b_score = make_scorer(business_score, greater_is_better = True, biz_v = business_value)"
   ]
  },
  {
   "cell_type": "code",
   "execution_count": null,
   "metadata": {},
   "outputs": [],
   "source": [
    "model = RFC()\n",
    "grid_rf = GridSearchCV(model, params, cv=5, scoring=b_score)\n",
    "grid_rf.fit(x_train, y_train)"
   ]
  }
 ],
 "metadata": {
  "language_info": {
   "name": "python"
  },
  "orig_nbformat": 4
 },
 "nbformat": 4,
 "nbformat_minor": 2
}
