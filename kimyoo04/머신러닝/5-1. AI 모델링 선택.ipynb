{
 "cells": [
  {
   "cell_type": "markdown",
   "metadata": {},
   "source": [
    "# 모듈 불러오기"
   ]
  },
  {
   "cell_type": "markdown",
   "metadata": {},
   "source": [
    "#### 기본"
   ]
  },
  {
   "cell_type": "code",
   "execution_count": null,
   "metadata": {},
   "outputs": [],
   "source": [
    "import numpy as np\n",
    "import pandas as pd\n",
    "import joblib"
   ]
  },
  {
   "cell_type": "code",
   "execution_count": null,
   "metadata": {},
   "outputs": [],
   "source": [
    "# !conda install numpy \n",
    "# !conda install pandas\n",
    "# !conda install scikit-learn\n",
    "# !conda install scipy\n",
    "# !conda install tensorflow\n",
    "# !conda install matplotlib\n",
    "# !conda install seaborn\n",
    "\n",
    "# !pip install xgboost\n",
    "# !pip install lightgbm\n",
    "# !pip install catboost\n",
    "# !pip install ipywidgets\n",
    "# !jupyter nbextension enable --py widgetsnbextension\n",
    "# !pip install hyperopt\n",
    "# !pip install -U imbalanced-learn\n",
    "# !pip install missingno"
   ]
  },
  {
   "cell_type": "markdown",
   "metadata": {},
   "source": [
    "#### 전처리"
   ]
  },
  {
   "cell_type": "code",
   "execution_count": null,
   "metadata": {},
   "outputs": [],
   "source": [
    "from sklearn.model_selection import train_test_split\n",
    "from sklearn.inspection import permutation_importance\n",
    "\n",
    "from sklearn import impute\n",
    "from sklearn.impute import KNNImputer\n",
    "from sklearn.experimental import enable_iterative_imputer"
   ]
  },
  {
   "cell_type": "markdown",
   "metadata": {},
   "source": [
    "#### 리샘플링"
   ]
  },
  {
   "cell_type": "code",
   "execution_count": null,
   "metadata": {},
   "outputs": [],
   "source": [
    "from imblearn.over_sampling import (\n",
    "    RandomOverSampler, \n",
    "    ADASYN, \n",
    "    SMOTE\n",
    ")\n",
    "from imblearn.under_sampling import (\n",
    "    RandomUnderSampler, \n",
    "    TomekLinks, \n",
    "    CondensedNearestNeighbour, \n",
    "    OneSidedSelection, \n",
    "    EditedNearestNeighbours, \n",
    "    NeighbourhoodCleaningRule\n",
    ")"
   ]
  },
  {
   "cell_type": "markdown",
   "metadata": {},
   "source": [
    "#### 분석"
   ]
  },
  {
   "cell_type": "code",
   "execution_count": null,
   "metadata": {},
   "outputs": [],
   "source": [
    "from scipy.stats import skew, kurtosis\n",
    "from scipy.stats import ttest_ind, f_oneway, pearsonr, chi2_gen"
   ]
  },
  {
   "cell_type": "markdown",
   "metadata": {},
   "source": [
    "#### 회귀"
   ]
  },
  {
   "cell_type": "code",
   "execution_count": null,
   "metadata": {},
   "outputs": [],
   "source": [
    "from sklearn.linear_model import LinearRegression as RL\n",
    "from sklearn.neighbors import KNeighborsRegressor as KNNR\n",
    "from sklearn.tree import DecisionTreeRegressor as DTR\n",
    "from sklearn.svm import SVR\n",
    "from sklearn.ensemble import RandomForestRegressor as RFR\n",
    "from xgboost import XGBRegressor as XGBR\n",
    "from lightgbm import LGBMRegressor as LGBMR\n",
    "from catboost import CatBoostRegressor as CBR\n",
    "\n",
    "from lightgbm import plot_importance as lgbm_plot_importance\n",
    "from xgboost import plot_importance as xgb_plot_importance\n",
    "from catboost import Pool\n",
    "\n",
    "from sklearn.metrics import mean_squared_error as mse\n",
    "from sklearn.metrics import r2_score"
   ]
  },
  {
   "cell_type": "markdown",
   "metadata": {},
   "source": [
    "#### 분류"
   ]
  },
  {
   "cell_type": "code",
   "execution_count": null,
   "metadata": {},
   "outputs": [],
   "source": [
    "from sklearn.linear_model import LogisticRegression as LR\n",
    "from sklearn.neighbors import KNeighborsClassifier as KNNC\n",
    "from sklearn.tree import DecisionTreeClassifier as DTC\n",
    "from sklearn.svm import SVC\n",
    "from sklearn.ensemble import RandomForestClassifier as RFC\n",
    "from xgboost import XGBClassifier as XGBC\n",
    "from lightgbm import LGBMClassifier as LGBMC\n",
    "from catboost import CatBoostClassifier as CBC\n",
    "\n",
    "from sklearn.metrics import confusion_matrix as cmatrix\n",
    "from sklearn.metrics import classification_report as creport\n",
    "from sklearn.metrics import recall_score as recall\n",
    "from sklearn.metrics import accuracy_score as acc\n",
    "from sklearn.metrics import f1_score\n",
    "from sklearn.metrics import roc_auc_score\n",
    "from sklearn.metrics import make_scorer"
   ]
  },
  {
   "cell_type": "markdown",
   "metadata": {},
   "source": [
    "#### 교차검증"
   ]
  },
  {
   "cell_type": "code",
   "execution_count": null,
   "metadata": {},
   "outputs": [],
   "source": [
    "from sklearn.tree import DecisionTreeClassifier\n",
    "from sklearn.model_selection import cross_val_score\n",
    "from sklearn.model_selection import GridSearchCV, RandomizedSearchCV\n",
    "from catboost import cv\n",
    "import hyperopt\n",
    "\n",
    "from sklearn.model_selection import (\n",
    "    StratifiedKFold, # 분류\n",
    "    KFold, # 회귀\n",
    "    # GroupKFold, \n",
    "    # RepeatedKFold, \n",
    "    # StratifiedGroupKFold, \n",
    "    # RepeatedStratifiedKFold\n",
    ")"
   ]
  },
  {
   "cell_type": "markdown",
   "metadata": {},
   "source": [
    "#### 시각화"
   ]
  },
  {
   "cell_type": "code",
   "execution_count": null,
   "metadata": {},
   "outputs": [],
   "source": [
    "import matplotlib.pyplot as plt\n",
    "import seaborn as sns\n",
    "%matplotlib inline\n",
    "plt.rc('font', family='Malgun Gothic')\n",
    "sns.set(font=\"Malgun Gothic\",\n",
    "        rc={\"axes.unicode_minus\":False}, # 마이너스 부호 깨짐 현상 해결\n",
    "        style='darkgrid')  \n",
    "\n",
    "import warnings\n",
    "warnings.filterwarnings(action='ignore')\n",
    "%config InlineBackend.figure_format = 'retina'"
   ]
  },
  {
   "cell_type": "markdown",
   "metadata": {},
   "source": [
    "# 데이터 로드"
   ]
  },
  {
   "cell_type": "code",
   "execution_count": null,
   "metadata": {},
   "outputs": [],
   "source": [
    "folder_name = '1th'\n",
    "\n",
    "x_train = pd.read_csv(f'./{folder_name}/x_train.csv', sep=',', encoding='utf-8')\n",
    "y_train = pd.read_csv(f'./{folder_name}/y_train.csv', sep=',', encoding='utf-8')\n",
    "x_test = pd.read_csv(f'./{folder_name}/x_test.csv', sep=',', encoding='utf-8')\n",
    "y_test = pd.read_csv(f'./{folder_name}/y_test.csv', sep=',', encoding='utf-8')\n",
    "x_final = pd.read_csv(f'./{folder_name}/test_x.csv', sep=',', encoding='utf-8')"
   ]
  },
  {
   "attachments": {},
   "cell_type": "markdown",
   "metadata": {},
   "source": [
    "# 회귀 모델링 선택"
   ]
  },
  {
   "cell_type": "code",
   "execution_count": null,
   "metadata": {},
   "outputs": [],
   "source": [
    "models =    {\n",
    "                'RL': RL(n_jobs=-1),\n",
    "                'KNNR': KNNR(n_neighbors=5),\n",
    "                'DTR': DTR(max_depth=5, random_state=1),\n",
    "                'SVR': SVR(kernel='rbf', C=1),\n",
    "                'RFR': RFR(max_depth=5, random_state=1),\n",
    "                'LGBMR': LGBMR(max_depth=5, num_leaves=31, learning_rate=0.1),\n",
    "                'CBR': CBR(iterations=100, cat_features=np.where(x_train.dtypes != np.float)[0], random_state=1)\n",
    "            }\n",
    "\n",
    "results = {}\n",
    "r2_scores = {}\n",
    "\n",
    "for key in models:\n",
    "    model = models[key]\n",
    "    model.fit(x_train, y_train)\n",
    "    y_pred = model.predict(x_test)\n",
    "    \n",
    "    mse_result = mse(y_test, y_pred)\n",
    "    r2_result = r2_score(y_test, y_pred)\n",
    "    r2_scores[key] = r2_result\n",
    "    \n",
    "    print('=' * 20, key, '=' * 20)\n",
    "    print('mse : ', mse_result)\n",
    "    print('r2_score : ', r2_result)\n",
    "    \n",
    "    results[key] = model"
   ]
  },
  {
   "cell_type": "code",
   "execution_count": null,
   "metadata": {},
   "outputs": [],
   "source": [
    "for key in results:\n",
    "    results[key]\n",
    "    plt.figure(figsize=(16, 6))\n",
    "    plt.barh(y=list(x_train), width=results[key].feature_importances_)\n",
    "    plt.show()"
   ]
  },
  {
   "cell_type": "code",
   "execution_count": null,
   "metadata": {},
   "outputs": [],
   "source": [
    "# 시각화\n",
    "plt.figure(figsize=(16, 6))\n",
    "plt.barh(y=list(r2_scores), width=r2_scores.values())\n",
    "plt.xlabel('R2_Score')\n",
    "plt.ylabel('Model')\n",
    "plt.show()"
   ]
  },
  {
   "attachments": {},
   "cell_type": "markdown",
   "metadata": {},
   "source": [
    "# 분류 모델링 선택"
   ]
  },
  {
   "cell_type": "code",
   "execution_count": null,
   "metadata": {},
   "outputs": [],
   "source": [
    "models = {\n",
    "        'LR': LR(C=1, random_state=1, n_jobs=-1),\n",
    "        'KNN': KNNC(n_neighbors=5, n_jobs=-1),\n",
    "        'DTC': DTC(max_depth=5, random_state=1),\n",
    "        'SVC': SVC(kernel='rbf', C=1),\n",
    "        'RFC': RFC(max_depth=5, random_state=1),\n",
    "        'LGBMC': LGBMC(max_depth=5, num_leaves=31, learning_rate=0.1, random_state=1),\n",
    "        'CBC': CBC(iterations=100, cat_features=np.where(x_train.dtypes != np.float)[0], random_state=1)\n",
    "        }\n",
    "\n",
    "results = {}\n",
    "acc_results = {}\n",
    "recall_results = {}\n",
    "y_preds = {}\n",
    "\n",
    "for key in models:\n",
    "    model = models[key]\n",
    "    model.fit(x_train, y_train)\n",
    "    y_pred = model.predict(x_test)\n",
    "\n",
    "    results[key] = model\n",
    "    y_preds[key] = y_pred\n",
    "    acc_results[key] = acc(y_test, y_pred)\n",
    "    recall_results[key] = recall(y_test, y_pred)"
   ]
  },
  {
   "cell_type": "code",
   "execution_count": null,
   "metadata": {},
   "outputs": [],
   "source": [
    "key = 'CBC'\n",
    "\n",
    "print('=' * 20, key, '=' * 20)\n",
    "print('confusion_matrix\\n', cmatrix(y_test, y_preds[key]))\n",
    "print('classification_report\\n', creport(y_test, y_preds[key]))\n",
    "print('=' * 60)"
   ]
  },
  {
   "attachments": {},
   "cell_type": "markdown",
   "metadata": {},
   "source": [
    "# 시각화"
   ]
  },
  {
   "attachments": {},
   "cell_type": "markdown",
   "metadata": {},
   "source": [
    "#### 트리 모델 시각화"
   ]
  },
  {
   "cell_type": "code",
   "execution_count": null,
   "metadata": {},
   "outputs": [],
   "source": [
    "from sklearn.tree import plot_tree\n",
    "\n",
    "plt.figure(figsize = (20, 8))\n",
    "plot_tree(model, feature_names = x_train.columns,\n",
    "          filled = True, fontsize = 10)"
   ]
  },
  {
   "cell_type": "markdown",
   "metadata": {},
   "source": [
    "#### 모델별 정확도 시각화"
   ]
  },
  {
   "cell_type": "code",
   "execution_count": null,
   "metadata": {},
   "outputs": [],
   "source": [
    "tmp = pd.Series(acc_results)\n",
    "\n",
    "plt.figure(figsize=(16, 6))\n",
    "plt.title('accuracy')\n",
    "plt.barh(tmp.index, tmp.values)\n",
    "plt.show()"
   ]
  },
  {
   "cell_type": "markdown",
   "metadata": {},
   "source": [
    "#### 모델별 재현율 시각화"
   ]
  },
  {
   "cell_type": "code",
   "execution_count": null,
   "metadata": {},
   "outputs": [],
   "source": [
    "tmp = pd.Series(recall_results)\n",
    "\n",
    "plt.figure(figsize=(16, 6))\n",
    "plt.title('recall')\n",
    "plt.barh(tmp.index, tmp.values)\n",
    "plt.show()"
   ]
  },
  {
   "cell_type": "markdown",
   "metadata": {},
   "source": [
    "#### 모델별 학습성능, 평가성능 출력"
   ]
  },
  {
   "cell_type": "code",
   "execution_count": null,
   "metadata": {},
   "outputs": [],
   "source": [
    "print('모델 : 학습성능 / 평가성능 (Accuracy)')\n",
    "for key in results:\n",
    "    print(f'{key:10} : {round(results[key].score(x_train, y_train), 4):6} / {round(results[key].score(x_test, y_test), 4):6}\\n')"
   ]
  },
  {
   "cell_type": "markdown",
   "metadata": {},
   "source": [
    "#### 변수 중요도 시각화"
   ]
  },
  {
   "cell_type": "code",
   "execution_count": null,
   "metadata": {},
   "outputs": [],
   "source": [
    "key = 'LGBMC'\n",
    "tmp = pd.Series(data=results[key].feature_importances_, index=list(x_train)).sort_values()\n",
    "\n",
    "plt.figure(figsize=(16, 6))\n",
    "plt.barh(y=tmp.index, width=tmp.values)\n",
    "plt.show()\n",
    "\n",
    "key = 'CBC'\n",
    "tmp = pd.Series(data=results[key].feature_importances_, index=list(x_train)).sort_values()\n",
    "\n",
    "plt.figure(figsize=(16, 6))\n",
    "plt.barh(y=tmp.index, width=tmp.values)\n",
    "plt.show()"
   ]
  },
  {
   "cell_type": "code",
   "execution_count": null,
   "metadata": {},
   "outputs": [],
   "source": [
    "# feature importance 시각화 함수\n",
    "def plot_feature_importance(importance, names, topn = 'all'):\n",
    "    feature_importance = np.array(importance)\n",
    "    feature_names = np.array(names)\n",
    "\n",
    "    data={'feature_names':feature_names,'feature_importance':feature_importance}\n",
    "    fi_temp = pd.DataFrame(data)\n",
    "\n",
    "    fi_temp.sort_values(by=['feature_importance'], ascending=False,inplace=True)\n",
    "    fi_temp.reset_index(drop=True, inplace = True)\n",
    "\n",
    "    if topn == 'all' :\n",
    "        fi_df = fi_temp.copy()\n",
    "    else :\n",
    "        fi_df = fi_temp.iloc[:topn]\n",
    "\n",
    "    plt.figure(figsize=(10,8))\n",
    "    sns.barplot(x='feature_importance', y='feature_names', data = fi_df)\n",
    "\n",
    "    plt.xlabel('importance')\n",
    "    plt.ylabel('feature names')\n",
    "    plt.grid()\n",
    "\n",
    "    return fi_df\n",
    "\n",
    "plot_feature_importance(results[key].feature_importances_, list(x_train))"
   ]
  },
  {
   "attachments": {},
   "cell_type": "markdown",
   "metadata": {},
   "source": [
    "# AI 모델링 선택 cross_val_score()"
   ]
  },
  {
   "attachments": {},
   "cell_type": "markdown",
   "metadata": {},
   "source": [
    "#### KFold 회귀"
   ]
  },
  {
   "cell_type": "code",
   "execution_count": null,
   "metadata": {},
   "outputs": [],
   "source": [
    "models =    {\n",
    "            'RL': RL(n_jobs=-1),\n",
    "            'KNNR': KNNR(n_neighbors=5),\n",
    "            'DTR': DTR(max_depth=5, random_state=1),\n",
    "            'SVR': SVR(kernel='rbf', C=1),\n",
    "            'RFR': RFR(max_depth=5, random_state=1),\n",
    "            'XGBR': XGBR(max_depth=5, num_leaves=31, learning_rate=0.1),\n",
    "            'LGBMR': LGBMR(max_depth=5, num_leaves=31, learning_rate=0.1),\n",
    "            'CBR': CBR(iterations=100, cat_features=np.where(x_train.dtypes != np.float)[0], random_state=1),\n",
    "            }\n",
    "\n",
    "results = {}\n",
    "\n",
    "for key in models:\n",
    "    cv_score = cross_val_score(\n",
    "                                models[key], \n",
    "                                x_train, \n",
    "                                y_train, \n",
    "                                cv=KFold(n_splits=5)\n",
    "                                ) \n",
    "\n",
    "    print('=' * 20, key, '=' * 20)\n",
    "    print(cv_score)\n",
    "    print('평균:', cv_score.mean())\n",
    "    print('표준편차:', cv_score.std())\n",
    "    \n",
    "    results[key] = cv_score.mean()"
   ]
  },
  {
   "cell_type": "code",
   "execution_count": null,
   "metadata": {},
   "outputs": [],
   "source": [
    "# 시각화\n",
    "plt.figure(figsize=(5, 5))\n",
    "plt.barh(y=list(results), width=results.values())\n",
    "plt.xlabel('Score')\n",
    "plt.ylabel('Model')\n",
    "plt.show()"
   ]
  },
  {
   "cell_type": "markdown",
   "metadata": {},
   "source": [
    "#### SatisfiedFold 분류"
   ]
  },
  {
   "cell_type": "code",
   "execution_count": null,
   "metadata": {},
   "outputs": [],
   "source": [
    "models =    {\n",
    "            # 'LR': LR(C=1, random_state=1, n_jobs=-1),\n",
    "            # 'KNN': KNNC(n_neighbors=5),\n",
    "            # 'DT': DTC(max_depth=5, random_state=1),\n",
    "            # 'SVC': SVC(kernel='rbf', C=1, random_state=1),\n",
    "            'RFC': RFC(max_depth=5, random_state=1, n_jobs=-1),\n",
    "            'XGBC': XGBC(max_depth=5, learning_rate=0.1),\n",
    "            'LGBMC': LGBMC(max_depth=5, num_leaves=31, learning_rate=0.1),\n",
    "            'CBC': CBC(iterations=100, cat_features=np.where(x_train.dtypes != np.float)[0], random_state=1, verbose=False),\n",
    "            }\n",
    "\n",
    "results = {}\n",
    "\n",
    "for key in models:\n",
    "    cv_score = cross_val_score(\n",
    "                                models[key], \n",
    "                                x_train, \n",
    "                                y_train, \n",
    "                                cv=StratifiedKFold(n_splits=5),\n",
    "                                verbose=False\n",
    "                                ) \n",
    "\n",
    "    print('=' * 20, key, '=' * 20)\n",
    "    print(cv_score)\n",
    "    print('평균:', cv_score.mean())\n",
    "    print('표준편차:', cv_score.std())\n",
    "    \n",
    "    results[key] = cv_score.mean()"
   ]
  },
  {
   "cell_type": "code",
   "execution_count": null,
   "metadata": {},
   "outputs": [],
   "source": [
    "# 시각화\n",
    "plt.figure(figsize=(16, 6))\n",
    "plt.barh(y=list(results), width=results.values())\n",
    "plt.xlabel('Score')\n",
    "plt.ylabel('Model')\n",
    "plt.show()"
   ]
  }
 ],
 "metadata": {
  "kernelspec": {
   "display_name": "aivle",
   "language": "python",
   "name": "aivle"
  },
  "language_info": {
   "codemirror_mode": {
    "name": "ipython",
    "version": 3
   },
   "file_extension": ".py",
   "mimetype": "text/x-python",
   "name": "python",
   "nbconvert_exporter": "python",
   "pygments_lexer": "ipython3",
   "version": "3.9.15"
  },
  "orig_nbformat": 4
 },
 "nbformat": 4,
 "nbformat_minor": 2
}
