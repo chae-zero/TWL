{
 "cells": [
  {
   "attachments": {},
   "cell_type": "markdown",
   "metadata": {},
   "source": [
    "# 모듈 불러오기"
   ]
  },
  {
   "cell_type": "code",
   "execution_count": null,
   "metadata": {},
   "outputs": [],
   "source": [
    "import matplotlib.pyplot as plt"
   ]
  },
  {
   "attachments": {},
   "cell_type": "markdown",
   "metadata": {},
   "source": [
    "# 시각화 셋팅"
   ]
  },
  {
   "cell_type": "code",
   "execution_count": null,
   "metadata": {},
   "outputs": [],
   "source": [
    "plt.rc('font', family='Malgun Gothic') "
   ]
  },
  {
   "attachments": {},
   "cell_type": "markdown",
   "metadata": {},
   "source": [
    "# 그래프 꾸미기"
   ]
  },
  {
   "cell_type": "code",
   "execution_count": null,
   "metadata": {},
   "outputs": [],
   "source": [
    "plt.figure(figsize=(16,6)) # 16 x 6 가로 세로 인치 설정\n",
    "plt.title(\"그래프의 제목\")\n",
    "plt.legend() # 범례 추가\n",
    "plt.xlabel('x축 범례') # seaborn 은 자동 생성\n",
    "plt.ylabel('y축 범례') # seaborn 은 자동 생성\n",
    "plt.grid() # 그래프에 격자 추가\n",
    "plt.tight_layout()\n",
    "plt.subplot(1,2,1) # 1행 2열 중에 첫번째에 플롯하기"
   ]
  },
  {
   "cell_type": "code",
   "execution_count": null,
   "metadata": {},
   "outputs": [],
   "source": [
    "plt.show()"
   ]
  },
  {
   "attachments": {},
   "cell_type": "markdown",
   "metadata": {},
   "source": [
    "# 그래프 표현"
   ]
  },
  {
   "cell_type": "code",
   "execution_count": null,
   "metadata": {},
   "outputs": [],
   "source": [
    "# linestyle : -(solid), --(dashed), -.(dashdot), :(dotted)\n",
    "# color : 색상축약어(red → r, green → g), 색상명(green), 0~1(grayscale), rgb(#524FA1)\n",
    "# marker : .(점), o(원), v(삼각형), s(네모), *(별)\n",
    "\n",
    "plt.plot(x, y, data, linetyle, marker, color)\n",
    "plt.boxplot(data['컬럼명'], vert=False) \n",
    "plt.bar()\n",
    "plt.pie(series, labels, startangle, counterclock, autopct)\n",
    "plt.axhline(y_value, color='b', linestyle='-')\n",
    "plt.hist(data['컬럼명'], bins=50, alpha=0.6, ec='black')"
   ]
  }
 ],
 "metadata": {
  "language_info": {
   "name": "python"
  },
  "orig_nbformat": 4
 },
 "nbformat": 4,
 "nbformat_minor": 2
}
