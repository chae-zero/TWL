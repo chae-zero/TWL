{
 "cells": [
  {
   "attachments": {},
   "cell_type": "markdown",
   "metadata": {},
   "source": [
    "# 모듈 불러오기"
   ]
  },
  {
   "cell_type": "code",
   "execution_count": null,
   "metadata": {},
   "outputs": [],
   "source": [
    "import seaborn as sns"
   ]
  },
  {
   "attachments": {},
   "cell_type": "markdown",
   "metadata": {},
   "source": [
    "# 시각화 셋팅"
   ]
  },
  {
   "cell_type": "code",
   "execution_count": null,
   "metadata": {},
   "outputs": [],
   "source": [
    "sns.set(font=\"Malgun Gothic\",\n",
    "        rc={\"axes.unicode_minus\":False}, # 마이너스 부호 깨짐 현상 해결\n",
    "        style='darkgrid') "
   ]
  },
  {
   "attachments": {},
   "cell_type": "markdown",
   "metadata": {},
   "source": [
    "# 그래프 꾸미기"
   ]
  },
  {
   "cell_type": "code",
   "execution_count": null,
   "metadata": {},
   "outputs": [],
   "source": [
    "sns.color_palette('hls', length) # color 파라미터에 넣을 인자"
   ]
  },
  {
   "attachments": {},
   "cell_type": "markdown",
   "metadata": {},
   "source": [
    "# 그래프 종류"
   ]
  },
  {
   "cell_type": "code",
   "execution_count": null,
   "metadata": {},
   "outputs": [],
   "source": [
    "sns.boxplot(x, y, data) # 주식 그래프처럼 생김 (IQR, 1Q, 3Q, border, 이상치)\n",
    "sns.scatterplot(x, y, data) # 산점도\n",
    "sns.histplot(series, bins, kde, ax) # 히스토그램\n",
    "\n",
    "sns.kdeplot(x, y, data) # 커널밀도추정\n",
    "sns.regplot(x, y, data) # scatterplot + 선형회귀선\n",
    "sns.jointplot(x, y, data, hue) # scatterplot + histplot(densityplot)\n",
    "\n",
    "sns.barplot(x, y, data) # 평균과 오차범위 표시\n",
    "sns.countplot(x, y, data) # 집계 barplot\n",
    "\n",
    "sns.heatmap(df.corr(), # df.corr() 대신 grouped_df.pivot('컬럼명1', '컬럼명2')도 가능\n",
    "            annot=False, \n",
    "            cmap='Blues', \n",
    "            cbar=False,\n",
    "            square=True,\n",
    "            fmt='.1f',\n",
    "            annot_kws={'size':6}) \n",
    "sns.pairplot(df, hue=\"범주형 컬럼명\") # scatter + histplot (모든 변수들간의 산점도)"
   ]
  }
 ],
 "metadata": {
  "language_info": {
   "name": "python"
  },
  "orig_nbformat": 4
 },
 "nbformat": 4,
 "nbformat_minor": 2
}
